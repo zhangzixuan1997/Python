{
 "cells": [
  {
   "cell_type": "code",
   "execution_count": 1,
   "id": "70659874",
   "metadata": {},
   "outputs": [],
   "source": [
    "import pandas as pd\n",
    "import pyodbc"
   ]
  },
  {
   "cell_type": "code",
   "execution_count": 2,
   "id": "b455888b",
   "metadata": {},
   "outputs": [],
   "source": [
    "# Import CSV\n",
    "data = pd.read_csv (\"E:\\Study\\Python Projects\\Python with SQL\\msft.csv\")   \n",
    "df = pd.DataFrame(data)"
   ]
  },
  {
   "cell_type": "code",
   "execution_count": 15,
   "id": "5069ef17",
   "metadata": {},
   "outputs": [],
   "source": [
    "df = df.fillna(value=0)"
   ]
  },
  {
   "cell_type": "code",
   "execution_count": 3,
   "id": "a1b5d258",
   "metadata": {},
   "outputs": [
    {
     "data": {
      "text/html": [
       "<div>\n",
       "<style scoped>\n",
       "    .dataframe tbody tr th:only-of-type {\n",
       "        vertical-align: middle;\n",
       "    }\n",
       "\n",
       "    .dataframe tbody tr th {\n",
       "        vertical-align: top;\n",
       "    }\n",
       "\n",
       "    .dataframe thead th {\n",
       "        text-align: right;\n",
       "    }\n",
       "</style>\n",
       "<table border=\"1\" class=\"dataframe\">\n",
       "  <thead>\n",
       "    <tr style=\"text-align: right;\">\n",
       "      <th></th>\n",
       "      <th>Name</th>\n",
       "      <th>Rating</th>\n",
       "      <th>No of people Rated</th>\n",
       "      <th>Category</th>\n",
       "      <th>Date</th>\n",
       "      <th>Price</th>\n",
       "    </tr>\n",
       "  </thead>\n",
       "  <tbody>\n",
       "    <tr>\n",
       "      <th>0</th>\n",
       "      <td>Dynamic Reader</td>\n",
       "      <td>3.5</td>\n",
       "      <td>268</td>\n",
       "      <td>Books</td>\n",
       "      <td>07-01-2014</td>\n",
       "      <td>Free</td>\n",
       "    </tr>\n",
       "    <tr>\n",
       "      <th>1</th>\n",
       "      <td>Chemistry, Organic Chemistry and Biochemistry-...</td>\n",
       "      <td>3.0</td>\n",
       "      <td>627</td>\n",
       "      <td>Books</td>\n",
       "      <td>08-01-2014</td>\n",
       "      <td>Free</td>\n",
       "    </tr>\n",
       "    <tr>\n",
       "      <th>2</th>\n",
       "      <td>BookViewer</td>\n",
       "      <td>3.5</td>\n",
       "      <td>593</td>\n",
       "      <td>Books</td>\n",
       "      <td>29-02-2016</td>\n",
       "      <td>Free</td>\n",
       "    </tr>\n",
       "    <tr>\n",
       "      <th>3</th>\n",
       "      <td>Brick Instructions</td>\n",
       "      <td>3.5</td>\n",
       "      <td>684</td>\n",
       "      <td>Books</td>\n",
       "      <td>30-01-2018</td>\n",
       "      <td>Free</td>\n",
       "    </tr>\n",
       "    <tr>\n",
       "      <th>4</th>\n",
       "      <td>Introduction to Python Programming by GoLearni...</td>\n",
       "      <td>2.0</td>\n",
       "      <td>634</td>\n",
       "      <td>Books</td>\n",
       "      <td>30-01-2018</td>\n",
       "      <td>Free</td>\n",
       "    </tr>\n",
       "    <tr>\n",
       "      <th>...</th>\n",
       "      <td>...</td>\n",
       "      <td>...</td>\n",
       "      <td>...</td>\n",
       "      <td>...</td>\n",
       "      <td>...</td>\n",
       "      <td>...</td>\n",
       "    </tr>\n",
       "    <tr>\n",
       "      <th>5312</th>\n",
       "      <td>Assets Resizer for Windows Store</td>\n",
       "      <td>3.5</td>\n",
       "      <td>566</td>\n",
       "      <td>Developer Tools</td>\n",
       "      <td>22-09-2015</td>\n",
       "      <td>₹ 54.00</td>\n",
       "    </tr>\n",
       "    <tr>\n",
       "      <th>5313</th>\n",
       "      <td>WWWmaster</td>\n",
       "      <td>3.5</td>\n",
       "      <td>150</td>\n",
       "      <td>Developer Tools</td>\n",
       "      <td>12-01-2018</td>\n",
       "      <td>₹ 489.00</td>\n",
       "    </tr>\n",
       "    <tr>\n",
       "      <th>5314</th>\n",
       "      <td>HexToolkit</td>\n",
       "      <td>3.5</td>\n",
       "      <td>214</td>\n",
       "      <td>Developer Tools</td>\n",
       "      <td>25-09-2017</td>\n",
       "      <td>₹ 54.00</td>\n",
       "    </tr>\n",
       "    <tr>\n",
       "      <th>5315</th>\n",
       "      <td>Visual Studio Image Scaler</td>\n",
       "      <td>1.0</td>\n",
       "      <td>756</td>\n",
       "      <td>Developer Tools</td>\n",
       "      <td>15-05-2017</td>\n",
       "      <td>₹ 54.00</td>\n",
       "    </tr>\n",
       "    <tr>\n",
       "      <th>5316</th>\n",
       "      <td>Get Color</td>\n",
       "      <td>3.0</td>\n",
       "      <td>785</td>\n",
       "      <td>Developer Tools</td>\n",
       "      <td>08-08-2019</td>\n",
       "      <td>₹ 54.50</td>\n",
       "    </tr>\n",
       "  </tbody>\n",
       "</table>\n",
       "<p>5317 rows × 6 columns</p>\n",
       "</div>"
      ],
      "text/plain": [
       "                                                   Name  Rating  \\\n",
       "0                                        Dynamic Reader     3.5   \n",
       "1     Chemistry, Organic Chemistry and Biochemistry-...     3.0   \n",
       "2                                            BookViewer     3.5   \n",
       "3                                    Brick Instructions     3.5   \n",
       "4     Introduction to Python Programming by GoLearni...     2.0   \n",
       "...                                                 ...     ...   \n",
       "5312                   Assets Resizer for Windows Store     3.5   \n",
       "5313                                          WWWmaster     3.5   \n",
       "5314                                         HexToolkit     3.5   \n",
       "5315                         Visual Studio Image Scaler     1.0   \n",
       "5316                                          Get Color     3.0   \n",
       "\n",
       "      No of people Rated         Category        Date     Price  \n",
       "0                    268            Books  07-01-2014      Free  \n",
       "1                    627            Books  08-01-2014      Free  \n",
       "2                    593            Books  29-02-2016      Free  \n",
       "3                    684            Books  30-01-2018      Free  \n",
       "4                    634            Books  30-01-2018      Free  \n",
       "...                  ...              ...         ...       ...  \n",
       "5312                 566  Developer Tools  22-09-2015   ₹ 54.00  \n",
       "5313                 150  Developer Tools  12-01-2018  ₹ 489.00  \n",
       "5314                 214  Developer Tools  25-09-2017   ₹ 54.00  \n",
       "5315                 756  Developer Tools  15-05-2017   ₹ 54.00  \n",
       "5316                 785  Developer Tools  08-08-2019   ₹ 54.50  \n",
       "\n",
       "[5317 rows x 6 columns]"
      ]
     },
     "execution_count": 3,
     "metadata": {},
     "output_type": "execute_result"
    }
   ],
   "source": [
    "df.head(-5)"
   ]
  },
  {
   "cell_type": "code",
   "execution_count": 4,
   "id": "d81fdcfa",
   "metadata": {},
   "outputs": [],
   "source": [
    "# Connect to SQL Server\n",
    "conn = pyodbc.connect('Driver={SQL Server};'\n",
    "                      'Server=SEANPC;'\n",
    "                      'Database=SEANTEST;'\n",
    "                      'Trusted_Connection=yes;')"
   ]
  },
  {
   "cell_type": "code",
   "execution_count": 5,
   "id": "72938201",
   "metadata": {},
   "outputs": [],
   "source": [
    "#conn.close()"
   ]
  },
  {
   "cell_type": "code",
   "execution_count": null,
   "id": "fb23e263",
   "metadata": {},
   "outputs": [],
   "source": [
    "cursor = conn.cursor()\n",
    "\n",
    "# Create Table\n",
    "# cursor.execute('''\n",
    "# CREATE TABLE \"microsoft_store_test\" (\n",
    "# \tProduct_ID int NOT NULL IDENTITY PRIMARY KEY,\n",
    "# \tProduct_Name varchar(50),\n",
    "# \tRating float,\n",
    "#     Number_People_Rated int,\n",
    "#     Category nvarchar(50),\n",
    "#     DTTM DateTimeOffset NOT NULL default SYSDATETIMEOFFSET(),\n",
    "#     Price nvarchar(50)\n",
    "# )\n",
    "#                ''')"
   ]
  },
  {
   "cell_type": "code",
   "execution_count": 10,
   "id": "223c4ecd",
   "metadata": {},
   "outputs": [
    {
     "name": "stdout",
     "output_type": "stream",
     "text": [
      "Product_ID\n",
      "Product_Name\n",
      "Rating\n",
      "Number_People_Rated\n",
      "Category\n",
      "DTTM\n",
      "Price\n"
     ]
    }
   ],
   "source": [
    "cursor.execute(\"SELECT * FROM microsoft_store\")\n",
    "for row in cursor.columns(table='microsoft_store'):\n",
    "    print (row.column_name)"
   ]
  },
  {
   "cell_type": "code",
   "execution_count": 16,
   "id": "dca7ff07",
   "metadata": {},
   "outputs": [],
   "source": [
    "# Insert DataFrame to Table\n",
    "for row in df.itertuples():\n",
    "    cursor.execute('''\n",
    "                INSERT INTO microsoft_store \n",
    "                (Product_Name, \n",
    "                Rating, \n",
    "                Number_People_Rated, \n",
    "                Category, \n",
    "                DTTM,\n",
    "                Price)\n",
    "                VALUES (?,?,?,?,?,?)\n",
    "                ''',\n",
    "                row[1],  #Name, \n",
    "                row[2],  #Rating,\n",
    "                row[3],  #No of people Rated\n",
    "                row[4],  #Category\n",
    "                row[5],  #Date\n",
    "                row[6]  #Price                  \n",
    "                )"
   ]
  },
  {
   "cell_type": "code",
   "execution_count": 17,
   "id": "4a2ec360",
   "metadata": {},
   "outputs": [],
   "source": [
    "conn.commit()"
   ]
  },
  {
   "cell_type": "code",
   "execution_count": 18,
   "id": "ce7c75b9",
   "metadata": {},
   "outputs": [
    {
     "data": {
      "text/plain": [
       "<pyodbc.Cursor at 0x24d8d715530>"
      ]
     },
     "execution_count": 18,
     "metadata": {},
     "output_type": "execute_result"
    }
   ],
   "source": [
    "cursor.execute(\"SELECT * FROM microsoft_store\")"
   ]
  },
  {
   "cell_type": "code",
   "execution_count": null,
   "id": "ec3eb6ca",
   "metadata": {},
   "outputs": [],
   "source": []
  }
 ],
 "metadata": {
  "kernelspec": {
   "display_name": "Python 3",
   "language": "python",
   "name": "python3"
  },
  "language_info": {
   "codemirror_mode": {
    "name": "ipython",
    "version": 3
   },
   "file_extension": ".py",
   "mimetype": "text/x-python",
   "name": "python",
   "nbconvert_exporter": "python",
   "pygments_lexer": "ipython3",
   "version": "3.8.8"
  }
 },
 "nbformat": 4,
 "nbformat_minor": 5
}
