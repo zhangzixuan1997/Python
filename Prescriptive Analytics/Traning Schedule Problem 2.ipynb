{
 "cells": [
  {
   "cell_type": "code",
   "execution_count": 1,
   "metadata": {},
   "outputs": [],
   "source": [
    "from pulp import *\n",
    "import pandas as pd"
   ]
  },
  {
   "cell_type": "code",
   "execution_count": 2,
   "metadata": {},
   "outputs": [],
   "source": [
    "probA = LpProblem(\"Workforce\", LpMinimize)"
   ]
  },
  {
   "cell_type": "code",
   "execution_count": 3,
   "metadata": {},
   "outputs": [],
   "source": [
    "month = list(range(1,7))\n",
    "\n",
    "required = {1:100,\n",
    "            2:100,\n",
    "            3:115,\n",
    "            4:125,\n",
    "            5:140,\n",
    "            6:150\n",
    "           }\n"
   ]
  },
  {
   "cell_type": "code",
   "execution_count": 4,
   "metadata": {},
   "outputs": [],
   "source": [
    "remaining = LpVariable.dicts(\"r\", month, lowBound = 0, cat = \"Continuous\")\n",
    "training = LpVariable.dicts(\"t\", month, lowBound = 0, cat = \"Continuous\")\n",
    "untrained = LpVariable.dicts(\"ut\", month, lowBound = 0, cat = \"Continuous\")\n",
    "trained = LpVariable.dicts(\"td\", month, lowBound = 0, cat = \"Continuous\")\n",
    "layoff = LpVariable.dicts(\"l\", month, lowBound = 0, cat = \"Continuous\")"
   ]
  },
  {
   "cell_type": "code",
   "execution_count": 5,
   "metadata": {},
   "outputs": [],
   "source": [
    "probA += lpSum((training[i] + untrained[i])*3000 + trained[i]*3300 for i in range(1,7))"
   ]
  },
  {
   "cell_type": "code",
   "execution_count": 6,
   "metadata": {},
   "outputs": [],
   "source": [
    "probA += trained[1] == 0, \"Trained Programmer 1\"\n",
    "\n",
    "for i in range(2,7):\n",
    "    probA += lpSum(0.9 * training[j] for j in range(1,i))\\\n",
    "    == trained[i], \"Trained Programmer %s\"%i"
   ]
  },
  {
   "cell_type": "code",
   "execution_count": 7,
   "metadata": {},
   "outputs": [],
   "source": [
    "probA += remaining[1] == 145, \"Total Programmer 1\"\n",
    "\n",
    "for i in range(2,7):\n",
    "    probA += lpSum(remaining[i-1]- layoff [i-1]- (remaining[i-1] - trained[i-1] - training[i-1] - layoff[i-1]) * 0.05)  \\\n",
    "    == remaining[i],\"Total Programmer %s\"%i"
   ]
  },
  {
   "cell_type": "code",
   "execution_count": 8,
   "metadata": {},
   "outputs": [],
   "source": [
    "for i in range(1,7):\n",
    "    probA += lpSum(trained[i]+training[i]+untrained[i])\\\n",
    "    == remaining[i], \"Untrained Programmer %s\"%i"
   ]
  },
  {
   "cell_type": "code",
   "execution_count": 9,
   "metadata": {},
   "outputs": [],
   "source": [
    "for i in range(1,7):\n",
    "    probA += lpSum(untrained[i]+trained[i]*1.2)\\\n",
    "    >= required[i], \"Required Programmer %s\"%i"
   ]
  },
  {
   "cell_type": "code",
   "execution_count": 10,
   "metadata": {},
   "outputs": [
    {
     "data": {
      "text/plain": [
       "Workforce:\n",
       "MINIMIZE\n",
       "3000*t_1 + 3000*t_2 + 3000*t_3 + 3000*t_4 + 3000*t_5 + 3000*t_6 + 3300*td_1 + 3300*td_2 + 3300*td_3 + 3300*td_4 + 3300*td_5 + 3300*td_6 + 3000*ut_1 + 3000*ut_2 + 3000*ut_3 + 3000*ut_4 + 3000*ut_5 + 3000*ut_6 + 0\n",
       "SUBJECT TO\n",
       "Trained_Programmer_1: td_1 = 0\n",
       "\n",
       "Trained_Programmer_2: 0.9 t_1 - td_2 = 0\n",
       "\n",
       "Trained_Programmer_3: 0.9 t_1 + 0.9 t_2 - td_3 = 0\n",
       "\n",
       "Trained_Programmer_4: 0.9 t_1 + 0.9 t_2 + 0.9 t_3 - td_4 = 0\n",
       "\n",
       "Trained_Programmer_5: 0.9 t_1 + 0.9 t_2 + 0.9 t_3 + 0.9 t_4 - td_5 = 0\n",
       "\n",
       "Trained_Programmer_6: 0.9 t_1 + 0.9 t_2 + 0.9 t_3 + 0.9 t_4 + 0.9 t_5 - td_6\n",
       " = 0\n",
       "\n",
       "Total_Programmer_1: r_1 = 145\n",
       "\n",
       "Total_Programmer_2: - 0.95 l_1 + 0.95 r_1 - r_2 + 0.05 t_1 + 0.05 td_1 = 0\n",
       "\n",
       "Total_Programmer_3: - 0.95 l_2 + 0.95 r_2 - r_3 + 0.05 t_2 + 0.05 td_2 = 0\n",
       "\n",
       "Total_Programmer_4: - 0.95 l_3 + 0.95 r_3 - r_4 + 0.05 t_3 + 0.05 td_3 = 0\n",
       "\n",
       "Total_Programmer_5: - 0.95 l_4 + 0.95 r_4 - r_5 + 0.05 t_4 + 0.05 td_4 = 0\n",
       "\n",
       "Total_Programmer_6: - 0.95 l_5 + 0.95 r_5 - r_6 + 0.05 t_5 + 0.05 td_5 = 0\n",
       "\n",
       "Untrained_Programmer_1: - r_1 + t_1 + td_1 + ut_1 = 0\n",
       "\n",
       "Untrained_Programmer_2: - r_2 + t_2 + td_2 + ut_2 = 0\n",
       "\n",
       "Untrained_Programmer_3: - r_3 + t_3 + td_3 + ut_3 = 0\n",
       "\n",
       "Untrained_Programmer_4: - r_4 + t_4 + td_4 + ut_4 = 0\n",
       "\n",
       "Untrained_Programmer_5: - r_5 + t_5 + td_5 + ut_5 = 0\n",
       "\n",
       "Untrained_Programmer_6: - r_6 + t_6 + td_6 + ut_6 = 0\n",
       "\n",
       "Required_Programmer_1: 1.2 td_1 + ut_1 >= 100\n",
       "\n",
       "Required_Programmer_2: 1.2 td_2 + ut_2 >= 100\n",
       "\n",
       "Required_Programmer_3: 1.2 td_3 + ut_3 >= 115\n",
       "\n",
       "Required_Programmer_4: 1.2 td_4 + ut_4 >= 125\n",
       "\n",
       "Required_Programmer_5: 1.2 td_5 + ut_5 >= 140\n",
       "\n",
       "Required_Programmer_6: 1.2 td_6 + ut_6 >= 150\n",
       "\n",
       "VARIABLES\n",
       "l_1 Continuous\n",
       "l_2 Continuous\n",
       "l_3 Continuous\n",
       "l_4 Continuous\n",
       "l_5 Continuous\n",
       "r_1 Continuous\n",
       "r_2 Continuous\n",
       "r_3 Continuous\n",
       "r_4 Continuous\n",
       "r_5 Continuous\n",
       "r_6 Continuous\n",
       "t_1 Continuous\n",
       "t_2 Continuous\n",
       "t_3 Continuous\n",
       "t_4 Continuous\n",
       "t_5 Continuous\n",
       "t_6 Continuous\n",
       "td_1 Continuous\n",
       "td_2 Continuous\n",
       "td_3 Continuous\n",
       "td_4 Continuous\n",
       "td_5 Continuous\n",
       "td_6 Continuous\n",
       "ut_1 Continuous\n",
       "ut_2 Continuous\n",
       "ut_3 Continuous\n",
       "ut_4 Continuous\n",
       "ut_5 Continuous\n",
       "ut_6 Continuous"
      ]
     },
     "execution_count": 10,
     "metadata": {},
     "output_type": "execute_result"
    }
   ],
   "source": [
    "probA"
   ]
  },
  {
   "cell_type": "code",
   "execution_count": 11,
   "metadata": {},
   "outputs": [
    {
     "name": "stdout",
     "output_type": "stream",
     "text": [
      "Status: Optimal\n"
     ]
    }
   ],
   "source": [
    "probA.writeLP(\"problem_1.lp\")\n",
    "probA.solve()\n",
    "print(\"Status:\", LpStatus[probA.status])"
   ]
  },
  {
   "cell_type": "code",
   "execution_count": 12,
   "metadata": {},
   "outputs": [
    {
     "name": "stdout",
     "output_type": "stream",
     "text": [
      "l_1 = 11.147463\n",
      "l_2 = 0.0\n",
      "l_3 = 0.0\n",
      "l_4 = 0.0\n",
      "l_5 = 0.0\n",
      "r_1 = 145.0\n",
      "r_2 = 129.40991\n",
      "r_3 = 126.83991\n",
      "r_4 = 125.54544\n",
      "r_5 = 125.19233\n",
      "r_6 = 125.18011\n",
      "t_1 = 45.0\n",
      "t_2 = 37.50991\n",
      "t_3 = 26.691693\n",
      "t_4 = 20.201733\n",
      "t_5 = 8.484932\n",
      "t_6 = 0.0\n",
      "td_1 = 0.0\n",
      "td_2 = 40.5\n",
      "td_3 = 74.258919\n",
      "td_4 = 98.281443\n",
      "td_5 = 116.463\n",
      "td_6 = 124.09944\n",
      "ut_1 = 100.0\n",
      "ut_2 = 51.4\n",
      "ut_3 = 25.889297\n",
      "ut_4 = 7.0622685\n",
      "ut_5 = 0.24439637\n",
      "ut_6 = 1.0806698\n"
     ]
    }
   ],
   "source": [
    "for v in probA.variables():\n",
    "    print(v.name, \"=\", v.varValue)"
   ]
  },
  {
   "cell_type": "code",
   "execution_count": 13,
   "metadata": {},
   "outputs": [
    {
     "data": {
      "text/plain": [
       "2467583.94561"
      ]
     },
     "execution_count": 13,
     "metadata": {},
     "output_type": "execute_result"
    }
   ],
   "source": [
    "value(probA.objective)"
   ]
  },
  {
   "cell_type": "code",
   "execution_count": null,
   "metadata": {},
   "outputs": [],
   "source": []
  }
 ],
 "metadata": {
  "kernelspec": {
   "display_name": "Python 3",
   "language": "python",
   "name": "python3"
  },
  "language_info": {
   "codemirror_mode": {
    "name": "ipython",
    "version": 3
   },
   "file_extension": ".py",
   "mimetype": "text/x-python",
   "name": "python",
   "nbconvert_exporter": "python",
   "pygments_lexer": "ipython3",
   "version": "3.7.3"
  }
 },
 "nbformat": 4,
 "nbformat_minor": 2
}
