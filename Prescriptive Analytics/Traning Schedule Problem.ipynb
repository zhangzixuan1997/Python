{
 "cells": [
  {
   "cell_type": "code",
   "execution_count": 1,
   "metadata": {},
   "outputs": [],
   "source": [
    "import pandas as pd \n",
    "from pulp import *"
   ]
  },
  {
   "cell_type": "code",
   "execution_count": 2,
   "metadata": {},
   "outputs": [
    {
     "name": "stdout",
     "output_type": "stream",
     "text": [
      "{1: c_1, 2: c_2, 3: c_3, 4: c_4, 5: c_5, 6: c_6}\n",
      "\n",
      "\n",
      "{1: d_1, 2: d_2, 3: d_3, 4: d_4, 5: d_5, 6: d_6}\n",
      "\n",
      "\n",
      "{1: e_1, 2: e_2, 3: e_3, 4: e_4, 5: e_5, 6: e_6}\n",
      "\n",
      "\n",
      "{1: a_1, 2: a_2, 3: a_3, 4: a_4, 5: a_5, 6: a_6}\n"
     ]
    }
   ],
   "source": [
    "probB=LpProblem(\"Work\",LpMinimize)\n",
    "month = [1,2,3,4,5,6]\n",
    "demand = {1:100,\n",
    "          2:100,\n",
    "          3:115,\n",
    "          4:125,\n",
    "          5:140,\n",
    "          6:150}\n",
    "\n",
    "salary_train = 3300\n",
    "salary_untrain = 3000\n",
    "#Decision Variable:\n",
    "train_var = LpVariable.dicts(\"a\",month,lowBound=0,cat=\"Continuous\")\n",
    "train_last_month = LpVariable.dicts(\"b\",month,lowBound=0,cat=\"Continuous\")\n",
    "trained = LpVariable.dicts(\"c\",month,lowBound=0,cat=\"Continuous\")\n",
    "untrained = LpVariable.dicts(\"d\",month,lowBound=0,cat=\"Continuous\")\n",
    "a_untrain = LpVariable.dicts(\"e\",month,lowBound=0,cat=\"Continuous\")\n",
    "\n",
    "\n",
    "print(trained)\n",
    "print('\\n')\n",
    "print(untrained)\n",
    "print('\\n')\n",
    "print(a_untrain)\n",
    "print('\\n')\n",
    "print(train_var)"
   ]
  },
  {
   "cell_type": "code",
   "execution_count": 3,
   "metadata": {},
   "outputs": [],
   "source": [
    "#Objective Funtion:\n",
    "a = sum([untrained[i]*salary_untrain+trained[i]*salary_train for i in range(1,7)])\n",
    "probB+= a \n",
    "\n",
    "#Formulate the constraints:\n",
    "\n",
    "#1.Training number should be smaller than availble.\n",
    "for i in range(1,7):\n",
    "    probB+=train_var[i]<=a_untrain[i]\n",
    "#2.Production Meet The Demand\n",
    "for i in range(1,7):\n",
    "    probB+=trained[i]*1.2+untrained[i]>=demand[i]\n",
    "#3 Non-Neg\n",
    "#4 Train-Last-Month\n",
    "probB += train_last_month[1]==0\n",
    "for i in range(2,6):\n",
    "    probB +=train_last_month[i+1]==train_var[i]*0.9\n",
    "#5 Available Trained Per Month:\n",
    "probB += trained[1]==0\n",
    "for i in range(2,7):# i from 2 to 6 \n",
    "    sum_trained = 0\n",
    "    for j in range(1,i+1):\n",
    "        sum_trained += train_last_month[j]\n",
    "    probB +=trained[i]==sum_trained\n",
    "#6\n",
    "#How many untrained in each month\n",
    "probB += untrained[1]==145-train_var[1]\n",
    "for i in range(2,7):\n",
    "    probB += untrained[i]==untrained[i-1]*0.9-train_var[i]\n",
    "#7\n",
    "#How many are available to train in the beginning.\n",
    "probB += a_untrain[1]==145\n",
    "for i in range(2,7):\n",
    "    probB += a_untrain[i] == untrained[i-1]*0.9+train_var[i-1]*0.1"
   ]
  },
  {
   "cell_type": "code",
   "execution_count": 5,
   "metadata": {},
   "outputs": [
    {
     "name": "stdout",
     "output_type": "stream",
     "text": [
      "Total Cost =  2126363.7486\n",
      "45.0\n",
      "47.919918\n",
      "32.545504\n",
      "4.7939128\n",
      "0.0\n",
      "0.0\n",
      "0.0\n",
      "48.266599\n",
      "43.127927\n",
      "29.290953\n",
      "4.3145216\n",
      "0.0\n",
      "0.0\n",
      "48.266599\n",
      "91.394525\n",
      "120.68548\n",
      "125.0\n",
      "125.0\n",
      "100.0\n",
      "42.080082\n",
      "5.3265698\n",
      "-0.0\n",
      "-0.0\n",
      "0.0\n",
      "145.0\n",
      "94.5\n",
      "42.664065\n",
      "8.0484632\n",
      "0.47939128\n",
      "0.0\n"
     ]
    }
   ],
   "source": [
    "probB.solve()\n",
    "print(\"Total Cost = \",value(probB.objective))\n",
    "for v in probB.variables():\n",
    "    print(v.varValue)"
   ]
  },
  {
   "cell_type": "code",
   "execution_count": null,
   "metadata": {},
   "outputs": [],
   "source": []
  }
 ],
 "metadata": {
  "kernelspec": {
   "display_name": "Python 3",
   "language": "python",
   "name": "python3"
  },
  "language_info": {
   "codemirror_mode": {
    "name": "ipython",
    "version": 3
   },
   "file_extension": ".py",
   "mimetype": "text/x-python",
   "name": "python",
   "nbconvert_exporter": "python",
   "pygments_lexer": "ipython3",
   "version": "3.7.3"
  }
 },
 "nbformat": 4,
 "nbformat_minor": 2
}
