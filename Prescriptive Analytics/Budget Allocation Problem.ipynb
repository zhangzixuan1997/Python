{
 "cells": [
  {
   "cell_type": "code",
   "execution_count": 82,
   "metadata": {},
   "outputs": [],
   "source": [
    "import pandas as pd \n",
    "from pulp import *"
   ]
  },
  {
   "cell_type": "code",
   "execution_count": 83,
   "metadata": {},
   "outputs": [],
   "source": [
    "cash = LpProblem(\"Cash\",LpMinimize)\n",
    "month = [1,2,3,4,5,6]\n",
    "receive = {1:1.5,\n",
    "           2:1,\n",
    "           3:1.4,\n",
    "           4:2.3,\n",
    "           5:2,\n",
    "           6:1}\n",
    "bills = {1:1.8,\n",
    "         2:1.6,\n",
    "         3:2.2,\n",
    "         4:1.2,\n",
    "         5:0.8,\n",
    "         6:1.2}\n",
    "min_allow = 0.25\n",
    "initial = 0.4\n",
    "\n",
    "#Make the dictionaries:\n",
    "delay = LpVariable.dicts(\"d\",month,lowBound=0,cat=\"Continuous\")\n",
    "min_balance = LpVariable.dicts(\"m\",month,lowBound=min_allow,cat=\"Continuous\")\n",
    "borrow = LpVariable.dicts(\"b\",month,lowBound=0,cat=\"Continuous\")\n",
    "shortloan = LpVariable(\"s\",lowBound=0,cat=\"Continuous\")"
   ]
  },
  {
   "cell_type": "code",
   "execution_count": 84,
   "metadata": {},
   "outputs": [],
   "source": [
    "#The total cost is as follows, as well as the objective. \n",
    "cash += -initial*0.005 + shortloan*0.06 +\\\n",
    "        lpSum([borrow[i]*0.015 +\\\n",
    "        delay[i]*(1/0.98-1) -\\\n",
    "        min_balance[i]*0.005 for i in range(1,6)])\n",
    "#Set up the constraints :\n",
    "#1st month :\n",
    "cash += initial*1.005+shortloan+receive[1]+delay[1]+borrow[1]\\\n",
    "        == bills[1]+min_balance[1]+0.01*shortloan\n",
    "#2nd - 5th months:\n",
    "for i in range(2,6):\n",
    "    cash += receive[i]+min_balance[i-1]*1.005+delay[i]+borrow[i]\\\n",
    "            == bills[i]+min_balance[i]+0.01*shortloan+\\\n",
    "            delay[i-1]*(1/0.98)+1.015*borrow[i-1]\n",
    "#6th month\n",
    "cash += receive[6]+min_balance[5]*1.005\\\n",
    "        == bills[6]+1.015*borrow[5]+delay[5]*(1/0.98)+\\\n",
    "           1.01*shortloan+min_balance[6]\n",
    "#Can only delay part of the bills:\n",
    "for i in range(1,7):\n",
    "    cash += delay[i]<=bills[i]\n",
    "#Can only borrow 0.75 of the entire receive\n",
    "for i in range(1,7):\n",
    "    cash += borrow[i]<=receive[i]*0.75"
   ]
  },
  {
   "cell_type": "code",
   "execution_count": 85,
   "metadata": {},
   "outputs": [
    {
     "name": "stdout",
     "output_type": "stream",
     "text": [
      "total cost is 0.03349266416938776\n",
      "b_1 0.0\n",
      "b_2 0.60024495\n",
      "b_3 1.05\n",
      "b_4 0.33282513\n",
      "b_5 0.0\n",
      "b_6 0.0\n",
      "d_1 0.0\n",
      "d_2 0.0\n",
      "d_3 0.35949357\n",
      "d_4 0.0\n",
      "d_5 0.0\n",
      "d_6 0.0\n",
      "m_1 0.25\n",
      "m_2 0.25\n",
      "m_3 0.25\n",
      "m_4 0.25\n",
      "m_5 1.1119375\n",
      "m_6 0.76650734\n",
      "s 0.14949495\n"
     ]
    }
   ],
   "source": [
    "cash.writeLP(\"problem 1.lp\")\n",
    "cash.solve()\n",
    "print(\"total cost is\", value(cash.objective))\n",
    "for v in cash.variables():\n",
    "    print(v,v.value())"
   ]
  },
  {
   "cell_type": "code",
   "execution_count": null,
   "metadata": {},
   "outputs": [],
   "source": []
  }
 ],
 "metadata": {
  "kernelspec": {
   "display_name": "Python 3",
   "language": "python",
   "name": "python3"
  },
  "language_info": {
   "codemirror_mode": {
    "name": "ipython",
    "version": 3
   },
   "file_extension": ".py",
   "mimetype": "text/x-python",
   "name": "python",
   "nbconvert_exporter": "python",
   "pygments_lexer": "ipython3",
   "version": "3.7.3"
  }
 },
 "nbformat": 4,
 "nbformat_minor": 2
}
