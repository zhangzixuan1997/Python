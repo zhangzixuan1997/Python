{
 "cells": [
  {
   "cell_type": "markdown",
   "metadata": {
    "colab_type": "text",
    "id": "tOyg8ZVZDsRh"
   },
   "source": [
    "# Pakages"
   ]
  },
  {
   "cell_type": "code",
   "execution_count": 1,
   "metadata": {
    "colab": {},
    "colab_type": "code",
    "collapsed": true,
    "id": "9-R8Y7H1KylU"
   },
   "outputs": [
    {
     "name": "stdout",
     "output_type": "stream",
     "text": [
      "Requirement already satisfied: numpy in /Users/Zoeli/opt/anaconda3/lib/python3.7/site-packages (1.17.2)\n",
      "Requirement already satisfied: pandas in /Users/Zoeli/opt/anaconda3/lib/python3.7/site-packages (0.25.1)\n",
      "Requirement already satisfied: python-dateutil>=2.6.1 in /Users/Zoeli/opt/anaconda3/lib/python3.7/site-packages (from pandas) (2.8.0)\n",
      "Requirement already satisfied: numpy>=1.13.3 in /Users/Zoeli/opt/anaconda3/lib/python3.7/site-packages (from pandas) (1.17.2)\n",
      "Requirement already satisfied: pytz>=2017.2 in /Users/Zoeli/opt/anaconda3/lib/python3.7/site-packages (from pandas) (2019.3)\n",
      "Requirement already satisfied: six>=1.5 in /Users/Zoeli/opt/anaconda3/lib/python3.7/site-packages (from python-dateutil>=2.6.1->pandas) (1.12.0)\n",
      "Requirement already satisfied: nltk in /Users/Zoeli/opt/anaconda3/lib/python3.7/site-packages (3.4.5)\n",
      "Requirement already satisfied: six in /Users/Zoeli/opt/anaconda3/lib/python3.7/site-packages (from nltk) (1.12.0)\n",
      "Collecting html.parser\n",
      "Requirement already satisfied: ply in /Users/Zoeli/opt/anaconda3/lib/python3.7/site-packages (from html.parser) (3.11)\n",
      "Installing collected packages: html.parser\n",
      "Successfully installed html.parser\n",
      "Requirement already satisfied: pattern3 in /Users/Zoeli/opt/anaconda3/lib/python3.7/site-packages (3.0.0)\n",
      "Requirement already satisfied: beautifulsoup4 in /Users/Zoeli/opt/anaconda3/lib/python3.7/site-packages (from pattern3) (4.8.0)\n",
      "Requirement already satisfied: pdfminer3k in /Users/Zoeli/opt/anaconda3/lib/python3.7/site-packages (from pattern3) (1.3.1)\n",
      "Requirement already satisfied: simplejson in /Users/Zoeli/opt/anaconda3/lib/python3.7/site-packages (from pattern3) (3.17.0)\n",
      "Requirement already satisfied: pdfminer.six in /Users/Zoeli/opt/anaconda3/lib/python3.7/site-packages (from pattern3) (20200124)\n",
      "Requirement already satisfied: cherrypy in /Users/Zoeli/opt/anaconda3/lib/python3.7/site-packages (from pattern3) (18.5.0)\n",
      "Requirement already satisfied: feedparser in /Users/Zoeli/opt/anaconda3/lib/python3.7/site-packages (from pattern3) (5.2.1)\n",
      "Requirement already satisfied: docx in /Users/Zoeli/opt/anaconda3/lib/python3.7/site-packages (from pattern3) (0.2.4)\n",
      "Requirement already satisfied: soupsieve>=1.2 in /Users/Zoeli/opt/anaconda3/lib/python3.7/site-packages (from beautifulsoup4->pattern3) (1.9.3)\n",
      "Requirement already satisfied: ply>=3.4 in /Users/Zoeli/opt/anaconda3/lib/python3.7/site-packages (from pdfminer3k->pattern3) (3.11)\n",
      "Requirement already satisfied: pytest>=2.0 in /Users/Zoeli/opt/anaconda3/lib/python3.7/site-packages (from pdfminer3k->pattern3) (5.2.1)\n",
      "Requirement already satisfied: chardet; python_version > \"3.0\" in /Users/Zoeli/opt/anaconda3/lib/python3.7/site-packages (from pdfminer.six->pattern3) (3.0.4)\n",
      "Requirement already satisfied: pycryptodome in /Users/Zoeli/opt/anaconda3/lib/python3.7/site-packages (from pdfminer.six->pattern3) (3.9.7)\n",
      "Requirement already satisfied: sortedcontainers in /Users/Zoeli/opt/anaconda3/lib/python3.7/site-packages (from pdfminer.six->pattern3) (2.1.0)\n",
      "Requirement already satisfied: portend>=2.1.1 in /Users/Zoeli/opt/anaconda3/lib/python3.7/site-packages (from cherrypy->pattern3) (2.6)\n",
      "Requirement already satisfied: jaraco.collections in /Users/Zoeli/opt/anaconda3/lib/python3.7/site-packages (from cherrypy->pattern3) (3.0.0)\n",
      "Requirement already satisfied: more-itertools in /Users/Zoeli/opt/anaconda3/lib/python3.7/site-packages (from cherrypy->pattern3) (7.2.0)\n",
      "Requirement already satisfied: cheroot>=8.2.1 in /Users/Zoeli/opt/anaconda3/lib/python3.7/site-packages (from cherrypy->pattern3) (8.3.0)\n",
      "Requirement already satisfied: zc.lockfile in /Users/Zoeli/opt/anaconda3/lib/python3.7/site-packages (from cherrypy->pattern3) (2.0)\n",
      "Requirement already satisfied: Pillow>=2.0 in /Users/Zoeli/opt/anaconda3/lib/python3.7/site-packages (from docx->pattern3) (6.2.0)\n",
      "Requirement already satisfied: lxml in /Users/Zoeli/opt/anaconda3/lib/python3.7/site-packages (from docx->pattern3) (4.4.1)\n",
      "Requirement already satisfied: py>=1.5.0 in /Users/Zoeli/opt/anaconda3/lib/python3.7/site-packages (from pytest>=2.0->pdfminer3k->pattern3) (1.8.0)\n",
      "Requirement already satisfied: packaging in /Users/Zoeli/opt/anaconda3/lib/python3.7/site-packages (from pytest>=2.0->pdfminer3k->pattern3) (19.2)\n",
      "Requirement already satisfied: attrs>=17.4.0 in /Users/Zoeli/opt/anaconda3/lib/python3.7/site-packages (from pytest>=2.0->pdfminer3k->pattern3) (19.2.0)\n",
      "Requirement already satisfied: atomicwrites>=1.0 in /Users/Zoeli/opt/anaconda3/lib/python3.7/site-packages (from pytest>=2.0->pdfminer3k->pattern3) (1.3.0)\n",
      "Requirement already satisfied: pluggy<1.0,>=0.12 in /Users/Zoeli/opt/anaconda3/lib/python3.7/site-packages (from pytest>=2.0->pdfminer3k->pattern3) (0.13.0)\n",
      "Requirement already satisfied: wcwidth in /Users/Zoeli/opt/anaconda3/lib/python3.7/site-packages (from pytest>=2.0->pdfminer3k->pattern3) (0.1.7)\n",
      "Requirement already satisfied: importlib-metadata>=0.12 in /Users/Zoeli/opt/anaconda3/lib/python3.7/site-packages (from pytest>=2.0->pdfminer3k->pattern3) (0.23)\n",
      "Requirement already satisfied: tempora>=1.8 in /Users/Zoeli/opt/anaconda3/lib/python3.7/site-packages (from portend>=2.1.1->cherrypy->pattern3) (3.0.0)\n",
      "Requirement already satisfied: jaraco.text in /Users/Zoeli/opt/anaconda3/lib/python3.7/site-packages (from jaraco.collections->cherrypy->pattern3) (3.2.0)\n",
      "Requirement already satisfied: jaraco.classes in /Users/Zoeli/opt/anaconda3/lib/python3.7/site-packages (from jaraco.collections->cherrypy->pattern3) (3.1.0)\n",
      "Requirement already satisfied: six>=1.7.0 in /Users/Zoeli/opt/anaconda3/lib/python3.7/site-packages (from jaraco.collections->cherrypy->pattern3) (1.12.0)\n",
      "Requirement already satisfied: jaraco.functools in /Users/Zoeli/opt/anaconda3/lib/python3.7/site-packages (from cheroot>=8.2.1->cherrypy->pattern3) (3.0.0)\n",
      "Requirement already satisfied: setuptools in /Users/Zoeli/opt/anaconda3/lib/python3.7/site-packages (from zc.lockfile->cherrypy->pattern3) (41.4.0)\n",
      "Requirement already satisfied: pyparsing>=2.0.2 in /Users/Zoeli/opt/anaconda3/lib/python3.7/site-packages (from packaging->pytest>=2.0->pdfminer3k->pattern3) (2.4.2)\n",
      "Requirement already satisfied: zipp>=0.5 in /Users/Zoeli/opt/anaconda3/lib/python3.7/site-packages (from importlib-metadata>=0.12->pytest>=2.0->pdfminer3k->pattern3) (0.6.0)\n",
      "Requirement already satisfied: pytz in /Users/Zoeli/opt/anaconda3/lib/python3.7/site-packages (from tempora>=1.8->portend>=2.1.1->cherrypy->pattern3) (2019.3)\n",
      "Requirement already satisfied: pyLDAvis in /Users/Zoeli/opt/anaconda3/lib/python3.7/site-packages (2.1.2)\n",
      "Requirement already satisfied: numpy>=1.9.2 in /Users/Zoeli/opt/anaconda3/lib/python3.7/site-packages (from pyLDAvis) (1.17.2)\n",
      "Requirement already satisfied: future in /Users/Zoeli/opt/anaconda3/lib/python3.7/site-packages (from pyLDAvis) (0.17.1)\n",
      "Requirement already satisfied: wheel>=0.23.0 in /Users/Zoeli/opt/anaconda3/lib/python3.7/site-packages (from pyLDAvis) (0.33.6)\n",
      "Requirement already satisfied: jinja2>=2.7.2 in /Users/Zoeli/opt/anaconda3/lib/python3.7/site-packages (from pyLDAvis) (2.10.3)\n",
      "Requirement already satisfied: pytest in /Users/Zoeli/opt/anaconda3/lib/python3.7/site-packages (from pyLDAvis) (5.2.1)\n",
      "Requirement already satisfied: funcy in /Users/Zoeli/opt/anaconda3/lib/python3.7/site-packages (from pyLDAvis) (1.14)\n",
      "Requirement already satisfied: pandas>=0.17.0 in /Users/Zoeli/opt/anaconda3/lib/python3.7/site-packages (from pyLDAvis) (0.25.1)\n",
      "Requirement already satisfied: scipy>=0.18.0 in /Users/Zoeli/opt/anaconda3/lib/python3.7/site-packages (from pyLDAvis) (1.3.1)\n",
      "Requirement already satisfied: numexpr in /Users/Zoeli/opt/anaconda3/lib/python3.7/site-packages (from pyLDAvis) (2.7.0)\n",
      "Requirement already satisfied: joblib>=0.8.4 in /Users/Zoeli/opt/anaconda3/lib/python3.7/site-packages (from pyLDAvis) (0.13.2)\n",
      "Requirement already satisfied: MarkupSafe>=0.23 in /Users/Zoeli/opt/anaconda3/lib/python3.7/site-packages (from jinja2>=2.7.2->pyLDAvis) (1.1.1)\n",
      "Requirement already satisfied: py>=1.5.0 in /Users/Zoeli/opt/anaconda3/lib/python3.7/site-packages (from pytest->pyLDAvis) (1.8.0)\n",
      "Requirement already satisfied: packaging in /Users/Zoeli/opt/anaconda3/lib/python3.7/site-packages (from pytest->pyLDAvis) (19.2)\n",
      "Requirement already satisfied: attrs>=17.4.0 in /Users/Zoeli/opt/anaconda3/lib/python3.7/site-packages (from pytest->pyLDAvis) (19.2.0)\n"
     ]
    },
    {
     "name": "stdout",
     "output_type": "stream",
     "text": [
      "Requirement already satisfied: more-itertools>=4.0.0 in /Users/Zoeli/opt/anaconda3/lib/python3.7/site-packages (from pytest->pyLDAvis) (7.2.0)\n",
      "Requirement already satisfied: atomicwrites>=1.0 in /Users/Zoeli/opt/anaconda3/lib/python3.7/site-packages (from pytest->pyLDAvis) (1.3.0)\n",
      "Requirement already satisfied: pluggy<1.0,>=0.12 in /Users/Zoeli/opt/anaconda3/lib/python3.7/site-packages (from pytest->pyLDAvis) (0.13.0)\n",
      "Requirement already satisfied: wcwidth in /Users/Zoeli/opt/anaconda3/lib/python3.7/site-packages (from pytest->pyLDAvis) (0.1.7)\n",
      "Requirement already satisfied: importlib-metadata>=0.12 in /Users/Zoeli/opt/anaconda3/lib/python3.7/site-packages (from pytest->pyLDAvis) (0.23)\n",
      "Requirement already satisfied: python-dateutil>=2.6.1 in /Users/Zoeli/opt/anaconda3/lib/python3.7/site-packages (from pandas>=0.17.0->pyLDAvis) (2.8.0)\n",
      "Requirement already satisfied: pytz>=2017.2 in /Users/Zoeli/opt/anaconda3/lib/python3.7/site-packages (from pandas>=0.17.0->pyLDAvis) (2019.3)\n",
      "Requirement already satisfied: pyparsing>=2.0.2 in /Users/Zoeli/opt/anaconda3/lib/python3.7/site-packages (from packaging->pytest->pyLDAvis) (2.4.2)\n",
      "Requirement already satisfied: six in /Users/Zoeli/opt/anaconda3/lib/python3.7/site-packages (from packaging->pytest->pyLDAvis) (1.12.0)\n",
      "Requirement already satisfied: zipp>=0.5 in /Users/Zoeli/opt/anaconda3/lib/python3.7/site-packages (from importlib-metadata>=0.12->pytest->pyLDAvis) (0.6.0)\n"
     ]
    },
    {
     "name": "stderr",
     "output_type": "stream",
     "text": [
      "[nltk_data] Downloading package stopwords to /Users/Zoeli/nltk_data...\n",
      "[nltk_data]   Package stopwords is already up-to-date!\n",
      "[nltk_data] Downloading package punkt to /Users/Zoeli/nltk_data...\n",
      "[nltk_data]   Package punkt is already up-to-date!\n",
      "[nltk_data] Downloading package averaged_perceptron_tagger to\n",
      "[nltk_data]     /Users/Zoeli/nltk_data...\n",
      "[nltk_data]   Package averaged_perceptron_tagger is already up-to-\n",
      "[nltk_data]       date!\n",
      "[nltk_data] Downloading package wordnet to /Users/Zoeli/nltk_data...\n",
      "[nltk_data]   Package wordnet is already up-to-date!\n"
     ]
    },
    {
     "name": "stdout",
     "output_type": "stream",
     "text": [
      "Original:   <p>The circus dog in a plissé skirt jumped over Python who wasn't that large, just 3 feet long.</p>\n",
      "Processed:  ['<', 'p', '>', 'The', 'circus', 'dog', 'in', 'a', 'plissé', 'skirt', 'jumped', 'over', 'Python', 'who', 'was', \"n't\", 'that', 'large', ',', 'just', '3', 'feet', 'long.', '<', '/p', '>']\n",
      "Original:   <p>The circus dog in a plissé skirt jumped over Python who wasn't that large, just 3 feet long.</p>\n",
      "Processed:  <p>The circus dog in a plissé skirt jumped over Python who was not that large, just 3 feet long.</p>\n",
      "Original:   <p>The circus dog in a plissé skirt jumped over Python who wasn't that large, just 3 feet long.</p>\n",
      "Processed:  [('<', 'a'), ('p', 'n'), ('>', 'v'), ('the', None), ('circus', 'n'), ('dog', 'n'), ('in', None), ('a', None), ('plissé', 'n'), ('skirt', 'n'), ('jumped', 'v'), ('over', None), ('python', 'n'), ('who', None), ('was', 'v'), (\"n't\", 'r'), ('that', None), ('large', 'a'), (',', None), ('just', 'r'), ('3', None), ('feet', 'n'), ('long.', 'a'), ('<', 'n'), ('/p', 'n'), ('>', 'n')]\n",
      "Original:   <p>The circus dog in a plissé skirt jumped over Python who wasn't that large, just 3 feet long.</p>\n",
      "Processed:  < p > the circus dog in a plissé skirt jump over python who be n't that large , just 3 foot long. < /p >\n",
      "Original:   <p>The circus dog in a plissé skirt jumped over Python who wasn't that large, just 3 feet long.</p>\n",
      "Processed:    p   The circus dog in a plissé skirt jumped over Python who was n t that large   just 3 feet long     p  \n",
      "Original:   <p>The circus dog in a plissé skirt jumped over Python who wasn't that large, just 3 feet long.</p>\n",
      "Processed:  < p > The circus dog plissé skirt jumped Python n't large , 3 feet long. < /p >\n",
      "Original:   <p>The circus dog in a plissé skirt jumped over Python who wasn't that large, just 3 feet long.</p>\n",
      "Processed:  p The circus dog in a plissé skirt jumped over Python who was n't that large just feet long. /p\n",
      "Original:   <p>The circus dog in a plissé skirt jumped over Python who wasn't that large, just 3 feet long.</p>\n",
      "Processed:  The circus dog in a plissé skirt jumped over Python who wasn't that large, just 3 feet long.\n",
      "Original:   <p>The circus dog in a plissé skirt jumped over Python who wasn't that large, just 3 feet long.</p>\n",
      "Processed:  <p>The circus dog in a plisse skirt jumped over Python who wasn't that large, just 3 feet long.</p>\n"
     ]
    }
   ],
   "source": [
    "import sys\n",
    "\n",
    "!{sys.executable} -m pip install numpy\n",
    "import numpy as np \n",
    "\n",
    "!{sys.executable} -m pip install pandas\n",
    "import pandas as pd\n",
    "\n",
    "!{sys.executable} -m pip install nltk\n",
    "import nltk\n",
    "\n",
    "import warnings\n",
    "warnings.simplefilter(action='ignore')\n",
    "\n",
    "#text normalization function\n",
    "%run ./Text_Normalization_Function.ipynb"
   ]
  },
  {
   "cell_type": "markdown",
   "metadata": {
    "colab_type": "text",
    "id": "oZFMdFqvETig"
   },
   "source": [
    "# Load and Clean the Data"
   ]
  },
  {
   "cell_type": "code",
   "execution_count": 2,
   "metadata": {},
   "outputs": [],
   "source": [
    "reviews = pd.read_csv(\"Hotel_Reviews.csv\")\n",
    "\n",
    "#Create a column including all the reviews\n",
    "reviews[\"reviews\"] = reviews[\"Negative_Review\"]+reviews[\"Positive_Review\"]"
   ]
  },
  {
   "cell_type": "code",
   "execution_count": 3,
   "metadata": {},
   "outputs": [
    {
     "data": {
      "text/plain": [
       "count    515738.000000\n",
       "mean          8.395077\n",
       "std           1.637856\n",
       "min           2.500000\n",
       "25%           7.500000\n",
       "50%           8.800000\n",
       "75%           9.600000\n",
       "max          10.000000\n",
       "Name: Reviewer_Score, dtype: float64"
      ]
     },
     "execution_count": 3,
     "metadata": {},
     "output_type": "execute_result"
    }
   ],
   "source": [
    "reviews.Reviewer_Score.describe()\n",
    "# We found the median of reviewer score is around 8.8 and min is 2.5, indicating total scores tend to be more positive \n",
    "# and thus we should pay more attention to the bad reviews."
   ]
  },
  {
   "cell_type": "code",
   "execution_count": 4,
   "metadata": {},
   "outputs": [
    {
     "data": {
      "text/html": [
       "<div>\n",
       "<style scoped>\n",
       "    .dataframe tbody tr th:only-of-type {\n",
       "        vertical-align: middle;\n",
       "    }\n",
       "\n",
       "    .dataframe tbody tr th {\n",
       "        vertical-align: top;\n",
       "    }\n",
       "\n",
       "    .dataframe thead th {\n",
       "        text-align: right;\n",
       "    }\n",
       "</style>\n",
       "<table border=\"1\" class=\"dataframe\">\n",
       "  <thead>\n",
       "    <tr style=\"text-align: right;\">\n",
       "      <th></th>\n",
       "      <th>Hotel_Address</th>\n",
       "      <th>Additional_Number_of_Scoring</th>\n",
       "      <th>Review_Date</th>\n",
       "      <th>Average_Score</th>\n",
       "      <th>Hotel_Name</th>\n",
       "      <th>Reviewer_Nationality</th>\n",
       "      <th>Negative_Review</th>\n",
       "      <th>Review_Total_Negative_Word_Counts</th>\n",
       "      <th>Total_Number_of_Reviews</th>\n",
       "      <th>Positive_Review</th>\n",
       "      <th>Review_Total_Positive_Word_Counts</th>\n",
       "      <th>Total_Number_of_Reviews_Reviewer_Has_Given</th>\n",
       "      <th>Reviewer_Score</th>\n",
       "      <th>Tags</th>\n",
       "      <th>days_since_review</th>\n",
       "      <th>lat</th>\n",
       "      <th>lng</th>\n",
       "      <th>reviews</th>\n",
       "      <th>is_bad_review</th>\n",
       "    </tr>\n",
       "  </thead>\n",
       "  <tbody>\n",
       "    <tr>\n",
       "      <td>0</td>\n",
       "      <td>s Gravesandestraat 55 Oost 1092 AA Amsterdam ...</td>\n",
       "      <td>194</td>\n",
       "      <td>8/3/2017</td>\n",
       "      <td>7.7</td>\n",
       "      <td>Hotel Arena</td>\n",
       "      <td>Russia</td>\n",
       "      <td>I am so angry that i made this post available...</td>\n",
       "      <td>397</td>\n",
       "      <td>1403</td>\n",
       "      <td>Only the park outside of the hotel was beauti...</td>\n",
       "      <td>11</td>\n",
       "      <td>7</td>\n",
       "      <td>2.9</td>\n",
       "      <td>[' Leisure trip ', ' Couple ', ' Duplex Double...</td>\n",
       "      <td>0 days</td>\n",
       "      <td>52.360576</td>\n",
       "      <td>4.915968</td>\n",
       "      <td>I am so angry that i made this post available...</td>\n",
       "      <td>1</td>\n",
       "    </tr>\n",
       "    <tr>\n",
       "      <td>1</td>\n",
       "      <td>s Gravesandestraat 55 Oost 1092 AA Amsterdam ...</td>\n",
       "      <td>194</td>\n",
       "      <td>8/3/2017</td>\n",
       "      <td>7.7</td>\n",
       "      <td>Hotel Arena</td>\n",
       "      <td>Ireland</td>\n",
       "      <td>No Negative</td>\n",
       "      <td>0</td>\n",
       "      <td>1403</td>\n",
       "      <td>No real complaints the hotel was great great ...</td>\n",
       "      <td>105</td>\n",
       "      <td>7</td>\n",
       "      <td>7.5</td>\n",
       "      <td>[' Leisure trip ', ' Couple ', ' Duplex Double...</td>\n",
       "      <td>0 days</td>\n",
       "      <td>52.360576</td>\n",
       "      <td>4.915968</td>\n",
       "      <td>No Negative No real complaints the hotel was g...</td>\n",
       "      <td>0</td>\n",
       "    </tr>\n",
       "    <tr>\n",
       "      <td>2</td>\n",
       "      <td>s Gravesandestraat 55 Oost 1092 AA Amsterdam ...</td>\n",
       "      <td>194</td>\n",
       "      <td>7/31/2017</td>\n",
       "      <td>7.7</td>\n",
       "      <td>Hotel Arena</td>\n",
       "      <td>Australia</td>\n",
       "      <td>Rooms are nice but for elderly a bit difficul...</td>\n",
       "      <td>42</td>\n",
       "      <td>1403</td>\n",
       "      <td>Location was good and staff were ok It is cut...</td>\n",
       "      <td>21</td>\n",
       "      <td>9</td>\n",
       "      <td>7.1</td>\n",
       "      <td>[' Leisure trip ', ' Family with young childre...</td>\n",
       "      <td>3 days</td>\n",
       "      <td>52.360576</td>\n",
       "      <td>4.915968</td>\n",
       "      <td>Rooms are nice but for elderly a bit difficul...</td>\n",
       "      <td>0</td>\n",
       "    </tr>\n",
       "  </tbody>\n",
       "</table>\n",
       "</div>"
      ],
      "text/plain": [
       "                                       Hotel_Address  \\\n",
       "0   s Gravesandestraat 55 Oost 1092 AA Amsterdam ...   \n",
       "1   s Gravesandestraat 55 Oost 1092 AA Amsterdam ...   \n",
       "2   s Gravesandestraat 55 Oost 1092 AA Amsterdam ...   \n",
       "\n",
       "   Additional_Number_of_Scoring Review_Date  Average_Score   Hotel_Name  \\\n",
       "0                           194    8/3/2017            7.7  Hotel Arena   \n",
       "1                           194    8/3/2017            7.7  Hotel Arena   \n",
       "2                           194   7/31/2017            7.7  Hotel Arena   \n",
       "\n",
       "  Reviewer_Nationality                                    Negative_Review  \\\n",
       "0              Russia    I am so angry that i made this post available...   \n",
       "1             Ireland                                         No Negative   \n",
       "2           Australia    Rooms are nice but for elderly a bit difficul...   \n",
       "\n",
       "   Review_Total_Negative_Word_Counts  Total_Number_of_Reviews  \\\n",
       "0                                397                     1403   \n",
       "1                                  0                     1403   \n",
       "2                                 42                     1403   \n",
       "\n",
       "                                     Positive_Review  \\\n",
       "0   Only the park outside of the hotel was beauti...   \n",
       "1   No real complaints the hotel was great great ...   \n",
       "2   Location was good and staff were ok It is cut...   \n",
       "\n",
       "   Review_Total_Positive_Word_Counts  \\\n",
       "0                                 11   \n",
       "1                                105   \n",
       "2                                 21   \n",
       "\n",
       "   Total_Number_of_Reviews_Reviewer_Has_Given  Reviewer_Score  \\\n",
       "0                                           7             2.9   \n",
       "1                                           7             7.5   \n",
       "2                                           9             7.1   \n",
       "\n",
       "                                                Tags days_since_review  \\\n",
       "0  [' Leisure trip ', ' Couple ', ' Duplex Double...            0 days   \n",
       "1  [' Leisure trip ', ' Couple ', ' Duplex Double...            0 days   \n",
       "2  [' Leisure trip ', ' Family with young childre...            3 days   \n",
       "\n",
       "         lat       lng                                            reviews  \\\n",
       "0  52.360576  4.915968   I am so angry that i made this post available...   \n",
       "1  52.360576  4.915968  No Negative No real complaints the hotel was g...   \n",
       "2  52.360576  4.915968   Rooms are nice but for elderly a bit difficul...   \n",
       "\n",
       "   is_bad_review  \n",
       "0              1  \n",
       "1              0  \n",
       "2              0  "
      ]
     },
     "execution_count": 4,
     "metadata": {},
     "output_type": "execute_result"
    }
   ],
   "source": [
    "#Create a cloumn called showing whether it is a bad review\n",
    "#Since it is 10-scale score we set 5 as our breakline.\n",
    "reviews[\"is_bad_review\"] = reviews[\"Reviewer_Score\"].apply(lambda x: 1 if x<5 else 0)\n",
    "reviews.head(3)"
   ]
  },
  {
   "cell_type": "code",
   "execution_count": 5,
   "metadata": {
    "colab": {},
    "colab_type": "code",
    "id": "LZPEk3BMptdr",
    "scrolled": true
   },
   "outputs": [
    {
     "data": {
      "text/html": [
       "<div>\n",
       "<style scoped>\n",
       "    .dataframe tbody tr th:only-of-type {\n",
       "        vertical-align: middle;\n",
       "    }\n",
       "\n",
       "    .dataframe tbody tr th {\n",
       "        vertical-align: top;\n",
       "    }\n",
       "\n",
       "    .dataframe thead th {\n",
       "        text-align: right;\n",
       "    }\n",
       "</style>\n",
       "<table border=\"1\" class=\"dataframe\">\n",
       "  <thead>\n",
       "    <tr style=\"text-align: right;\">\n",
       "      <th></th>\n",
       "      <th>index</th>\n",
       "      <th>reviews</th>\n",
       "      <th>is_bad_review</th>\n",
       "    </tr>\n",
       "  </thead>\n",
       "  <tbody>\n",
       "    <tr>\n",
       "      <td>0</td>\n",
       "      <td>292876</td>\n",
       "      <td>Slow checkin and checkout Many questions and ...</td>\n",
       "      <td>0</td>\n",
       "    </tr>\n",
       "    <tr>\n",
       "      <td>1</td>\n",
       "      <td>304351</td>\n",
       "      <td>No Happy atmosphere</td>\n",
       "      <td>0</td>\n",
       "    </tr>\n",
       "    <tr>\n",
       "      <td>2</td>\n",
       "      <td>160871</td>\n",
       "      <td>Not enough toiletries for 2 and no slippers  ...</td>\n",
       "      <td>0</td>\n",
       "    </tr>\n",
       "    <tr>\n",
       "      <td>3</td>\n",
       "      <td>342409</td>\n",
       "      <td>No Negative Very good Hotel at a perfect locat...</td>\n",
       "      <td>0</td>\n",
       "    </tr>\n",
       "    <tr>\n",
       "      <td>4</td>\n",
       "      <td>277611</td>\n",
       "      <td>Website said breakfast was included but it wa...</td>\n",
       "      <td>0</td>\n",
       "    </tr>\n",
       "  </tbody>\n",
       "</table>\n",
       "</div>"
      ],
      "text/plain": [
       "    index                                            reviews  is_bad_review\n",
       "0  292876   Slow checkin and checkout Many questions and ...              0\n",
       "1  304351                                No Happy atmosphere              0\n",
       "2  160871   Not enough toiletries for 2 and no slippers  ...              0\n",
       "3  342409  No Negative Very good Hotel at a perfect locat...              0\n",
       "4  277611   Website said breakfast was included but it wa...              0"
      ]
     },
     "execution_count": 5,
     "metadata": {},
     "output_type": "execute_result"
    }
   ],
   "source": [
    "#Select our related columns and form a new dataset out of it.\n",
    "review_df = reviews[[\"reviews\",\"is_bad_review\"]]\n",
    "#sample the data\n",
    "review_df = review_df.sample(frac=0.05,replace=False,random_state=97).reset_index()\n",
    "review_df.head(5)"
   ]
  },
  {
   "cell_type": "code",
   "execution_count": 6,
   "metadata": {
    "colab": {},
    "colab_type": "code",
    "id": "gHrk_sWTD3iQ"
   },
   "outputs": [],
   "source": [
    "import string\n",
    "from nltk.corpus import stopwords\n",
    "from nltk import pos_tag\n",
    "from nltk.tokenize import WhitespaceTokenizer\n",
    "from nltk.stem import WordNetLemmatizer\n",
    "\n",
    "#Remove the no positive and no negtive data from the dataset\n",
    "review_df[\"reviews\"] = review_df[\"reviews\"].apply(lambda x: \\\n",
    "                                                  x.replace(\"No Negative\",\"NA\")\\\n",
    "                                                  .replace(\"No Positive\",\"NA\"))\n",
    "\n",
    "#Defile and clean review function to clean the data, this step includes:\n",
    "#1. set to lowercase, 2. tokenize 3. split 4.remove stop words 5. Lemmatize \n",
    "\n",
    "#Get the pos tag of a word\n",
    "from nltk.corpus import wordnet\n",
    "def get_wordnet_pos(pos_tag):\n",
    "  if pos_tag.startswith('J'):\n",
    "    return wordnet.ADJ\n",
    "  elif pos_tag.startswith(\"V\"):\n",
    "    return wordnet.VERB\n",
    "  elif pos_tag.startswith(\"N\"):\n",
    "    return wordnet.NOUN\n",
    "  elif pos_tag.startswith(\"R\"):\n",
    "    return wordnet.ADV\n",
    "  else:\n",
    "    return wordnet.NOUN\n",
    "\n",
    "def clean_review(text):\n",
    "  #lowercase\n",
    "  text = text.lower()\n",
    "  #tokenize and punctuation\n",
    "  text = [word.strip(string.punctuation) for word in text.split(\" \")]\n",
    "  #remove stop words\n",
    "  stops = stopwords.words(\"english\")\n",
    "  text = [x for x in text if x not in stops]\n",
    "  #remove empty tokens\n",
    "  text = [te for te in text if len(te)>0]\n",
    "  #we label our text into our labels.\n",
    "  pos_tags = pos_tag(text)\n",
    "  #lemmatize our text\n",
    "  text = [WordNetLemmatizer().lemmatize(t[0],get_wordnet_pos(t[1])) for t in pos_tags]\n",
    "  #JOIN\n",
    "  text = \" \".join(text)\n",
    "  return(text)\n",
    "\n",
    "# Apply clean function\n",
    "review_df[\"review_cleaned\"] = review_df[\"reviews\"].apply(lambda x: clean_review(x))"
   ]
  },
  {
   "cell_type": "code",
   "execution_count": 7,
   "metadata": {
    "scrolled": true
   },
   "outputs": [
    {
     "data": {
      "text/html": [
       "<div>\n",
       "<style scoped>\n",
       "    .dataframe tbody tr th:only-of-type {\n",
       "        vertical-align: middle;\n",
       "    }\n",
       "\n",
       "    .dataframe tbody tr th {\n",
       "        vertical-align: top;\n",
       "    }\n",
       "\n",
       "    .dataframe thead th {\n",
       "        text-align: right;\n",
       "    }\n",
       "</style>\n",
       "<table border=\"1\" class=\"dataframe\">\n",
       "  <thead>\n",
       "    <tr style=\"text-align: right;\">\n",
       "      <th></th>\n",
       "      <th>is_bad_review</th>\n",
       "      <th>review_cleaned</th>\n",
       "    </tr>\n",
       "  </thead>\n",
       "  <tbody>\n",
       "    <tr>\n",
       "      <td>0</td>\n",
       "      <td>0</td>\n",
       "      <td>slow checkin checkout many question documentat...</td>\n",
       "    </tr>\n",
       "    <tr>\n",
       "      <td>1</td>\n",
       "      <td>0</td>\n",
       "      <td>happy atmosphere</td>\n",
       "    </tr>\n",
       "    <tr>\n",
       "      <td>2</td>\n",
       "      <td>0</td>\n",
       "      <td>enough toiletry 2 slipper convenient location ...</td>\n",
       "    </tr>\n",
       "    <tr>\n",
       "      <td>3</td>\n",
       "      <td>0</td>\n",
       "      <td>na good hotel perfect location</td>\n",
       "    </tr>\n",
       "    <tr>\n",
       "      <td>4</td>\n",
       "      <td>0</td>\n",
       "      <td>website say breakfast include huge deal info c...</td>\n",
       "    </tr>\n",
       "  </tbody>\n",
       "</table>\n",
       "</div>"
      ],
      "text/plain": [
       "   is_bad_review                                     review_cleaned\n",
       "0              0  slow checkin checkout many question documentat...\n",
       "1              0                                   happy atmosphere\n",
       "2              0  enough toiletry 2 slipper convenient location ...\n",
       "3              0                     na good hotel perfect location\n",
       "4              0  website say breakfast include huge deal info c..."
      ]
     },
     "execution_count": 7,
     "metadata": {},
     "output_type": "execute_result"
    }
   ],
   "source": [
    "review_df = review_df[[\"is_bad_review\",\"review_cleaned\"]]\n",
    "review_df.head()"
   ]
  },
  {
   "cell_type": "markdown",
   "metadata": {
    "colab_type": "text",
    "id": "F_Lp2qwUfU6s"
   },
   "source": [
    "## Lexicon Unsupervised Learning"
   ]
  },
  {
   "cell_type": "code",
   "execution_count": 8,
   "metadata": {},
   "outputs": [
    {
     "name": "stderr",
     "output_type": "stream",
     "text": [
      "[nltk_data] Downloading package vader_lexicon to\n",
      "[nltk_data]     /Users/Zoeli/nltk_data...\n",
      "[nltk_data]   Package vader_lexicon is already up-to-date!\n"
     ]
    },
    {
     "data": {
      "text/plain": [
       "True"
      ]
     },
     "execution_count": 8,
     "metadata": {},
     "output_type": "execute_result"
    }
   ],
   "source": [
    "nltk.download('vader_lexicon')"
   ]
  },
  {
   "cell_type": "code",
   "execution_count": 9,
   "metadata": {
    "colab": {
     "base_uri": "https://localhost:8080/",
     "height": 158
    },
    "colab_type": "code",
    "id": "UT6ztqAjeioD",
    "outputId": "b0194dc6-e694-43fe-aa66-cb97f73bb021"
   },
   "outputs": [
    {
     "data": {
      "text/html": [
       "<div>\n",
       "<style scoped>\n",
       "    .dataframe tbody tr th:only-of-type {\n",
       "        vertical-align: middle;\n",
       "    }\n",
       "\n",
       "    .dataframe tbody tr th {\n",
       "        vertical-align: top;\n",
       "    }\n",
       "\n",
       "    .dataframe thead th {\n",
       "        text-align: right;\n",
       "    }\n",
       "</style>\n",
       "<table border=\"1\" class=\"dataframe\">\n",
       "  <thead>\n",
       "    <tr style=\"text-align: right;\">\n",
       "      <th></th>\n",
       "      <th>is_bad_review</th>\n",
       "      <th>review_cleaned</th>\n",
       "      <th>neg</th>\n",
       "      <th>neu</th>\n",
       "      <th>pos</th>\n",
       "      <th>compound</th>\n",
       "    </tr>\n",
       "  </thead>\n",
       "  <tbody>\n",
       "    <tr>\n",
       "      <td>0</td>\n",
       "      <td>0</td>\n",
       "      <td>slow checkin checkout many question documentat...</td>\n",
       "      <td>0.0</td>\n",
       "      <td>0.775</td>\n",
       "      <td>0.225</td>\n",
       "      <td>0.4404</td>\n",
       "    </tr>\n",
       "    <tr>\n",
       "      <td>1</td>\n",
       "      <td>0</td>\n",
       "      <td>happy atmosphere</td>\n",
       "      <td>0.0</td>\n",
       "      <td>0.213</td>\n",
       "      <td>0.787</td>\n",
       "      <td>0.5719</td>\n",
       "    </tr>\n",
       "    <tr>\n",
       "      <td>2</td>\n",
       "      <td>0</td>\n",
       "      <td>enough toiletry 2 slipper convenient location ...</td>\n",
       "      <td>0.0</td>\n",
       "      <td>1.000</td>\n",
       "      <td>0.000</td>\n",
       "      <td>0.0000</td>\n",
       "    </tr>\n",
       "    <tr>\n",
       "      <td>3</td>\n",
       "      <td>0</td>\n",
       "      <td>na good hotel perfect location</td>\n",
       "      <td>0.0</td>\n",
       "      <td>0.312</td>\n",
       "      <td>0.688</td>\n",
       "      <td>0.7650</td>\n",
       "    </tr>\n",
       "    <tr>\n",
       "      <td>4</td>\n",
       "      <td>0</td>\n",
       "      <td>website say breakfast include huge deal info c...</td>\n",
       "      <td>0.0</td>\n",
       "      <td>0.551</td>\n",
       "      <td>0.449</td>\n",
       "      <td>0.9509</td>\n",
       "    </tr>\n",
       "  </tbody>\n",
       "</table>\n",
       "</div>"
      ],
      "text/plain": [
       "   is_bad_review                                     review_cleaned  neg  \\\n",
       "0              0  slow checkin checkout many question documentat...  0.0   \n",
       "1              0                                   happy atmosphere  0.0   \n",
       "2              0  enough toiletry 2 slipper convenient location ...  0.0   \n",
       "3              0                     na good hotel perfect location  0.0   \n",
       "4              0  website say breakfast include huge deal info c...  0.0   \n",
       "\n",
       "     neu    pos  compound  \n",
       "0  0.775  0.225    0.4404  \n",
       "1  0.213  0.787    0.5719  \n",
       "2  1.000  0.000    0.0000  \n",
       "3  0.312  0.688    0.7650  \n",
       "4  0.551  0.449    0.9509  "
      ]
     },
     "execution_count": 9,
     "metadata": {},
     "output_type": "execute_result"
    }
   ],
   "source": [
    "from nltk.sentiment.vader import SentimentIntensityAnalyzer\n",
    "review_df[\"review_cleaned\"]\n",
    "sia = SentimentIntensityAnalyzer() # sentiment intensity analyzer\n",
    "review_df[\"sentiment\"] = review_df[\"review_cleaned\"].apply(lambda x : sia.polarity_scores(x))\n",
    "#Combine the sentiment into our dataset\n",
    "review_df = pd.concat([review_df.drop(['sentiment'],axis=1),review_df[\"sentiment\"].apply(pd.Series)],axis=1)\n",
    "review_df.head()"
   ]
  },
  {
   "cell_type": "code",
   "execution_count": 10,
   "metadata": {},
   "outputs": [],
   "source": [
    "# Define the function for vader lexicon\n",
    "def analyze_sentiment_vader_lexicon(review, threshold = 0.1, verbose = False):\n",
    "    scores = sia.polarity_scores(review)  \n",
    "    is_bad_review = 0 if scores['compound'] >= threshold else 1\n",
    "    if verbose:                             \n",
    "        print('VADER Polarity (Binary):', binary_sentiment)\n",
    "        print('VADER Score:', round(scores['compound'], 2))\n",
    "    return is_bad_review,scores['compound']  "
   ]
  },
  {
   "cell_type": "code",
   "execution_count": 11,
   "metadata": {},
   "outputs": [
    {
     "data": {
      "text/html": [
       "<div>\n",
       "<style scoped>\n",
       "    .dataframe tbody tr th:only-of-type {\n",
       "        vertical-align: middle;\n",
       "    }\n",
       "\n",
       "    .dataframe tbody tr th {\n",
       "        vertical-align: top;\n",
       "    }\n",
       "\n",
       "    .dataframe thead th {\n",
       "        text-align: right;\n",
       "    }\n",
       "</style>\n",
       "<table border=\"1\" class=\"dataframe\">\n",
       "  <thead>\n",
       "    <tr style=\"text-align: right;\">\n",
       "      <th></th>\n",
       "      <th>is_bad_review</th>\n",
       "      <th>VADER Score</th>\n",
       "    </tr>\n",
       "  </thead>\n",
       "  <tbody>\n",
       "    <tr>\n",
       "      <td>0</td>\n",
       "      <td>0</td>\n",
       "      <td>0.4404</td>\n",
       "    </tr>\n",
       "    <tr>\n",
       "      <td>1</td>\n",
       "      <td>0</td>\n",
       "      <td>0.5719</td>\n",
       "    </tr>\n",
       "    <tr>\n",
       "      <td>2</td>\n",
       "      <td>1</td>\n",
       "      <td>0.0000</td>\n",
       "    </tr>\n",
       "    <tr>\n",
       "      <td>3</td>\n",
       "      <td>0</td>\n",
       "      <td>0.7650</td>\n",
       "    </tr>\n",
       "    <tr>\n",
       "      <td>4</td>\n",
       "      <td>0</td>\n",
       "      <td>0.9509</td>\n",
       "    </tr>\n",
       "  </tbody>\n",
       "</table>\n",
       "</div>"
      ],
      "text/plain": [
       "   is_bad_review  VADER Score\n",
       "0              0       0.4404\n",
       "1              0       0.5719\n",
       "2              1       0.0000\n",
       "3              0       0.7650\n",
       "4              0       0.9509"
      ]
     },
     "execution_count": 11,
     "metadata": {},
     "output_type": "execute_result"
    }
   ],
   "source": [
    "# Use lexicon method for the first trial without threshold defined. \n",
    " \n",
    "VADER_polarity = [analyze_sentiment_vader_lexicon(review, threshold=0.1) \\\n",
    "                       for review in review_df[\"review_cleaned\"]]\n",
    "VADER_polarity_df = pd.DataFrame(VADER_polarity, columns = ['is_bad_review','VADER Score'])\n",
    "VADER_polarity_df.head()"
   ]
  },
  {
   "cell_type": "code",
   "execution_count": 12,
   "metadata": {},
   "outputs": [
    {
     "data": {
      "image/png": "[encoded data removed]",
      "text/plain": [
       "<Figure size 432x288 with 1 Axes>"
      ]
     },
     "metadata": {
      "needs_background": "light"
     },
     "output_type": "display_data"
    },
    {
     "data": {
      "image/png": "[encoded data removed]",
      "text/plain": [
       "<Figure size 432x288 with 1 Axes>"
      ]
     },
     "metadata": {
      "needs_background": "light"
     },
     "output_type": "display_data"
    }
   ],
   "source": [
    "import matplotlib.pyplot as plt\n",
    "\n",
    "pos_reviews_scored = VADER_polarity_df[VADER_polarity_df[\"is_bad_review\"]==0]['VADER Score'].sample(frac=0.5)\n",
    "plt.bar(range(0, 9903), pos_reviews_scored.sort_values(ascending=False))\n",
    "plt.xlabel(\"Reviews with positive ACTUAL polarity\")\n",
    "plt.ylabel(\"VADER Score\")\n",
    "plt.title(\"VADER Scores for ACTUAL Positive Reviews \\n (in decreasing order of VADER scores)\")\n",
    "plt.show()\n",
    "\n",
    "neg_reviews_scored = VADER_polarity_df[VADER_polarity_df[\"is_bad_review\"]==1]['VADER Score']\n",
    "plt.bar(range(0, 5981), neg_reviews_scored.sort_values(ascending=True))\n",
    "plt.xlabel(\"Reviews with negative ACTUAL polarity\")\n",
    "plt.ylabel(\"VADER score\")\n",
    "plt.title(\"VADER Scores for ACTUAL Negative Reviews \\n (in ascending order of VADER scores)\")\n",
    "plt.show()"
   ]
  },
  {
   "cell_type": "markdown",
   "metadata": {},
   "source": [
    "### Accuracy Rate"
   ]
  },
  {
   "cell_type": "code",
   "execution_count": 13,
   "metadata": {},
   "outputs": [
    {
     "name": "stdout",
     "output_type": "stream",
     "text": [
      "Accuracy Rate: 0.777 \n",
      "\n"
     ]
    },
    {
     "data": {
      "text/html": [
       "<div>\n",
       "<style scoped>\n",
       "    .dataframe tbody tr th:only-of-type {\n",
       "        vertical-align: middle;\n",
       "    }\n",
       "\n",
       "    .dataframe tbody tr th {\n",
       "        vertical-align: top;\n",
       "    }\n",
       "\n",
       "    .dataframe thead th {\n",
       "        text-align: right;\n",
       "    }\n",
       "</style>\n",
       "<table border=\"1\" class=\"dataframe\">\n",
       "  <thead>\n",
       "    <tr style=\"text-align: right;\">\n",
       "      <th>Predicted:</th>\n",
       "      <th>0</th>\n",
       "      <th>1</th>\n",
       "      <th>All</th>\n",
       "    </tr>\n",
       "    <tr>\n",
       "      <th>True:</th>\n",
       "      <th></th>\n",
       "      <th></th>\n",
       "      <th></th>\n",
       "    </tr>\n",
       "  </thead>\n",
       "  <tbody>\n",
       "    <tr>\n",
       "      <td>0</td>\n",
       "      <td>19352</td>\n",
       "      <td>5291</td>\n",
       "      <td>24643</td>\n",
       "    </tr>\n",
       "    <tr>\n",
       "      <td>1</td>\n",
       "      <td>454</td>\n",
       "      <td>690</td>\n",
       "      <td>1144</td>\n",
       "    </tr>\n",
       "    <tr>\n",
       "      <td>All</td>\n",
       "      <td>19806</td>\n",
       "      <td>5981</td>\n",
       "      <td>25787</td>\n",
       "    </tr>\n",
       "  </tbody>\n",
       "</table>\n",
       "</div>"
      ],
      "text/plain": [
       "Predicted:      0     1    All\n",
       "True:                         \n",
       "0           19352  5291  24643\n",
       "1             454   690   1144\n",
       "All         19806  5981  25787"
      ]
     },
     "execution_count": 13,
     "metadata": {},
     "output_type": "execute_result"
    }
   ],
   "source": [
    "from sklearn import metrics\n",
    "print('Accuracy Rate:', np.round(metrics.accuracy_score(review_df[\"is_bad_review\"], \n",
    "                                 VADER_polarity_df[\"is_bad_review\"]), 3),\"\\n\")\n",
    "\n",
    "pd.crosstab(pd.Series(review_df[\"is_bad_review\"]), \n",
    "            pd.Series(VADER_polarity_df[\"is_bad_review\"]), \n",
    "            rownames = ['True:'], \n",
    "            colnames = ['Predicted:'], \n",
    "            margins = True)"
   ]
  },
  {
   "cell_type": "markdown",
   "metadata": {},
   "source": [
    "#### The accuracy we get here is 77%. \n",
    "#### Precision Rate (For positive reviews): 959/(959+41) =  95.9%\n",
    "#### Recall Rate (For positive reviews): 959/(959+318) =  75.1%\n",
    "#### As we can see the result here. The main reason we did not get a more precise result is because that the \n",
    "#### threshold we chose is too high, causing some positive results to be negtive(is_bad_review). \n"
   ]
  },
  {
   "cell_type": "code",
   "execution_count": 14,
   "metadata": {},
   "outputs": [
    {
     "data": {
      "image/png": "[encoded data removed]",
      "text/plain": [
       "<Figure size 432x288 with 1 Axes>"
      ]
     },
     "metadata": {
      "needs_background": "light"
     },
     "output_type": "display_data"
    }
   ],
   "source": [
    "# Use lexicon method for the second trial with threshold defined(only use confound score). \n",
    "def try_threshold_for_accuracy(sentiment_scores, threshold_for_pos):\n",
    "    is_bad_review = [0 if s >= threshold_for_pos else 1 for s in list(sentiment_scores)]\n",
    "    accuracy = metrics.accuracy_score(review_df[\"is_bad_review\"], is_bad_review)\n",
    "    return(accuracy) \n",
    "\n",
    "thresholds = np.linspace(-1,1,1000)\n",
    "acc_rates = [try_threshold_for_accuracy(VADER_polarity_df['VADER Score'],threshold) for threshold in thresholds]\n",
    "\n",
    "optimal_threshold_acc = thresholds[acc_rates.index(max(acc_rates))] \n",
    "optimal_threshold_acc\n",
    "#The optimal threshold when accuracy rate reaches the peak is -0.8458.\n",
    "#Because based on our dataset, most of the reviews are positive.\n",
    "\n",
    "plt.plot(thresholds, acc_rates)\n",
    "plt.xlabel(\"Threshold score for positive (binary) sentiment polarity\")\n",
    "plt.ylabel(\"Accuracy rate\")\n",
    "plt.title(\"Accuracy Rate of Sentiment Polarity Prediction \\n as a Function of Threshold for VADER Scores \\n\")\n",
    "plt.axvline(optimal_threshold_acc,color=\"r\")\n",
    "plt.show()"
   ]
  },
  {
   "cell_type": "code",
   "execution_count": 15,
   "metadata": {},
   "outputs": [
    {
     "name": "stdout",
     "output_type": "stream",
     "text": [
      "Accuracy Rate: 0.957 \n",
      "\n"
     ]
    },
    {
     "data": {
      "text/html": [
       "<div>\n",
       "<style scoped>\n",
       "    .dataframe tbody tr th:only-of-type {\n",
       "        vertical-align: middle;\n",
       "    }\n",
       "\n",
       "    .dataframe tbody tr th {\n",
       "        vertical-align: top;\n",
       "    }\n",
       "\n",
       "    .dataframe thead th {\n",
       "        text-align: right;\n",
       "    }\n",
       "</style>\n",
       "<table border=\"1\" class=\"dataframe\">\n",
       "  <thead>\n",
       "    <tr style=\"text-align: right;\">\n",
       "      <th>Predicted:</th>\n",
       "      <th>0</th>\n",
       "      <th>1</th>\n",
       "      <th>All</th>\n",
       "    </tr>\n",
       "    <tr>\n",
       "      <th>True:</th>\n",
       "      <th></th>\n",
       "      <th></th>\n",
       "      <th></th>\n",
       "    </tr>\n",
       "  </thead>\n",
       "  <tbody>\n",
       "    <tr>\n",
       "      <td>0</td>\n",
       "      <td>24607</td>\n",
       "      <td>36</td>\n",
       "      <td>24643</td>\n",
       "    </tr>\n",
       "    <tr>\n",
       "      <td>1</td>\n",
       "      <td>1069</td>\n",
       "      <td>75</td>\n",
       "      <td>1144</td>\n",
       "    </tr>\n",
       "    <tr>\n",
       "      <td>All</td>\n",
       "      <td>25676</td>\n",
       "      <td>111</td>\n",
       "      <td>25787</td>\n",
       "    </tr>\n",
       "  </tbody>\n",
       "</table>\n",
       "</div>"
      ],
      "text/plain": [
       "Predicted:      0    1    All\n",
       "True:                        \n",
       "0           24607   36  24643\n",
       "1            1069   75   1144\n",
       "All         25676  111  25787"
      ]
     },
     "execution_count": 15,
     "metadata": {},
     "output_type": "execute_result"
    }
   ],
   "source": [
    "#Then we use the new threshold to get the new model :\n",
    "VADER_polarity = [analyze_sentiment_vader_lexicon(review, threshold=optimal_threshold_acc) \\\n",
    "                       for review in review_df[\"review_cleaned\"]]\n",
    "VADER_polarity_df = pd.DataFrame(VADER_polarity, columns = ['is_bad_review','VADER Score'])\n",
    "\n",
    "print('Accuracy Rate:', np.round(metrics.accuracy_score(review_df[\"is_bad_review\"], \n",
    "                                 VADER_polarity_df[\"is_bad_review\"]), 3),\"\\n\")\n",
    "\n",
    "pd.crosstab(pd.Series(review_df[\"is_bad_review\"]), \n",
    "            pd.Series(VADER_polarity_df[\"is_bad_review\"]), \n",
    "            rownames = ['True:'], \n",
    "            colnames = ['Predicted:'], \n",
    "            margins = True)"
   ]
  },
  {
   "cell_type": "markdown",
   "metadata": {},
   "source": [
    "####  As now we can see the accuray rate is really high, reaching 95.7% and the confusion matrix shows much better results. However, the recall rate performs not so good."
   ]
  },
  {
   "cell_type": "markdown",
   "metadata": {},
   "source": [
    "#### When recall rate reached the maximum,precision rate shows a extremely bad experience."
   ]
  },
  {
   "cell_type": "markdown",
   "metadata": {},
   "source": [
    "### Recall Rate"
   ]
  },
  {
   "cell_type": "code",
   "execution_count": 16,
   "metadata": {},
   "outputs": [
    {
     "data": {
      "image/png": "[encoded data removed]",
      "text/plain": [
       "<Figure size 432x288 with 1 Axes>"
      ]
     },
     "metadata": {
      "needs_background": "light"
     },
     "output_type": "display_data"
    }
   ],
   "source": [
    "#define recall rate function\n",
    "def try_threshold_for_recall(sentiment_scores, threshold_for_pos):\n",
    "    is_bad_review = [0 if s >= threshold_for_pos else 1 for s in list(sentiment_scores)]\n",
    "    recall = metrics.recall_score(review_df[\"is_bad_review\"], is_bad_review)\n",
    "    return(recall)  \n",
    "\n",
    "thresholds = np.linspace(-1,1,1000)\n",
    "recall_rate = [try_threshold_for_recall(VADER_polarity_df['VADER Score'],threshold) for threshold in thresholds]\n",
    "\n",
    "#find optimal threshold when recall rate reaches the peak.\n",
    "optimal_threshold_rr = thresholds[recall_rate.index(max(recall_rate))] \n",
    "optimal_threshold_rr\n",
    "#The optimal threshold when recall rate reaches the peak is 0.98599.\n",
    "\n",
    "plt.plot(thresholds, recall_rate)\n",
    "plt.xlabel(\"Threshold score for positive (binary) sentiment polarity\")\n",
    "plt.ylabel(\"Recall rate\")\n",
    "plt.title(\"Recall Rate of Sentiment Polarity Prediction \\n as a Function of Threshold for VADER Scores \\n\")\n",
    "plt.axvline(optimal_threshold_rr,color=\"r\")\n",
    "plt.show()"
   ]
  },
  {
   "cell_type": "code",
   "execution_count": 17,
   "metadata": {},
   "outputs": [
    {
     "name": "stdout",
     "output_type": "stream",
     "text": [
      "Precision Rate: 1.0 \n",
      "\n"
     ]
    },
    {
     "data": {
      "text/html": [
       "<div>\n",
       "<style scoped>\n",
       "    .dataframe tbody tr th:only-of-type {\n",
       "        vertical-align: middle;\n",
       "    }\n",
       "\n",
       "    .dataframe tbody tr th {\n",
       "        vertical-align: top;\n",
       "    }\n",
       "\n",
       "    .dataframe thead th {\n",
       "        text-align: right;\n",
       "    }\n",
       "</style>\n",
       "<table border=\"1\" class=\"dataframe\">\n",
       "  <thead>\n",
       "    <tr style=\"text-align: right;\">\n",
       "      <th>Predicted:</th>\n",
       "      <th>0</th>\n",
       "      <th>1</th>\n",
       "      <th>All</th>\n",
       "    </tr>\n",
       "    <tr>\n",
       "      <th>True:</th>\n",
       "      <th></th>\n",
       "      <th></th>\n",
       "      <th></th>\n",
       "    </tr>\n",
       "  </thead>\n",
       "  <tbody>\n",
       "    <tr>\n",
       "      <td>0</td>\n",
       "      <td>250</td>\n",
       "      <td>24393</td>\n",
       "      <td>24643</td>\n",
       "    </tr>\n",
       "    <tr>\n",
       "      <td>1</td>\n",
       "      <td>0</td>\n",
       "      <td>1144</td>\n",
       "      <td>1144</td>\n",
       "    </tr>\n",
       "    <tr>\n",
       "      <td>All</td>\n",
       "      <td>250</td>\n",
       "      <td>25537</td>\n",
       "      <td>25787</td>\n",
       "    </tr>\n",
       "  </tbody>\n",
       "</table>\n",
       "</div>"
      ],
      "text/plain": [
       "Predicted:    0      1    All\n",
       "True:                        \n",
       "0           250  24393  24643\n",
       "1             0   1144   1144\n",
       "All         250  25537  25787"
      ]
     },
     "execution_count": 17,
     "metadata": {},
     "output_type": "execute_result"
    }
   ],
   "source": [
    "#Then we use the new threshold to get the new model :\n",
    "VADER_polarity = [analyze_sentiment_vader_lexicon(review, threshold=optimal_threshold_rr) \\\n",
    "                       for review in review_df[\"review_cleaned\"]]\n",
    "VADER_polarity_df = pd.DataFrame(VADER_polarity, columns = ['is_bad_review','VADER Score'])\n",
    "\n",
    "print('Precision Rate:', metrics.recall_score(review_df[\"is_bad_review\"], \n",
    "                                 VADER_polarity_df[\"is_bad_review\"]),\"\\n\")\n",
    "\n",
    "pd.crosstab(pd.Series(review_df[\"is_bad_review\"]), \n",
    "            pd.Series(VADER_polarity_df[\"is_bad_review\"]), \n",
    "            rownames = ['True:'], \n",
    "            colnames = ['Predicted:'], \n",
    "            margins = True)"
   ]
  },
  {
   "cell_type": "markdown",
   "metadata": {},
   "source": [
    "### Precision Rate"
   ]
  },
  {
   "cell_type": "code",
   "execution_count": 18,
   "metadata": {},
   "outputs": [
    {
     "data": {
      "image/png": "[encoded data removed]",
      "text/plain": [
       "<Figure size 432x288 with 1 Axes>"
      ]
     },
     "metadata": {
      "needs_background": "light"
     },
     "output_type": "display_data"
    }
   ],
   "source": [
    "#define precision rate function\n",
    "def try_threshold_for_precision(sentiment_scores, threshold_for_pos):\n",
    "    is_bad_review = [0 if s >= threshold_for_pos else 1 for s in list(sentiment_scores)]\n",
    "    precision = metrics.precision_score(review_df[\"is_bad_review\"], is_bad_review)\n",
    "    return(precision) \n",
    "\n",
    "thresholds = np.linspace(-1,1,1000)\n",
    "precision_rate = [try_threshold_for_precision(VADER_polarity_df['VADER Score'],threshold) for threshold in thresholds]\n",
    "\n",
    "#find optimal threshold when precision rate reaches the peak.\n",
    "optimal_threshold_pr = thresholds[precision_rate.index(max(precision_rate))] \n",
    "optimal_threshold_pr\n",
    "\n",
    "#The optimal threshold when precision rate reaches the peak is around -0.97998.\n",
    "\n",
    "plt.plot(thresholds, precision_rate)\n",
    "plt.xlabel(\"Threshold score for positive (binary) sentiment polarity\")\n",
    "plt.ylabel(\"Precision rate\")\n",
    "plt.title(\"Precision Rate of Sentiment Polarity Prediction \\n as a Function of Threshold for VADER Scores \\n\")\n",
    "plt.axvline(optimal_threshold_pr,color=\"r\")\n",
    "plt.show()"
   ]
  },
  {
   "cell_type": "code",
   "execution_count": 19,
   "metadata": {},
   "outputs": [
    {
     "name": "stdout",
     "output_type": "stream",
     "text": [
      "Precision Rate: 0.9556753402877419 \n",
      "\n"
     ]
    },
    {
     "data": {
      "text/html": [
       "<div>\n",
       "<style scoped>\n",
       "    .dataframe tbody tr th:only-of-type {\n",
       "        vertical-align: middle;\n",
       "    }\n",
       "\n",
       "    .dataframe tbody tr th {\n",
       "        vertical-align: top;\n",
       "    }\n",
       "\n",
       "    .dataframe thead th {\n",
       "        text-align: right;\n",
       "    }\n",
       "</style>\n",
       "<table border=\"1\" class=\"dataframe\">\n",
       "  <thead>\n",
       "    <tr style=\"text-align: right;\">\n",
       "      <th>Predicted:</th>\n",
       "      <th>0</th>\n",
       "      <th>1</th>\n",
       "      <th>All</th>\n",
       "    </tr>\n",
       "    <tr>\n",
       "      <th>True:</th>\n",
       "      <th></th>\n",
       "      <th></th>\n",
       "      <th></th>\n",
       "    </tr>\n",
       "  </thead>\n",
       "  <tbody>\n",
       "    <tr>\n",
       "      <td>0</td>\n",
       "      <td>24643</td>\n",
       "      <td>0</td>\n",
       "      <td>24643</td>\n",
       "    </tr>\n",
       "    <tr>\n",
       "      <td>1</td>\n",
       "      <td>1143</td>\n",
       "      <td>1</td>\n",
       "      <td>1144</td>\n",
       "    </tr>\n",
       "    <tr>\n",
       "      <td>All</td>\n",
       "      <td>25786</td>\n",
       "      <td>1</td>\n",
       "      <td>25787</td>\n",
       "    </tr>\n",
       "  </tbody>\n",
       "</table>\n",
       "</div>"
      ],
      "text/plain": [
       "Predicted:      0  1    All\n",
       "True:                      \n",
       "0           24643  0  24643\n",
       "1            1143  1   1144\n",
       "All         25786  1  25787"
      ]
     },
     "execution_count": 19,
     "metadata": {},
     "output_type": "execute_result"
    }
   ],
   "source": [
    "#Then we use the new threshold to get the new model :\n",
    "VADER_polarity = [analyze_sentiment_vader_lexicon(review, threshold=optimal_threshold_pr) \\\n",
    "                       for review in review_df[\"review_cleaned\"]]\n",
    "VADER_polarity_df = pd.DataFrame(VADER_polarity, columns = ['is_bad_review','VADER Score'])\n",
    "\n",
    "print('Precision Rate:', metrics.accuracy_score(review_df[\"is_bad_review\"], \n",
    "                                 VADER_polarity_df[\"is_bad_review\"]),\"\\n\")\n",
    "\n",
    "pd.crosstab(pd.Series(review_df[\"is_bad_review\"]), \n",
    "            pd.Series(VADER_polarity_df[\"is_bad_review\"]), \n",
    "            rownames = ['True:'], \n",
    "            colnames = ['Predicted:'], \n",
    "            margins = True)"
   ]
  },
  {
   "cell_type": "markdown",
   "metadata": {},
   "source": [
    "#### When precision rate reached the maximum, recall rate shows a extremely bad experience."
   ]
  },
  {
   "cell_type": "markdown",
   "metadata": {},
   "source": [
    "### F1 Value(Combine recall rate and precision rate)"
   ]
  },
  {
   "cell_type": "markdown",
   "metadata": {},
   "source": [
    "####  F1 value is the harmonic mean of precision rate and recall rate. Only when these two rates are both high will F1 value have a high value. The formula of F1 value is (2/F1 value) = (1/precision rate) + (1/recall rate)"
   ]
  },
  {
   "cell_type": "code",
   "execution_count": 20,
   "metadata": {},
   "outputs": [
    {
     "data": {
      "image/png": "[encoded data removed]",
      "text/plain": [
       "<Figure size 432x288 with 1 Axes>"
      ]
     },
     "metadata": {
      "needs_background": "light"
     },
     "output_type": "display_data"
    }
   ],
   "source": [
    "thresholds = np.linspace(-1,1,1000)\n",
    "f_value=[]\n",
    "\n",
    "# We define the function of f value\n",
    "for threshold in thresholds:\n",
    "    recall_rates = try_threshold_for_recall(VADER_polarity_df['VADER Score'],threshold)\n",
    "    precision_rates = try_threshold_for_precision(VADER_polarity_df['VADER Score'],threshold)  \n",
    "    f_value += [2 / ((1/recall_rates) + (1/precision_rates))]\n",
    "    \n",
    "optimal_threshold_fv = thresholds[f_value.index(max(f_value))] \n",
    "optimal_threshold_fv\n",
    "# The optimal threshold when recall rate reaches the peak is around -0.47347.\n",
    "\n",
    "plt.plot(thresholds, f_value)\n",
    "plt.xlabel(\"Threshold score for positive (binary) sentiment polarity\")\n",
    "plt.ylabel(\"F1 value\")\n",
    "plt.title(\"F1 value of Sentiment Polarity Prediction \\n as a Function of Threshold for VADER Scores \\n\")\n",
    "plt.axvline(optimal_threshold_fv,color=\"r\")\n",
    "plt.show()"
   ]
  },
  {
   "cell_type": "code",
   "execution_count": 21,
   "metadata": {},
   "outputs": [
    {
     "name": "stdout",
     "output_type": "stream",
     "text": [
      "F value: -0.47347347347347346 \n",
      "\n"
     ]
    },
    {
     "data": {
      "text/html": [
       "<div>\n",
       "<style scoped>\n",
       "    .dataframe tbody tr th:only-of-type {\n",
       "        vertical-align: middle;\n",
       "    }\n",
       "\n",
       "    .dataframe tbody tr th {\n",
       "        vertical-align: top;\n",
       "    }\n",
       "\n",
       "    .dataframe thead th {\n",
       "        text-align: right;\n",
       "    }\n",
       "</style>\n",
       "<table border=\"1\" class=\"dataframe\">\n",
       "  <thead>\n",
       "    <tr style=\"text-align: right;\">\n",
       "      <th>Predicted:</th>\n",
       "      <th>0</th>\n",
       "      <th>1</th>\n",
       "      <th>All</th>\n",
       "    </tr>\n",
       "    <tr>\n",
       "      <th>True:</th>\n",
       "      <th></th>\n",
       "      <th></th>\n",
       "      <th></th>\n",
       "    </tr>\n",
       "  </thead>\n",
       "  <tbody>\n",
       "    <tr>\n",
       "      <td>0</td>\n",
       "      <td>23847</td>\n",
       "      <td>796</td>\n",
       "      <td>24643</td>\n",
       "    </tr>\n",
       "    <tr>\n",
       "      <td>1</td>\n",
       "      <td>845</td>\n",
       "      <td>299</td>\n",
       "      <td>1144</td>\n",
       "    </tr>\n",
       "    <tr>\n",
       "      <td>All</td>\n",
       "      <td>24692</td>\n",
       "      <td>1095</td>\n",
       "      <td>25787</td>\n",
       "    </tr>\n",
       "  </tbody>\n",
       "</table>\n",
       "</div>"
      ],
      "text/plain": [
       "Predicted:      0     1    All\n",
       "True:                         \n",
       "0           23847   796  24643\n",
       "1             845   299   1144\n",
       "All         24692  1095  25787"
      ]
     },
     "execution_count": 21,
     "metadata": {},
     "output_type": "execute_result"
    }
   ],
   "source": [
    "#Then we use the new threshold to get the new model :\n",
    "VADER_polarity = [analyze_sentiment_vader_lexicon(review, threshold=optimal_threshold_fv) \\\n",
    "                       for review in review_df[\"review_cleaned\"]]\n",
    "VADER_polarity_df = pd.DataFrame(VADER_polarity, columns = ['is_bad_review','VADER Score'])\n",
    "\n",
    "print('F value:', optimal_threshold_fv,\"\\n\")\n",
    "\n",
    "crosstab_fv=pd.crosstab(pd.Series(review_df[\"is_bad_review\"]), \n",
    "            pd.Series(VADER_polarity_df[\"is_bad_review\"]), \n",
    "            rownames = ['True:'], \n",
    "            colnames = ['Predicted:'], \n",
    "            margins = True)\n",
    "crosstab_fv"
   ]
  },
  {
   "cell_type": "code",
   "execution_count": 22,
   "metadata": {},
   "outputs": [
    {
     "name": "stdout",
     "output_type": "stream",
     "text": [
      "Accurary Rate when optimal F value is: 0.9363632838251832 \n",
      "\n",
      "Precision Rate when optimal F value is: 0.2730593607305936 \n",
      "\n",
      "Recall Rate when optimal F value is: 0.26136363636363635 \n",
      "\n"
     ]
    }
   ],
   "source": [
    "accurary_rate = (crosstab_fv.loc[0,0] + crosstab_fv.loc[1,1]) / crosstab_fv.loc['All','All']\n",
    "precision_rate = crosstab_fv.loc[1,1] / crosstab_fv.loc[\"All\",1]\n",
    "recall_rate = crosstab_fv.loc[1,1] / crosstab_fv.loc[1,'All']\n",
    "\n",
    "print(\"Accurary Rate when optimal F value is:\",accurary_rate,'\\n')\n",
    "print(\"Precision Rate when optimal F value is:\",precision_rate,'\\n')\n",
    "print(\"Recall Rate when optimal F value is:\",recall_rate,'\\n')"
   ]
  },
  {
   "cell_type": "markdown",
   "metadata": {},
   "source": [
    "#### We could see that when F value reaches the peak, accuracy rate, precision rate and recall rate all performs relatively better at the same time."
   ]
  },
  {
   "cell_type": "markdown",
   "metadata": {},
   "source": [
    "### We add the predicted sentiment using the optimal threshold of Lexicon Use"
   ]
  },
  {
   "cell_type": "code",
   "execution_count": 23,
   "metadata": {},
   "outputs": [
    {
     "data": {
      "text/html": [
       "<div>\n",
       "<style scoped>\n",
       "    .dataframe tbody tr th:only-of-type {\n",
       "        vertical-align: middle;\n",
       "    }\n",
       "\n",
       "    .dataframe tbody tr th {\n",
       "        vertical-align: top;\n",
       "    }\n",
       "\n",
       "    .dataframe thead th {\n",
       "        text-align: right;\n",
       "    }\n",
       "</style>\n",
       "<table border=\"1\" class=\"dataframe\">\n",
       "  <thead>\n",
       "    <tr style=\"text-align: right;\">\n",
       "      <th></th>\n",
       "      <th>is_bad_review</th>\n",
       "      <th>review_cleaned</th>\n",
       "      <th>neg</th>\n",
       "      <th>neu</th>\n",
       "      <th>pos</th>\n",
       "      <th>compound</th>\n",
       "      <th>Polarity_by_vader</th>\n",
       "    </tr>\n",
       "  </thead>\n",
       "  <tbody>\n",
       "    <tr>\n",
       "      <td>0</td>\n",
       "      <td>0</td>\n",
       "      <td>slow checkin checkout many question documentat...</td>\n",
       "      <td>0.0</td>\n",
       "      <td>0.775</td>\n",
       "      <td>0.225</td>\n",
       "      <td>0.4404</td>\n",
       "      <td>0</td>\n",
       "    </tr>\n",
       "    <tr>\n",
       "      <td>1</td>\n",
       "      <td>0</td>\n",
       "      <td>happy atmosphere</td>\n",
       "      <td>0.0</td>\n",
       "      <td>0.213</td>\n",
       "      <td>0.787</td>\n",
       "      <td>0.5719</td>\n",
       "      <td>0</td>\n",
       "    </tr>\n",
       "    <tr>\n",
       "      <td>2</td>\n",
       "      <td>0</td>\n",
       "      <td>enough toiletry 2 slipper convenient location ...</td>\n",
       "      <td>0.0</td>\n",
       "      <td>1.000</td>\n",
       "      <td>0.000</td>\n",
       "      <td>0.0000</td>\n",
       "      <td>0</td>\n",
       "    </tr>\n",
       "    <tr>\n",
       "      <td>3</td>\n",
       "      <td>0</td>\n",
       "      <td>na good hotel perfect location</td>\n",
       "      <td>0.0</td>\n",
       "      <td>0.312</td>\n",
       "      <td>0.688</td>\n",
       "      <td>0.7650</td>\n",
       "      <td>0</td>\n",
       "    </tr>\n",
       "    <tr>\n",
       "      <td>4</td>\n",
       "      <td>0</td>\n",
       "      <td>website say breakfast include huge deal info c...</td>\n",
       "      <td>0.0</td>\n",
       "      <td>0.551</td>\n",
       "      <td>0.449</td>\n",
       "      <td>0.9509</td>\n",
       "      <td>0</td>\n",
       "    </tr>\n",
       "  </tbody>\n",
       "</table>\n",
       "</div>"
      ],
      "text/plain": [
       "   is_bad_review                                     review_cleaned  neg  \\\n",
       "0              0  slow checkin checkout many question documentat...  0.0   \n",
       "1              0                                   happy atmosphere  0.0   \n",
       "2              0  enough toiletry 2 slipper convenient location ...  0.0   \n",
       "3              0                     na good hotel perfect location  0.0   \n",
       "4              0  website say breakfast include huge deal info c...  0.0   \n",
       "\n",
       "     neu    pos  compound  Polarity_by_vader  \n",
       "0  0.775  0.225    0.4404                  0  \n",
       "1  0.213  0.787    0.5719                  0  \n",
       "2  1.000  0.000    0.0000                  0  \n",
       "3  0.312  0.688    0.7650                  0  \n",
       "4  0.551  0.449    0.9509                  0  "
      ]
     },
     "execution_count": 23,
     "metadata": {},
     "output_type": "execute_result"
    }
   ],
   "source": [
    "review_df[\"Polarity_by_vader\"] = np.array(VADER_polarity_df[\"is_bad_review\"]) \n",
    "review_df.head()"
   ]
  },
  {
   "cell_type": "markdown",
   "metadata": {},
   "source": [
    "# Supervised Learning"
   ]
  },
  {
   "cell_type": "markdown",
   "metadata": {},
   "source": [
    "## Feature Engineering: TF-IDF Score"
   ]
  },
  {
   "cell_type": "code",
   "execution_count": 24,
   "metadata": {},
   "outputs": [],
   "source": [
    "# Split the dataset into training set and test set\n",
    "X = review_df[\"review_cleaned\"]\n",
    "from sklearn.model_selection import train_test_split\n",
    "RANDOM_SEED = 42\n",
    "np.random.seed(RANDOM_SEED)\n",
    "X_train, X_test = train_test_split(X, test_size=0.2, random_state=RANDOM_SEED)"
   ]
  },
  {
   "cell_type": "code",
   "execution_count": 25,
   "metadata": {},
   "outputs": [],
   "source": [
    "train_reviews = np.array(X_train)\n",
    "test_reviews = np.array(X_test)\n",
    "train_polarity=np.array(review_df.loc[list(X_train.index)]['is_bad_review'])\n",
    "test_polarity=np.array(review_df.loc[list(X_test.index)]['is_bad_review'])"
   ]
  },
  {
   "cell_type": "code",
   "execution_count": 26,
   "metadata": {},
   "outputs": [],
   "source": [
    "normalized_test_reviews = normalize_corpus(test_reviews)\n",
    "normalized_train_reviews = normalize_corpus(train_reviews)"
   ]
  },
  {
   "cell_type": "code",
   "execution_count": 27,
   "metadata": {},
   "outputs": [
    {
     "data": {
      "text/html": [
       "<div>\n",
       "<style scoped>\n",
       "    .dataframe tbody tr th:only-of-type {\n",
       "        vertical-align: middle;\n",
       "    }\n",
       "\n",
       "    .dataframe tbody tr th {\n",
       "        vertical-align: top;\n",
       "    }\n",
       "\n",
       "    .dataframe thead th {\n",
       "        text-align: right;\n",
       "    }\n",
       "</style>\n",
       "<table border=\"1\" class=\"dataframe\">\n",
       "  <thead>\n",
       "    <tr style=\"text-align: right;\">\n",
       "      <th></th>\n",
       "      <th>00am</th>\n",
       "      <th>00am arrive</th>\n",
       "      <th>00am basement</th>\n",
       "      <th>00am builder</th>\n",
       "      <th>00am even</th>\n",
       "      <th>00am fire</th>\n",
       "      <th>00am gare</th>\n",
       "      <th>00am girl</th>\n",
       "      <th>00am handle</th>\n",
       "      <th>00am location</th>\n",
       "      <th>...</th>\n",
       "      <th>zone spent</th>\n",
       "      <th>zoo</th>\n",
       "      <th>zoo beside</th>\n",
       "      <th>zuid</th>\n",
       "      <th>zuid metro</th>\n",
       "      <th>zuid station</th>\n",
       "      <th>zuin</th>\n",
       "      <th>zuin stop</th>\n",
       "      <th>zurich</th>\n",
       "      <th>zurich convenient</th>\n",
       "    </tr>\n",
       "  </thead>\n",
       "  <tbody>\n",
       "    <tr>\n",
       "      <td>11178</td>\n",
       "      <td>0.0</td>\n",
       "      <td>0.0</td>\n",
       "      <td>0.0</td>\n",
       "      <td>0.0</td>\n",
       "      <td>0.0</td>\n",
       "      <td>0.0</td>\n",
       "      <td>0.0</td>\n",
       "      <td>0.0</td>\n",
       "      <td>0.0</td>\n",
       "      <td>0.0</td>\n",
       "      <td>...</td>\n",
       "      <td>0.0</td>\n",
       "      <td>0.0</td>\n",
       "      <td>0.0</td>\n",
       "      <td>0.0</td>\n",
       "      <td>0.0</td>\n",
       "      <td>0.0</td>\n",
       "      <td>0.0</td>\n",
       "      <td>0.0</td>\n",
       "      <td>0.0</td>\n",
       "      <td>0.0</td>\n",
       "    </tr>\n",
       "    <tr>\n",
       "      <td>6906</td>\n",
       "      <td>0.0</td>\n",
       "      <td>0.0</td>\n",
       "      <td>0.0</td>\n",
       "      <td>0.0</td>\n",
       "      <td>0.0</td>\n",
       "      <td>0.0</td>\n",
       "      <td>0.0</td>\n",
       "      <td>0.0</td>\n",
       "      <td>0.0</td>\n",
       "      <td>0.0</td>\n",
       "      <td>...</td>\n",
       "      <td>0.0</td>\n",
       "      <td>0.0</td>\n",
       "      <td>0.0</td>\n",
       "      <td>0.0</td>\n",
       "      <td>0.0</td>\n",
       "      <td>0.0</td>\n",
       "      <td>0.0</td>\n",
       "      <td>0.0</td>\n",
       "      <td>0.0</td>\n",
       "      <td>0.0</td>\n",
       "    </tr>\n",
       "    <tr>\n",
       "      <td>4290</td>\n",
       "      <td>0.0</td>\n",
       "      <td>0.0</td>\n",
       "      <td>0.0</td>\n",
       "      <td>0.0</td>\n",
       "      <td>0.0</td>\n",
       "      <td>0.0</td>\n",
       "      <td>0.0</td>\n",
       "      <td>0.0</td>\n",
       "      <td>0.0</td>\n",
       "      <td>0.0</td>\n",
       "      <td>...</td>\n",
       "      <td>0.0</td>\n",
       "      <td>0.0</td>\n",
       "      <td>0.0</td>\n",
       "      <td>0.0</td>\n",
       "      <td>0.0</td>\n",
       "      <td>0.0</td>\n",
       "      <td>0.0</td>\n",
       "      <td>0.0</td>\n",
       "      <td>0.0</td>\n",
       "      <td>0.0</td>\n",
       "    </tr>\n",
       "    <tr>\n",
       "      <td>21082</td>\n",
       "      <td>0.0</td>\n",
       "      <td>0.0</td>\n",
       "      <td>0.0</td>\n",
       "      <td>0.0</td>\n",
       "      <td>0.0</td>\n",
       "      <td>0.0</td>\n",
       "      <td>0.0</td>\n",
       "      <td>0.0</td>\n",
       "      <td>0.0</td>\n",
       "      <td>0.0</td>\n",
       "      <td>...</td>\n",
       "      <td>0.0</td>\n",
       "      <td>0.0</td>\n",
       "      <td>0.0</td>\n",
       "      <td>0.0</td>\n",
       "      <td>0.0</td>\n",
       "      <td>0.0</td>\n",
       "      <td>0.0</td>\n",
       "      <td>0.0</td>\n",
       "      <td>0.0</td>\n",
       "      <td>0.0</td>\n",
       "    </tr>\n",
       "    <tr>\n",
       "      <td>17098</td>\n",
       "      <td>0.0</td>\n",
       "      <td>0.0</td>\n",
       "      <td>0.0</td>\n",
       "      <td>0.0</td>\n",
       "      <td>0.0</td>\n",
       "      <td>0.0</td>\n",
       "      <td>0.0</td>\n",
       "      <td>0.0</td>\n",
       "      <td>0.0</td>\n",
       "      <td>0.0</td>\n",
       "      <td>...</td>\n",
       "      <td>0.0</td>\n",
       "      <td>0.0</td>\n",
       "      <td>0.0</td>\n",
       "      <td>0.0</td>\n",
       "      <td>0.0</td>\n",
       "      <td>0.0</td>\n",
       "      <td>0.0</td>\n",
       "      <td>0.0</td>\n",
       "      <td>0.0</td>\n",
       "      <td>0.0</td>\n",
       "    </tr>\n",
       "  </tbody>\n",
       "</table>\n",
       "<p>5 rows × 174295 columns</p>\n",
       "</div>"
      ],
      "text/plain": [
       "       00am  00am arrive  00am basement  00am builder  00am even  00am fire  \\\n",
       "11178   0.0          0.0            0.0           0.0        0.0        0.0   \n",
       "6906    0.0          0.0            0.0           0.0        0.0        0.0   \n",
       "4290    0.0          0.0            0.0           0.0        0.0        0.0   \n",
       "21082   0.0          0.0            0.0           0.0        0.0        0.0   \n",
       "17098   0.0          0.0            0.0           0.0        0.0        0.0   \n",
       "\n",
       "       00am gare  00am girl  00am handle  00am location  ...  zone spent  zoo  \\\n",
       "11178        0.0        0.0          0.0            0.0  ...         0.0  0.0   \n",
       "6906         0.0        0.0          0.0            0.0  ...         0.0  0.0   \n",
       "4290         0.0        0.0          0.0            0.0  ...         0.0  0.0   \n",
       "21082        0.0        0.0          0.0            0.0  ...         0.0  0.0   \n",
       "17098        0.0        0.0          0.0            0.0  ...         0.0  0.0   \n",
       "\n",
       "       zoo beside  zuid  zuid metro  zuid station  zuin  zuin stop  zurich  \\\n",
       "11178         0.0   0.0         0.0           0.0   0.0        0.0     0.0   \n",
       "6906          0.0   0.0         0.0           0.0   0.0        0.0     0.0   \n",
       "4290          0.0   0.0         0.0           0.0   0.0        0.0     0.0   \n",
       "21082         0.0   0.0         0.0           0.0   0.0        0.0     0.0   \n",
       "17098         0.0   0.0         0.0           0.0   0.0        0.0     0.0   \n",
       "\n",
       "       zurich convenient  \n",
       "11178                0.0  \n",
       "6906                 0.0  \n",
       "4290                 0.0  \n",
       "21082                0.0  \n",
       "17098                0.0  \n",
       "\n",
       "[5 rows x 174295 columns]"
      ]
     },
     "execution_count": 27,
     "metadata": {},
     "output_type": "execute_result"
    }
   ],
   "source": [
    "from sklearn.feature_extraction.text import TfidfVectorizer\n",
    "\n",
    "tfidf = TfidfVectorizer(ngram_range = (1,2))\n",
    "\n",
    "feature_matrix_TRAIN = tfidf.fit_transform(normalized_train_reviews).astype(float)\n",
    "\n",
    "tfidf_df = pd.DataFrame(data = feature_matrix_TRAIN.todense(), columns = tfidf.get_feature_names())\n",
    "\n",
    "#tfidf_df.columns = [\"word_\" + str(x) for x in tfidf_df.columns]\n",
    "\n",
    "tfidf_df.index = X_train.index\n",
    "\n",
    "tfidf_df.head()\n",
    "#review_df = pd.concat([X_train, tfidf_df], axis=1)"
   ]
  },
  {
   "cell_type": "code",
   "execution_count": 29,
   "metadata": {},
   "outputs": [],
   "source": [
    "#Vectorize test data using the features created based on the training data\n",
    "feature_matrix_TEST = tfidf.transform(normalized_test_reviews)"
   ]
  },
  {
   "cell_type": "markdown",
   "metadata": {},
   "source": [
    "## SVM model"
   ]
  },
  {
   "cell_type": "code",
   "execution_count": 30,
   "metadata": {},
   "outputs": [
    {
     "data": {
      "text/plain": [
       "0.952"
      ]
     },
     "execution_count": 30,
     "metadata": {},
     "output_type": "execute_result"
    }
   ],
   "source": [
    "from sklearn import linear_model\n",
    "\n",
    "svm = linear_model.SGDClassifier(loss='hinge', random_state = 0) \n",
    "svm.fit(feature_matrix_TRAIN, train_polarity)\n",
    "predicted_svm = svm.predict(feature_matrix_TEST) \n",
    "\n",
    "np.round(metrics.accuracy_score(test_polarity, predicted_svm), 3)"
   ]
  },
  {
   "cell_type": "code",
   "execution_count": 31,
   "metadata": {},
   "outputs": [
    {
     "data": {
      "text/html": [
       "<div>\n",
       "<style scoped>\n",
       "    .dataframe tbody tr th:only-of-type {\n",
       "        vertical-align: middle;\n",
       "    }\n",
       "\n",
       "    .dataframe tbody tr th {\n",
       "        vertical-align: top;\n",
       "    }\n",
       "\n",
       "    .dataframe thead th {\n",
       "        text-align: right;\n",
       "    }\n",
       "</style>\n",
       "<table border=\"1\" class=\"dataframe\">\n",
       "  <thead>\n",
       "    <tr style=\"text-align: right;\">\n",
       "      <th>Predicted:</th>\n",
       "      <th>0</th>\n",
       "      <th>1</th>\n",
       "      <th>All</th>\n",
       "    </tr>\n",
       "    <tr>\n",
       "      <th>True:</th>\n",
       "      <th></th>\n",
       "      <th></th>\n",
       "      <th></th>\n",
       "    </tr>\n",
       "  </thead>\n",
       "  <tbody>\n",
       "    <tr>\n",
       "      <td>0</td>\n",
       "      <td>4911</td>\n",
       "      <td>0</td>\n",
       "      <td>4911</td>\n",
       "    </tr>\n",
       "    <tr>\n",
       "      <td>1</td>\n",
       "      <td>246</td>\n",
       "      <td>1</td>\n",
       "      <td>247</td>\n",
       "    </tr>\n",
       "    <tr>\n",
       "      <td>All</td>\n",
       "      <td>5157</td>\n",
       "      <td>1</td>\n",
       "      <td>5158</td>\n",
       "    </tr>\n",
       "  </tbody>\n",
       "</table>\n",
       "</div>"
      ],
      "text/plain": [
       "Predicted:     0  1   All\n",
       "True:                    \n",
       "0           4911  0  4911\n",
       "1            246  1   247\n",
       "All         5157  1  5158"
      ]
     },
     "execution_count": 31,
     "metadata": {},
     "output_type": "execute_result"
    }
   ],
   "source": [
    "crosstab_svm=pd.crosstab(pd.Series(test_polarity), \n",
    "            pd.Series(predicted_svm), \n",
    "            rownames = ['True:'], \n",
    "            colnames = ['Predicted:'], \n",
    "            margins = True)\n",
    "crosstab_svm"
   ]
  },
  {
   "cell_type": "markdown",
   "metadata": {},
   "source": [
    "## Random Forest model"
   ]
  },
  {
   "cell_type": "code",
   "execution_count": 32,
   "metadata": {},
   "outputs": [
    {
     "data": {
      "text/plain": [
       "0.953"
      ]
     },
     "execution_count": 32,
     "metadata": {},
     "output_type": "execute_result"
    }
   ],
   "source": [
    "from sklearn.ensemble import RandomForestClassifier\n",
    "\n",
    "forest = RandomForestClassifier(n_estimators = 100)\n",
    "forest = forest.fit(feature_matrix_TRAIN, train_polarity)\n",
    "predicted_forest = forest.predict(feature_matrix_TEST) \n",
    "\n",
    "np.round(metrics.accuracy_score(test_polarity, predicted_forest), 3)"
   ]
  },
  {
   "cell_type": "code",
   "execution_count": 33,
   "metadata": {},
   "outputs": [
    {
     "data": {
      "text/html": [
       "<div>\n",
       "<style scoped>\n",
       "    .dataframe tbody tr th:only-of-type {\n",
       "        vertical-align: middle;\n",
       "    }\n",
       "\n",
       "    .dataframe tbody tr th {\n",
       "        vertical-align: top;\n",
       "    }\n",
       "\n",
       "    .dataframe thead th {\n",
       "        text-align: right;\n",
       "    }\n",
       "</style>\n",
       "<table border=\"1\" class=\"dataframe\">\n",
       "  <thead>\n",
       "    <tr style=\"text-align: right;\">\n",
       "      <th>Predicted:</th>\n",
       "      <th>0</th>\n",
       "      <th>1</th>\n",
       "      <th>All</th>\n",
       "    </tr>\n",
       "    <tr>\n",
       "      <th>True:</th>\n",
       "      <th></th>\n",
       "      <th></th>\n",
       "      <th></th>\n",
       "    </tr>\n",
       "  </thead>\n",
       "  <tbody>\n",
       "    <tr>\n",
       "      <td>0</td>\n",
       "      <td>4911</td>\n",
       "      <td>0</td>\n",
       "      <td>4911</td>\n",
       "    </tr>\n",
       "    <tr>\n",
       "      <td>1</td>\n",
       "      <td>245</td>\n",
       "      <td>2</td>\n",
       "      <td>247</td>\n",
       "    </tr>\n",
       "    <tr>\n",
       "      <td>All</td>\n",
       "      <td>5156</td>\n",
       "      <td>2</td>\n",
       "      <td>5158</td>\n",
       "    </tr>\n",
       "  </tbody>\n",
       "</table>\n",
       "</div>"
      ],
      "text/plain": [
       "Predicted:     0  1   All\n",
       "True:                    \n",
       "0           4911  0  4911\n",
       "1            245  2   247\n",
       "All         5156  2  5158"
      ]
     },
     "execution_count": 33,
     "metadata": {},
     "output_type": "execute_result"
    }
   ],
   "source": [
    "crosstab_forest=pd.crosstab(pd.Series(test_polarity), \n",
    "            pd.Series(predicted_forest), \n",
    "            rownames = ['True:'], \n",
    "            colnames = ['Predicted:'], \n",
    "            margins = True)\n",
    "crosstab_forest"
   ]
  },
  {
   "cell_type": "markdown",
   "metadata": {},
   "source": [
    "# Topic Modeling"
   ]
  },
  {
   "cell_type": "code",
   "execution_count": 34,
   "metadata": {
    "collapsed": true
   },
   "outputs": [
    {
     "name": "stdout",
     "output_type": "stream",
     "text": [
      "Requirement already satisfied: sklearn in /Users/Zoeli/opt/anaconda3/lib/python3.7/site-packages (0.0)\n",
      "Requirement already satisfied: scikit-learn in /Users/Zoeli/opt/anaconda3/lib/python3.7/site-packages (from sklearn) (0.21.3)\n",
      "Requirement already satisfied: scipy>=0.17.0 in /Users/Zoeli/opt/anaconda3/lib/python3.7/site-packages (from scikit-learn->sklearn) (1.3.1)\n",
      "Requirement already satisfied: numpy>=1.11.0 in /Users/Zoeli/opt/anaconda3/lib/python3.7/site-packages (from scikit-learn->sklearn) (1.17.2)\n",
      "Requirement already satisfied: joblib>=0.11 in /Users/Zoeli/opt/anaconda3/lib/python3.7/site-packages (from scikit-learn->sklearn) (0.13.2)\n",
      "Requirement already satisfied: pyLDAvis in /Users/Zoeli/opt/anaconda3/lib/python3.7/site-packages (2.1.2)\n",
      "Requirement already satisfied: jinja2>=2.7.2 in /Users/Zoeli/opt/anaconda3/lib/python3.7/site-packages (from pyLDAvis) (2.10.3)\n",
      "Requirement already satisfied: pytest in /Users/Zoeli/opt/anaconda3/lib/python3.7/site-packages (from pyLDAvis) (5.2.1)\n",
      "Requirement already satisfied: pandas>=0.17.0 in /Users/Zoeli/opt/anaconda3/lib/python3.7/site-packages (from pyLDAvis) (0.25.1)\n",
      "Requirement already satisfied: numexpr in /Users/Zoeli/opt/anaconda3/lib/python3.7/site-packages (from pyLDAvis) (2.7.0)\n",
      "Requirement already satisfied: scipy>=0.18.0 in /Users/Zoeli/opt/anaconda3/lib/python3.7/site-packages (from pyLDAvis) (1.3.1)\n",
      "Requirement already satisfied: wheel>=0.23.0 in /Users/Zoeli/opt/anaconda3/lib/python3.7/site-packages (from pyLDAvis) (0.33.6)\n",
      "Requirement already satisfied: funcy in /Users/Zoeli/opt/anaconda3/lib/python3.7/site-packages (from pyLDAvis) (1.14)\n",
      "Requirement already satisfied: joblib>=0.8.4 in /Users/Zoeli/opt/anaconda3/lib/python3.7/site-packages (from pyLDAvis) (0.13.2)\n",
      "Requirement already satisfied: future in /Users/Zoeli/opt/anaconda3/lib/python3.7/site-packages (from pyLDAvis) (0.17.1)\n",
      "Requirement already satisfied: numpy>=1.9.2 in /Users/Zoeli/opt/anaconda3/lib/python3.7/site-packages (from pyLDAvis) (1.17.2)\n",
      "Requirement already satisfied: MarkupSafe>=0.23 in /Users/Zoeli/opt/anaconda3/lib/python3.7/site-packages (from jinja2>=2.7.2->pyLDAvis) (1.1.1)\n",
      "Requirement already satisfied: py>=1.5.0 in /Users/Zoeli/opt/anaconda3/lib/python3.7/site-packages (from pytest->pyLDAvis) (1.8.0)\n",
      "Requirement already satisfied: packaging in /Users/Zoeli/opt/anaconda3/lib/python3.7/site-packages (from pytest->pyLDAvis) (19.2)\n",
      "Requirement already satisfied: attrs>=17.4.0 in /Users/Zoeli/opt/anaconda3/lib/python3.7/site-packages (from pytest->pyLDAvis) (19.2.0)\n",
      "Requirement already satisfied: more-itertools>=4.0.0 in /Users/Zoeli/opt/anaconda3/lib/python3.7/site-packages (from pytest->pyLDAvis) (7.2.0)\n",
      "Requirement already satisfied: atomicwrites>=1.0 in /Users/Zoeli/opt/anaconda3/lib/python3.7/site-packages (from pytest->pyLDAvis) (1.3.0)\n",
      "Requirement already satisfied: pluggy<1.0,>=0.12 in /Users/Zoeli/opt/anaconda3/lib/python3.7/site-packages (from pytest->pyLDAvis) (0.13.0)\n",
      "Requirement already satisfied: wcwidth in /Users/Zoeli/opt/anaconda3/lib/python3.7/site-packages (from pytest->pyLDAvis) (0.1.7)\n",
      "Requirement already satisfied: importlib-metadata>=0.12 in /Users/Zoeli/opt/anaconda3/lib/python3.7/site-packages (from pytest->pyLDAvis) (0.23)\n",
      "Requirement already satisfied: pytz>=2017.2 in /Users/Zoeli/opt/anaconda3/lib/python3.7/site-packages (from pandas>=0.17.0->pyLDAvis) (2019.3)\n",
      "Requirement already satisfied: python-dateutil>=2.6.1 in /Users/Zoeli/opt/anaconda3/lib/python3.7/site-packages (from pandas>=0.17.0->pyLDAvis) (2.8.0)\n",
      "Requirement already satisfied: pyparsing>=2.0.2 in /Users/Zoeli/opt/anaconda3/lib/python3.7/site-packages (from packaging->pytest->pyLDAvis) (2.4.2)\n",
      "Requirement already satisfied: six in /Users/Zoeli/opt/anaconda3/lib/python3.7/site-packages (from packaging->pytest->pyLDAvis) (1.12.0)\n",
      "Requirement already satisfied: zipp>=0.5 in /Users/Zoeli/opt/anaconda3/lib/python3.7/site-packages (from importlib-metadata>=0.12->pytest->pyLDAvis) (0.6.0)\n"
     ]
    }
   ],
   "source": [
    "!{sys.executable} -m pip install sklearn\n",
    "from sklearn import metrics\n",
    "#from sklearn.model_selection import GridSearchCV\n",
    "from sklearn.feature_extraction.text import  CountVectorizer #bag-of-words vectorizer \n",
    "from sklearn.decomposition import LatentDirichletAllocation #package for LDA\n",
    "\n",
    "# Plotting tools\n",
    "\n",
    "from pprint import pprint\n",
    "!{sys.executable} -m pip install pyLDAvis #visualizing LDA\n",
    "import pyLDAvis\n",
    "import pyLDAvis.sklearn\n",
    "\n",
    "import matplotlib.pyplot as plt\n",
    "%matplotlib inline"
   ]
  },
  {
   "cell_type": "code",
   "execution_count": 35,
   "metadata": {},
   "outputs": [],
   "source": [
    "def display_topics(model, feature_names, no_top_words):\n",
    "    for topic_idx, topic in enumerate(model.components_):\n",
    "        print(\"Topic %d:\" % (topic_idx))\n",
    "        print(\" \".join([feature_names[i]\n",
    "                        for i in topic.argsort()[:-no_top_words - 1:-1]]))\n",
    "        \n",
    "def get_topic_words(vectorizer, lda_model, n_words):\n",
    "    keywords = np.array(vectorizer.get_feature_names())\n",
    "    topic_words = []\n",
    "    for topic_weights in lda_model.components_:\n",
    "        top_word_locs = (-topic_weights).argsort()[:n_words]\n",
    "        topic_words.append(keywords.take(top_word_locs).tolist())\n",
    "    return topic_words"
   ]
  },
  {
   "cell_type": "markdown",
   "metadata": {},
   "source": [
    "### Topic Modeling for Negative Reviews"
   ]
  },
  {
   "cell_type": "code",
   "execution_count": 46,
   "metadata": {},
   "outputs": [],
   "source": [
    "#Topic Modeling for Negative Reviews\n",
    "review_negative=review_df[review_df['is_bad_review']==1]['review_cleaned']\n",
    "normalized_hotel_negative_corpus=normalize_corpus(review_negative)\n",
    "bow_vectorizer = CountVectorizer(max_features=1000)\n",
    "bow_hotel_negative_corpus = bow_vectorizer.fit_transform(normalized_hotel_negative_corpus)"
   ]
  },
  {
   "cell_type": "code",
   "execution_count": 48,
   "metadata": {},
   "outputs": [
    {
     "name": "stdout",
     "output_type": "stream",
     "text": [
      "Topic 0:\n",
      "room bed shower night clean floor dirty bathroom work window air door water na toilet\n",
      "Topic 1:\n",
      "room hotel location small breakfast staff good bad poor star service old na nothing bed\n",
      "Topic 2:\n",
      "hotel room book stay staff check pay time day take like never charge night even\n"
     ]
    }
   ],
   "source": [
    "lda_hotel_negative_corpus = LatentDirichletAllocation(n_components=3, max_iter=100,\n",
    "                                           doc_topic_prior = 0.67,\n",
    "                                           topic_word_prior = 0.67).fit(bow_hotel_negative_corpus)\n",
    "\n",
    "no_top_words = 15\n",
    "display_topics(lda_hotel_negative_corpus, bow_vectorizer.get_feature_names(), no_top_words)"
   ]
  },
  {
   "cell_type": "code",
   "execution_count": 50,
   "metadata": {},
   "outputs": [
    {
     "data": {
      "text/html": [
       "<div>\n",
       "<style scoped>\n",
       "    .dataframe tbody tr th:only-of-type {\n",
       "        vertical-align: middle;\n",
       "    }\n",
       "\n",
       "    .dataframe tbody tr th {\n",
       "        vertical-align: top;\n",
       "    }\n",
       "\n",
       "    .dataframe thead th {\n",
       "        text-align: right;\n",
       "    }\n",
       "</style>\n",
       "<table border=\"1\" class=\"dataframe\">\n",
       "  <thead>\n",
       "    <tr style=\"text-align: right;\">\n",
       "      <th></th>\n",
       "      <th>Topic_0</th>\n",
       "      <th>Topic_1</th>\n",
       "      <th>Topic_2</th>\n",
       "    </tr>\n",
       "  </thead>\n",
       "  <tbody>\n",
       "    <tr>\n",
       "      <td>room</td>\n",
       "      <td>0.071552</td>\n",
       "      <td>0.063650</td>\n",
       "      <td>0.029300</td>\n",
       "    </tr>\n",
       "    <tr>\n",
       "      <td>bed</td>\n",
       "      <td>0.023735</td>\n",
       "      <td>0.010271</td>\n",
       "      <td>0.000137</td>\n",
       "    </tr>\n",
       "    <tr>\n",
       "      <td>shower</td>\n",
       "      <td>0.014856</td>\n",
       "      <td>0.000153</td>\n",
       "      <td>0.000093</td>\n",
       "    </tr>\n",
       "    <tr>\n",
       "      <td>night</td>\n",
       "      <td>0.013928</td>\n",
       "      <td>0.000247</td>\n",
       "      <td>0.008905</td>\n",
       "    </tr>\n",
       "    <tr>\n",
       "      <td>clean</td>\n",
       "      <td>0.013417</td>\n",
       "      <td>0.008186</td>\n",
       "      <td>0.000720</td>\n",
       "    </tr>\n",
       "    <tr>\n",
       "      <td>floor</td>\n",
       "      <td>0.012935</td>\n",
       "      <td>0.000146</td>\n",
       "      <td>0.000317</td>\n",
       "    </tr>\n",
       "    <tr>\n",
       "      <td>dirty</td>\n",
       "      <td>0.012525</td>\n",
       "      <td>0.002540</td>\n",
       "      <td>0.000118</td>\n",
       "    </tr>\n",
       "    <tr>\n",
       "      <td>bathroom</td>\n",
       "      <td>0.012454</td>\n",
       "      <td>0.007680</td>\n",
       "      <td>0.000135</td>\n",
       "    </tr>\n",
       "    <tr>\n",
       "      <td>work</td>\n",
       "      <td>0.011160</td>\n",
       "      <td>0.004987</td>\n",
       "      <td>0.003838</td>\n",
       "    </tr>\n",
       "    <tr>\n",
       "      <td>window</td>\n",
       "      <td>0.010891</td>\n",
       "      <td>0.000109</td>\n",
       "      <td>0.000100</td>\n",
       "    </tr>\n",
       "  </tbody>\n",
       "</table>\n",
       "</div>"
      ],
      "text/plain": [
       "           Topic_0   Topic_1   Topic_2\n",
       "room      0.071552  0.063650  0.029300\n",
       "bed       0.023735  0.010271  0.000137\n",
       "shower    0.014856  0.000153  0.000093\n",
       "night     0.013928  0.000247  0.008905\n",
       "clean     0.013417  0.008186  0.000720\n",
       "floor     0.012935  0.000146  0.000317\n",
       "dirty     0.012525  0.002540  0.000118\n",
       "bathroom  0.012454  0.007680  0.000135\n",
       "work      0.011160  0.004987  0.003838\n",
       "window    0.010891  0.000109  0.000100"
      ]
     },
     "execution_count": 50,
     "metadata": {},
     "output_type": "execute_result"
    }
   ],
   "source": [
    "word_weights = lda_hotel_negative_corpus.components_ / lda_hotel_negative_corpus.components_.sum(axis=1)[:, np.newaxis]\n",
    "word_weights_df = pd.DataFrame(word_weights.T, \n",
    "                               index = bow_vectorizer.get_feature_names(), \n",
    "                               columns = [\"Topic_\" + str(i) for i in range(3)])\n",
    "word_weights_df.sort_values(by='Topic_0',ascending=False).head(10)"
   ]
  },
  {
   "cell_type": "code",
   "execution_count": 53,
   "metadata": {},
   "outputs": [
    {
     "data": {
      "text/html": [
       "\n",
       "<link rel=\"stylesheet\" type=\"text/css\" href=\"https://cdn.rawgit.com/bmabey/pyLDAvis/files/ldavis.v1.0.0.css\">\n",
       "\n",
       "\n",
       "<div id=\"ldavis_el450451125722591523585163090\"></div>\n",
       "<script type=\"text/javascript\">\n",
       "\n",
       "var ldavis_el450451125722591523585163090_data = {\"mdsDat\": {\"x\": [-632.0454711914062, -1209.6654052734375, -1437.4532470703125], \"y\": [-384.3250732421875, 212.16412353515625, -586.322509765625], \"topics\": [1, 2, 3], \"cluster\": [1, 1, 1], \"Freq\": [38.528446053257476, 32.58389589950676, 28.88765804723577]}, \"tinfo\": {\"Category\": [\"Default\", \"Default\", \"Default\", \"Default\", \"Default\", \"Default\", \"Default\", \"Default\", \"Default\", \"Default\", \"Default\", \"Default\", \"Default\", \"Default\", \"Default\", \"Default\", \"Default\", \"Default\", \"Default\", \"Default\", \"Default\", \"Default\", \"Default\", \"Default\", \"Default\", \"Default\", \"Default\", \"Default\", \"Default\", \"Default\", \"Topic1\", \"Topic1\", \"Topic1\", \"Topic1\", \"Topic1\", \"Topic1\", \"Topic1\", \"Topic1\", \"Topic1\", \"Topic1\", \"Topic1\", \"Topic1\", \"Topic1\", \"Topic1\", \"Topic1\", \"Topic1\", \"Topic1\", \"Topic1\", \"Topic1\", \"Topic1\", \"Topic1\", \"Topic1\", \"Topic1\", \"Topic1\", \"Topic1\", \"Topic1\", \"Topic1\", \"Topic1\", \"Topic1\", \"Topic1\", \"Topic1\", \"Topic1\", \"Topic1\", \"Topic1\", \"Topic1\", \"Topic1\", \"Topic1\", \"Topic1\", \"Topic1\", \"Topic1\", \"Topic1\", \"Topic1\", \"Topic1\", \"Topic1\", \"Topic1\", \"Topic1\", \"Topic1\", \"Topic1\", \"Topic1\", \"Topic1\", \"Topic1\", \"Topic1\", \"Topic1\", \"Topic1\", \"Topic1\", \"Topic1\", \"Topic1\", \"Topic1\", \"Topic1\", \"Topic2\", \"Topic2\", \"Topic2\", \"Topic2\", \"Topic2\", \"Topic2\", \"Topic2\", \"Topic2\", \"Topic2\", \"Topic2\", \"Topic2\", \"Topic2\", \"Topic2\", \"Topic2\", \"Topic2\", \"Topic2\", \"Topic2\", \"Topic2\", \"Topic2\", \"Topic2\", \"Topic2\", \"Topic2\", \"Topic2\", \"Topic2\", \"Topic2\", \"Topic2\", \"Topic2\", \"Topic2\", \"Topic2\", \"Topic2\", \"Topic2\", \"Topic2\", \"Topic2\", \"Topic2\", \"Topic2\", \"Topic2\", \"Topic2\", \"Topic2\", \"Topic2\", \"Topic2\", \"Topic2\", \"Topic2\", \"Topic2\", \"Topic2\", \"Topic2\", \"Topic2\", \"Topic2\", \"Topic2\", \"Topic2\", \"Topic2\", \"Topic2\", \"Topic2\", \"Topic2\", \"Topic3\", \"Topic3\", \"Topic3\", \"Topic3\", \"Topic3\", \"Topic3\", \"Topic3\", \"Topic3\", \"Topic3\", \"Topic3\", \"Topic3\", \"Topic3\", \"Topic3\", \"Topic3\", \"Topic3\", \"Topic3\", \"Topic3\", \"Topic3\", \"Topic3\", \"Topic3\", \"Topic3\", \"Topic3\", \"Topic3\", \"Topic3\", \"Topic3\", \"Topic3\", \"Topic3\", \"Topic3\", \"Topic3\", \"Topic3\", \"Topic3\", \"Topic3\", \"Topic3\", \"Topic3\", \"Topic3\", \"Topic3\", \"Topic3\", \"Topic3\", \"Topic3\", \"Topic3\", \"Topic3\", \"Topic3\", \"Topic3\", \"Topic3\", \"Topic3\", \"Topic3\", \"Topic3\", \"Topic3\", \"Topic3\", \"Topic3\", \"Topic3\", \"Topic3\", \"Topic3\"], \"Freq\": [288.0, 771.0, 225.0, 211.0, 224.0, 277.0, 197.0, 211.0, 1365.0, 155.0, 126.0, 132.0, 102.0, 139.0, 112.0, 258.0, 136.0, 93.0, 93.0, 93.0, 164.0, 125.0, 77.0, 163.0, 102.0, 117.0, 402.0, 153.0, 73.0, 207.0, 209.41862953010653, 153.43838477146045, 74.08524002087591, 135.36416897318406, 46.5797929170743, 42.53015852563638, 70.95422107259598, 20.296167961663322, 49.38002984309605, 45.79952475550423, 22.889787148165734, 20.220531178617158, 19.300789340425464, 23.651614673804133, 20.136276852087963, 91.77113777451964, 19.24736337324783, 17.45588942913415, 108.79018687947305, 22.561755797818776, 19.963252308350476, 18.160074372675478, 60.543486155682814, 14.62696251908039, 13.76418639665494, 17.195692742192204, 19.714692050314888, 17.117688636133277, 33.401341246361866, 61.418064451796, 49.746888423414596, 22.041835297078013, 128.92371212224964, 206.69032629206805, 91.95088272660414, 45.39966045776317, 118.28919504738505, 441.27577840573116, 56.55286296204509, 26.899493553387877, 41.699394388677, 72.54139913013113, 198.06617212057265, 26.553803081624903, 48.124478101400165, 74.02633893897006, 50.86870179738512, 33.76077409235137, 46.384441919855355, 79.15034856374591, 91.95216245674283, 290.834052466652, 88.39515733384496, 57.26248130812619, 51.670765193215914, 55.29079600827173, 55.659503176726524, 55.24336896593986, 55.316364058857154, 124.70708198008724, 91.42220417940553, 91.34139900722462, 75.35300706203232, 60.45924060091694, 90.13981422546232, 70.99416220370571, 108.58454834354899, 47.106725593918505, 39.97103632538422, 31.87543942982472, 38.63514592465582, 21.522963353107517, 22.329265963977246, 18.77751254929354, 42.53974952529536, 23.79320141112882, 17.689262562378488, 17.55516573055517, 22.54184330084691, 15.744076891644454, 19.86624792225041, 25.611567340718295, 15.688642207136887, 10.693702992939293, 10.672050350217997, 65.70306112433725, 59.06403398629171, 90.19716248484998, 13.874951952104121, 37.933319312058394, 22.671123249597937, 105.14280140817844, 199.24266442630278, 34.167512871139294, 35.77103965066567, 33.234146481205066, 51.00539257938678, 104.54554238761726, 600.6493776668461, 112.63406424244876, 47.83862530165564, 116.91629567412873, 93.6834061458109, 45.53124837886365, 73.13698016752856, 51.035159500337805, 76.21097101265767, 39.14310679004957, 50.353180409452264, 53.102949183968924, 49.057259787357296, 43.38638013688647, 100.82678218876329, 36.95954041040219, 52.758039278532486, 33.142829236531334, 122.91849360157993, 39.172837403529925, 22.432745400667226, 22.963395606105454, 259.72816132939556, 46.775112204769364, 16.85253134027651, 197.89368930983312, 44.37159126981135, 16.59288587538666, 14.188422700551037, 57.38764322006635, 44.42122064324382, 31.935375587399474, 31.831063973075228, 20.185087309241272, 10.852059430675046, 10.067648313250146, 26.305254504709332, 13.870438979198795, 10.740058499756204, 114.82106962697044, 9.126185116147342, 11.374798006009337, 9.810640466243564, 74.95209568431115, 161.61830081302543, 182.63891135857912, 38.180636972042734, 168.0095352761877, 19.800550846450417, 36.57957847106496, 107.7321480437421, 32.10152649027375, 94.79826482874991, 50.87201461849506, 55.50007710841502, 314.24603615588427, 473.7008693685004, 168.6933159877781, 97.92317369173088, 59.079130897614846, 45.01299704150479, 76.43700259304329, 60.92157578014246, 57.15716527235796, 58.29907524076315, 45.88576041497474, 40.52037444031416], \"Term\": [\"location\", \"hotel\", \"small\", \"book\", \"breakfast\", \"bed\", \"bad\", \"good\", \"room\", \"check\", \"shower\", \"poor\", \"old\", \"pay\", \"floor\", \"stay\", \"star\", \"window\", \"air\", \"water\", \"service\", \"dirty\", \"toilet\", \"bathroom\", \"door\", \"take\", \"staff\", \"nothing\", \"noise\", \"night\", \"book\", \"check\", \"card\", \"pay\", \"com\", \"customer\", \"first\", \"credit\", \"hour\", \"manager\", \"already\", \"deposit\", \"payment\", \"complaint\", \"refund\", \"charge\", \"refuse\", \"account\", \"take\", \"amount\", \"block\", \"business\", \"another\", \"advance\", \"email\", \"receive\", \"finally\", \"pound\", \"twice\", \"guest\", \"wait\", \"happen\", \"time\", \"stay\", \"never\", \"desk\", \"day\", \"hotel\", \"call\", \"send\", \"front\", \"give\", \"staff\", \"year\", \"want\", \"reception\", \"rude\", \"return\", \"experience\", \"even\", \"like\", \"room\", \"night\", \"money\", \"use\", \"could\", \"nothing\", \"service\", \"na\", \"shower\", \"window\", \"air\", \"toilet\", \"hot\", \"water\", \"noise\", \"floor\", \"condition\", \"towel\", \"light\", \"wall\", \"corridor\", \"cover\", \"ac\", \"outside\", \"sheet\", \"filthy\", \"curtain\", \"table\", \"mattress\", \"cheap\", \"hair\", \"lock\", \"hole\", \"windows\", \"open\", \"double\", \"door\", \"loud\", \"break\", \"sound\", \"dirty\", \"bed\", \"single\", \"bath\", \"problem\", \"sleep\", \"bathroom\", \"room\", \"clean\", \"people\", \"night\", \"work\", \"nice\", \"could\", \"close\", \"na\", \"keep\", \"even\", \"like\", \"stay\", \"reception\", \"old\", \"expensive\", \"food\", \"near\", \"poor\", \"wifi\", \"slow\", \"internet\", \"location\", \"tiny\", \"dark\", \"small\", \"friendly\", \"photo\", \"elevator\", \"everything\", \"facility\", \"value\", \"quality\", \"high\", \"shabby\", \"poorly\", \"furniture\", \"overprice\", \"central\", \"star\", \"heater\", \"generally\", \"stair\", \"price\", \"bad\", \"breakfast\", \"park\", \"good\", \"luggage\", \"size\", \"service\", \"helpful\", \"nothing\", \"bar\", \"noisy\", \"hotel\", \"room\", \"staff\", \"na\", \"need\", \"place\", \"bed\", \"clean\", \"bathroom\", \"like\", \"money\", \"cold\"], \"Total\": [288.0, 771.0, 225.0, 211.0, 224.0, 277.0, 197.0, 211.0, 1365.0, 155.0, 126.0, 132.0, 102.0, 139.0, 112.0, 258.0, 136.0, 93.0, 93.0, 93.0, 164.0, 125.0, 77.0, 163.0, 102.0, 117.0, 402.0, 153.0, 73.0, 207.0, 211.5751777468188, 155.82910669831585, 75.54929950025415, 139.71489473577753, 48.14387555575735, 44.35973765486001, 74.56688124705684, 21.69518982079543, 52.84139403795715, 49.06334658524139, 24.527523706574783, 21.69540811940371, 20.750274476295097, 25.47039779119621, 21.691754625134536, 98.90570487296951, 20.750505596838646, 18.862975703455536, 117.95379629950563, 24.5069950485918, 21.688495957507268, 19.80192809851296, 66.044241603153, 16.02946820749969, 15.085552483830359, 18.856215309313868, 21.68859859930308, 18.8486947308717, 36.77958405441303, 67.87687269517777, 56.56607632157645, 24.513480493124504, 156.42092623961378, 258.10654432252136, 116.05382337392936, 54.65681448933986, 159.0926031174096, 771.4328380756328, 72.50355052455532, 31.09690426585914, 53.67255153063047, 109.04955044765946, 402.2646905946653, 31.069297427530532, 70.3888795659786, 130.13069162881754, 77.19845620356902, 43.29398037956222, 69.77665290831224, 159.42893606688375, 203.3541868814749, 1365.1842995019986, 207.14940483102956, 104.50777152399971, 87.97620833806874, 129.36338227851084, 153.11687207137754, 164.77807896830114, 229.4505087632457, 126.77279052998682, 93.22295701625089, 93.21298951394732, 77.35979338649514, 62.44162267764908, 93.203458856473, 73.65683173347011, 112.8197297499209, 49.39121288235955, 41.949837542574144, 33.551485406264725, 41.00180644002539, 23.29481115539729, 24.23365145135336, 20.506114597199176, 46.537276224865735, 26.103727442111087, 19.571797914967227, 19.56455298809283, 25.15633747993481, 17.68938424022652, 22.339537644927518, 28.91317933885459, 17.717737241038957, 12.112759554845523, 12.114098645482049, 74.66603433600811, 67.19180462782046, 102.68419811454795, 15.843274609363469, 43.8649132505395, 26.09892150744996, 125.22145749772763, 277.0363426094207, 40.929213983541416, 43.59633398733856, 40.13628382045662, 67.74382220602939, 163.0399581064881, 1365.1842995019986, 180.69833727838426, 64.23994538674654, 207.14940483102956, 168.88950578408569, 63.23920342276392, 129.36338227851084, 93.10102370871266, 229.4505087632457, 58.013595807059545, 159.42893606688375, 203.3541868814749, 258.10654432252136, 130.13069162881754, 102.76860590680775, 38.817943089955634, 55.99203230829486, 35.22053374789128, 132.8090871873425, 42.47506318913099, 24.409447248066606, 25.322288774990707, 288.36941870485924, 52.459935890636494, 19.00832038587068, 225.2486879311438, 50.73208233906609, 19.024252522356914, 16.304444737808467, 66.1582942544481, 51.67586101131766, 37.17328212701999, 37.13065001444709, 23.55397420659441, 12.69073174889322, 11.78619810023752, 30.817014987355336, 16.31669246239712, 12.69984852409522, 136.03830570192426, 10.887733085047367, 13.60775021251117, 11.795459279851016, 90.79899288329867, 197.9985975909903, 224.87860217506903, 46.31327668114861, 211.45995412277847, 24.531859078834646, 48.23741172485262, 164.77807896830114, 42.82918558084715, 153.11687207137754, 74.84037981437294, 84.77913630833666, 771.4328380756328, 1365.1842995019986, 402.2646905946653, 229.4505087632457, 109.3693607250432, 71.48176386110416, 277.0363426094207, 180.69833727838426, 163.0399581064881, 203.3541868814749, 104.50777152399971, 73.19834525963176], \"loglift\": [30.0, 29.0, 28.0, 27.0, 26.0, 25.0, 24.0, 23.0, 22.0, 21.0, 20.0, 19.0, 18.0, 17.0, 16.0, 15.0, 14.0, 13.0, 12.0, 11.0, 10.0, 9.0, 8.0, 7.0, 6.0, 5.0, 4.0, 3.0, 2.0, 1.0, 0.9435, 0.9383, 0.9342, 0.9221, 0.9207, 0.9117, 0.9041, 0.8871, 0.886, 0.8849, 0.8847, 0.8834, 0.8814, 0.8797, 0.8794, 0.8789, 0.8786, 0.8762, 0.8729, 0.8711, 0.8709, 0.8672, 0.8668, 0.8622, 0.8621, 0.8616, 0.8584, 0.8574, 0.8574, 0.8538, 0.8253, 0.8475, 0.7604, 0.7316, 0.721, 0.7682, 0.6574, 0.3952, 0.7053, 0.8088, 0.7014, 0.5461, 0.2453, 0.7967, 0.5735, 0.3897, 0.5366, 0.7051, 0.5454, 0.2535, 0.1601, -0.5925, 0.1022, 0.3522, 0.4216, 0.1038, -0.0582, -0.1391, -0.4688, 1.1049, 1.1018, 1.1011, 1.0951, 1.0891, 1.0879, 1.0845, 1.0831, 1.074, 1.073, 1.0701, 1.0619, 1.0422, 1.0395, 1.0333, 1.0315, 1.0287, 1.0202, 1.013, 1.0116, 1.0049, 1.004, 1.0001, 0.9997, 0.9967, 0.9946, 0.9935, 0.9924, 0.9917, 0.9887, 0.9761, 0.9806, 0.9466, 0.7917, 0.9408, 0.9235, 0.9326, 0.8376, 0.677, 0.3003, 0.6487, 0.8266, 0.5494, 0.532, 0.7928, 0.5511, 0.5202, 0.0192, 0.7279, -0.0312, -0.2214, -0.539, 0.023, 1.2227, 1.1927, 1.1823, 1.181, 1.1644, 1.1608, 1.1573, 1.144, 1.1371, 1.1271, 1.1214, 1.1123, 1.1078, 1.105, 1.1027, 1.0995, 1.0905, 1.0899, 1.0878, 1.0874, 1.0852, 1.0842, 1.0835, 1.0793, 1.0741, 1.0722, 1.0653, 1.0625, 1.0575, 1.05, 1.0387, 1.0337, 1.0487, 1.0117, 1.0275, 0.9651, 0.8168, 0.9534, 0.7623, 0.8557, 0.8181, 0.3437, 0.1833, 0.3727, 0.3903, 0.6259, 0.7793, -0.0459, 0.1545, 0.1936, -0.0076, 0.4186, 0.6504], \"logprob\": [30.0, 29.0, 28.0, 27.0, 26.0, 25.0, 24.0, 23.0, 22.0, 21.0, 20.0, 19.0, 18.0, 17.0, 16.0, 15.0, 14.0, 13.0, 12.0, 11.0, 10.0, 9.0, 8.0, 7.0, 6.0, 5.0, 4.0, 3.0, 2.0, 1.0, -3.8586, -4.1696, -4.8977, -4.295, -5.3618, -5.4527, -4.9409, -6.1925, -5.3034, -5.3786, -6.0722, -6.1962, -6.2428, -6.0395, -6.2004, -4.6836, -6.2455, -6.3432, -4.5135, -6.0867, -6.209, -6.3037, -5.0996, -6.5201, -6.5809, -6.3583, -6.2216, -6.3628, -5.6943, -5.0852, -5.296, -6.11, -4.3437, -3.8717, -4.6817, -5.3874, -4.4298, -3.1133, -5.1677, -5.9108, -5.4724, -4.9188, -3.9143, -5.9237, -5.3291, -4.8985, -5.2737, -5.6836, -5.366, -4.8316, -4.6817, -3.5302, -4.7211, -5.1553, -5.258, -5.1903, -5.1837, -5.1912, -5.1899, -4.2094, -4.5199, -4.5207, -4.7132, -4.9334, -4.534, -4.7727, -4.3478, -5.1829, -5.3472, -5.5735, -5.3812, -5.9662, -5.9294, -6.1027, -5.2849, -5.8659, -6.1624, -6.17, -5.92, -6.2789, -6.0463, -5.7923, -6.2824, -6.6657, -6.6677, -4.8502, -4.9567, -4.5333, -6.4053, -5.3995, -5.9143, -4.38, -3.7408, -5.5041, -5.4582, -5.5318, -5.1034, -4.3857, -2.6373, -4.3112, -5.1675, -4.2739, -4.4954, -5.2169, -4.743, -5.1028, -4.7018, -5.3681, -5.1163, -5.0631, -5.1424, -5.2652, -4.3015, -5.3051, -4.9492, -5.4141, -4.1034, -5.247, -5.8044, -5.781, -3.3553, -5.0696, -6.0904, -3.6272, -5.1223, -6.106, -6.2625, -4.8651, -5.1212, -5.4512, -5.4545, -5.91, -6.5306, -6.6056, -5.6452, -6.2852, -6.541, -4.1716, -6.7038, -6.4835, -6.6315, -4.5981, -3.8297, -3.7074, -5.2726, -3.7909, -5.9292, -5.3154, -4.2353, -5.446, -4.3632, -4.9856, -4.8986, -3.1648, -2.7544, -3.7869, -4.3308, -4.8361, -5.108, -4.5785, -4.8054, -4.8691, -4.8494, -5.0888, -5.2131]}, \"token.table\": {\"Topic\": [1, 2, 3, 1, 2, 3, 1, 2, 3, 1, 2, 3, 1, 2, 3, 1, 2, 3, 1, 2, 3, 1, 2, 3, 1, 2, 3, 1, 2, 3, 1, 2, 3, 1, 2, 3, 1, 2, 3, 1, 2, 3, 1, 2, 3, 1, 2, 3, 1, 2, 3, 1, 2, 3, 1, 2, 3, 1, 2, 3, 1, 2, 3, 1, 2, 3, 1, 2, 3, 1, 2, 3, 1, 2, 3, 1, 2, 3, 1, 2, 3, 1, 2, 3, 1, 2, 3, 1, 2, 3, 1, 2, 3, 1, 2, 3, 1, 2, 3, 1, 2, 3, 1, 2, 3, 1, 2, 3, 1, 2, 3, 1, 2, 3, 1, 2, 3, 1, 2, 3, 1, 2, 3, 1, 2, 3, 1, 2, 3, 1, 2, 3, 1, 2, 3, 1, 2, 3, 1, 2, 3, 1, 2, 3, 1, 2, 3, 1, 2, 3, 1, 2, 3, 1, 2, 3, 1, 2, 3, 1, 2, 3, 1, 2, 3, 1, 2, 3, 1, 2, 3, 1, 2, 3, 1, 2, 3, 1, 2, 3, 1, 2, 3, 1, 2, 3, 1, 2, 3, 1, 2, 3, 1, 2, 3, 1, 2, 3, 1, 2, 3, 1, 2, 3, 1, 2, 3, 1, 2, 3, 1, 2, 3, 1, 2, 3, 1, 2, 3, 1, 2, 3, 1, 2, 3, 1, 2, 3, 1, 2, 3, 1, 2, 3, 1, 2, 3, 1, 2, 3, 1, 2, 3, 1, 2, 3, 1, 2, 3, 1, 2, 3, 1, 2, 3, 1, 2, 3, 1, 2, 3, 1, 2, 3, 1, 2, 3, 1, 2, 3, 1, 2, 3, 1, 2, 3, 1, 2, 3, 1, 2, 3, 1, 2, 3, 1, 2, 3, 1, 2, 3, 1, 2, 3, 1, 2, 3, 1, 2, 3, 1, 2, 3, 1, 2, 3, 1, 2, 3, 1, 2, 3, 1, 2, 3, 1, 2, 3, 1, 2, 3, 1, 2, 3, 1, 2, 3, 1, 2, 3, 1, 2, 3, 1, 2, 3, 1, 2, 3, 1, 2, 3, 1, 2, 3, 1, 2, 3, 1, 2, 3, 1, 2, 3, 1, 2, 3, 1, 2, 3, 1, 2, 3, 1, 2, 3, 1, 2, 3, 1, 2, 3, 1, 2, 3, 1, 2, 3, 1, 2, 3, 1, 2, 3, 1, 2, 3, 1, 2, 3, 1, 2, 3, 1, 2, 3, 1, 2, 3, 1, 2, 3, 1, 2, 3, 1, 2, 3, 1, 2, 3, 1, 2, 3, 1, 2, 3, 1, 2, 3, 1, 2, 3, 1, 2, 3, 1, 2, 3, 1, 2, 3, 1, 2, 3, 1, 2, 3], \"Freq\": [0.04876594223932528, 0.9265529025471804, 0.04876594223932528, 0.9012363832333063, 0.053013904896076845, 0.053013904896076845, 0.9357765214557752, 0.06238510143038501, 0.06238510143038501, 0.010728118529557209, 0.976258786189706, 0.010728118529557209, 0.9377220576830869, 0.04077052424709073, 0.04077052424709073, 0.9385075548591831, 0.04080467629822536, 0.04080467629822536, 0.9236232943143952, 0.07570682740281927, 0.015141365480563855, 0.1565667655082958, 0.02525270411424126, 0.8181876133014168, 0.17370302011085434, 0.1469794785553383, 0.6814503096656593, 0.022937708484626812, 0.8257575054465652, 0.16056395939238768, 0.006133465756577654, 0.6440139044406537, 0.3496075481249263, 0.003609634716445303, 0.7183173085726153, 0.274332238449843, 0.9221478538292642, 0.04610739269146321, 0.04610739269146321, 0.987828545038963, 0.004726452368607479, 0.004726452368607479, 0.1139863191212057, 0.8662960253211633, 0.02279726382424114, 0.017787374882764443, 0.1689800613862622, 0.8137724008864732, 0.9090023916081043, 0.0505001328671169, 0.0505001328671169, 0.7861683957214672, 0.2068864199267019, 0.01379242799511346, 0.9794928674322263, 0.01323639010043549, 0.01323639010043549, 0.07874109664400453, 0.07874109664400453, 0.8661520630840498, 0.9301789024016469, 0.010110640243496163, 0.060663841460976975, 0.04476368382794453, 0.8952736765588907, 0.08952736765588906, 0.9818448121903632, 0.00641728635418538, 0.00641728635418538, 0.0387385966325511, 0.6253516313540393, 0.33757919922651675, 0.3007485727289557, 0.5477920431848836, 0.15037428636447786, 0.027323022028791437, 0.42350684144626727, 0.5601219515902245, 0.9762404762277067, 0.020771073962291633, 0.020771073962291633, 0.9422703248198012, 0.03926126353415838, 0.03926126353415838, 0.020246516366824386, 0.9515862692407461, 0.020246516366824386, 0.04292801488404876, 0.9444163274490728, 0.04292801488404876, 0.4251589517162486, 0.5643018813688391, 0.007730162758477248, 0.04126493285617317, 0.9078285228358098, 0.04126493285617317, 0.9218633330799187, 0.04609316665399594, 0.04609316665399594, 0.051112846820911745, 0.9200312427764114, 0.051112846820911745, 0.9693474820469088, 0.022542964698765322, 0.022542964698765322, 0.052608540875780006, 0.052608540875780006, 0.8943451948882601, 0.7417063879011179, 0.25142589420376876, 0.00628564735509422, 0.9218540573160554, 0.04609270286580277, 0.04609270286580277, 0.8233191125468298, 0.16466382250936595, 0.01829598027881844, 0.007985851785970043, 0.8385144375268545, 0.15173118393343082, 0.11686316122967201, 0.8764737092225401, 0.009738596769139334, 0.10417937185603855, 0.8780832770723249, 0.014882767408005508, 0.06133296877513986, 0.06133296877513986, 0.8586615628519579, 0.928040256729482, 0.06628858976639157, 0.06628858976639157, 0.4955185799324274, 0.3136193543876123, 0.18817161263256738, 0.12092210190957466, 0.015115262738696832, 0.8615699761057194, 0.025761282551283758, 0.025761282551283758, 0.9531674543974991, 0.6592462963284412, 0.01433144122453133, 0.3152917069396893, 0.11610837018634146, 0.01935139503105691, 0.8514613813665041, 0.0510939262884615, 0.919690673192307, 0.0510939262884615, 0.9221434897431621, 0.046107174487158106, 0.046107174487158106, 0.952165342208172, 0.0402323384031622, 0.013410779467720733, 0.026591093655780572, 0.9661430694933607, 0.00886369788526019, 0.035719367873412816, 0.017859683936706408, 0.9465632486454397, 0.09855696374894836, 0.019711392749789673, 0.8673012809907455, 0.782522887439606, 0.2049464705198968, 0.018631497319990618, 0.06489921236111378, 0.06489921236111378, 0.8436897606944791, 0.07348753352928135, 0.07348753352928135, 0.8083628688220947, 0.6694204579507903, 0.32095501408599536, 0.018340286519199733, 0.03783222233820697, 0.1655159727296555, 0.7944766691023463, 0.8986860704961982, 0.05893023413089825, 0.029465117065449124, 0.069172607293046, 0.899243894809598, 0.034586303646523, 0.8974653764964351, 0.08158776149967592, 0.04079388074983796, 0.09184648376192715, 0.09184648376192715, 0.8266183538573444, 0.23348564452908754, 0.023348564452908754, 0.7471540624930801, 0.042455680354784024, 0.08491136070956805, 0.8491136070956805, 0.08255757042580486, 0.9081332746838535, 0.08255757042580486, 0.01601495856637866, 0.9608975139827195, 0.01601495856637866, 0.5716635048879828, 0.020740626027681917, 0.40703478579325764, 0.9273033176377256, 0.05677367250843218, 0.018924557502810725, 0.03949090103528238, 0.03949090103528238, 0.9082907238114949, 0.3102720965592969, 0.67225620921181, 0.017237338697738715, 0.029804939718504394, 0.9537580709921406, 0.029804939718504394, 0.45241261766408697, 0.26062900800213706, 0.2852166502664896, 0.013871096380347897, 0.08322657828208738, 0.9016212647226133, 0.056440615773651726, 0.9030498523784276, 0.056440615773651726, 0.06311826466789852, 0.8836557053505792, 0.06311826466789852, 0.12228995733096765, 0.04076331911032255, 0.815266382206451, 0.9375634399516712, 0.0407636278239857, 0.02038181391199285, 0.056531080246759034, 0.9044972839481445, 0.056531080246759034, 0.5454139837524927, 0.00956866638162268, 0.4401586535546433, 0.23970310763943758, 0.33122611237449556, 0.4271073554302706, 0.02839252826655053, 0.02839252826655053, 0.9369534327961674, 0.33830315688704404, 0.11886327133869115, 0.5394563853063675, 0.7927356232252071, 0.017233383113591457, 0.18956721424950604, 0.14231678314847832, 0.727396891647778, 0.12650380724309182, 0.42481415803140266, 0.5648097328372058, 0.009654867227986424, 0.02715294634497818, 0.9639295952467253, 0.01357647317248909, 0.011795354889710832, 0.3302699369119033, 0.6605398738238066, 0.3657336989871033, 0.019592876731451964, 0.6204410964959788, 0.009730598086606491, 0.009730598086606491, 0.9827904067472556, 0.10714376451277466, 0.8839360572303909, 0.013392970564096832, 0.02148815059927554, 0.9239904757688482, 0.06446445179782662, 0.06128693068797889, 0.12257386137595778, 0.8580170296317045, 0.15114456375420496, 0.021592080536314995, 0.8204990603799698, 0.9662534567649775, 0.021472299039221723, 0.014314866026147816, 0.915650538584702, 0.048192133609721154, 0.048192133609721154, 0.15566638389551182, 0.7471986426984567, 0.10896646872685826, 0.05256448308940498, 0.05256448308940498, 0.8935962125198846, 0.34973955103538534, 0.013989582041415413, 0.6295311918636936, 0.030118420995978532, 0.03764802624497317, 0.9261414456263399, 0.08484500188231586, 0.08484500188231586, 0.8484500188231586, 0.90191921736396, 0.053054071609644704, 0.053054071609644704, 0.154186732203008, 0.02202667602900114, 0.8260003510875428, 0.1494906710058176, 0.8221986905319968, 0.024915111834302932, 0.0269319281943869, 0.1077277127775476, 0.8618217022203808, 0.901559497552141, 0.053032911620714177, 0.053032911620714177, 0.5686590847536281, 0.3304370357352163, 0.09989956894320494, 0.9220093231566304, 0.04610046615783152, 0.04610046615783152, 0.915640340006687, 0.04819159684245721, 0.04819159684245721, 0.785328576904201, 0.18478319456569436, 0.023097899320711796, 0.21315803302612915, 0.44023360085465163, 0.3472058682281279, 0.6606349726154521, 0.025907253828056944, 0.32384067285071183, 0.868253629659301, 0.09647262551770011, 0.03215754183923337, 0.33378226244876, 0.012137536816318547, 0.6554269880812016, 0.07879766271848049, 0.07879766271848049, 0.8667742899032853, 0.03830870523060928, 0.9194089255346227, 0.03830870523060928, 0.007888128010903571, 0.9860160013629463, 0.007888128010903571, 0.07329727859436463, 0.8307024907361326, 0.09772970479248619, 0.14511558041148997, 0.0829231888065657, 0.7670394964607328, 0.07380746815249799, 0.7528361751554794, 0.16237642993549556, 0.04096774457189754, 0.04096774457189754, 0.9012903805817458, 0.00887907502755967, 0.11098843784449587, 0.8790284277284073, 0.07663151902384542, 0.8812624687742224, 0.03831575951192271, 0.49221322335623807, 0.08949331333749784, 0.4201213876121426, 0.08477838601064042, 0.08477838601064042, 0.847783860106404, 0.11761393173374167, 0.044105224400153124, 0.8453501343362683, 0.8019943877956837, 0.18984408213521015, 0.007748738046335107, 0.0397514145609479, 0.9142825349018018, 0.0397514145609479, 0.9240906475212519, 0.0678231667905506, 0.008477895848818825, 0.8246978399961079, 0.16621816930154112, 0.012786013023195472, 0.01906216587997182, 0.07624866351988728, 0.8959217963586755, 0.012926611566863002, 0.969495867514725, 0.012926611566863002, 0.023837994580673115, 0.9535197832269245, 0.023837994580673115, 0.8972369005364124, 0.08156699095785566, 0.02718899698595189, 0.5910688921734167, 0.29553444608670837, 0.11366709464873398, 0.10760416544151577, 0.026901041360378943, 0.8608333235321262, 0.883922012121744, 0.10607064145460929, 0.01767844024243488, 0.024389169327520506, 0.9511776037732997, 0.024389169327520506, 0.6819258993177677, 0.24151542267504275, 0.07103394784560081, 0.021458431098355095, 0.9656293994259793, 0.021458431098355095, 0.04708645143373873, 0.04708645143373873, 0.9181858029579052, 0.010726971467185676, 0.9761544035138965, 0.010726971467185676, 0.08254844452442608, 0.9080328897686869, 0.08254844452442608, 0.22499917815249304, 0.5565769143772197, 0.21907814714848006, 0.8690251224050942, 0.09655834693389936, 0.06437223128926624], \"Term\": [\"ac\", \"ac\", \"ac\", \"account\", \"account\", \"account\", \"advance\", \"advance\", \"advance\", \"air\", \"air\", \"air\", \"already\", \"already\", \"already\", \"amount\", \"amount\", \"amount\", \"another\", \"another\", \"another\", \"bad\", \"bad\", \"bad\", \"bar\", \"bar\", \"bar\", \"bath\", \"bath\", \"bath\", \"bathroom\", \"bathroom\", \"bathroom\", \"bed\", \"bed\", \"bed\", \"block\", \"block\", \"block\", \"book\", \"book\", \"book\", \"break\", \"break\", \"break\", \"breakfast\", \"breakfast\", \"breakfast\", \"business\", \"business\", \"business\", \"call\", \"call\", \"call\", \"card\", \"card\", \"card\", \"central\", \"central\", \"central\", \"charge\", \"charge\", \"charge\", \"cheap\", \"cheap\", \"cheap\", \"check\", \"check\", \"check\", \"clean\", \"clean\", \"clean\", \"close\", \"close\", \"close\", \"cold\", \"cold\", \"cold\", \"com\", \"com\", \"com\", \"complaint\", \"complaint\", \"complaint\", \"condition\", \"condition\", \"condition\", \"corridor\", \"corridor\", \"corridor\", \"could\", \"could\", \"could\", \"cover\", \"cover\", \"cover\", \"credit\", \"credit\", \"credit\", \"curtain\", \"curtain\", \"curtain\", \"customer\", \"customer\", \"customer\", \"dark\", \"dark\", \"dark\", \"day\", \"day\", \"day\", \"deposit\", \"deposit\", \"deposit\", \"desk\", \"desk\", \"desk\", \"dirty\", \"dirty\", \"dirty\", \"door\", \"door\", \"door\", \"double\", \"double\", \"double\", \"elevator\", \"elevator\", \"elevator\", \"email\", \"email\", \"email\", \"even\", \"even\", \"even\", \"everything\", \"everything\", \"everything\", \"expensive\", \"expensive\", \"expensive\", \"experience\", \"experience\", \"experience\", \"facility\", \"facility\", \"facility\", \"filthy\", \"filthy\", \"filthy\", \"finally\", \"finally\", \"finally\", \"first\", \"first\", \"first\", \"floor\", \"floor\", \"floor\", \"food\", \"food\", \"food\", \"friendly\", \"friendly\", \"friendly\", \"front\", \"front\", \"front\", \"furniture\", \"furniture\", \"furniture\", \"generally\", \"generally\", \"generally\", \"give\", \"give\", \"give\", \"good\", \"good\", \"good\", \"guest\", \"guest\", \"guest\", \"hair\", \"hair\", \"hair\", \"happen\", \"happen\", \"happen\", \"heater\", \"heater\", \"heater\", \"helpful\", \"helpful\", \"helpful\", \"high\", \"high\", \"high\", \"hole\", \"hole\", \"hole\", \"hot\", \"hot\", \"hot\", \"hotel\", \"hotel\", \"hotel\", \"hour\", \"hour\", \"hour\", \"internet\", \"internet\", \"internet\", \"keep\", \"keep\", \"keep\", \"light\", \"light\", \"light\", \"like\", \"like\", \"like\", \"location\", \"location\", \"location\", \"lock\", \"lock\", \"lock\", \"loud\", \"loud\", \"loud\", \"luggage\", \"luggage\", \"luggage\", \"manager\", \"manager\", \"manager\", \"mattress\", \"mattress\", \"mattress\", \"money\", \"money\", \"money\", \"na\", \"na\", \"na\", \"near\", \"near\", \"near\", \"need\", \"need\", \"need\", \"never\", \"never\", \"never\", \"nice\", \"nice\", \"nice\", \"night\", \"night\", \"night\", \"noise\", \"noise\", \"noise\", \"noisy\", \"noisy\", \"noisy\", \"nothing\", \"nothing\", \"nothing\", \"old\", \"old\", \"old\", \"open\", \"open\", \"open\", \"outside\", \"outside\", \"outside\", \"overprice\", \"overprice\", \"overprice\", \"park\", \"park\", \"park\", \"pay\", \"pay\", \"pay\", \"payment\", \"payment\", \"payment\", \"people\", \"people\", \"people\", \"photo\", \"photo\", \"photo\", \"place\", \"place\", \"place\", \"poor\", \"poor\", \"poor\", \"poorly\", \"poorly\", \"poorly\", \"pound\", \"pound\", \"pound\", \"price\", \"price\", \"price\", \"problem\", \"problem\", \"problem\", \"quality\", \"quality\", \"quality\", \"receive\", \"receive\", \"receive\", \"reception\", \"reception\", \"reception\", \"refund\", \"refund\", \"refund\", \"refuse\", \"refuse\", \"refuse\", \"return\", \"return\", \"return\", \"room\", \"room\", \"room\", \"rude\", \"rude\", \"rude\", \"send\", \"send\", \"send\", \"service\", \"service\", \"service\", \"shabby\", \"shabby\", \"shabby\", \"sheet\", \"sheet\", \"sheet\", \"shower\", \"shower\", \"shower\", \"single\", \"single\", \"single\", \"size\", \"size\", \"size\", \"sleep\", \"sleep\", \"sleep\", \"slow\", \"slow\", \"slow\", \"small\", \"small\", \"small\", \"sound\", \"sound\", \"sound\", \"staff\", \"staff\", \"staff\", \"stair\", \"stair\", \"stair\", \"star\", \"star\", \"star\", \"stay\", \"stay\", \"stay\", \"table\", \"table\", \"table\", \"take\", \"take\", \"take\", \"time\", \"time\", \"time\", \"tiny\", \"tiny\", \"tiny\", \"toilet\", \"toilet\", \"toilet\", \"towel\", \"towel\", \"towel\", \"twice\", \"twice\", \"twice\", \"use\", \"use\", \"use\", \"value\", \"value\", \"value\", \"wait\", \"wait\", \"wait\", \"wall\", \"wall\", \"wall\", \"want\", \"want\", \"want\", \"water\", \"water\", \"water\", \"wifi\", \"wifi\", \"wifi\", \"window\", \"window\", \"window\", \"windows\", \"windows\", \"windows\", \"work\", \"work\", \"work\", \"year\", \"year\", \"year\"]}, \"R\": 30, \"lambda.step\": 0.01, \"plot.opts\": {\"xlab\": \"PC1\", \"ylab\": \"PC2\"}, \"topic.order\": [3, 1, 2]};\n",
       "\n",
       "function LDAvis_load_lib(url, callback){\n",
       "  var s = document.createElement('script');\n",
       "  s.src = url;\n",
       "  s.async = true;\n",
       "  s.onreadystatechange = s.onload = callback;\n",
       "  s.onerror = function(){console.warn(\"failed to load library \" + url);};\n",
       "  document.getElementsByTagName(\"head\")[0].appendChild(s);\n",
       "}\n",
       "\n",
       "if(typeof(LDAvis) !== \"undefined\"){\n",
       "   // already loaded: just create the visualization\n",
       "   !function(LDAvis){\n",
       "       new LDAvis(\"#\" + \"ldavis_el450451125722591523585163090\", ldavis_el450451125722591523585163090_data);\n",
       "   }(LDAvis);\n",
       "}else if(typeof define === \"function\" && define.amd){\n",
       "   // require.js is available: use it to load d3/LDAvis\n",
       "   require.config({paths: {d3: \"https://cdnjs.cloudflare.com/ajax/libs/d3/3.5.5/d3.min\"}});\n",
       "   require([\"d3\"], function(d3){\n",
       "      window.d3 = d3;\n",
       "      LDAvis_load_lib(\"https://cdn.rawgit.com/bmabey/pyLDAvis/files/ldavis.v1.0.0.js\", function(){\n",
       "        new LDAvis(\"#\" + \"ldavis_el450451125722591523585163090\", ldavis_el450451125722591523585163090_data);\n",
       "      });\n",
       "    });\n",
       "}else{\n",
       "    // require.js not available: dynamically load d3 & LDAvis\n",
       "    LDAvis_load_lib(\"https://cdnjs.cloudflare.com/ajax/libs/d3/3.5.5/d3.min.js\", function(){\n",
       "         LDAvis_load_lib(\"https://cdn.rawgit.com/bmabey/pyLDAvis/files/ldavis.v1.0.0.js\", function(){\n",
       "                 new LDAvis(\"#\" + \"ldavis_el450451125722591523585163090\", ldavis_el450451125722591523585163090_data);\n",
       "            })\n",
       "         });\n",
       "}\n",
       "</script>"
      ],
      "text/plain": [
       "PreparedData(topic_coordinates=                 x           y  topics  cluster       Freq\n",
       "topic                                                     \n",
       "2      -632.045471 -384.325073       1        1  38.528446\n",
       "0     -1209.665405  212.164124       2        1  32.583896\n",
       "1     -1437.453247 -586.322510       3        1  28.887658, topic_info=    Category        Freq       Term       Total  loglift  logprob\n",
       "495  Default  288.000000   location  288.000000  30.0000  30.0000\n",
       "423  Default  771.000000      hotel  771.000000  29.0000  29.0000\n",
       "791  Default  225.000000      small  225.000000  28.0000  28.0000\n",
       "113  Default  211.000000       book  211.000000  27.0000  27.0000\n",
       "121  Default  224.000000  breakfast  224.000000  26.0000  26.0000\n",
       "..       ...         ...        ...         ...      ...      ...\n",
       "165   Topic3   60.921576      clean  180.698337   0.1545  -4.8054\n",
       "87    Topic3   57.157165   bathroom  163.039958   0.1936  -4.8691\n",
       "486   Topic3   58.299075       like  203.354187  -0.0076  -4.8494\n",
       "555   Topic3   45.885760      money  104.507772   0.4186  -5.0888\n",
       "178   Topic3   40.520374       cold   73.198345   0.6504  -5.2131\n",
       "\n",
       "[195 rows x 6 columns], token_table=      Topic      Freq     Term\n",
       "term                          \n",
       "9         1  0.048766       ac\n",
       "9         2  0.926553       ac\n",
       "9         3  0.048766       ac\n",
       "15        1  0.901236  account\n",
       "15        2  0.053014  account\n",
       "...     ...       ...      ...\n",
       "990       2  0.556577     work\n",
       "990       3  0.219078     work\n",
       "996       1  0.869025     year\n",
       "996       2  0.096558     year\n",
       "996       3  0.064372     year\n",
       "\n",
       "[438 rows x 3 columns], R=30, lambda_step=0.01, plot_opts={'xlab': 'PC1', 'ylab': 'PC2'}, topic_order=[3, 1, 2])"
      ]
     },
     "execution_count": 53,
     "metadata": {},
     "output_type": "execute_result"
    }
   ],
   "source": [
    "#prepare to display result in the Jupyter notebook\n",
    "pyLDAvis.enable_notebook()\n",
    "\n",
    "#run the visualization [mds is a function to use for visualizing the \"distance\" between topics]\n",
    "pyLDAvis.sklearn.prepare(lda_hotel_negative_corpus, bow_hotel_negative_corpus, bow_vectorizer, mds='tsne')"
   ]
  },
  {
   "cell_type": "code",
   "execution_count": 120,
   "metadata": {},
   "outputs": [
    {
     "data": {
      "text/html": [
       "<div>\n",
       "<style scoped>\n",
       "    .dataframe tbody tr th:only-of-type {\n",
       "        vertical-align: middle;\n",
       "    }\n",
       "\n",
       "    .dataframe tbody tr th {\n",
       "        vertical-align: top;\n",
       "    }\n",
       "\n",
       "    .dataframe thead th {\n",
       "        text-align: right;\n",
       "    }\n",
       "</style>\n",
       "<table border=\"1\" class=\"dataframe\">\n",
       "  <thead>\n",
       "    <tr style=\"text-align: right;\">\n",
       "      <th></th>\n",
       "      <th>Topic_0</th>\n",
       "      <th>Topic_1</th>\n",
       "      <th>Topic_2</th>\n",
       "      <th>dominant_topic</th>\n",
       "    </tr>\n",
       "  </thead>\n",
       "  <tbody>\n",
       "    <tr>\n",
       "      <td>Doc_0</td>\n",
       "      <td>0.0990</td>\n",
       "      <td>0.5848</td>\n",
       "      <td>0.3162</td>\n",
       "      <td>1</td>\n",
       "    </tr>\n",
       "    <tr>\n",
       "      <td>Doc_1</td>\n",
       "      <td>0.3249</td>\n",
       "      <td>0.3518</td>\n",
       "      <td>0.3233</td>\n",
       "      <td>1</td>\n",
       "    </tr>\n",
       "    <tr>\n",
       "      <td>Doc_2</td>\n",
       "      <td>0.0252</td>\n",
       "      <td>0.2628</td>\n",
       "      <td>0.7120</td>\n",
       "      <td>2</td>\n",
       "    </tr>\n",
       "    <tr>\n",
       "      <td>Doc_3</td>\n",
       "      <td>0.2975</td>\n",
       "      <td>0.3400</td>\n",
       "      <td>0.3624</td>\n",
       "      <td>2</td>\n",
       "    </tr>\n",
       "    <tr>\n",
       "      <td>Doc_4</td>\n",
       "      <td>0.1638</td>\n",
       "      <td>0.6943</td>\n",
       "      <td>0.1419</td>\n",
       "      <td>1</td>\n",
       "    </tr>\n",
       "  </tbody>\n",
       "</table>\n",
       "</div>"
      ],
      "text/plain": [
       "       Topic_0  Topic_1  Topic_2  dominant_topic\n",
       "Doc_0   0.0990   0.5848   0.3162               1\n",
       "Doc_1   0.3249   0.3518   0.3233               1\n",
       "Doc_2   0.0252   0.2628   0.7120               2\n",
       "Doc_3   0.2975   0.3400   0.3624               2\n",
       "Doc_4   0.1638   0.6943   0.1419               1"
      ]
     },
     "execution_count": 120,
     "metadata": {},
     "output_type": "execute_result"
    }
   ],
   "source": [
    "lda_hotel_negative_topic_weights = lda_hotel_negative_corpus.transform(bow_hotel_negative_corpus)\n",
    "#array of document \"names\" and topic \"names\" (\"names\" are just indecies)\n",
    "doc_names = [\"Doc_\" + str(i) for i in range(len(normalized_hotel_negative_corpus))]\n",
    "topic_names = [\"Topic_\" + str(i) for i in range(3)]\n",
    "\n",
    "#convert to dataframe\n",
    "df_document_negative_topic = pd.DataFrame(np.round(lda_hotel_negative_topic_weights, 4), columns=topic_names, index=doc_names)\n",
    "\n",
    "#vector of indecies for columns with the highest value by each row in df_document_topic\n",
    "negative_dominant_topic = np.argmax(df_document_negative_topic.values, axis=1)\n",
    "\n",
    "#add dominant_topic as a column to df_document_topic\n",
    "df_document_negative_topic['dominant_topic'] = negative_dominant_topic\n",
    "df_document_negative_topic.head(5)"
   ]
  },
  {
   "cell_type": "code",
   "execution_count": 121,
   "metadata": {},
   "outputs": [
    {
     "data": {
      "text/plain": [
       "Service&Location    503\n",
       "Room Condition      330\n",
       "Charges             311\n",
       "Name: dominant_topic, dtype: int64"
      ]
     },
     "execution_count": 121,
     "metadata": {},
     "output_type": "execute_result"
    }
   ],
   "source": [
    "df_document_negative_topic.columns=['Room Condition','Service&Location','Charges','dominant_topic']\n",
    "df_document_negative_topic.loc[df_document_negative_topic['dominant_topic']==0, 'topic_name'] = \"Room Condition\"\n",
    "df_document_negative_topic.loc[df_document_negative_topic['dominant_topic']==1, 'topic_name'] = \"Service&Location\"\n",
    "df_document_negative_topic.loc[df_document_negative_topic['dominant_topic']==2, 'topic_name'] = \"Charges\"\n",
    "df_document_negative_topic=df_document_negative_topic.drop(columns=['dominant_topic'])\n",
    "df_document_negative_topic.columns=['Room Condition','Service&Location','Charges','dominant_topic']\n",
    "\n",
    "pd.value_counts(df_document_negative_topic['dominant_topic'])"
   ]
  },
  {
   "cell_type": "markdown",
   "metadata": {},
   "source": [
    "### Topic Model Evaluation"
   ]
  },
  {
   "cell_type": "code",
   "execution_count": 58,
   "metadata": {
    "collapsed": true
   },
   "outputs": [
    {
     "name": "stdout",
     "output_type": "stream",
     "text": [
      "Requirement already satisfied: gensim in /Users/Zoeli/opt/anaconda3/lib/python3.7/site-packages (3.8.2)\n",
      "Requirement already satisfied: six>=1.5.0 in /Users/Zoeli/opt/anaconda3/lib/python3.7/site-packages (from gensim) (1.12.0)\n",
      "Requirement already satisfied: scipy>=1.0.0 in /Users/Zoeli/opt/anaconda3/lib/python3.7/site-packages (from gensim) (1.3.1)\n",
      "Requirement already satisfied: numpy>=1.11.3 in /Users/Zoeli/opt/anaconda3/lib/python3.7/site-packages (from gensim) (1.17.2)\n",
      "Requirement already satisfied: smart-open>=1.8.1 in /Users/Zoeli/opt/anaconda3/lib/python3.7/site-packages (from gensim) (1.11.1)\n",
      "Requirement already satisfied: requests in /Users/Zoeli/opt/anaconda3/lib/python3.7/site-packages (from smart-open>=1.8.1->gensim) (2.22.0)\n",
      "Requirement already satisfied: boto in /Users/Zoeli/opt/anaconda3/lib/python3.7/site-packages (from smart-open>=1.8.1->gensim) (2.49.0)\n",
      "Requirement already satisfied: boto3 in /Users/Zoeli/opt/anaconda3/lib/python3.7/site-packages (from smart-open>=1.8.1->gensim) (1.12.39)\n",
      "Requirement already satisfied: certifi>=2017.4.17 in /Users/Zoeli/opt/anaconda3/lib/python3.7/site-packages (from requests->smart-open>=1.8.1->gensim) (2019.9.11)\n",
      "Requirement already satisfied: chardet<3.1.0,>=3.0.2 in /Users/Zoeli/opt/anaconda3/lib/python3.7/site-packages (from requests->smart-open>=1.8.1->gensim) (3.0.4)\n",
      "Requirement already satisfied: urllib3!=1.25.0,!=1.25.1,<1.26,>=1.21.1 in /Users/Zoeli/opt/anaconda3/lib/python3.7/site-packages (from requests->smart-open>=1.8.1->gensim) (1.24.2)\n",
      "Requirement already satisfied: idna<2.9,>=2.5 in /Users/Zoeli/opt/anaconda3/lib/python3.7/site-packages (from requests->smart-open>=1.8.1->gensim) (2.8)\n",
      "Requirement already satisfied: s3transfer<0.4.0,>=0.3.0 in /Users/Zoeli/opt/anaconda3/lib/python3.7/site-packages (from boto3->smart-open>=1.8.1->gensim) (0.3.3)\n",
      "Requirement already satisfied: jmespath<1.0.0,>=0.7.1 in /Users/Zoeli/opt/anaconda3/lib/python3.7/site-packages (from boto3->smart-open>=1.8.1->gensim) (0.9.5)\n",
      "Requirement already satisfied: botocore<1.16.0,>=1.15.39 in /Users/Zoeli/opt/anaconda3/lib/python3.7/site-packages (from boto3->smart-open>=1.8.1->gensim) (1.15.39)\n",
      "Requirement already satisfied: docutils<0.16,>=0.10 in /Users/Zoeli/opt/anaconda3/lib/python3.7/site-packages (from botocore<1.16.0,>=1.15.39->boto3->smart-open>=1.8.1->gensim) (0.15.2)\n",
      "Requirement already satisfied: python-dateutil<3.0.0,>=2.1 in /Users/Zoeli/opt/anaconda3/lib/python3.7/site-packages (from botocore<1.16.0,>=1.15.39->boto3->smart-open>=1.8.1->gensim) (2.8.0)\n"
     ]
    },
    {
     "name": "stderr",
     "output_type": "stream",
     "text": [
      "unable to import 'smart_open.gcs', disabling that module\n",
      "/Users/Zoeli/opt/anaconda3/lib/python3.7/site-packages/scipy/sparse/sparsetools.py:21: DeprecationWarning: `scipy.sparse.sparsetools` is deprecated!\n",
      "scipy.sparse.sparsetools is a private module for scipy.sparse, and should not be used.\n",
      "  _deprecated()\n"
     ]
    }
   ],
   "source": [
    "!{sys.executable} -m pip install gensim\n",
    "import gensim\n",
    "\n",
    "from gensim.models.coherencemodel import CoherenceModel\n",
    "from gensim.corpora.dictionary import Dictionary"
   ]
  },
  {
   "cell_type": "code",
   "execution_count": 59,
   "metadata": {},
   "outputs": [],
   "source": [
    "#tokenizing the corpus\n",
    "hotel_negative_corpus_tokenized = [tokenize_text(normalized_hotel_negative_corpus[doc_id]) for doc_id in range(len(normalized_hotel_negative_corpus))]\n",
    "\n",
    "#Dictionary of the corpus:\n",
    "hotel_negative_dictionary = Dictionary(hotel_negative_corpus_tokenized)\n",
    "\n",
    "#Bag-of-words representation for each document of the corpus:\n",
    "hotel_negative_corpus_bow = [hotel_negative_dictionary.doc2bow(doc) for doc in hotel_negative_corpus_tokenized]\n",
    "\n",
    "#top 20 words for each topic (using the function defined in session prep)\n",
    "topic_topwords = get_topic_words(vectorizer = bow_vectorizer, lda_model = lda_hotel_negative_corpus, n_words=20)"
   ]
  },
  {
   "cell_type": "code",
   "execution_count": 61,
   "metadata": {},
   "outputs": [
    {
     "name": "stdout",
     "output_type": "stream",
     "text": [
      "Coherence score for the model:  -1.9382\n",
      "Coherence score by topic (higher values are better):  [-2.079  -1.9467 -1.7888]\n"
     ]
    }
   ],
   "source": [
    "#Coherence score\n",
    "cm = CoherenceModel(topics=topic_topwords, \n",
    "                    corpus = hotel_negative_corpus_bow , \n",
    "                    dictionary = hotel_negative_dictionary, coherence='u_mass')\n",
    "print(\"Coherence score for the model: \", np.round(cm.get_coherence(), 4))  # get coherence value\n",
    "print(\"Coherence score by topic (higher values are better): \", np.round(cm.get_coherence_per_topic(),4))"
   ]
  },
  {
   "cell_type": "code",
   "execution_count": 63,
   "metadata": {},
   "outputs": [
    {
     "name": "stdout",
     "output_type": "stream",
     "text": [
      "Log-Likelihood (higher values are better):  -159018.0305573418\n"
     ]
    }
   ],
   "source": [
    "#Log-Likelihood\n",
    "print(\"Log-Likelihood (higher values are better): \", lda_hotel_negative_corpus.score(bow_hotel_negative_corpus))"
   ]
  },
  {
   "cell_type": "code",
   "execution_count": 64,
   "metadata": {},
   "outputs": [
    {
     "name": "stdout",
     "output_type": "stream",
     "text": [
      "Perplexity (lower values are better):  479.30702548845125\n"
     ]
    }
   ],
   "source": [
    "#Perplexity Score\n",
    "print(\"Perplexity (lower values are better): \", lda_hotel_negative_corpus.perplexity(bow_hotel_negative_corpus))"
   ]
  },
  {
   "cell_type": "markdown",
   "metadata": {},
   "source": [
    "### Topic Modeling for Positive Reviews"
   ]
  },
  {
   "cell_type": "code",
   "execution_count": 65,
   "metadata": {},
   "outputs": [],
   "source": [
    "review_positive=review_df[review_df['is_bad_review']==0]['review_cleaned']\n",
    "normalized_hotel_positive_corpus=normalize_corpus(review_positive)\n",
    "bow_vectorizer = CountVectorizer(max_features=1000)\n",
    "bow_hotel_positive_corpus = bow_vectorizer.fit_transform(normalized_hotel_positive_corpus)"
   ]
  },
  {
   "cell_type": "code",
   "execution_count": 71,
   "metadata": {},
   "outputs": [
    {
     "name": "stdout",
     "output_type": "stream",
     "text": [
      "Topic 0:\n",
      "hotel room stay staff check time book day night reception like take give even pay\n",
      "Topic 1:\n",
      "na staff location friendly great room helpful hotel nothing excellent clean everything comfortable breakfast bed\n",
      "Topic 2:\n",
      "room bed small location bathroom shower good clean nice comfortable work water floor great could\n",
      "Topic 3:\n",
      "hotel close walk station location city park restaurant metro easy near minute street good tube\n",
      "Topic 4:\n",
      "breakfast good staff room bar location service food price excellent hotel great friendly nice restaurant\n"
     ]
    }
   ],
   "source": [
    "lda_hotel_positive_corpus = LatentDirichletAllocation(n_components=5, max_iter=100,\n",
    "                                           doc_topic_prior = 0.2,\n",
    "                                           topic_word_prior = 0.2).fit(bow_hotel_positive_corpus)\n",
    "\n",
    "no_top_words = 15\n",
    "display_topics(lda_hotel_positive_corpus, bow_vectorizer.get_feature_names(), no_top_words)"
   ]
  },
  {
   "cell_type": "code",
   "execution_count": 72,
   "metadata": {},
   "outputs": [
    {
     "data": {
      "text/html": [
       "<div>\n",
       "<style scoped>\n",
       "    .dataframe tbody tr th:only-of-type {\n",
       "        vertical-align: middle;\n",
       "    }\n",
       "\n",
       "    .dataframe tbody tr th {\n",
       "        vertical-align: top;\n",
       "    }\n",
       "\n",
       "    .dataframe thead th {\n",
       "        text-align: right;\n",
       "    }\n",
       "</style>\n",
       "<table border=\"1\" class=\"dataframe\">\n",
       "  <thead>\n",
       "    <tr style=\"text-align: right;\">\n",
       "      <th></th>\n",
       "      <th>Topic_0</th>\n",
       "      <th>Topic_1</th>\n",
       "      <th>Topic_2</th>\n",
       "      <th>Topic_3</th>\n",
       "      <th>Topic_4</th>\n",
       "    </tr>\n",
       "  </thead>\n",
       "  <tbody>\n",
       "    <tr>\n",
       "      <td>hotel</td>\n",
       "      <td>0.040138</td>\n",
       "      <td>0.031498</td>\n",
       "      <td>0.006236</td>\n",
       "      <td>0.045395</td>\n",
       "      <td>0.016378</td>\n",
       "    </tr>\n",
       "    <tr>\n",
       "      <td>room</td>\n",
       "      <td>0.027439</td>\n",
       "      <td>0.046195</td>\n",
       "      <td>0.103469</td>\n",
       "      <td>0.006918</td>\n",
       "      <td>0.037574</td>\n",
       "    </tr>\n",
       "    <tr>\n",
       "      <td>stay</td>\n",
       "      <td>0.026138</td>\n",
       "      <td>0.015454</td>\n",
       "      <td>0.000002</td>\n",
       "      <td>0.002658</td>\n",
       "      <td>0.000003</td>\n",
       "    </tr>\n",
       "    <tr>\n",
       "      <td>staff</td>\n",
       "      <td>0.022218</td>\n",
       "      <td>0.098739</td>\n",
       "      <td>0.003314</td>\n",
       "      <td>0.000004</td>\n",
       "      <td>0.040244</td>\n",
       "    </tr>\n",
       "    <tr>\n",
       "      <td>check</td>\n",
       "      <td>0.017655</td>\n",
       "      <td>0.000003</td>\n",
       "      <td>0.000002</td>\n",
       "      <td>0.000004</td>\n",
       "      <td>0.000003</td>\n",
       "    </tr>\n",
       "    <tr>\n",
       "      <td>time</td>\n",
       "      <td>0.017096</td>\n",
       "      <td>0.000003</td>\n",
       "      <td>0.001380</td>\n",
       "      <td>0.000004</td>\n",
       "      <td>0.000003</td>\n",
       "    </tr>\n",
       "    <tr>\n",
       "      <td>book</td>\n",
       "      <td>0.016375</td>\n",
       "      <td>0.000003</td>\n",
       "      <td>0.000002</td>\n",
       "      <td>0.000004</td>\n",
       "      <td>0.000003</td>\n",
       "    </tr>\n",
       "    <tr>\n",
       "      <td>day</td>\n",
       "      <td>0.014649</td>\n",
       "      <td>0.000003</td>\n",
       "      <td>0.002074</td>\n",
       "      <td>0.001514</td>\n",
       "      <td>0.000003</td>\n",
       "    </tr>\n",
       "    <tr>\n",
       "      <td>night</td>\n",
       "      <td>0.010837</td>\n",
       "      <td>0.000003</td>\n",
       "      <td>0.008055</td>\n",
       "      <td>0.002983</td>\n",
       "      <td>0.000003</td>\n",
       "    </tr>\n",
       "    <tr>\n",
       "      <td>reception</td>\n",
       "      <td>0.010331</td>\n",
       "      <td>0.000003</td>\n",
       "      <td>0.002283</td>\n",
       "      <td>0.000004</td>\n",
       "      <td>0.006445</td>\n",
       "    </tr>\n",
       "  </tbody>\n",
       "</table>\n",
       "</div>"
      ],
      "text/plain": [
       "            Topic_0   Topic_1   Topic_2   Topic_3   Topic_4\n",
       "hotel      0.040138  0.031498  0.006236  0.045395  0.016378\n",
       "room       0.027439  0.046195  0.103469  0.006918  0.037574\n",
       "stay       0.026138  0.015454  0.000002  0.002658  0.000003\n",
       "staff      0.022218  0.098739  0.003314  0.000004  0.040244\n",
       "check      0.017655  0.000003  0.000002  0.000004  0.000003\n",
       "time       0.017096  0.000003  0.001380  0.000004  0.000003\n",
       "book       0.016375  0.000003  0.000002  0.000004  0.000003\n",
       "day        0.014649  0.000003  0.002074  0.001514  0.000003\n",
       "night      0.010837  0.000003  0.008055  0.002983  0.000003\n",
       "reception  0.010331  0.000003  0.002283  0.000004  0.006445"
      ]
     },
     "execution_count": 72,
     "metadata": {},
     "output_type": "execute_result"
    }
   ],
   "source": [
    "word_weights = lda_hotel_positive_corpus.components_ / lda_hotel_positive_corpus.components_.sum(axis=1)[:, np.newaxis]\n",
    "word_weights_df = pd.DataFrame(word_weights.T, \n",
    "                               index = bow_vectorizer.get_feature_names(), \n",
    "                               columns = [\"Topic_\" + str(i) for i in range(5)])\n",
    "word_weights_df.sort_values(by='Topic_0',ascending=False).head(10)"
   ]
  },
  {
   "cell_type": "code",
   "execution_count": 73,
   "metadata": {},
   "outputs": [
    {
     "data": {
      "text/html": [
       "\n",
       "<link rel=\"stylesheet\" type=\"text/css\" href=\"https://cdn.rawgit.com/bmabey/pyLDAvis/files/ldavis.v1.0.0.css\">\n",
       "\n",
       "\n",
       "<div id=\"ldavis_el450451122959926562686650445\"></div>\n",
       "<script type=\"text/javascript\">\n",
       "\n",
       "var ldavis_el450451122959926562686650445_data = {\"mdsDat\": {\"x\": [2.789363384246826, 85.26571655273438, 45.89274597167969, 49.5576057434082, -3.573308229446411], \"y\": [-40.344261169433594, -61.32535171508789, -91.27824401855469, -24.664609909057617, -91.12189483642578], \"topics\": [1, 2, 3, 4, 5], \"cluster\": [1, 1, 1, 1, 1], \"Freq\": [26.029892908864948, 22.707355235284002, 18.213630562959082, 17.263530990172537, 15.785590302719434]}, \"tinfo\": {\"Category\": [\"Default\", \"Default\", \"Default\", \"Default\", \"Default\", \"Default\", \"Default\", \"Default\", \"Default\", \"Default\", \"Default\", \"Default\", \"Default\", \"Default\", \"Default\", \"Default\", \"Default\", \"Default\", \"Default\", \"Default\", \"Default\", \"Default\", \"Default\", \"Default\", \"Default\", \"Default\", \"Default\", \"Default\", \"Default\", \"Default\", \"Topic1\", \"Topic1\", \"Topic1\", \"Topic1\", \"Topic1\", \"Topic1\", \"Topic1\", \"Topic1\", \"Topic1\", \"Topic1\", \"Topic1\", \"Topic1\", \"Topic1\", \"Topic1\", \"Topic1\", \"Topic1\", \"Topic1\", \"Topic1\", \"Topic1\", \"Topic1\", \"Topic1\", \"Topic1\", \"Topic1\", \"Topic1\", \"Topic1\", \"Topic1\", \"Topic1\", \"Topic1\", \"Topic1\", \"Topic1\", \"Topic1\", \"Topic1\", \"Topic1\", \"Topic1\", \"Topic1\", \"Topic1\", \"Topic1\", \"Topic1\", \"Topic1\", \"Topic1\", \"Topic1\", \"Topic1\", \"Topic1\", \"Topic1\", \"Topic1\", \"Topic1\", \"Topic1\", \"Topic1\", \"Topic1\", \"Topic1\", \"Topic1\", \"Topic1\", \"Topic1\", \"Topic1\", \"Topic1\", \"Topic1\", \"Topic1\", \"Topic1\", \"Topic1\", \"Topic1\", \"Topic1\", \"Topic1\", \"Topic2\", \"Topic2\", \"Topic2\", \"Topic2\", \"Topic2\", \"Topic2\", \"Topic2\", \"Topic2\", \"Topic2\", \"Topic2\", \"Topic2\", \"Topic2\", \"Topic2\", \"Topic2\", \"Topic2\", \"Topic2\", \"Topic2\", \"Topic2\", \"Topic2\", \"Topic2\", \"Topic2\", \"Topic2\", \"Topic2\", \"Topic2\", \"Topic2\", \"Topic2\", \"Topic2\", \"Topic2\", \"Topic2\", \"Topic2\", \"Topic2\", \"Topic2\", \"Topic2\", \"Topic2\", \"Topic2\", \"Topic2\", \"Topic2\", \"Topic2\", \"Topic2\", \"Topic2\", \"Topic2\", \"Topic2\", \"Topic2\", \"Topic2\", \"Topic2\", \"Topic2\", \"Topic2\", \"Topic2\", \"Topic2\", \"Topic2\", \"Topic2\", \"Topic2\", \"Topic2\", \"Topic2\", \"Topic2\", \"Topic2\", \"Topic2\", \"Topic2\", \"Topic2\", \"Topic3\", \"Topic3\", \"Topic3\", \"Topic3\", \"Topic3\", \"Topic3\", \"Topic3\", \"Topic3\", \"Topic3\", \"Topic3\", \"Topic3\", \"Topic3\", \"Topic3\", \"Topic3\", \"Topic3\", \"Topic3\", \"Topic3\", \"Topic3\", \"Topic3\", \"Topic3\", \"Topic3\", \"Topic3\", \"Topic3\", \"Topic3\", \"Topic3\", \"Topic3\", \"Topic3\", \"Topic3\", \"Topic3\", \"Topic3\", \"Topic3\", \"Topic3\", \"Topic3\", \"Topic3\", \"Topic3\", \"Topic3\", \"Topic3\", \"Topic3\", \"Topic3\", \"Topic3\", \"Topic3\", \"Topic3\", \"Topic3\", \"Topic3\", \"Topic3\", \"Topic3\", \"Topic3\", \"Topic3\", \"Topic3\", \"Topic3\", \"Topic3\", \"Topic4\", \"Topic4\", \"Topic4\", \"Topic4\", \"Topic4\", \"Topic4\", \"Topic4\", \"Topic4\", \"Topic4\", \"Topic4\", \"Topic4\", \"Topic4\", \"Topic4\", \"Topic4\", \"Topic4\", \"Topic4\", \"Topic4\", \"Topic4\", \"Topic4\", \"Topic4\", \"Topic4\", \"Topic4\", \"Topic4\", \"Topic4\", \"Topic4\", \"Topic4\", \"Topic4\", \"Topic4\", \"Topic4\", \"Topic4\", \"Topic4\", \"Topic4\", \"Topic4\", \"Topic4\", \"Topic4\", \"Topic4\", \"Topic4\", \"Topic4\", \"Topic4\", \"Topic4\", \"Topic4\", \"Topic4\", \"Topic4\", \"Topic4\", \"Topic4\", \"Topic4\", \"Topic4\", \"Topic4\", \"Topic4\", \"Topic4\", \"Topic4\", \"Topic4\", \"Topic4\", \"Topic4\", \"Topic4\", \"Topic4\", \"Topic4\", \"Topic4\", \"Topic4\", \"Topic4\", \"Topic5\", \"Topic5\", \"Topic5\", \"Topic5\", \"Topic5\", \"Topic5\", \"Topic5\", \"Topic5\", \"Topic5\", \"Topic5\", \"Topic5\", \"Topic5\", \"Topic5\", \"Topic5\", \"Topic5\", \"Topic5\", \"Topic5\", \"Topic5\", \"Topic5\", \"Topic5\", \"Topic5\", \"Topic5\", \"Topic5\", \"Topic5\", \"Topic5\", \"Topic5\", \"Topic5\", \"Topic5\", \"Topic5\", \"Topic5\", \"Topic5\", \"Topic5\", \"Topic5\", \"Topic5\", \"Topic5\", \"Topic5\", \"Topic5\", \"Topic5\", \"Topic5\", \"Topic5\", \"Topic5\", \"Topic5\", \"Topic5\", \"Topic5\", \"Topic5\"], \"Freq\": [6874.0, 11320.0, 6879.0, 4412.0, 4731.0, 2098.0, 3870.0, 2049.0, 9695.0, 3006.0, 1856.0, 18044.0, 5657.0, 6595.0, 1984.0, 2079.0, 2104.0, 2232.0, 3366.0, 1407.0, 1699.0, 9715.0, 1472.0, 1771.0, 3144.0, 1843.0, 1365.0, 1085.0, 1061.0, 1446.0, 2103.540322229709, 1698.6694167246358, 910.6477717240899, 781.292496835412, 739.8200296464262, 619.3395935084018, 517.6283672384308, 490.96944947828456, 420.8591461785243, 383.33394004692934, 351.7367049790069, 347.77926295185637, 315.1965945905013, 306.3068549412345, 289.51209954318864, 256.9304411952749, 245.08422046496344, 240.14392860732715, 225.33485883493245, 216.44766508510867, 212.4999345473064, 196.69743950957826, 182.8694764841614, 181.8859539283361, 176.94817380617528, 176.94735311761065, 175.9615120248071, 173.98400846976506, 170.03562779978958, 164.1073047101735, 2915.6540825562734, 634.4268108978088, 3479.3524461902584, 764.8095923895258, 894.6074591597948, 476.27409790032834, 306.27801020419906, 9886.447511393253, 933.1573793266042, 520.1833656046009, 529.6602639475755, 696.790385051959, 410.4762280736632, 536.551608669425, 508.91882730302916, 623.3288752539261, 1414.5379480858228, 2368.6487674019704, 1263.180747055125, 1687.3895957856837, 1105.7178465716706, 853.1871379634249, 720.4050318647137, 699.6200410418293, 615.681348112186, 769.6683852861979, 678.8850340626551, 886.8158456071656, 647.6819233853043, 587.9072700789062, 636.0429171292951, 595.808076363397, 1471.602020653183, 1364.9196272570834, 590.9657219305175, 526.5563611328072, 426.9157186026825, 352.4468457124135, 352.4413476011992, 341.3737544310885, 335.33173004183317, 313.18810160860943, 310.1730455998372, 276.9582209266951, 270.9269376973808, 267.90154219343094, 249.79096157597667, 244.7510044475453, 222.6127396985771, 219.56946701716663, 205.50167878817126, 200.470520628621, 200.4704072879657, 187.39022145767052, 181.34667794545837, 175.30658341860126, 163.2285714583603, 160.21340035069673, 153.16966822775152, 142.1012953162499, 129.00818763610835, 124.98536332146875, 1425.0213100406281, 586.2350331070913, 610.0235008806312, 384.1825048262698, 1221.0679907290767, 772.7174829764373, 439.69265695840534, 513.3141675125473, 520.8531605967667, 2178.668353043449, 386.1772603823748, 776.0606040398003, 337.67605475803924, 538.0578026831296, 655.5901880587267, 521.9607980681188, 3345.678505208266, 861.0916308681612, 903.3092704829512, 738.4562795603179, 443.76958024375784, 830.4706315042345, 1851.9973074440413, 2287.152343297296, 438.33643584074593, 409.4427754938254, 606.6252448383498, 537.0100790287303, 502.54819804203123, 6873.7657158047305, 169.8572682050544, 167.91794911175575, 93.2644102922126, 1834.8149123581177, 95.67786388275373, 368.5680436449024, 197.56852838639756, 1431.4208510861038, 66.49987442770045, 66.91457432732658, 49.57584197060178, 400.9190343598003, 544.5107442931035, 2877.440605997793, 3277.739116098321, 1068.1643103127922, 56.71057675288838, 235.41051292041163, 354.12961307139335, 71.98946529230304, 392.87734621727475, 445.1550692287828, 198.4990718970972, 551.6413085067878, 35.566827834509645, 56.25544934074437, 199.5839575972442, 203.80868265157775, 59.99737371594487, 1163.5679614954117, 6601.514950402481, 3175.8017073636565, 1654.3930302106587, 479.09795073741515, 351.944339356252, 4139.860208282731, 1366.8637585931801, 408.944657222371, 1540.4626247904387, 760.334853764674, 2105.8968214178576, 1033.21561110181, 3088.547392409994, 1251.7315435567245, 1104.896420910537, 1331.2081538766674, 1174.7613857618578, 574.2297775531392, 445.9318921831517, 409.8320779025683, 1406.3027994455292, 642.8987563614577, 540.3037197564236, 532.2580776450469, 388.42994485272914, 310.984367139674, 277.79181126079106, 266.72131161319334, 228.50113612646274, 204.36780320231577, 197.3298863970459, 197.325823080958, 193.3057188207551, 191.29356123667486, 165.13476056550198, 140.0009817225378, 131.94867816618472, 127.92552713629384, 123.88866051250987, 114.84938765085829, 113.84427693613111, 110.83023682108988, 110.82452250051007, 105.80201052295382, 101.77214032425927, 95.73704775961141, 92.72446178606016, 92.72285362969163, 92.72029122355562, 85.68366257447603, 859.3370934810869, 1852.8233958615142, 1279.5869193338895, 548.4162842894403, 4904.6115198636035, 1625.022678305796, 283.36364326273343, 826.6089559429012, 516.5184055462647, 569.0912952350704, 620.8791375602051, 236.495940465212, 2983.806918572343, 482.0426165960704, 656.3828504482027, 889.0837253173028, 424.36372254750313, 2550.320643512773, 634.1015482911589, 1068.345888782866, 269.86553674923914, 1745.3154330860284, 2381.071851907705, 906.0431404894136, 913.6788904859816, 930.3662396128705, 1037.89258351048, 705.0299351868024, 509.18919130513603, 588.0638123074677, 2098.1183635353896, 2048.926968705692, 1855.2285485601287, 1084.5134013161542, 1060.9408216324864, 925.6630865035808, 887.7376352658753, 881.588324421573, 807.7943388189143, 712.48543691365, 674.5639565304921, 578.2280780351086, 529.035089994104, 519.8074813464302, 511.6065337570969, 488.0326215268945, 483.9363162524905, 466.51898701050686, 448.06944840041564, 428.59746615279005, 394.7710732377415, 391.69799844758097, 357.8751199443483, 351.72820604265377, 348.65066530686505, 297.41045477964747, 295.36061019104676, 294.3305605427855, 247.18762540408275, 225.6670220299653, 811.320697519967, 453.75600670639284, 454.86583070200794, 476.9039954398604, 953.5844511121257, 2630.4269635209976, 565.9777903760662, 485.8019894643589, 1441.2859676885803, 567.9896690757687, 623.6875187936199, 749.0519126365826, 664.191364723044, 619.6647792332964, 468.68327661095407], \"Term\": [\"na\", \"staff\", \"breakfast\", \"friendly\", \"bed\", \"close\", \"helpful\", \"walk\", \"location\", \"small\", \"station\", \"room\", \"great\", \"good\", \"nothing\", \"bar\", \"bathroom\", \"service\", \"stay\", \"food\", \"shower\", \"hotel\", \"check\", \"everything\", \"excellent\", \"restaurant\", \"book\", \"city\", \"park\", \"price\", \"bathroom\", \"shower\", \"water\", \"window\", \"air\", \"light\", \"double\", \"bath\", \"condition\", \"toilet\", \"wall\", \"towel\", \"smell\", \"tiny\", \"machine\", \"fridge\", \"uncomfortable\", \"elevator\", \"heat\", \"dark\", \"carpet\", \"dirty\", \"furniture\", \"mattress\", \"temperature\", \"con\", \"properly\", \"twin\", \"corridor\", \"loud\", \"small\", \"noisy\", \"bed\", \"size\", \"floor\", \"sleep\", \"hear\", \"room\", \"work\", \"open\", \"noise\", \"door\", \"space\", \"hot\", \"old\", \"big\", \"clean\", \"location\", \"nice\", \"good\", \"comfortable\", \"could\", \"little\", \"bit\", \"comfy\", \"night\", \"need\", \"great\", \"view\", \"like\", \"breakfast\", \"hotel\", \"check\", \"book\", \"desk\", \"arrive\", \"experience\", \"card\", \"know\", \"call\", \"never\", \"return\", \"another\", \"receptionist\", \"birthday\", \"special\", \"com\", \"year\", \"ready\", \"highly\", \"last\", \"member\", \"home\", \"manager\", \"show\", \"friend\", \"mention\", \"surprise\", \"receive\", \"later\", \"everyone\", \"week\", \"time\", \"help\", \"leave\", \"hour\", \"day\", \"give\", \"wait\", \"every\", \"want\", \"stay\", \"arrival\", \"take\", \"late\", \"first\", \"pay\", \"front\", \"hotel\", \"reception\", \"night\", \"even\", \"thing\", \"like\", \"staff\", \"room\", \"charge\", \"feel\", \"service\", \"really\", \"could\", \"na\", \"wi\", \"fi\", \"spotless\", \"nothing\", \"helpfull\", \"amazing\", \"fabulous\", \"everything\", \"beautifully\", \"dislike\", \"welcoming\", \"wonderful\", \"beautiful\", \"helpful\", \"friendly\", \"perfect\", \"exceptionally\", \"superb\", \"super\", \"cozy\", \"definitely\", \"amaze\", \"atmosphere\", \"fantastic\", \"dlr\", \"fab\", \"brilliant\", \"professional\", \"gorgeous\", \"lovely\", \"staff\", \"great\", \"excellent\", \"love\", \"recommend\", \"location\", \"comfortable\", \"extremely\", \"clean\", \"really\", \"hotel\", \"stay\", \"room\", \"bed\", \"nice\", \"breakfast\", \"good\", \"view\", \"comfy\", \"facility\", \"food\", \"choice\", \"include\", \"quality\", \"buffet\", \"selection\", \"serve\", \"per\", \"delicious\", \"variety\", \"egg\", \"fruit\", \"menu\", \"meal\", \"parking\", \"cook\", \"snack\", \"pricey\", \"courteous\", \"cocktail\", \"average\", \"continental\", \"improve\", \"juice\", \"friendliness\", \"attitude\", \"overprice\", \"sky\", \"tasty\", \"croissant\", \"expensive\", \"bar\", \"price\", \"drink\", \"breakfast\", \"service\", \"english\", \"coffee\", \"value\", \"tea\", \"wifi\", \"dinner\", \"good\", \"poor\", \"free\", \"restaurant\", \"money\", \"staff\", \"facility\", \"excellent\", \"option\", \"location\", \"room\", \"nice\", \"friendly\", \"great\", \"hotel\", \"helpful\", \"area\", \"clean\", \"close\", \"walk\", \"station\", \"city\", \"park\", \"metro\", \"easy\", \"near\", \"street\", \"tube\", \"train\", \"centre\", \"distance\", \"shop\", \"min\", \"locate\", \"stop\", \"bus\", \"center\", \"tram\", \"car\", \"airport\", \"within\", \"underground\", \"nearby\", \"transport\", \"attraction\", \"public\", \"line\", \"tower\", \"minute\", \"access\", \"far\", \"right\", \"restaurant\", \"hotel\", \"central\", \"away\", \"location\", \"london\", \"area\", \"good\", \"great\", \"nice\", \"quiet\"], \"Total\": [6874.0, 11320.0, 6879.0, 4412.0, 4731.0, 2098.0, 3870.0, 2049.0, 9695.0, 3006.0, 1856.0, 18044.0, 5657.0, 6595.0, 1984.0, 2079.0, 2104.0, 2232.0, 3366.0, 1407.0, 1699.0, 9715.0, 1472.0, 1771.0, 3144.0, 1843.0, 1365.0, 1085.0, 1061.0, 1446.0, 2104.3557856254033, 1699.484307802653, 911.4662724253851, 782.1047683751337, 740.6300768873909, 620.1562510882837, 518.4446158828456, 491.78226795660055, 421.6703482003479, 384.14571225448816, 352.5459355651185, 348.5960872809437, 316.0087619642446, 307.12142218454227, 290.3342406610064, 257.74687142369316, 245.89689602845337, 240.95951125149023, 226.14707624199863, 217.2596456344247, 213.3096384976249, 197.50985315862812, 183.68500764536174, 182.69742225971947, 177.7600054352811, 177.75996105942062, 176.7724868840595, 174.79755568146322, 170.8475598717709, 164.9226831379965, 3006.2480878303995, 703.625187769439, 4731.705725069635, 891.372856194353, 1069.784855999875, 542.3861536399371, 330.6947081594496, 18044.080370235133, 1279.3908565454171, 657.616163073666, 673.7707083567831, 979.2172934489286, 496.87947683529444, 728.3070188657756, 679.6402025763662, 1012.9234931575932, 3993.1201865775697, 9695.317091544543, 3895.6562634049346, 6595.216335304526, 3162.861828893838, 2028.5546267591724, 1456.6647576749842, 1433.6837964902022, 1062.2333752476352, 1846.2200927248678, 1495.3359134706795, 5657.735078292939, 1636.1411647022892, 1936.7187890118046, 6879.720036571512, 9715.702950020997, 1472.4119000605572, 1365.729436194258, 591.7781506154082, 527.3661567055836, 427.7286092682613, 353.2523013029877, 353.25227336608975, 342.18145148135727, 336.1427843158179, 314.0010825594658, 310.98185887962956, 277.7693221606275, 271.7307116776683, 268.7113642977416, 250.59557665867092, 245.56331128955688, 223.4216570756986, 220.40172028316974, 206.31225774597988, 201.27997538088937, 201.2800148072674, 188.19632856506868, 182.15770438476375, 176.1189614365342, 164.04180898270204, 161.02247128532434, 153.9774270642158, 142.9066296059577, 129.82278876601828, 125.79712808412742, 1557.446806991096, 636.9594157696027, 681.9986894501245, 415.1883073233309, 1507.425960582257, 930.9469320597861, 494.11987937952614, 592.6831733893155, 615.3820408636403, 3366.2941466372113, 435.74943020844887, 1007.5623056422247, 377.38230504437155, 676.6938748604717, 932.7869178540233, 686.8056272643612, 9715.702950020997, 1488.101342468441, 1846.2200927248678, 1362.9395693526349, 602.9418557090029, 1936.7187890118046, 11320.673339642884, 18044.080370235133, 607.7750954679233, 530.5209233020598, 2232.2567161586535, 2099.476449682572, 2028.5546267591724, 6874.583451911498, 170.6818030521479, 168.74258500214972, 94.08210867819778, 1984.4545854154817, 104.1933023209425, 410.7186497792588, 226.99628193228617, 1771.313912899703, 83.01586068837007, 84.00476023485437, 63.52712689076544, 532.2754639126478, 726.683575711117, 3870.735412279456, 4412.980036135033, 1447.6532128908848, 78.35567956212628, 332.2034840422287, 502.1601629014698, 102.30269306651677, 559.7547475289736, 639.2907071669249, 288.3004197253369, 816.3252877061801, 52.68496841981544, 85.40977626424521, 314.44876003809696, 323.33858281109855, 96.35200322327913, 1869.8228007847356, 11320.673339642884, 5657.735078292939, 3144.9133359913844, 826.1456884964196, 593.5154233003518, 9695.317091544543, 3162.861828893838, 756.5428722672266, 3993.1201865775697, 2099.476449682572, 9715.702950020997, 3366.2941466372113, 18044.080370235133, 4731.705725069635, 3895.6562634049346, 6879.720036571512, 6595.216335304526, 1636.1411647022892, 1062.2333752476352, 1307.339099985234, 1407.1148415268922, 643.708490970572, 541.1163316391419, 533.0698425407385, 389.2397176837194, 311.792671674776, 278.6011241500854, 267.53728572134986, 229.31649543708045, 205.17729890743536, 198.13667779005206, 198.13669643891404, 194.1134656910056, 192.1018358763553, 165.95101760168862, 140.8057550117593, 132.75930186425865, 128.73609516554922, 124.71267678535057, 115.66053034983669, 114.6548231334529, 111.63738395468582, 111.63732865388968, 106.6083627166867, 102.58497976707876, 96.5502425664614, 93.53290289631312, 93.53281607160808, 93.53282044175994, 86.49222272012693, 874.301388430828, 2079.8377885404557, 1446.5748135277838, 613.5748002826633, 6879.720036571512, 2232.2567161586535, 320.5153222087976, 1183.2614462888537, 695.3984947054024, 782.5883603595313, 878.7047979613853, 277.3343452683795, 6595.216335304526, 707.9289667968709, 1100.1184877696942, 1843.2727482560872, 663.4856251658643, 11320.673339642884, 1307.339099985234, 3144.9133359913844, 341.67367399573294, 9695.317091544543, 18044.080370235133, 3895.6562634049346, 4412.980036135033, 5657.735078292939, 9715.702950020997, 3870.735412279456, 1477.7113480922571, 3993.1201865775697, 2098.9258807474753, 2049.731772297983, 1856.029736074508, 1085.320488239506, 1061.7482911397835, 926.4644040194441, 888.543719961352, 882.3944658793042, 808.603084487394, 713.2894735861103, 675.3689617819621, 579.0303734698414, 529.8362089602051, 520.6122133233458, 512.4131571549747, 488.84082063992787, 484.7414313648968, 467.3186480590253, 448.87075860206346, 429.3980944626594, 395.57696219986747, 392.50236795080366, 358.6812852493924, 352.5320549475604, 349.45736499990545, 298.2134828296953, 296.1637295659319, 295.1387037423575, 247.99434160707486, 226.47188704092454, 997.8770392715967, 531.0400879749373, 548.855422795535, 623.2481155804248, 1843.2727482560872, 9715.702950020997, 828.5300299332181, 653.8566292949124, 9695.317091544543, 1095.324394024938, 1477.7113480922571, 6595.216335304526, 5657.735078292939, 3895.6562634049346, 1230.8622035253547], \"loglift\": [30.0, 29.0, 28.0, 27.0, 26.0, 25.0, 24.0, 23.0, 22.0, 21.0, 20.0, 19.0, 18.0, 17.0, 16.0, 15.0, 14.0, 13.0, 12.0, 11.0, 10.0, 9.0, 8.0, 7.0, 6.0, 5.0, 4.0, 3.0, 2.0, 1.0, 1.3455, 1.3454, 1.345, 1.3449, 1.3448, 1.3446, 1.3443, 1.3443, 1.344, 1.3438, 1.3436, 1.3436, 1.3434, 1.3433, 1.3431, 1.3428, 1.3426, 1.3425, 1.3423, 1.3422, 1.3421, 1.3418, 1.3415, 1.3415, 1.3413, 1.3413, 1.3413, 1.3413, 1.3412, 1.341, 1.3153, 1.2424, 1.0385, 1.1928, 1.1671, 1.2159, 1.2692, 0.7443, 1.0304, 1.1115, 1.1053, 1.0057, 1.1549, 1.0404, 1.0566, 0.8604, 0.3082, -0.0634, 0.2197, -0.0172, 0.2949, 0.4798, 0.6418, 0.6285, 0.8005, 0.471, 0.5563, -0.5072, 0.4192, 0.1537, -1.0351, -1.4457, 1.4819, 1.4819, 1.4811, 1.4809, 1.4806, 1.4802, 1.4802, 1.4801, 1.4801, 1.4799, 1.4799, 1.4796, 1.4795, 1.4795, 1.4793, 1.4792, 1.4789, 1.4787, 1.4785, 1.4785, 1.4785, 1.4782, 1.478, 1.4779, 1.4775, 1.4774, 1.4772, 1.4768, 1.4762, 1.476, 1.3936, 1.3995, 1.371, 1.4049, 1.2718, 1.2962, 1.3658, 1.3387, 1.3157, 1.0474, 1.3617, 1.2214, 1.3713, 1.2532, 1.1298, 1.208, 0.4164, 0.9354, 0.7677, 0.8696, 1.176, 0.6357, -0.3279, -0.583, 1.1557, 1.2234, 0.1796, 0.1191, 0.0871, 1.7029, 1.6982, 1.6981, 1.6943, 1.6246, 1.6177, 1.5947, 1.5642, 1.4899, 1.4812, 1.4755, 1.455, 1.4196, 1.4144, 1.4065, 1.4056, 1.399, 1.3797, 1.3586, 1.3537, 1.3516, 1.349, 1.3411, 1.3298, 1.3111, 1.3101, 1.2854, 1.2484, 1.2415, 1.2293, 1.2286, 1.1637, 1.1255, 1.0606, 1.1581, 1.1804, 0.852, 0.864, 1.0878, 0.7505, 0.6873, 0.174, 0.5219, -0.0621, 0.3732, 0.4429, 0.0605, -0.0223, 0.6559, 0.835, 0.543, 1.756, 1.7553, 1.7551, 1.755, 1.7545, 1.754, 1.7537, 1.7535, 1.753, 1.7526, 1.7525, 1.7525, 1.7524, 1.7524, 1.7516, 1.7508, 1.7504, 1.7503, 1.7499, 1.7495, 1.7495, 1.7493, 1.7493, 1.749, 1.7486, 1.7481, 1.7479, 1.7479, 1.7478, 1.7472, 1.7393, 1.641, 1.6339, 1.6443, 1.4182, 1.4391, 1.6334, 1.3979, 1.4592, 1.438, 1.4093, 1.5973, 0.9634, 1.3723, 1.2401, 1.0275, 1.3097, 0.2662, 1.033, 0.6769, 1.5206, 0.0419, -0.2687, 0.298, 0.1817, -0.0486, -0.48, 0.0536, 0.6911, -0.1589, 1.8457, 1.8457, 1.8456, 1.8453, 1.8453, 1.8452, 1.8452, 1.8452, 1.8451, 1.8449, 1.8449, 1.8447, 1.8446, 1.8445, 1.8445, 1.8444, 1.8444, 1.8444, 1.8443, 1.8442, 1.844, 1.844, 1.8438, 1.8438, 1.8438, 1.8434, 1.8434, 1.8433, 1.8428, 1.8425, 1.6391, 1.6888, 1.6582, 1.5784, 1.187, 0.5395, 1.465, 1.549, -0.06, 1.1894, 0.9835, -0.3292, -0.2961, 0.0076, 0.8805], \"logprob\": [30.0, 29.0, 28.0, 27.0, 26.0, 25.0, 24.0, 23.0, 22.0, 21.0, 20.0, 19.0, 18.0, 17.0, 16.0, 15.0, 14.0, 13.0, 12.0, 11.0, 10.0, 9.0, 8.0, 7.0, 6.0, 5.0, 4.0, 3.0, 2.0, 1.0, -3.816, -4.0298, -4.6533, -4.8065, -4.861, -5.0388, -5.2182, -5.271, -5.4251, -5.5185, -5.6045, -5.6158, -5.7142, -5.7428, -5.7992, -5.9186, -5.9658, -5.9862, -6.0498, -6.0901, -6.1085, -6.1857, -6.2586, -6.264, -6.2916, -6.2916, -6.2971, -6.3084, -6.3314, -6.3669, -3.4896, -5.0147, -3.3128, -4.8278, -4.671, -5.3014, -5.7429, -2.2685, -4.6288, -5.2132, -5.1952, -4.9209, -5.4501, -5.1822, -5.2351, -5.0323, -4.2128, -3.6973, -4.326, -4.0365, -4.4592, -4.7184, -4.8876, -4.9169, -5.0447, -4.8214, -4.947, -4.6798, -4.994, -5.0908, -5.0121, -5.0775, -4.0367, -4.112, -4.9491, -5.0645, -5.2743, -5.466, -5.466, -5.4979, -5.5157, -5.584, -5.5937, -5.707, -5.729, -5.7402, -5.8102, -5.8306, -5.9254, -5.9392, -6.0054, -6.0302, -6.0302, -6.0977, -6.1304, -6.1643, -6.2357, -6.2543, -6.2993, -6.3743, -6.471, -6.5027, -4.0689, -4.9571, -4.9174, -5.3797, -4.2234, -4.6809, -5.2448, -5.09, -5.0754, -3.6444, -5.3746, -4.6766, -5.5088, -5.0429, -4.8453, -5.0733, -3.2154, -4.5727, -4.5248, -4.7263, -5.2355, -4.6089, -3.8068, -3.5958, -5.2479, -5.3161, -4.9229, -5.0448, -5.1112, -2.2749, -5.9754, -5.9869, -6.5749, -3.5956, -6.5493, -5.2007, -5.8242, -3.8439, -6.9131, -6.9069, -7.2068, -5.1166, -4.8104, -3.1457, -3.0154, -4.1366, -7.0724, -5.649, -5.2407, -6.8338, -5.1368, -5.0119, -5.8195, -4.7974, -7.5389, -7.0804, -5.8141, -5.7932, -7.016, -4.0511, -2.3153, -3.047, -3.6991, -4.9384, -5.2469, -2.7819, -3.8901, -5.0968, -3.7705, -4.4766, -3.4578, -4.1699, -3.0749, -3.978, -4.1028, -3.9165, -4.0415, -4.7573, -5.0102, -5.0946, -3.808, -4.5908, -4.7646, -4.7796, -5.0946, -5.317, -5.4299, -5.4706, -5.6252, -5.7368, -5.7719, -5.7719, -5.7925, -5.8029, -5.95, -6.1151, -6.1743, -6.2053, -6.2374, -6.3131, -6.3219, -6.3488, -6.3488, -6.3952, -6.434, -6.4952, -6.5271, -6.5271, -6.5272, -6.6061, -4.3006, -3.5323, -3.9025, -4.7497, -2.5588, -3.6635, -5.41, -4.3394, -4.8096, -4.7127, -4.6256, -5.5908, -3.0558, -4.8787, -4.57, -4.2666, -5.0062, -3.2128, -4.6045, -4.0829, -5.4588, -3.5921, -3.2815, -4.2477, -4.2393, -4.2212, -4.1118, -4.4985, -4.8239, -4.6799, -3.3185, -3.3422, -3.4415, -3.9784, -4.0003, -4.1367, -4.1786, -4.1855, -4.273, -4.3985, -4.4532, -4.6073, -4.6962, -4.7138, -4.7297, -4.7769, -4.7853, -4.822, -4.8623, -4.9067, -4.989, -4.9968, -5.0871, -5.1044, -5.1132, -5.2721, -5.2791, -5.2826, -5.4571, -5.5482, -4.2686, -4.8497, -4.8473, -4.7999, -4.107, -3.0924, -4.6287, -4.7815, -3.694, -4.6252, -4.5316, -4.3485, -4.4687, -4.5381, -4.8173]}, \"token.table\": {\"Topic\": [1, 5, 1, 5, 2, 3, 2, 3, 2, 1, 4, 5, 2, 4, 2, 2, 3, 4, 4, 5, 4, 2, 5, 2, 4, 5, 1, 1, 2, 3, 5, 2, 3, 4, 1, 3, 1, 2, 3, 5, 2, 1, 4, 5, 2, 1, 3, 4, 5, 2, 3, 4, 4, 5, 2, 5, 2, 1, 5, 3, 5, 5, 2, 4, 2, 4, 5, 1, 3, 4, 5, 5, 4, 1, 4, 2, 1, 3, 4, 5, 1, 3, 1, 1, 4, 4, 1, 1, 2, 3, 4, 5, 4, 3, 4, 5, 4, 1, 1, 2, 5, 2, 3, 4, 2, 4, 5, 1, 2, 3, 4, 5, 1, 3, 1, 2, 5, 1, 2, 4, 5, 4, 1, 4, 5, 1, 2, 4, 5, 1, 2, 5, 2, 2, 3, 1, 3, 4, 5, 2, 3, 4, 4, 5, 2, 1, 2, 3, 4, 5, 2, 3, 4, 2, 3, 1, 3, 4, 5, 2, 3, 4, 1, 5, 1, 2, 5, 3, 1, 2, 1, 2, 4, 1, 2, 4, 5, 1, 2, 4, 2, 3, 4, 5, 1, 2, 5, 4, 1, 1, 2, 1, 3, 4, 5, 2, 3, 1, 2, 3, 4, 5, 1, 5, 1, 2, 5, 2, 3, 4, 3, 5, 2, 2, 1, 4, 1, 2, 3, 4, 5, 2, 5, 4, 4, 4, 2, 2, 2, 4, 2, 1, 2, 1, 1, 2, 3, 4, 5, 5, 1, 2, 4, 5, 5, 1, 3, 4, 5, 2, 3, 5, 1, 2, 3, 4, 1, 2, 3, 4, 1, 2, 1, 4, 2, 2, 4, 5, 5, 2, 5, 2, 3, 4, 3, 5, 5, 1, 2, 3, 4, 5, 2, 1, 2, 3, 4, 5, 1, 2, 5, 1, 5, 1, 5, 2, 3, 1, 4, 5, 1, 2, 5, 1, 4, 5, 4, 5, 4, 2, 4, 4, 2, 3, 5, 1, 4, 1, 4, 5, 4, 2, 3, 4, 1, 5, 4, 1, 3, 5, 2, 1, 2, 3, 4, 5, 2, 1, 2, 4, 2, 2, 3, 4, 5, 2, 1, 2, 5, 1, 2, 3, 4, 5, 4, 4, 2, 4, 5, 2, 1, 1, 3, 4, 1, 2, 1, 5, 1, 4, 1, 5, 2, 3, 1, 2, 3, 4, 5, 2, 3, 5, 5, 5, 1, 2, 3, 2, 3, 4, 2, 2, 5, 4, 1, 4, 1, 1, 2, 4, 5, 1, 2, 1, 1, 1, 5, 5, 5, 5, 5, 1, 1, 5, 3, 4, 4, 1, 2, 3, 5, 2, 4, 5, 1, 1, 2, 5, 1, 2, 3, 4, 3, 1, 4, 5, 1, 5, 2, 3, 1, 2, 2], \"Freq\": [0.14499846950092035, 0.8549260409534785, 0.9991492691060577, 0.9987200893756987, 0.3034613170895737, 0.6960839489941252, 0.10225978299883132, 0.8984252363468751, 0.9968427133236425, 0.2327924194695453, 0.3444515741569726, 0.42227462136336125, 0.8858301887287602, 0.11244994623758874, 0.9993056878964873, 0.0173430201897156, 0.6867835995127378, 0.29483134322516524, 0.9943009716823586, 0.9960706546759204, 0.9942887432420465, 0.25540767274942944, 0.7432822093186989, 0.009616134541932319, 0.8909348653100293, 0.09952699250899949, 0.9984093205315211, 0.9998309289580053, 0.2050411003911734, 0.7499825484106678, 0.04541178733495787, 0.08432123623071285, 0.795028798746721, 0.1084130180109165, 0.7352528246986029, 0.2645980271694886, 0.6150513876007733, 0.07897931140940909, 0.07404310444632102, 0.23101448587252157, 0.9973108977150323, 0.48825271075370197, 0.2734215180220731, 0.2378488205243034, 0.9994658999250315, 0.09244562229554747, 0.19346717496127938, 0.7129650587416043, 0.0011628380162961947, 0.20671094391380312, 0.6360336735809327, 0.15900841839523316, 0.9968150277903378, 0.999318135365775, 0.996547295371381, 0.998541466629758, 0.9964549380191763, 0.9938603876184458, 0.9980601128824357, 0.316222696262582, 0.6831375804756542, 0.9982205191350034, 0.7206613157829144, 0.2780633844002569, 0.9997202548685322, 0.9988993605327409, 0.9997047063581875, 0.3543594817797785, 0.38566332292640204, 0.14725326875371714, 0.11269382812784474, 0.9995588787789184, 0.9942890599944614, 0.30086334775509493, 0.6989156982962459, 0.9976233552618443, 0.34968331208663844, 0.4322035150293262, 0.13753367157114624, 0.08062318678308572, 0.5799102291023325, 0.419870068473442, 0.9957247905833723, 0.9984102553020175, 0.9942905867899544, 0.9942775420529367, 0.9950390870527678, 0.4204964405433619, 0.2479598002266249, 0.08183166369308098, 0.2119735866748483, 0.03795806086968214, 0.9942854503349552, 0.7037937892132118, 0.08797422365165147, 0.2052731885205201, 0.9943090522517883, 0.9942021187103276, 0.1313497346984264, 0.8099900306402961, 0.05837765986596728, 0.29655844945094934, 0.7020931965917053, 0.9986198313537052, 0.9986850636262947, 0.8509584334807873, 0.1442302429628453, 0.9974185938044385, 0.059520436532660356, 0.7975738495376488, 0.14284904767838486, 0.9984217595059308, 0.3036919349083677, 0.6833068535438274, 0.711792984726686, 0.15931091193308897, 0.12867419809980263, 0.9991424042815288, 0.10593655406000316, 0.8931266403827958, 0.9993880774247376, 0.9942631631723607, 0.9960179565168159, 0.8829531082936544, 0.11543909896418802, 0.2421237209781373, 0.5414766850965617, 0.1870956025740152, 0.027880913324755206, 0.0691769259544481, 0.8655551954788262, 0.06411519966509824, 0.9936622162115065, 0.19138335533369413, 0.8078748716298416, 0.08299115813877392, 0.5259286419982071, 0.33959600341843116, 0.05119377954154253, 0.16591011746241854, 0.7274520534890659, 0.11486085055090514, 0.9824987256873852, 0.016012784819119198, 0.998296561762591, 0.21545375149926074, 0.15200724799027598, 0.5406170819828077, 0.07137731644760785, 0.02114883450299492, 0.0819578308968172, 0.6556626471745376, 0.25758175424713975, 0.12775539648993373, 0.8722609829312717, 0.18357899645372094, 0.31361411894177327, 0.48495451563191283, 0.017592987160148257, 0.1678252555240092, 0.6762010295565918, 0.15557523687262167, 0.16944352945683708, 0.8289979129339878, 0.154565063126289, 0.770940375837222, 0.07351265197469843, 0.9955993029137236, 0.2039326867388217, 0.7950419236629426, 0.8366168159704297, 0.163584293625503, 0.9992077110595448, 0.09635325756128073, 0.229066234957007, 0.5962994052849071, 0.07726440464819681, 0.997102306539871, 0.993646558965558, 0.9942976080084339, 0.049852933436943435, 0.7428087082104571, 0.20711627800621044, 0.0002266042428951974, 0.02038422436310529, 0.76004036553864, 0.2184024038904138, 0.994263069591127, 0.9962707482001782, 0.16971966345107747, 0.8303373408081196, 0.2557914576614271, 0.17815943257390446, 0.4524491462132178, 0.11356716170030165, 0.37363001074898483, 0.6227166845816413, 0.156776517055943, 0.00017674917368201015, 0.5613553756140642, 0.16437673152426946, 0.11736145132485475, 0.9253247555822918, 0.07257449063390524, 0.9949277423300792, 0.9199958199722484, 0.07849793685770039, 0.07440446564401008, 0.7432696099229757, 0.1821359315243997, 0.92136440501996, 0.07678036708499666, 0.9981773269162617, 0.9936406264253653, 0.7373264105518214, 0.26225203801750074, 0.06134399158413051, 0.34439093261828974, 0.21676249375197792, 0.1068373544703481, 0.27069580178903224, 0.9248815374296108, 0.07225637011168834, 0.9942910793228885, 0.9979369840201269, 0.9942934803500976, 0.9964550168236512, 0.998486479914517, 0.8956434774022034, 0.10334347816179269, 0.9936557904384311, 0.10410577190000939, 0.8944298712536017, 0.9981355487649206, 0.3036062867444077, 0.428559894554181, 0.10584913058265916, 0.1481887828157228, 0.013424767781215307, 0.9959904665540704, 0.4942798239652673, 0.08787196870493641, 0.2890163970685799, 0.12837545427986805, 0.998279970484406, 0.244344767440979, 0.42701027319782736, 0.17998379872710354, 0.1486284549947027, 0.2675006615376532, 0.21363534061368886, 0.5185678353357918, 0.9944053594057498, 0.3038205046579842, 0.5798008833911332, 0.11499182447214541, 0.11391453773620003, 0.12193668828100285, 0.6225188822766988, 0.1417246596248498, 0.9988487728479927, 0.9936431886095214, 0.996182637657974, 0.9942643136577597, 0.9936408210579953, 0.9936491252494546, 0.9942638410630511, 0.9994987351727391, 0.9991937030710363, 0.18639571077391584, 0.8127253840733643, 0.22004998218838812, 0.14016882427068558, 0.6390492633416203, 0.999915129125193, 0.9995529597084325, 0.9986912137338826, 0.4540785745084118, 0.2547922487300514, 0.07824328898009453, 0.1283992434545141, 0.08426200351702487, 0.9966003009163386, 0.324207248946573, 0.0005133923182051829, 0.28364925580836353, 0.23256672014694785, 0.1591516186436067, 0.4170683674358369, 0.48910744908384507, 0.09370497086545426, 0.7866177520429518, 0.2137225590456322, 0.9010479030886349, 0.09806357304907856, 0.0750836028675376, 0.9246873239055805, 0.7489256787201423, 0.082396538326774, 0.1677358101652185, 0.7907348225286088, 0.1794359789584151, 0.028892233900083785, 0.049755077121371394, 0.790227695457075, 0.16097230833384862, 0.9943025087449293, 0.9992952273660076, 0.9942692873148194, 0.7032688682096857, 0.2969595678263459, 0.997991735171039, 0.04144639024437576, 0.7377457463498887, 0.22035664146593115, 0.3178284977065506, 0.6808592706424772, 0.05322918612983378, 0.884848808392042, 0.06152464370850918, 0.9942821384740416, 0.1762857977060555, 0.6309175917900934, 0.191749464171499, 0.9956300502545616, 0.9961418013702752, 0.9979930537138636, 0.32010081946746843, 0.2989774151371279, 0.3810337165742201, 0.9981127296197803, 0.18957107142600965, 0.2557780536577065, 0.36199501076323454, 0.12622194454244362, 0.06620698223169684, 0.9936521405581862, 0.14649539905554063, 0.5785896265450481, 0.27417487529660817, 0.9972303559131609, 0.40605515971240497, 0.5930764158455044, 0.482294332643435, 0.517557697797342, 0.9968118499741918, 0.10589683041164889, 0.1283597944383623, 0.7653452743387352, 0.5478805124536904, 0.12674516811466618, 0.17119187770275637, 0.13195463282947975, 0.022223354794045098, 0.9974576962616915, 0.9978423484401966, 0.27192212956785144, 0.7279628674592399, 0.9988240511696072, 0.9936444939912156, 0.9997150266110553, 0.8582267170060663, 0.1413549886833521, 0.9943034317367269, 0.8776035243628149, 0.11984081740248523, 0.9699798269491686, 0.02993764897991261, 0.996807803815393, 0.9942806127058803, 0.8251497981187634, 0.17308020155661868, 0.9973526824978143, 0.9884982522883381, 0.0280018679533774, 0.16359450930490518, 0.5831808587640303, 0.2252516191833198, 0.9994451941935554, 0.6472993461301446, 0.3068656377018997, 0.04574763621112541, 0.9984704600908382, 0.999254164992734, 0.28078690907161025, 0.011948379109430224, 0.7049543674563833, 0.10836731620618341, 0.7073977585681417, 0.18362239690492188, 0.9936501329462732, 0.7701756959887202, 0.22926621878014736, 0.9943033852796975, 0.2721737388250255, 0.7270744478471338, 0.9957245420114604, 0.18907295773312457, 0.7363894143290115, 0.04975604150871699, 0.02653655547131573, 0.08475409844334712, 0.9149590172861337, 0.9963486031792714, 0.9970175060714224, 0.9982900345049963, 0.9979163548858527, 0.9994536885719644, 0.9990729011893786, 0.9959308250647128, 0.998192215595686, 0.9954372606736183, 0.9963525524602409, 0.9984907615063839, 0.2559683424040307, 0.7434586124881117, 0.994262041104428, 0.39605384546260075, 0.12712839483984714, 0.35082547422150123, 0.12590600642792554, 0.8904721675082465, 0.10928522055783026, 0.9996429911913974, 0.9984514484212011, 0.053625224346305414, 0.8466285419522764, 0.09912541470074637, 0.9994884369948825, 0.9936633840830266, 0.7870653443209346, 0.20463698952344297, 0.9960054145201431, 0.2810955403601363, 0.7067219860876301, 0.01138038624939823, 0.9985874419645479, 0.9981005832269206, 0.24611316673709863, 0.7533693119204317, 0.7292532967753622, 0.27044120116213866, 0.9977060445772673], \"Term\": [\"access\", \"access\", \"air\", \"airport\", \"amaze\", \"amaze\", \"amazing\", \"amazing\", \"another\", \"area\", \"area\", \"area\", \"arrival\", \"arrival\", \"arrive\", \"atmosphere\", \"atmosphere\", \"atmosphere\", \"attitude\", \"attraction\", \"average\", \"away\", \"away\", \"bar\", \"bar\", \"bar\", \"bath\", \"bathroom\", \"beautiful\", \"beautiful\", \"beautiful\", \"beautifully\", \"beautifully\", \"beautifully\", \"bed\", \"bed\", \"big\", \"big\", \"big\", \"big\", \"birthday\", \"bit\", \"bit\", \"bit\", \"book\", \"breakfast\", \"breakfast\", \"breakfast\", \"breakfast\", \"brilliant\", \"brilliant\", \"brilliant\", \"buffet\", \"bus\", \"call\", \"car\", \"card\", \"carpet\", \"center\", \"central\", \"central\", \"centre\", \"charge\", \"charge\", \"check\", \"choice\", \"city\", \"clean\", \"clean\", \"clean\", \"clean\", \"close\", \"cocktail\", \"coffee\", \"coffee\", \"com\", \"comfortable\", \"comfortable\", \"comfortable\", \"comfortable\", \"comfy\", \"comfy\", \"con\", \"condition\", \"continental\", \"cook\", \"corridor\", \"could\", \"could\", \"could\", \"could\", \"could\", \"courteous\", \"cozy\", \"cozy\", \"cozy\", \"croissant\", \"dark\", \"day\", \"day\", \"day\", \"definitely\", \"definitely\", \"delicious\", \"desk\", \"dinner\", \"dinner\", \"dirty\", \"dislike\", \"dislike\", \"dislike\", \"distance\", \"dlr\", \"dlr\", \"door\", \"door\", \"door\", \"double\", \"drink\", \"drink\", \"easy\", \"egg\", \"elevator\", \"english\", \"english\", \"even\", \"even\", \"even\", \"even\", \"every\", \"every\", \"every\", \"everyone\", \"everything\", \"everything\", \"excellent\", \"excellent\", \"excellent\", \"excellent\", \"exceptionally\", \"exceptionally\", \"exceptionally\", \"expensive\", \"expensive\", \"experience\", \"extremely\", \"extremely\", \"extremely\", \"extremely\", \"extremely\", \"fab\", \"fab\", \"fab\", \"fabulous\", \"fabulous\", \"facility\", \"facility\", \"facility\", \"facility\", \"fantastic\", \"fantastic\", \"fantastic\", \"far\", \"far\", \"feel\", \"feel\", \"feel\", \"fi\", \"first\", \"first\", \"floor\", \"floor\", \"food\", \"free\", \"free\", \"free\", \"free\", \"fridge\", \"friend\", \"friendliness\", \"friendly\", \"friendly\", \"friendly\", \"friendly\", \"front\", \"front\", \"front\", \"fruit\", \"furniture\", \"give\", \"give\", \"good\", \"good\", \"good\", \"good\", \"gorgeous\", \"gorgeous\", \"great\", \"great\", \"great\", \"great\", \"great\", \"hear\", \"hear\", \"heat\", \"help\", \"help\", \"helpful\", \"helpful\", \"helpful\", \"helpfull\", \"helpfull\", \"highly\", \"home\", \"hot\", \"hot\", \"hotel\", \"hotel\", \"hotel\", \"hotel\", \"hotel\", \"hour\", \"hour\", \"improve\", \"include\", \"juice\", \"know\", \"last\", \"late\", \"late\", \"later\", \"leave\", \"leave\", \"light\", \"like\", \"like\", \"like\", \"like\", \"like\", \"line\", \"little\", \"little\", \"little\", \"little\", \"locate\", \"location\", \"location\", \"location\", \"location\", \"london\", \"london\", \"london\", \"loud\", \"love\", \"love\", \"love\", \"lovely\", \"lovely\", \"lovely\", \"lovely\", \"machine\", \"manager\", \"mattress\", \"meal\", \"member\", \"mention\", \"menu\", \"metro\", \"min\", \"minute\", \"minute\", \"money\", \"money\", \"money\", \"na\", \"near\", \"nearby\", \"need\", \"need\", \"need\", \"need\", \"need\", \"never\", \"nice\", \"nice\", \"nice\", \"nice\", \"nice\", \"night\", \"night\", \"night\", \"noise\", \"noise\", \"noisy\", \"noisy\", \"nothing\", \"nothing\", \"old\", \"old\", \"old\", \"open\", \"open\", \"open\", \"option\", \"option\", \"option\", \"overprice\", \"park\", \"parking\", \"pay\", \"pay\", \"per\", \"perfect\", \"perfect\", \"perfect\", \"poor\", \"poor\", \"price\", \"price\", \"price\", \"pricey\", \"professional\", \"professional\", \"professional\", \"properly\", \"public\", \"quality\", \"quiet\", \"quiet\", \"quiet\", \"ready\", \"really\", \"really\", \"really\", \"really\", \"really\", \"receive\", \"reception\", \"reception\", \"reception\", \"receptionist\", \"recommend\", \"recommend\", \"restaurant\", \"restaurant\", \"return\", \"right\", \"right\", \"right\", \"room\", \"room\", \"room\", \"room\", \"room\", \"selection\", \"serve\", \"service\", \"service\", \"shop\", \"show\", \"shower\", \"size\", \"size\", \"sky\", \"sleep\", \"sleep\", \"small\", \"small\", \"smell\", \"snack\", \"space\", \"space\", \"special\", \"spotless\", \"staff\", \"staff\", \"staff\", \"staff\", \"station\", \"stay\", \"stay\", \"stay\", \"stop\", \"street\", \"super\", \"super\", \"super\", \"superb\", \"superb\", \"superb\", \"surprise\", \"take\", \"take\", \"tasty\", \"tea\", \"tea\", \"temperature\", \"thing\", \"thing\", \"thing\", \"thing\", \"time\", \"time\", \"tiny\", \"toilet\", \"towel\", \"tower\", \"train\", \"tram\", \"transport\", \"tube\", \"twin\", \"uncomfortable\", \"underground\", \"value\", \"value\", \"variety\", \"view\", \"view\", \"view\", \"view\", \"wait\", \"wait\", \"walk\", \"wall\", \"want\", \"want\", \"want\", \"water\", \"week\", \"welcoming\", \"welcoming\", \"wi\", \"wifi\", \"wifi\", \"wifi\", \"window\", \"within\", \"wonderful\", \"wonderful\", \"work\", \"work\", \"year\"]}, \"R\": 30, \"lambda.step\": 0.01, \"plot.opts\": {\"xlab\": \"PC1\", \"ylab\": \"PC2\"}, \"topic.order\": [3, 1, 2, 5, 4]};\n",
       "\n",
       "function LDAvis_load_lib(url, callback){\n",
       "  var s = document.createElement('script');\n",
       "  s.src = url;\n",
       "  s.async = true;\n",
       "  s.onreadystatechange = s.onload = callback;\n",
       "  s.onerror = function(){console.warn(\"failed to load library \" + url);};\n",
       "  document.getElementsByTagName(\"head\")[0].appendChild(s);\n",
       "}\n",
       "\n",
       "if(typeof(LDAvis) !== \"undefined\"){\n",
       "   // already loaded: just create the visualization\n",
       "   !function(LDAvis){\n",
       "       new LDAvis(\"#\" + \"ldavis_el450451122959926562686650445\", ldavis_el450451122959926562686650445_data);\n",
       "   }(LDAvis);\n",
       "}else if(typeof define === \"function\" && define.amd){\n",
       "   // require.js is available: use it to load d3/LDAvis\n",
       "   require.config({paths: {d3: \"https://cdnjs.cloudflare.com/ajax/libs/d3/3.5.5/d3.min\"}});\n",
       "   require([\"d3\"], function(d3){\n",
       "      window.d3 = d3;\n",
       "      LDAvis_load_lib(\"https://cdn.rawgit.com/bmabey/pyLDAvis/files/ldavis.v1.0.0.js\", function(){\n",
       "        new LDAvis(\"#\" + \"ldavis_el450451122959926562686650445\", ldavis_el450451122959926562686650445_data);\n",
       "      });\n",
       "    });\n",
       "}else{\n",
       "    // require.js not available: dynamically load d3 & LDAvis\n",
       "    LDAvis_load_lib(\"https://cdnjs.cloudflare.com/ajax/libs/d3/3.5.5/d3.min.js\", function(){\n",
       "         LDAvis_load_lib(\"https://cdn.rawgit.com/bmabey/pyLDAvis/files/ldavis.v1.0.0.js\", function(){\n",
       "                 new LDAvis(\"#\" + \"ldavis_el450451122959926562686650445\", ldavis_el450451122959926562686650445_data);\n",
       "            })\n",
       "         });\n",
       "}\n",
       "</script>"
      ],
      "text/plain": [
       "PreparedData(topic_coordinates=               x          y  topics  cluster       Freq\n",
       "topic                                                  \n",
       "2       2.789363 -40.344261       1        1  26.029893\n",
       "0      85.265717 -61.325352       2        1  22.707355\n",
       "1      45.892746 -91.278244       3        1  18.213631\n",
       "4      49.557606 -24.664610       4        1  17.263531\n",
       "3      -3.573308 -91.121895       5        1  15.785590, topic_info=    Category          Freq       Term         Total  loglift  logprob\n",
       "580  Default   6874.000000         na   6874.000000  30.0000  30.0000\n",
       "831  Default  11320.000000      staff  11320.000000  29.0000  29.0000\n",
       "118  Default   6879.000000  breakfast   6879.000000  28.0000  28.0000\n",
       "376  Default   4412.000000   friendly   4412.000000  27.0000  27.0000\n",
       "88   Default   4731.000000        bed   4731.000000  26.0000  26.0000\n",
       "..       ...           ...        ...           ...      ...      ...\n",
       "51    Topic5    623.687519       area   1477.711348   0.9835  -4.5316\n",
       "393   Topic5    749.051913       good   6595.216335  -0.3292  -4.3485\n",
       "395   Topic5    664.191365      great   5657.735078  -0.2961  -4.4687\n",
       "594   Topic5    619.664779       nice   3895.656263   0.0076  -4.5381\n",
       "705   Topic5    468.683277      quiet   1230.862204   0.8805  -4.8173\n",
       "\n",
       "[307 rows x 6 columns], token_table=      Topic      Freq       Term\n",
       "term                            \n",
       "5         1  0.144998     access\n",
       "5         5  0.854926     access\n",
       "20        1  0.999149        air\n",
       "22        5  0.998720    airport\n",
       "32        2  0.303461      amaze\n",
       "...     ...       ...        ...\n",
       "990       2  0.246113  wonderful\n",
       "990       3  0.753369  wonderful\n",
       "991       1  0.729253       work\n",
       "991       2  0.270441       work\n",
       "997       2  0.997706       year\n",
       "\n",
       "[443 rows x 3 columns], R=30, lambda_step=0.01, plot_opts={'xlab': 'PC1', 'ylab': 'PC2'}, topic_order=[3, 1, 2, 5, 4])"
      ]
     },
     "execution_count": 73,
     "metadata": {},
     "output_type": "execute_result"
    }
   ],
   "source": [
    "#prepare to display result in the Jupyter notebook\n",
    "pyLDAvis.enable_notebook()\n",
    "\n",
    "#run the visualization [mds is a function to use for visualizing the \"distance\" between topics]\n",
    "pyLDAvis.sklearn.prepare(lda_hotel_positive_corpus, bow_hotel_positive_corpus, bow_vectorizer, mds='tsne')"
   ]
  },
  {
   "cell_type": "code",
   "execution_count": 135,
   "metadata": {},
   "outputs": [
    {
     "data": {
      "text/html": [
       "<div>\n",
       "<style scoped>\n",
       "    .dataframe tbody tr th:only-of-type {\n",
       "        vertical-align: middle;\n",
       "    }\n",
       "\n",
       "    .dataframe tbody tr th {\n",
       "        vertical-align: top;\n",
       "    }\n",
       "\n",
       "    .dataframe thead th {\n",
       "        text-align: right;\n",
       "    }\n",
       "</style>\n",
       "<table border=\"1\" class=\"dataframe\">\n",
       "  <thead>\n",
       "    <tr style=\"text-align: right;\">\n",
       "      <th></th>\n",
       "      <th>Topic_0</th>\n",
       "      <th>Topic_1</th>\n",
       "      <th>Topic_2</th>\n",
       "      <th>Topic_3</th>\n",
       "      <th>Topic_4</th>\n",
       "      <th>dominant_topic</th>\n",
       "    </tr>\n",
       "  </thead>\n",
       "  <tbody>\n",
       "    <tr>\n",
       "      <td>Doc_0</td>\n",
       "      <td>0.4343</td>\n",
       "      <td>0.0223</td>\n",
       "      <td>0.0224</td>\n",
       "      <td>0.0225</td>\n",
       "      <td>0.4985</td>\n",
       "      <td>4</td>\n",
       "    </tr>\n",
       "    <tr>\n",
       "      <td>Doc_1</td>\n",
       "      <td>0.0694</td>\n",
       "      <td>0.7299</td>\n",
       "      <td>0.0667</td>\n",
       "      <td>0.0667</td>\n",
       "      <td>0.0673</td>\n",
       "      <td>1</td>\n",
       "    </tr>\n",
       "    <tr>\n",
       "      <td>Doc_2</td>\n",
       "      <td>0.0148</td>\n",
       "      <td>0.0144</td>\n",
       "      <td>0.2247</td>\n",
       "      <td>0.6171</td>\n",
       "      <td>0.1290</td>\n",
       "      <td>3</td>\n",
       "    </tr>\n",
       "    <tr>\n",
       "      <td>Doc_3</td>\n",
       "      <td>0.0336</td>\n",
       "      <td>0.8648</td>\n",
       "      <td>0.0336</td>\n",
       "      <td>0.0339</td>\n",
       "      <td>0.0341</td>\n",
       "      <td>1</td>\n",
       "    </tr>\n",
       "    <tr>\n",
       "      <td>Doc_4</td>\n",
       "      <td>0.2815</td>\n",
       "      <td>0.2811</td>\n",
       "      <td>0.3404</td>\n",
       "      <td>0.0078</td>\n",
       "      <td>0.0892</td>\n",
       "      <td>2</td>\n",
       "    </tr>\n",
       "  </tbody>\n",
       "</table>\n",
       "</div>"
      ],
      "text/plain": [
       "       Topic_0  Topic_1  Topic_2  Topic_3  Topic_4  dominant_topic\n",
       "Doc_0   0.4343   0.0223   0.0224   0.0225   0.4985               4\n",
       "Doc_1   0.0694   0.7299   0.0667   0.0667   0.0673               1\n",
       "Doc_2   0.0148   0.0144   0.2247   0.6171   0.1290               3\n",
       "Doc_3   0.0336   0.8648   0.0336   0.0339   0.0341               1\n",
       "Doc_4   0.2815   0.2811   0.3404   0.0078   0.0892               2"
      ]
     },
     "execution_count": 135,
     "metadata": {},
     "output_type": "execute_result"
    }
   ],
   "source": [
    "lda_hotel_positive_topic_weights = lda_hotel_positive_corpus.transform(bow_hotel_positive_corpus)\n",
    "#array of document \"names\" and topic \"names\" (\"names\" are just indecies)\n",
    "doc_names = [\"Doc_\" + str(i) for i in range(len(normalized_hotel_positive_corpus))]\n",
    "topic_names = [\"Topic_\" + str(i) for i in range(5)]\n",
    "\n",
    "#convert to dataframe\n",
    "df_document_positive_topic = pd.DataFrame(np.round(lda_hotel_positive_topic_weights, 4), columns=topic_names, index=doc_names)\n",
    "\n",
    "#vector of indecies for columns with the highest value by each row in df_document_topic\n",
    "positive_dominant_topic = np.argmax(df_document_positive_topic.values, axis=1)\n",
    "\n",
    "#add dominant_topic as a column to df_document_topic\n",
    "df_document_positive_topic['dominant_topic'] = positive_dominant_topic\n",
    "df_document_positive_topic.head(5)"
   ]
  },
  {
   "cell_type": "code",
   "execution_count": 136,
   "metadata": {},
   "outputs": [
    {
     "data": {
      "text/plain": [
       "Service Utility       7114\n",
       "Bathroom Condition    6699\n",
       "Food                  4048\n",
       "Booking Service       3937\n",
       "Location              2845\n",
       "Name: dominant_topic, dtype: int64"
      ]
     },
     "execution_count": 136,
     "metadata": {},
     "output_type": "execute_result"
    }
   ],
   "source": [
    "df_document_positive_topic.columns=['Booking Service','Service Utility','Bathroom Condition','Location','Food','dominant_topic']\n",
    "df_document_positive_topic.loc[df_document_positive_topic['dominant_topic']==0, 'topic_name'] = \"Booking Service\"\n",
    "df_document_positive_topic.loc[df_document_positive_topic['dominant_topic']==1, 'topic_name'] = \"Service Utility\"\n",
    "df_document_positive_topic.loc[df_document_positive_topic['dominant_topic']==2, 'topic_name'] = \"Bathroom Condition\"\n",
    "df_document_positive_topic.loc[df_document_positive_topic['dominant_topic']==3, 'topic_name'] = \"Location\"\n",
    "df_document_positive_topic.loc[df_document_positive_topic['dominant_topic']==4, 'topic_name'] = \"Food\"\n",
    "\n",
    "df_document_positive_topic=df_document_positive_topic.drop(columns=['dominant_topic'])\n",
    "df_document_positive_topic.columns=['Booking Service','Service Utility','Bathroom Condition','Location','Food','dominant_topic']\n",
    "\n",
    "pd.value_counts(df_document_positive_topic['dominant_topic'])"
   ]
  },
  {
   "cell_type": "code",
   "execution_count": 77,
   "metadata": {},
   "outputs": [],
   "source": [
    "#tokenizing the corpus\n",
    "hotel_positive_corpus_tokenized = [tokenize_text(normalized_hotel_positive_corpus[doc_id]) for doc_id in range(len(normalized_hotel_positive_corpus))]\n",
    "\n",
    "#Dictionary of the corpus:\n",
    "hotel_positive_dictionary = Dictionary(hotel_positive_corpus_tokenized)\n",
    "\n",
    "#Bag-of-words representation for each document of the corpus:\n",
    "hotel_positive_corpus_bow = [hotel_positive_dictionary.doc2bow(doc) for doc in hotel_positive_corpus_tokenized]\n",
    "\n",
    "#top 20 words for each topic (using the function defined in session prep)\n",
    "topic_topwords = get_topic_words(vectorizer = bow_vectorizer, lda_model = lda_hotel_positive_corpus, n_words=20)"
   ]
  },
  {
   "cell_type": "code",
   "execution_count": 78,
   "metadata": {},
   "outputs": [
    {
     "name": "stdout",
     "output_type": "stream",
     "text": [
      "Coherence score for the model:  -2.2134\n",
      "Coherence score by topic (higher values are better):  [-2.474  -1.8719 -2.3385 -2.1987 -2.1838]\n"
     ]
    }
   ],
   "source": [
    "#Coherence score\n",
    "cm = CoherenceModel(topics=topic_topwords, \n",
    "                    corpus = hotel_positive_corpus_bow , \n",
    "                    dictionary = hotel_positive_dictionary, coherence='u_mass')\n",
    "print(\"Coherence score for the model: \", np.round(cm.get_coherence(), 4))  # get coherence value\n",
    "print(\"Coherence score by topic (higher values are better): \", np.round(cm.get_coherence_per_topic(),4))"
   ]
  },
  {
   "cell_type": "code",
   "execution_count": 79,
   "metadata": {},
   "outputs": [
    {
     "name": "stdout",
     "output_type": "stream",
     "text": [
      "Log-Likelihood (higher values are better):  -2155070.8306442774\n"
     ]
    }
   ],
   "source": [
    "#Log-Likelihood\n",
    "print(\"Log-Likelihood (higher values are better): \", lda_hotel_positive_corpus.score(bow_hotel_positive_corpus))"
   ]
  },
  {
   "cell_type": "code",
   "execution_count": 80,
   "metadata": {},
   "outputs": [
    {
     "name": "stdout",
     "output_type": "stream",
     "text": [
      "Perplexity (lower values are better):  354.5551299331427\n"
     ]
    }
   ],
   "source": [
    "#Perplexity Score\n",
    "print(\"Perplexity (lower values are better): \", lda_hotel_positive_corpus.perplexity(bow_hotel_positive_corpus))"
   ]
  },
  {
   "cell_type": "code",
   "execution_count": null,
   "metadata": {},
   "outputs": [],
   "source": []
  }
 ],
 "metadata": {
  "colab": {
   "collapsed_sections": [],
   "machine_shape": "hm",
   "name": "Text Mining Group Projects_Hotel Reviews.ipynb",
   "provenance": []
  },
  "kernelspec": {
   "display_name": "Python 3",
   "language": "python",
   "name": "python3"
  },
  "language_info": {
   "codemirror_mode": {
    "name": "ipython",
    "version": 3
   },
   "file_extension": ".py",
   "mimetype": "text/x-python",
   "name": "python",
   "nbconvert_exporter": "python",
   "pygments_lexer": "ipython3",
   "version": "3.7.4"
  }
 },
 "nbformat": 4,
 "nbformat_minor": 4
}
