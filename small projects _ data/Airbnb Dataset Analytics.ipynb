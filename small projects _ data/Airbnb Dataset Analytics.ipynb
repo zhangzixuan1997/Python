{
 "cells": [
  {
   "cell_type": "markdown",
   "metadata": {},
   "source": [
    "# Final Project\n",
    "\n",
    "You will be asked to download data by yourselves and answer several data science questions through this final project. This project has two parts.\n",
    "\n",
    "\n",
    "## Part 1 (15 Points):\n",
    "\n",
    "This part contains 10 different data science questions that you are asked to answer. You need to download the corresponding data and write code to process the data to answer these questions. For each question, you need to provide your code to anser this question, as well as final answers. Each question will be worth 1.5 points in this part. \n",
    "\n",
    "\n",
    "## Final Submission:\n",
    "\n",
    "Your final submission will contain two files:\n",
    "\n",
    "1. The first would be this notebook. You need to provide code for your answers as well as your answers. You also need to provide visualization and executive summary using Markdown in this notebook. \n",
    "\n",
    "2. The second is the html version of this notebook. \n"
   ]
  },
  {
   "cell_type": "markdown",
   "metadata": {},
   "source": [
    "## Part 1\n",
    "\n",
    "First, you need to download the most recent datasets containing listing and reviews in **Los Angeles** from [insidearibnb.com](http://insideairbnb.com/get-the-data.html). (September,2019,detailed data)You will then need to provide the code as well as answers to the following questions.\n",
    "\n",
    "**To make sure that you downloaded the right dataset, your solution to Question 1 should be:**\n",
    "1. **Number of unique listings = 45053**\n",
    "2. **Number of unique hosts = 26286**"
   ]
  },
  {
   "cell_type": "markdown",
   "metadata": {},
   "source": [
    "### Question 1: How many unique listings are there in the LA dataset? How many unique hosts are there?\n",
    "**Question 1 Answer:**\n",
    "\n",
    "unique listings: 45053  \n",
    "unique hosts: 26286\n"
   ]
  },
  {
   "cell_type": "code",
   "execution_count": 2,
   "metadata": {},
   "outputs": [],
   "source": [
    "# You need to provide the code to answer the previous quesiton\n",
    "# (you should also briefly explain your data structure -- \n",
    "# where do you put your data and how you get your data)\n",
    "import pandas as pd\n",
    "import numpy as np\n",
    "import matplotlib.pyplot as plt\n",
    "import string\n",
    "%matplotlib inline\n",
    "import seaborn as sns\n",
    "from pandasql import sqldf\n",
    "from datetime import datetime"
   ]
  },
  {
   "cell_type": "code",
   "execution_count": 3,
   "metadata": {},
   "outputs": [],
   "source": [
    "listing = pd.read_csv(\"listings.csv\",low_memory=False)\n",
    "listing_detail = pd.read_csv(\"listings_detail.csv\",low_memory=False)\n",
    "calendar = pd.read_csv(\"calendar_detail.csv\",low_memory=False)\n",
    "neigh = pd.read_csv(\"neighbourhoods.csv\",low_memory=False)\n",
    "reviews = pd.read_csv(\"reviews.csv\",low_memory=False)\n",
    "reviews_detail = pd.read_csv(\"reviews_detail.csv\",low_memory=False)"
   ]
  },
  {
   "cell_type": "code",
   "execution_count": 12,
   "metadata": {},
   "outputs": [
    {
     "name": "stdout",
     "output_type": "stream",
     "text": [
      "45053\n",
      "26286\n"
     ]
    }
   ],
   "source": [
    "print(listing.id.unique().shape[0])\n",
    "print(listing.host_id.unique().shape[0])"
   ]
  },
  {
   "cell_type": "markdown",
   "metadata": {},
   "source": [
    "### Question 2: What is the mean, median, standard deviation, minimum and maximum of the number of listings per host in LA? (for each host, you only need to consider the listings from LA)\n",
    "**Question 2 Answer:**\n",
    "\n",
    "(You need to write your answer in this markdown cell)\n",
    "\n",
    " ('mean',               1.7139541961500417),\n",
    "\n",
    " ('median',             1.0),\n",
    " \n",
    " ('standard deviation', 2.9991833369502245),\n",
    " \n",
    " ('minimum',            1),\n",
    " \n",
    " ('maximum',            172)]\n"
   ]
  },
  {
   "cell_type": "code",
   "execution_count": 13,
   "metadata": {},
   "outputs": [
    {
     "data": {
      "text/plain": [
       "[('mean', 1.7139541961500417),\n",
       " ('median', 1.0),\n",
       " ('standard deviation', 2.9991833369502245),\n",
       " ('minimum', 1),\n",
       " ('maximum', 172)]"
      ]
     },
     "execution_count": 13,
     "metadata": {},
     "output_type": "execute_result"
    }
   ],
   "source": [
    "# You need to provide the code to answer the previous quesiton\n",
    "a = listing_detail.groupby(by=\"host_id\")['id'].count()\n",
    "summary_values_names = [\"mean\", \"median\", \"standard deviation\", \"minimum\", \"maximum\"]\n",
    "summary_values = [a.mean(),a.median(),a.std(),a.min(),a.max()]\n",
    "summary_values_tuple = list(zip(summary_values_names,summary_values))\n",
    "summary_values_tuple"
   ]
  },
  {
   "cell_type": "markdown",
   "metadata": {},
   "source": [
    "### Question 3: What is the average and standard deviation number of listings for a super host versus a non-super host? Does super host or non-super host have more listings on average?\n",
    "**Question 3 Answer:**\n",
    "\n",
    "(You need to write your answer in this markdown cell)\n",
    "\n",
    "super host:\n",
    "mean        1.824264\n",
    "std         3.177892\n",
    "\n",
    "non super host:\n",
    "mean         1.671021\n",
    "std          2.926276\n",
    "\n",
    "Super host have more listings on average\n"
   ]
  },
  {
   "cell_type": "code",
   "execution_count": 14,
   "metadata": {},
   "outputs": [
    {
     "name": "stdout",
     "output_type": "stream",
     "text": [
      "count    7369.000000\n",
      "mean        1.824264\n",
      "std         3.177892\n",
      "min         1.000000\n",
      "25%         1.000000\n",
      "50%         1.000000\n",
      "75%         2.000000\n",
      "max       172.000000\n",
      "Name: id, dtype: float64\n",
      "count    18907.000000\n",
      "mean         1.671021\n",
      "std          2.926276\n",
      "min          1.000000\n",
      "25%          1.000000\n",
      "50%          1.000000\n",
      "75%          1.000000\n",
      "max        137.000000\n",
      "Name: id, dtype: float64\n"
     ]
    }
   ],
   "source": [
    "# You need to provide the code to answer the previous quesiton\n",
    "superhost_des = listing_detail.loc[listing_detail[\"host_is_superhost\"] == \"t\",:].groupby(by = \"host_id\").id.count().describe()\n",
    "non_super_des = listing_detail.loc[listing_detail[\"host_is_superhost\"] == \"f\",:].groupby(by = \"host_id\").id.count().describe()\n",
    "print(superhost_des)\n",
    "print(non_super_des)"
   ]
  },
  {
   "cell_type": "markdown",
   "metadata": {},
   "source": [
    "### Question 4: What are the unique types of host verifications are there? (It doesn't matter if you include \"None\" or empty string as a type)\n",
    "**Question 4 Answer:**\n",
    "\n",
    "(You need to write your answer in this markdown cell)\n",
    "\n",
    "Totally 22 types:\n",
    "\n",
    "'email', 'phone', 'facebook', 'reviews', 'kba', 'jumio', 'government_id', 'offline_government_id', 'selfie', 'identity_manual', 'work_email', 'manual_online', 'manual_offline', 'google', '', 'sent_id', 'None', 'sesame', 'sesame_offline', 'photographer', 'zhima_selfie', 'weibo'"
   ]
  },
  {
   "cell_type": "code",
   "execution_count": 3,
   "metadata": {},
   "outputs": [
    {
     "name": "stderr",
     "output_type": "stream",
     "text": [
      "/Users/zhangzixuan/anaconda3/lib/python3.7/site-packages/ipykernel_launcher.py:3: SettingWithCopyWarning: \n",
      "A value is trying to be set on a copy of a slice from a DataFrame\n",
      "\n",
      "See the caveats in the documentation: http://pandas.pydata.org/pandas-docs/stable/user_guide/indexing.html#returning-a-view-versus-a-copy\n",
      "  This is separate from the ipykernel package so we can avoid doing imports until\n"
     ]
    },
    {
     "data": {
      "text/plain": [
       "dict_keys(['email', 'phone', 'facebook', 'reviews', 'kba', 'jumio', 'government_id', 'offline_government_id', 'selfie', 'identity_manual', 'work_email', 'manual_online', 'manual_offline', 'google', '', 'sent_id', 'None', 'sesame', 'sesame_offline', 'photographer', 'zhima_selfie', 'weibo'])"
      ]
     },
     "execution_count": 3,
     "metadata": {},
     "output_type": "execute_result"
    }
   ],
   "source": [
    "# You need to provide the code to answer the previous quesiton\n",
    "listing_q5 = listing_detail[['host_verifications','host_id']]\n",
    "listing_q5.drop_duplicates(inplace=True)\n",
    "original = []\n",
    "types_host_vertifications = {}\n",
    "for vertification_types in listing_q5['host_verifications']:\n",
    "    a = vertification_types.strip(' ').strip('[').strip(']').split(\",\")\n",
    "    for b in a:\n",
    "        original.append(b.strip(' ').strip(\"''\"))\n",
    "for ver in original:\n",
    "    if ver in types_host_vertifications.keys():\n",
    "        types_host_vertifications[ver]+=1\n",
    "    else:\n",
    "        types_host_vertifications[ver]=1\n",
    "types_host_vertifications.keys()\n",
    "#There are 22 types of vertifications there including \" \" and \"None\""
   ]
  },
  {
   "cell_type": "markdown",
   "metadata": {},
   "source": [
    "### Question 5: What are the five most popular verification types of hosts? For each type of the top five verifications, how many percent of hosts verify that type?\n",
    "**Question 5 Answer:**\n",
    "\n",
    "(You need to write your answer in this markdown cell)\n",
    "\n",
    "phone % 99.677\n",
    "\n",
    "email % 93.837\n",
    "\n",
    "reviews % 68.854\n",
    "\n",
    "government_id % 58.769\n",
    "\n",
    "jumio % 43.339"
   ]
  },
  {
   "cell_type": "code",
   "execution_count": 5,
   "metadata": {},
   "outputs": [
    {
     "name": "stdout",
     "output_type": "stream",
     "text": [
      "[('phone', 26201), ('email', 24666), ('reviews', 18099), ('government_id', 15448), ('jumio', 11392)]\n",
      "phone % 99.677\n",
      "email % 93.837\n",
      "reviews % 68.854\n",
      "government_id % 58.769\n",
      "jumio % 43.339\n"
     ]
    }
   ],
   "source": [
    "# You need to provide the code to answer the previous quesiton\n",
    "most_popular_vers = sorted(types_host_vertifications.items(), key=lambda x: x[1], reverse=True)[0:5]\n",
    "print(most_popular_vers)\n",
    "#We can see, email, phone, reviews, goverment_id and offline_goverment_id are 5 most popular ways\n",
    "total_hosts = listing_q5.shape[0]\n",
    "for ver in most_popular_vers:\n",
    "    print(ver[0],\"%\",\"%0.3f\" %(ver[1]/total_hosts*100))"
   ]
  },
  {
   "cell_type": "markdown",
   "metadata": {},
   "source": [
    "### Question 6: What is the mean, standard deviation of the average price of a listing in Los Angles from 01/01/2020 to 03/01/2020 (inclusive)? (For listings that are not available in this time, you should not count them in the average price.)\n",
    "\n",
    "**Question 6 Answer:**\n",
    "\n",
    "(You need to write your answer in this markdown cell)\n",
    "\n",
    "avg price:  254.778\n",
    "\n",
    "std:  684.755"
   ]
  },
  {
   "cell_type": "code",
   "execution_count": 14,
   "metadata": {
    "scrolled": true
   },
   "outputs": [
    {
     "name": "stderr",
     "output_type": "stream",
     "text": [
      "/Users/zhangzixuan/anaconda3/lib/python3.7/site-packages/ipykernel_launcher.py:3: SettingWithCopyWarning: \n",
      "A value is trying to be set on a copy of a slice from a DataFrame.\n",
      "Try using .loc[row_indexer,col_indexer] = value instead\n",
      "\n",
      "See the caveats in the documentation: http://pandas.pydata.org/pandas-docs/stable/user_guide/indexing.html#returning-a-view-versus-a-copy\n",
      "  This is separate from the ipykernel package so we can avoid doing imports until\n",
      "/Users/zhangzixuan/anaconda3/lib/python3.7/site-packages/ipykernel_launcher.py:8: SettingWithCopyWarning: \n",
      "A value is trying to be set on a copy of a slice from a DataFrame.\n",
      "Try using .loc[row_indexer,col_indexer] = value instead\n",
      "\n",
      "See the caveats in the documentation: http://pandas.pydata.org/pandas-docs/stable/user_guide/indexing.html#returning-a-view-versus-a-copy\n",
      "  \n",
      "/Users/zhangzixuan/anaconda3/lib/python3.7/site-packages/ipykernel_launcher.py:9: SettingWithCopyWarning: \n",
      "A value is trying to be set on a copy of a slice from a DataFrame.\n",
      "Try using .loc[row_indexer,col_indexer] = value instead\n",
      "\n",
      "See the caveats in the documentation: http://pandas.pydata.org/pandas-docs/stable/user_guide/indexing.html#returning-a-view-versus-a-copy\n",
      "  if __name__ == '__main__':\n",
      "/Users/zhangzixuan/anaconda3/lib/python3.7/site-packages/ipykernel_launcher.py:10: SettingWithCopyWarning: \n",
      "A value is trying to be set on a copy of a slice from a DataFrame.\n",
      "Try using .loc[row_indexer,col_indexer] = value instead\n",
      "\n",
      "See the caveats in the documentation: http://pandas.pydata.org/pandas-docs/stable/user_guide/indexing.html#returning-a-view-versus-a-copy\n",
      "  # Remove the CWD from sys.path while we load stuff.\n"
     ]
    },
    {
     "name": "stdout",
     "output_type": "stream",
     "text": [
      "avg price:  254.778\n",
      "std:  684.755\n"
     ]
    }
   ],
   "source": [
    "#Now we create a part_calendar which includes data in 2020\n",
    "part_calendar = calendar.loc[calendar['available']=='t']\n",
    "part_calendar['date'] = pd.to_datetime(part_calendar.date)\n",
    "def select_time_period(df,start_date,end_date):\n",
    "    df = df.loc[(df['date']>=start_date) & (df['date']<=end_date),:]\n",
    "    return df\n",
    "part_calendar_q6 = select_time_period(part_calendar,'2020-01-01','2020-03-01')\n",
    "part_calendar_q6[\"price\"] = part_calendar_q6[\"price\"].str.strip(\"$\")\n",
    "part_calendar_q6[\"price\"] = part_calendar_q6[\"price\"].str.replace(\",\",\"\")\n",
    "part_calendar_q6[\"price\"] = part_calendar_q6[\"price\"].astype(float)\n",
    "avg_price_q6 = part_calendar_q6.groupby(\"listing_id\")['price'].mean().mean()\n",
    "std_q6 = part_calendar_q6.groupby(\"listing_id\")['price'].mean().std()\n",
    "print(\"avg price: \",\"%.3f\" %avg_price_q6)\n",
    "print(\"std: \",\"%.3f\" %std_q6)"
   ]
  },
  {
   "cell_type": "markdown",
   "metadata": {},
   "source": [
    "### Question 7: For reviews that are written in Jan, 2016, what are the most popular ten words except stopping words? What about reviews written in March, 2017 and April, 2018?\n",
    "**Hint**: You need to use NTLK stopping words to find the stopping words in Python. You also need to remove punctuation and numbers\n",
    "\n",
    "**Question 7 Answer:**\n",
    "\n",
    "(You need to write your answer in this markdown cell)\n",
    "\n",
    "2016 Jan: \n",
    "\n",
    " dict_keys(['great', 'stay', 'place', 'clean', 'location', 'house', 'us', 'nice', 'would', 'host']) \n",
    "\n",
    "2017 Mar: \n",
    "\n",
    " dict_keys(['great', 'place', 'stay', 'location', 'clean', 'nice', 'would', 'host', 'house', 'comfortable']) \n",
    "\n",
    "2018 Apr: \n",
    "\n",
    " dict_keys(['great', 'place', 'stay', 'location', 'clean', 'would', 'nice', 'host', 'house', 'la']) "
   ]
  },
  {
   "cell_type": "code",
   "execution_count": 12,
   "metadata": {},
   "outputs": [],
   "source": [
    "d0 = \"2016-01-01\"\n",
    "d1 = \"2016-01-31\"\n",
    "d2 = \"2017-03-01\"\n",
    "d3 = \"2017-03-31\"\n",
    "d4 = \"2018-04-01\"\n",
    "d5 = \"2018-04-30\"\n",
    "jan_review = select_time_period(reviews_detail,d0,d1)\n",
    "march_review = select_time_period(reviews_detail,d2,d3)\n",
    "apr_review = select_time_period(reviews_detail,d4,d5)"
   ]
  },
  {
   "cell_type": "code",
   "execution_count": 13,
   "metadata": {},
   "outputs": [],
   "source": [
    "import nltk\n",
    "from nltk.corpus import stopwords\n",
    "stopWords = set(stopwords.words('english'))\n",
    "def get_popular_words(df):\n",
    "    popular_words = {}\n",
    "    for comment in df['comments']:\n",
    "        if type(comment)==str:\n",
    "            comment = comment.lower()\n",
    "            word_list = comment.translate(str.maketrans('', '', string.punctuation)).split(\" \")\n",
    "            for word in word_list:\n",
    "                if word not in stopWords and len(word) > 0:\n",
    "                    if word in popular_words.keys():\n",
    "                        popular_words[word]+=1\n",
    "                    else:\n",
    "                        popular_words[word]=1\n",
    "    return popular_words"
   ]
  },
  {
   "cell_type": "code",
   "execution_count": 16,
   "metadata": {},
   "outputs": [],
   "source": [
    "jan_review_popular = get_popular_words(jan_review)\n",
    "jan_review_popular = dict(sorted(jan_review_popular.items(), key=lambda x: x[1], reverse=True)[0:10])\n",
    "#great, place, house,location,room,clean,recommend,apartment,time, comfortable,home,like\n",
    "march_review_popular = get_popular_words(march_review)\n",
    "march_review_popular = dict(sorted(march_review_popular.items(), key=lambda x: x[1], reverse=True)[0:10])\n",
    "#place, great, location,\n",
    "apr_review_popular = get_popular_words(apr_review)\n",
    "apr_review_popular = dict(sorted(apr_review_popular.items(), key=lambda x: x[1], reverse=True)[0:10])"
   ]
  },
  {
   "cell_type": "code",
   "execution_count": 17,
   "metadata": {},
   "outputs": [
    {
     "name": "stdout",
     "output_type": "stream",
     "text": [
      "2016 Jan: \n",
      "\n",
      " dict_keys(['great', 'stay', 'place', 'clean', 'location', 'house', 'us', 'nice', 'would', 'host']) \n",
      "\n",
      "2017 Mar: \n",
      "\n",
      " dict_keys(['great', 'place', 'stay', 'location', 'clean', 'nice', 'would', 'host', 'house', 'comfortable']) \n",
      "\n",
      "2018 Apr: \n",
      "\n",
      " dict_keys(['great', 'place', 'stay', 'location', 'clean', 'would', 'nice', 'host', 'house', 'la']) \n",
      "\n"
     ]
    }
   ],
   "source": [
    "print(\"2016 Jan: \\n\\n\",jan_review_popular.keys(),\"\\n\")\n",
    "print(\"2017 Mar: \\n\\n\",march_review_popular.keys(),\"\\n\")\n",
    "print(\"2018 Apr: \\n\\n\",apr_review_popular.keys(),\"\\n\")"
   ]
  },
  {
   "cell_type": "markdown",
   "metadata": {},
   "source": [
    "### Question 8: Which five zipcode has the highest average listing price and has at least 30 listings (again only considering available dates) between 2020-01-01 to 2020-02-01 (inclusive)? What are these listing prices? What are the number of active listings and number of hosts in these top five zipcodes (a listing is active if it has at least one available date in the calendar data)?\n",
    "\n",
    "**Question 8 Answer:**\n",
    "\n",
    "(You need to write your answer in this markdown cell)\n",
    "#Notice: we uesd the price in the listing_detail instead of price in the \n",
    "#calendar, we have different results using two datasets.\n",
    "\n",
    "**zipcode avg price**\n",
    "\n",
    "90210        1902.100719\n",
    "\n",
    "90077        1796.648649\n",
    "\n",
    "90265        1567.814590\n",
    "\n",
    "90069         954.104019\n",
    "\n",
    "91436         649.750000\n",
    "\n",
    "Name: price, dtype: float64\n",
    "\n",
    "**Number of Lists:**\n",
    "\n",
    "zipcode\n",
    "\n",
    "90069    423\n",
    "\n",
    "90077     74\n",
    "\n",
    "90210    278\n",
    "\n",
    "90265    329\n",
    "\n",
    "91436     40\n",
    "\n",
    "Name: id, dtype: int64\n",
    "\n",
    "**Number of Hosts:**\n",
    "\n",
    "zipcode\n",
    "\n",
    "90069    305\n",
    "\n",
    "90077     48\n",
    "\n",
    "90210    173\n",
    "\n",
    "90265    221\n",
    "\n",
    "91436     33\n",
    "\n",
    "Name: host_id, dtype: int64\n"
   ]
  },
  {
   "cell_type": "code",
   "execution_count": 26,
   "metadata": {},
   "outputs": [],
   "source": [
    "# You need to provide the code to answer the previous quesiton\n",
    "# We get the top 5 zipcode and their average prices in this chunk.\n",
    "listing_detail_8_1 = listing_detail[['id','zipcode','price','host_id']]\n",
    "part_calendar_q8 = select_time_period(part_calendar,\"2020-01-01\",\"2020-02-01\")\n",
    "# Now we have the listing id in that specific time period. \n",
    "list_id_q8 = pd.DataFrame(part_calendar_q8[\"listing_id\"].unique(),columns=[\"id\"])\n",
    "query_q8_2 = \"SELECT a.id, zipcode,host_id,price FROM listing_detail_8_1 as a JOIN list_id_q8 USING(id)\"\n",
    "listing_detail_8_2 = sqldf(query_q8_2)\n",
    "#Process price column\n",
    "listing_detail_8_2[\"price\"] = listing_detail_8_2[\"price\"].str.replace(\"$\",\"\")\n",
    "listing_detail_8_2[\"price\"] = listing_detail_8_2[\"price\"].str.replace(\",\",\"\")\n",
    "listing_detail_8_2['price'] = listing_detail_8_2['price'].astype(float)\n",
    "#Get the avg price for each zipcode which has more than 30 listings. \n",
    "zipcodes_price = listing_detail_8_2.groupby(by=\"zipcode\")[\"price\"].mean()[listing_detail_8_2.groupby(by=\"zipcode\")[\"id\"].count()>=30]\n",
    "zipcodes_price = zipcodes_price.sort_values(ascending = False)[0:5]"
   ]
  },
  {
   "cell_type": "code",
   "execution_count": 27,
   "metadata": {},
   "outputs": [],
   "source": [
    "#In this chunk, we get merged data with listing_detail and zipcodes\n",
    "zipcodes = pd.DataFrame([90210, 90077, 90265, 90069, 91436],columns=[\"zipcode\"])\n",
    "query_q8_2 = \"SELECT id,listing_detail_8_2.zipcode,host_id from listing_detail_8_2 JOIN zipcodes USING(zipcode)\"\n",
    "q8_id_host_list = sqldf(query_q8_2)#now we get the list of the ID"
   ]
  },
  {
   "cell_type": "code",
   "execution_count": 28,
   "metadata": {},
   "outputs": [
    {
     "data": {
      "text/plain": [
       "zipcode\n",
       "90069    423\n",
       "90077     74\n",
       "90210    278\n",
       "90265    329\n",
       "91436     40\n",
       "Name: id, dtype: int64"
      ]
     },
     "execution_count": 28,
     "metadata": {},
     "output_type": "execute_result"
    }
   ],
   "source": [
    "q8_id_host_list.groupby(by=\"zipcode\")[\"id\"].count()"
   ]
  },
  {
   "cell_type": "code",
   "execution_count": 29,
   "metadata": {},
   "outputs": [
    {
     "data": {
      "text/plain": [
       "zipcode\n",
       "90069    305\n",
       "90077     48\n",
       "90210    173\n",
       "90265    221\n",
       "91436     33\n",
       "Name: host_id, dtype: int64"
      ]
     },
     "execution_count": 29,
     "metadata": {},
     "output_type": "execute_result"
    }
   ],
   "source": [
    "#Now we get the dataset of zipcodes and related host_id \n",
    "q8_id_host_list.groupby(by=\"zipcode\")[\"host_id\"].nunique()"
   ]
  },
  {
   "cell_type": "markdown",
   "metadata": {},
   "source": [
    "### Question 9: Focusing on the data from 2020-01-01 to 2020-04-01 (inclusive), what are five zipcodes that have at least 30 listings and have the largest absolute difference between the average prices on weekends versus the average prices on weekdays? (Weekends = Saturday and Sunday). Please give the zipcodes as well as the listing prices\n",
    "**Question 9 Answer:**\n",
    "\n",
    "(You need to write your answer in this markdown cell)\n",
    "\n",
    "zipcode\t price_weekday\tprice_weekend\tdifference\n",
    "\n",
    "91384\t 138.430670   \t160.977855\t    22.547185\n",
    "\n",
    "90265\t 1397.389489\t1417.492548\t    20.103059\n",
    "\n",
    "91210\t 330.336580\t\t349.939560\t    19.602980\n",
    "\n",
    "89019\t 191.863636\t\t210.000000\t    18.136364\n",
    "\n",
    "93563\t 168.444444\t\t184.000000\t    15.555556\n"
   ]
  },
  {
   "cell_type": "code",
   "execution_count": 22,
   "metadata": {},
   "outputs": [],
   "source": [
    "# You need to provide the code to answer the previous quesiton\n",
    "part_calendar = calendar[calendar[\"date\"].str.contains(\"2020\")] \n",
    "part_calendar = part_calendar.sort_values(by=\"date\")\n",
    "part_calendar.reset_index(drop = True, inplace = True)\n",
    "#part_calendar[part_calendar[\"date\"]==\"2020-04-01\"] #last is 4144875"
   ]
  },
  {
   "cell_type": "code",
   "execution_count": 23,
   "metadata": {},
   "outputs": [
    {
     "name": "stderr",
     "output_type": "stream",
     "text": [
      "/Users/zhangzixuan/anaconda3/lib/python3.7/site-packages/ipykernel_launcher.py:2: SettingWithCopyWarning: \n",
      "A value is trying to be set on a copy of a slice from a DataFrame.\n",
      "Try using .loc[row_indexer,col_indexer] = value instead\n",
      "\n",
      "See the caveats in the documentation: http://pandas.pydata.org/pandas-docs/stable/user_guide/indexing.html#returning-a-view-versus-a-copy\n",
      "  \n",
      "/Users/zhangzixuan/anaconda3/lib/python3.7/site-packages/ipykernel_launcher.py:3: SettingWithCopyWarning: \n",
      "A value is trying to be set on a copy of a slice from a DataFrame.\n",
      "Try using .loc[row_indexer,col_indexer] = value instead\n",
      "\n",
      "See the caveats in the documentation: http://pandas.pydata.org/pandas-docs/stable/user_guide/indexing.html#returning-a-view-versus-a-copy\n",
      "  This is separate from the ipykernel package so we can avoid doing imports until\n",
      "/Users/zhangzixuan/anaconda3/lib/python3.7/site-packages/ipykernel_launcher.py:6: SettingWithCopyWarning: \n",
      "A value is trying to be set on a copy of a slice from a DataFrame.\n",
      "Try using .loc[row_indexer,col_indexer] = value instead\n",
      "\n",
      "See the caveats in the documentation: http://pandas.pydata.org/pandas-docs/stable/user_guide/indexing.html#returning-a-view-versus-a-copy\n",
      "  \n"
     ]
    }
   ],
   "source": [
    "part_calendar_q9 = part_calendar.loc[1:4144875]\n",
    "part_calendar_q9['date']= pd.to_datetime(part_calendar_q9['date']) \n",
    "part_calendar_q9[\"weekday\"] = part_calendar_q9['date'].dt.weekday\n",
    "# 0-Monday 5-Saturday 6-Sunday\n",
    "# Create weekend_bool : 1 if weekend and 0 if weekdays\n",
    "part_calendar_q9[\"weekend_bool\"] = np.where((part_calendar_q9[\"weekday\"]==5)|(part_calendar_q9[\"weekday\"]==6),1,0)\n",
    "#Now we get the correct date and whether they are weekends "
   ]
  },
  {
   "cell_type": "code",
   "execution_count": 24,
   "metadata": {
    "scrolled": true
   },
   "outputs": [],
   "source": [
    "q9_data = pd.merge(left=part_calendar_q9,right=listing_detail[[\"zipcode\",\"id\"]],how='inner',left_on = \"listing_id\",right_on=\"id\")"
   ]
  },
  {
   "cell_type": "code",
   "execution_count": 25,
   "metadata": {},
   "outputs": [],
   "source": [
    "#Process price column\n",
    "q9_data[\"price\"] = q9_data[\"price\"].str.replace(\"$\",\"\")\n",
    "q9_data[\"price\"] = q9_data[\"price\"].str.replace(\",\",\"\")\n",
    "q9_data['price'] = q9_data['price'].astype(float)"
   ]
  },
  {
   "cell_type": "code",
   "execution_count": 26,
   "metadata": {},
   "outputs": [
    {
     "data": {
      "text/html": [
       "<div>\n",
       "<style scoped>\n",
       "    .dataframe tbody tr th:only-of-type {\n",
       "        vertical-align: middle;\n",
       "    }\n",
       "\n",
       "    .dataframe tbody tr th {\n",
       "        vertical-align: top;\n",
       "    }\n",
       "\n",
       "    .dataframe thead th {\n",
       "        text-align: right;\n",
       "    }\n",
       "</style>\n",
       "<table border=\"1\" class=\"dataframe\">\n",
       "  <thead>\n",
       "    <tr style=\"text-align: right;\">\n",
       "      <th></th>\n",
       "      <th>zipcode</th>\n",
       "      <th>weekend_bool_x</th>\n",
       "      <th>price_x</th>\n",
       "      <th>weekend_bool_y</th>\n",
       "      <th>price_y</th>\n",
       "      <th>difference</th>\n",
       "    </tr>\n",
       "  </thead>\n",
       "  <tbody>\n",
       "    <tr>\n",
       "      <th>225</th>\n",
       "      <td>91384</td>\n",
       "      <td>0</td>\n",
       "      <td>138.430670</td>\n",
       "      <td>1</td>\n",
       "      <td>160.977855</td>\n",
       "      <td>22.547185</td>\n",
       "    </tr>\n",
       "    <tr>\n",
       "      <th>97</th>\n",
       "      <td>90265</td>\n",
       "      <td>0</td>\n",
       "      <td>1397.389489</td>\n",
       "      <td>1</td>\n",
       "      <td>1417.492548</td>\n",
       "      <td>20.103059</td>\n",
       "    </tr>\n",
       "    <tr>\n",
       "      <th>192</th>\n",
       "      <td>91210</td>\n",
       "      <td>0</td>\n",
       "      <td>330.336580</td>\n",
       "      <td>1</td>\n",
       "      <td>349.939560</td>\n",
       "      <td>19.602980</td>\n",
       "    </tr>\n",
       "    <tr>\n",
       "      <th>5</th>\n",
       "      <td>89019</td>\n",
       "      <td>0</td>\n",
       "      <td>191.863636</td>\n",
       "      <td>1</td>\n",
       "      <td>210.000000</td>\n",
       "      <td>18.136364</td>\n",
       "    </tr>\n",
       "    <tr>\n",
       "      <th>304</th>\n",
       "      <td>93563</td>\n",
       "      <td>0</td>\n",
       "      <td>168.444444</td>\n",
       "      <td>1</td>\n",
       "      <td>184.000000</td>\n",
       "      <td>15.555556</td>\n",
       "    </tr>\n",
       "  </tbody>\n",
       "</table>\n",
       "</div>"
      ],
      "text/plain": [
       "    zipcode  weekend_bool_x      price_x  weekend_bool_y      price_y  \\\n",
       "225   91384               0   138.430670               1   160.977855   \n",
       "97    90265               0  1397.389489               1  1417.492548   \n",
       "192   91210               0   330.336580               1   349.939560   \n",
       "5     89019               0   191.863636               1   210.000000   \n",
       "304   93563               0   168.444444               1   184.000000   \n",
       "\n",
       "     difference  \n",
       "225   22.547185  \n",
       "97    20.103059  \n",
       "192   19.602980  \n",
       "5     18.136364  \n",
       "304   15.555556  "
      ]
     },
     "execution_count": 26,
     "metadata": {},
     "output_type": "execute_result"
    }
   ],
   "source": [
    "zipcodes_30list = q9_data.groupby(by=\"zipcode\",)[\"price\"].count()[q9_data.groupby(by=\"zipcode\",)[\"price\"].count()>30]\n",
    "#All the zip codes above have more than 30 lists. \n",
    "zipcodes_price = q9_data.groupby(by=[\"zipcode\",\"weekend_bool\"],as_index=False)[\"price\"].mean()#[q9_data.groupby(by=\"zipcode\")[\"price\"].count()>30]\n",
    "weekday_price = zipcodes_price.loc[zipcodes_price[\"weekend_bool\"]==0]\n",
    "weekend_price = zipcodes_price.loc[zipcodes_price[\"weekend_bool\"]==1]\n",
    "all_week_price = pd.merge(left=weekday_price,right=weekend_price,how=\"inner\",\\\n",
    "                         left_on=\"zipcode\",right_on=\"zipcode\")\n",
    "all_week_price[\"difference\"] = abs(all_week_price.price_x-all_week_price.price_y)\n",
    "q9_results = all_week_price.sort_values(\"difference\", axis=0, ascending = False)[0:5]\n",
    "q9_results"
   ]
  },
  {
   "cell_type": "markdown",
   "metadata": {},
   "source": [
    "### Question 10: What is the average and standard deviation of the daily total capacity at Airbnb Los Angeles from 2020-01-01 to 2020-04-01? The daily total capacity in a day is the number of beds that are available in that given date. What is the average and standard deviation of the daily price per bed at Airbnb Los Angeles from 2020-01-01 to 2020-04-01?\n",
    "**Question 10 Answer:**\n",
    "\n",
    "(You need to write your answer in this markdown cell)\n",
    "\n",
    "#average  of the daily total capacity at Airbnb Los Angeles : 46995.228\n",
    "\n",
    "#Standard Deviation of beds capacity is 4980.641\n",
    "\n",
    "#average price per bed:  124.114\n",
    "\n",
    "#std of price per bed:  5.626"
   ]
  },
  {
   "cell_type": "code",
   "execution_count": 68,
   "metadata": {},
   "outputs": [],
   "source": [
    "# You need to provide the code to answer the previous quesiton\n",
    "#part_calendar_q10 = select_time_period(part_calendar_q10,\"2020-01-01\",\"2020-04-01\")\n",
    "part_calendar_q9 = part_calendar_q9[part_calendar_q9[\"available\"]==\"t\"]\n",
    "q10_data = pd.merge(left=part_calendar_q9,right=listing_detail\\\n",
    "                    [[\"id\",\"beds\"]],how='left',left_on = \"listing_id\",right_on=\"id\")\n",
    "avg_capacity = q10_data.groupby(\"date\")[\"beds\"].sum().mean()\n",
    "#average  of the daily total capacity at Airbnb Los Angeles : 46995.228\n",
    "std_capacity = q10_data.groupby(\"date\")[\"beds\"].sum().std()\n",
    "#Standard Deviation is 4980.641"
   ]
  },
  {
   "cell_type": "code",
   "execution_count": 69,
   "metadata": {},
   "outputs": [
    {
     "name": "stdout",
     "output_type": "stream",
     "text": [
      "46995.22826086957\n",
      "4980.64131556945\n"
     ]
    }
   ],
   "source": [
    "print(avg_capacity)\n",
    "print(std_capacity)"
   ]
  },
  {
   "cell_type": "code",
   "execution_count": 70,
   "metadata": {},
   "outputs": [],
   "source": [
    "q10_data[\"price\"] = q10_data[\"price\"].str.replace(\"$\",\"\")\n",
    "q10_data[\"price\"] = q10_data[\"price\"].str.replace(\",\",\"\")\n",
    "q10_data['price'] = q10_data['price'].astype(float)"
   ]
  },
  {
   "cell_type": "code",
   "execution_count": 71,
   "metadata": {},
   "outputs": [
    {
     "name": "stdout",
     "output_type": "stream",
     "text": [
      "average price per bed:  124.11388367676463\n",
      "std of price per bed:  5.626010989539933\n"
     ]
    }
   ],
   "source": [
    "sum_price_daily = q10_data.groupby(\"date\")[\"price\"].sum().tolist()\n",
    "sum_beds_daily = q10_data.groupby(\"date\")[\"beds\"].sum().tolist()\n",
    "zippedList =  list(zip(sum_price_daily,sum_beds_daily))\n",
    "q10_q2 = pd.DataFrame(zippedList,columns=[\"price\",\"beds\"])\n",
    "q10_q2.reset_index(inplace = True)\n",
    "q10_q2[\"avg_price_perbed\"] = q10_q2[\"price\"]/q10_q2[\"beds\"]\n",
    "print(\"average price per bed: \" , q10_q2[\"avg_price_perbed\"].mean())\n",
    "print(\"std of price per bed: \", q10_q2[\"avg_price_perbed\"].std())"
   ]
  },
  {
   "cell_type": "markdown",
   "metadata": {},
   "source": [
    "## Part 2 (15 Points):\n",
    "\n",
    "In this part, you need to find **5** interesting business questions out of the datasets. You then need to write Python code to answer the questions. Last, you need to write a 200-word summary of your answers and business insights you get from ansewr these 5 questions baed on your code. You will be evaluated based on the following criterion:\n",
    "\n",
    "1. You need to ask three business-relevant questions (2 points)\n",
    "2. You need to answer these three questions using Python and the datasets (1 points)\n",
    "3. You have at least **5** graphs to visualize your insights (2 points)\n",
    "4. Your executive summary of your answers are well-written and make sense (5 points)\n",
    "5. Your business insights are very interesting and the report is creative (5 points)\n"
   ]
  },
  {
   "cell_type": "markdown",
   "metadata": {},
   "source": [
    "**(You need to use this cell to write your 5 questions)**\n",
    "\n",
    "**Question 1:**Airbnb has invested much to encourage consumers to write reviews, does it work?\n",
    "\n",
    "**Question 2:**Airbnb wants to figure out consumers' preference to different types of rooms and invest more, so which type of room should it invest?\n",
    "\n",
    "**Question 3:**Housing price varies a lot after 2008, and airbnb wants to improve its pricing strategy in the next year. So, try to figure out the trend to help the decision-making.\n",
    "\n",
    "**Question 4:**Will superhost title and rating influence the number of reviews?\n",
    "\n",
    "**Question 5:**Compare prices of different types of rooms. Is there any suggestion for pricing?\n"
   ]
  },
  {
   "cell_type": "code",
   "execution_count": 5,
   "metadata": {},
   "outputs": [
    {
     "data": {
      "text/plain": [
       "Text(0, 0.5, 'Number of reviews posted on Airbnb')"
      ]
     },
     "execution_count": 5,
     "metadata": {},
     "output_type": "execute_result"
    },
    {
     "data": {
      "image/png": "[encoded data removed]",
      "text/plain": [
       "<Figure size 576x576 with 1 Axes>"
      ]
     },
     "metadata": {
      "needs_background": "light"
     },
     "output_type": "display_data"
    }
   ],
   "source": [
    "# Your code to answer Question 1\n",
    "import glob\n",
    "import json\n",
    "import time\n",
    "import calendar\n",
    "reviews = pd.read_csv(\"reviews.csv\",low_memory=False)\n",
    "review_count_dates = pd.to_datetime(reviews['date']).value_counts().resample('D').mean().fillna(0)\n",
    "fig = plt.figure(1, figsize=(8,8))\n",
    "ax = fig.add_subplot(111)\n",
    "ax.grid(False)\n",
    "title='Number of reviews each year of LA'\n",
    "transparency = 0.5\n",
    "review_count_dates.rolling(window=15).mean().plot(ax=ax, color='#FE8A71', title = title)\n",
    "\n",
    "ax.set_title(ax.get_title(), fontsize=26, ha='left')\n",
    "ax.title.set_position((0.1,1.04))\n",
    "\n",
    "xlab = 'Year'\n",
    "ax.set_xlabel(xlab, fontsize=15, ha='left')\n",
    "\n",
    "ylab = 'Number of reviews posted on Airbnb'\n",
    "ax.set_ylabel(ylab, fontsize=15, ha='left')"
   ]
  },
  {
   "cell_type": "code",
   "execution_count": 6,
   "metadata": {},
   "outputs": [
    {
     "data": {
      "text/plain": [
       "<matplotlib.axes._subplots.AxesSubplot at 0x1a2dad3470>"
      ]
     },
     "execution_count": 6,
     "metadata": {},
     "output_type": "execute_result"
    },
    {
     "data": {
      "image/png": "[encoded data removed]",
      "text/plain": [
       "<Figure size 576x576 with 1 Axes>"
      ]
     },
     "metadata": {},
     "output_type": "display_data"
    }
   ],
   "source": [
    "# Your code to answer Question 2\n",
    "from collections import Counter\n",
    "\n",
    "listing.fillna(0, inplace=True)\n",
    "price = listing['price']\n",
    "\n",
    "room_type = listing.groupby('room_type').id.count()\n",
    "room_type = room_type.reset_index()\n",
    "room_type = room_type.rename(columns={'id': 'number_of_listings'})\n",
    "\n",
    "import matplotlib\n",
    "import matplotlib.pyplot as plt\n",
    "\n",
    "room = listing.room_type\n",
    "r = Counter(room)\n",
    "\n",
    "room_df = pd.DataFrame.from_dict(r, orient='index').sort_values(by=0)\n",
    "room_df.columns = ['room_type']\n",
    "\n",
    "room_df.plot.pie(y = 'room_type', \n",
    "                 colormap = 'Blues_r',\n",
    "                 figsize = (8, 8),\n",
    "                 fontsize = 16, \n",
    "                 autopct = '%.2f',\n",
    "                 legend = False,\n",
    "                 title = 'distribution of different room types in LA')"
   ]
  },
  {
   "cell_type": "code",
   "execution_count": 8,
   "metadata": {},
   "outputs": [
    {
     "data": {
      "text/plain": [
       "217.7822938881362"
      ]
     },
     "execution_count": 8,
     "metadata": {},
     "output_type": "execute_result"
    },
    {
     "data": {
      "image/png": "[encoded data removed]",
      "text/plain": [
       "<Figure size 1080x576 with 1 Axes>"
      ]
     },
     "metadata": {},
     "output_type": "display_data"
    }
   ],
   "source": [
    "# Your code to answer Question 3\n",
    "import pandas as pd\n",
    "import numpy as np\n",
    "import re\n",
    "calendar = pd.read_csv(\"calendar_detail.csv\",low_memory=False)\n",
    "calendar.fillna(0, inplace=True)\n",
    "calendar = calendar[calendar.price != 0]\n",
    "price = calendar['price']\n",
    "prices=[]\n",
    "\n",
    "for p in price:\n",
    "    p = re.sub('[^0-9.]+','',p)\n",
    "    prices.append(float(p))\n",
    "calendar['price']=prices\n",
    "\n",
    "calendar = calendar[calendar.price >= 0]\n",
    "\n",
    "calendar['Year'],calendar['Month'],calendar['Day']=calendar['date'].str.split('-',2).str\n",
    "year=calendar.groupby(['Year','Month']).price.mean()\n",
    "year=year.reset_index()\n",
    "year=year.rename(columns={'price':'average_Price'})\n",
    "year['year-Month']=year['Year'].map(str) + \"-\" + year['Month'].map(str)\n",
    "\n",
    "%matplotlib inline\n",
    "\n",
    "import matplotlib\n",
    "import matplotlib.pyplot as plt\n",
    "matplotlib.style.use('ggplot')\n",
    "\n",
    "objects = year['year-Month']\n",
    "y_pos = year['average_Price']\n",
    "avg = y_pos.mean()\n",
    "year.plot(kind='bar', \n",
    "           x='year-Month',\n",
    "           y='average_Price',\n",
    "           color = '#66c2ff', \n",
    "           figsize =(15,8), \n",
    "           title = 'LA Airbnb prices trend over months', \n",
    "           legend = False)\n",
    "plt.ylabel('Average Price')\n",
    "avg"
   ]
  },
  {
   "cell_type": "code",
   "execution_count": 4,
   "metadata": {
    "scrolled": true
   },
   "outputs": [
    {
     "name": "stdout",
     "output_type": "stream",
     "text": [
      "   SuperHost Ratings  Number of Reviews\n",
      "0               88.0          43.425287\n",
      "1               89.0          49.993300\n",
      "2               90.0          28.816775\n",
      "3               91.0          58.968523\n",
      "4               92.0          61.271488\n"
     ]
    },
    {
     "data": {
      "text/plain": [
       "array([[<matplotlib.axes._subplots.AxesSubplot object at 0x1a1a902390>]],\n",
       "      dtype=object)"
      ]
     },
     "execution_count": 4,
     "metadata": {},
     "output_type": "execute_result"
    },
    {
     "data": {
      "image/png": "[encoded data removed]",
      "text/plain": [
       "<Figure size 432x288 with 1 Axes>"
      ]
     },
     "metadata": {
      "needs_background": "light"
     },
     "output_type": "display_data"
    },
    {
     "data": {
      "image/png": "[encoded data removed]",
      "text/plain": [
       "<Figure size 432x288 with 1 Axes>"
      ]
     },
     "metadata": {
      "needs_background": "light"
     },
     "output_type": "display_data"
    }
   ],
   "source": [
    "# Your code to answer Question 4\n",
    "super_data2 = listing_detail[[ 'host_is_superhost','number_of_reviews', 'review_scores_rating', 'review_scores_accuracy',\n",
    "       'review_scores_cleanliness', 'review_scores_checkin',\n",
    "       'review_scores_communication', 'review_scores_location',\n",
    "       'review_scores_value',\n",
    "       'reviews_per_month']]\n",
    "super_data2.groupby('host_is_superhost',axis =0).mean()\n",
    "review_table = pd.DataFrame(data = super_data2.groupby('host_is_superhost',axis =0).mean())\n",
    "\n",
    "#review_table.drop(['review_scores_checkin', 'review_scores_value','review_scores_location' ,'review_scores_checkin', 'review_scores_accuracy'], axis =1)\n",
    "\n",
    "review_table.head()\n",
    "super_data2.groupby(['host_is_superhost','review_scores_rating'],axis =0).mean()\n",
    "review_table = pd.DataFrame(data=super_data2.groupby(['host_is_superhost','review_scores_rating'],axis =0).mean())\n",
    "\n",
    "reg_host_ratings = pd.DataFrame(data =list(review_table.index.get_level_values(1)[:42]), columns =['Regular Host Ratings'])\n",
    "super_host_ratings =pd.DataFrame(data =list(review_table.index.get_level_values(1)[42:]), columns =['SuperHost Ratings'])\n",
    "                        \n",
    "#print(reg_host_ratings)\n",
    "#print(super_host_ratings)\n",
    "\n",
    "reg_host_number = pd.DataFrame(data =list(review_table['number_of_reviews'][:42]), columns =['Number of Reviews'])\n",
    "super_host_number = pd.DataFrame(data= list(review_table['number_of_reviews'][42:]),columns =['Number of Reviews'])\n",
    "\n",
    "reg_table = pd.concat([reg_host_ratings, reg_host_number], axis =1)\n",
    "\n",
    "super_table = pd.concat([super_host_ratings, super_host_number], axis =1)\n",
    "\n",
    "print(super_table[0:5])\n",
    "#print(reg_table)\n",
    "\n",
    "reg_host_ratings.hist()\n",
    "super_host_ratings.hist()"
   ]
  },
  {
   "cell_type": "code",
   "execution_count": 10,
   "metadata": {},
   "outputs": [
    {
     "data": {
      "image/png": "[encoded data removed]",
      "text/plain": [
       "<Figure size 432x288 with 1 Axes>"
      ]
     },
     "metadata": {},
     "output_type": "display_data"
    }
   ],
   "source": [
    "# Your code to answer Question 5\n",
    "listing['price'] = listing['price'].apply(str).str.replace('$', '0')\n",
    "listing['price'] = listing['price'].apply(str).str.replace(',', '0')\n",
    "listing['price'] = listing.price.astype('float')\n",
    "df1 = listing[[\"neighbourhood\",\"price\"]]\n",
    "d = df1.groupby(\"neighbourhood\").mean()\n",
    "sns.distplot(d)\n",
    "plt.show()"
   ]
  },
  {
   "cell_type": "code",
   "execution_count": 11,
   "metadata": {},
   "outputs": [
    {
     "data": {
      "image/png": "[encoded data removed]",
      "text/plain": [
       "<Figure size 432x288 with 1 Axes>"
      ]
     },
     "metadata": {},
     "output_type": "display_data"
    },
    {
     "data": {
      "image/png": "[encoded data removed]",
      "text/plain": [
       "<Figure size 432x288 with 1 Axes>"
      ]
     },
     "metadata": {},
     "output_type": "display_data"
    },
    {
     "data": {
      "image/png": "[encoded data removed]",
      "text/plain": [
       "<Figure size 432x288 with 1 Axes>"
      ]
     },
     "metadata": {},
     "output_type": "display_data"
    }
   ],
   "source": [
    "df2 = listing[listing.room_type == \"Private room\"][[\"neighbourhood\",\"price\"]]\n",
    "d = df2.groupby(\"neighbourhood\").mean()\n",
    "sns.distplot(d)\n",
    "plt.show()\n",
    "df3 = listing[listing.room_type == 'Shared room'][[\"neighbourhood\",\"price\"]]\n",
    "d = df3.groupby(\"neighbourhood\").mean()\n",
    "sns.distplot(d)\n",
    "plt.show()\n",
    "df4 = listing[listing.room_type == 'Entire home/apt'][[\"neighbourhood\",\"price\"]]\n",
    "d = df4.groupby(\"neighbourhood\").mean()\n",
    "sns.distplot(d)\n",
    "plt.show()"
   ]
  },
  {
   "cell_type": "code",
   "execution_count": 12,
   "metadata": {},
   "outputs": [],
   "source": [
    "#price of different room types\n",
    "#private type\n",
    "room_1 = listing[listing.room_type == \"Private room\"][[\"neighbourhood\",\"price\"]]\n",
    "price_sub1=room_1[['price']]\n",
    "#shared room\n",
    "room_2 = listing[listing.room_type == 'Shared room'][[\"neighbourhood\",\"price\"]]\n",
    "price_sub2=room_2[['price']]\n",
    "#entire room\n",
    "room_3 = listing[listing.room_type == 'Entire home/apt'][[\"neighbourhood\",\"price\"]]\n",
    "price_sub3=room_3[['price']]\n",
    "\n",
    "price_list_by_n=[price_sub1, price_sub2, price_sub3]"
   ]
  },
  {
   "cell_type": "code",
   "execution_count": 13,
   "metadata": {},
   "outputs": [
    {
     "data": {
      "text/html": [
       "<div>\n",
       "<style scoped>\n",
       "    .dataframe tbody tr th:only-of-type {\n",
       "        vertical-align: middle;\n",
       "    }\n",
       "\n",
       "    .dataframe tbody tr th {\n",
       "        vertical-align: top;\n",
       "    }\n",
       "\n",
       "    .dataframe thead th {\n",
       "        text-align: right;\n",
       "    }\n",
       "</style>\n",
       "<table border=\"1\" class=\"dataframe\">\n",
       "  <thead>\n",
       "    <tr style=\"text-align: right;\">\n",
       "      <th></th>\n",
       "      <th>Private room</th>\n",
       "      <th>Shared room</th>\n",
       "      <th>Entire home/apt</th>\n",
       "    </tr>\n",
       "    <tr>\n",
       "      <th>Stats</th>\n",
       "      <th></th>\n",
       "      <th></th>\n",
       "      <th></th>\n",
       "    </tr>\n",
       "  </thead>\n",
       "  <tbody>\n",
       "    <tr>\n",
       "      <th>mean</th>\n",
       "      <td>139.211659</td>\n",
       "      <td>126.231769</td>\n",
       "      <td>1069.475411</td>\n",
       "    </tr>\n",
       "    <tr>\n",
       "      <th>std</th>\n",
       "      <td>1798.158524</td>\n",
       "      <td>2493.482244</td>\n",
       "      <td>6792.012713</td>\n",
       "    </tr>\n",
       "    <tr>\n",
       "      <th>min</th>\n",
       "      <td>0.000000</td>\n",
       "      <td>10.000000</td>\n",
       "      <td>0.000000</td>\n",
       "    </tr>\n",
       "    <tr>\n",
       "      <th>25%</th>\n",
       "      <td>50.000000</td>\n",
       "      <td>25.000000</td>\n",
       "      <td>103.000000</td>\n",
       "    </tr>\n",
       "    <tr>\n",
       "      <th>50%</th>\n",
       "      <td>65.000000</td>\n",
       "      <td>30.000000</td>\n",
       "      <td>150.000000</td>\n",
       "    </tr>\n",
       "    <tr>\n",
       "      <th>75%</th>\n",
       "      <td>89.000000</td>\n",
       "      <td>45.000000</td>\n",
       "      <td>249.000000</td>\n",
       "    </tr>\n",
       "    <tr>\n",
       "      <th>max</th>\n",
       "      <td>100000.000000</td>\n",
       "      <td>100000.000000</td>\n",
       "      <td>250000.000000</td>\n",
       "    </tr>\n",
       "  </tbody>\n",
       "</table>\n",
       "</div>"
      ],
      "text/plain": [
       "        Private room    Shared room  Entire home/apt\n",
       "Stats                                               \n",
       "mean      139.211659     126.231769      1069.475411\n",
       "std      1798.158524    2493.482244      6792.012713\n",
       "min         0.000000      10.000000         0.000000\n",
       "25%        50.000000      25.000000       103.000000\n",
       "50%        65.000000      30.000000       150.000000\n",
       "75%        89.000000      45.000000       249.000000\n",
       "max    100000.000000  100000.000000    250000.000000"
      ]
     },
     "execution_count": 13,
     "metadata": {},
     "output_type": "execute_result"
    }
   ],
   "source": [
    "#creating an empty list that we will append later with price distributions for each room type.\n",
    "p_l_b_n_2=[]\n",
    "#creating list with known values in neighbourhood_group column\n",
    "type_list=[\"Private room\",'Shared room','Entire home/apt']\n",
    "#creating a for loop to get statistics for price ranges and append it to our empty list\n",
    "for x in price_list_by_n:\n",
    "    i=x.describe(percentiles=[.25, .50, .75])\n",
    "    i=i.iloc[1:]\n",
    "    i.reset_index(inplace=True)\n",
    "    i.rename(columns={'index':'Stats'}, inplace=True)\n",
    "    p_l_b_n_2.append(i)\n",
    "#changing names of the price column to the area name for easier reading of the table    \n",
    "p_l_b_n_2[0].rename(columns={'price':type_list[0]}, inplace=True)\n",
    "p_l_b_n_2[1].rename(columns={'price':type_list[1]}, inplace=True)\n",
    "p_l_b_n_2[2].rename(columns={'price':type_list[2]}, inplace=True)\n",
    "#finilizing our dataframe for final view    \n",
    "stat_df=p_l_b_n_2\n",
    "stat_df=[df.set_index('Stats') for df in stat_df]\n",
    "stat_df=stat_df[0].join(stat_df[1:])\n",
    "stat_df"
   ]
  },
  {
   "cell_type": "markdown",
   "metadata": {},
   "source": [
    "## Executive Summary\n",
    "**(You need to use this cell to write your executive summary)**\n",
    "\n",
    "Executive Summary\n",
    "\n",
    "(You need to use this cell to write your executive summary)\n",
    "\n",
    "**Question 1**\n",
    "Q1 The number of reviews has increased a lot after 2015. So the rewards to encourage consumers to write reviews are very effictive. However, we will find a trend that the number of reviews will drop a lot in the next year which suggests company should invest more in the next year.\n",
    "\n",
    "**Question 2**\n",
    "Q2 The majority room type is entire home/apt which accounts for 63.19%. Almost 95% consumers will choose entire home or private room. Piracy is an very important. In conclusion, we suggest Airbnb should invest more in entire home which will cost a lot but win more consumers.\n",
    "\n",
    "**Question 3**\n",
    "Q3 The averaging price in LA in the next year will not vary a lot. So we think the pricing strategy should be steady. And by calculating, we suggest the standard reference price should be set to $217.\n",
    "\n",
    "**Question 4**\n",
    "Q4 We can find that the number of reviews shows a positive correlation relationship with rating. Besides, superhost title is helpful to gain review in high-rating rooms.\n",
    "\n",
    "**Question 5**\n",
    "Q5 The range of price is large. The mean price is higher than 75 percent of prices. It is more reliable to price using price distribution rather than mean price.\n",
    "\n",
    "\n"
   ]
  }
 ],
 "metadata": {
  "kernelspec": {
   "display_name": "Python 3",
   "language": "python",
   "name": "python3"
  },
  "language_info": {
   "codemirror_mode": {
    "name": "ipython",
    "version": 3
   },
   "file_extension": ".py",
   "mimetype": "text/x-python",
   "name": "python",
   "nbconvert_exporter": "python",
   "pygments_lexer": "ipython3",
   "version": "3.7.3"
  }
 },
 "nbformat": 4,
 "nbformat_minor": 2
}
