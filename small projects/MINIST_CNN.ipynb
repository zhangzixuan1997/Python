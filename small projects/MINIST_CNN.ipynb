{
  "nbformat": 4,
  "nbformat_minor": 0,
  "metadata": {
    "colab": {
      "name": "MINIST CNN",
      "provenance": [],
      "authorship_tag": "ABX9TyPDkCd1JnooPj+jDB0jYjGG",
      "include_colab_link": true
    },
    "kernelspec": {
      "name": "python3",
      "display_name": "Python 3"
    },
    "accelerator": "GPU"
  },
  "cells": [
    {
      "cell_type": "markdown",
      "metadata": {
        "id": "view-in-github",
        "colab_type": "text"
      },
      "source": [
        "<a href=\"https://colab.research.google.com/github/zhangzixuan1997/Python/blob/master/MINIST_CNN.ipynb\" target=\"_parent\"><img src=\"https://colab.research.google.com/assets/colab-badge.svg\" alt=\"Open In Colab\"/></a>"
      ]
    },
    {
      "cell_type": "markdown",
      "metadata": {
        "id": "-pQXrzinlAKO",
        "colab_type": "text"
      },
      "source": [
        "**In this notebook, we will use CNN network to analyze [Fashion MNIST dataset](https://www.kaggle.com/zalando-research/fashionmnist)**\n",
        "\n",
        "training set of 60,000 examples and a test set of 10,000 examples. Each example is a 28x28 grayscale image, associated with a label from 10 classes. \n",
        "\n",
        "Labels\n",
        "\n",
        "Each training and test example is assigned to one of the following labels:\n",
        "\n",
        "0 T-shirt/top\n",
        "1 Trouser\n",
        "2 Pullover\n",
        "3 Dress\n",
        "4 Coat\n",
        "5 Sandal\n",
        "6 Shirt\n",
        "7 Sneaker\n",
        "8 Bag\n",
        "9 Ankle boot\n",
        "\n",
        "Each row is a separate image\n",
        "Column 1 is the class label.\n",
        "Remaining columns are pixel numbers (784 total).\n",
        "Each value is the darkness of the pixel (1 to 255)"
      ]
    },
    {
      "cell_type": "code",
      "metadata": {
        "id": "sPb4bUHhkdX3",
        "colab_type": "code",
        "outputId": "725d7739-eb41-47ad-b494-b3a14bd9b320",
        "colab": {
          "base_uri": "https://localhost:8080/",
          "height": 163
        }
      },
      "source": [
        "import pandas as pd\n",
        "import tensorflow as tf\n",
        "import tensorflow.keras\n",
        "from tensorflow.keras.callbacks import EarlyStopping\n",
        "from tensorflow.keras.layers import Dense, Dropout\n",
        "from tensorflow.keras import regularizers\n",
        "from tensorflow.keras.datasets import fashion_mnist\n",
        "\n",
        "(x_train,y_train),(x_test,y_test) = fashion_mnist.load_data()"
      ],
      "execution_count": 1,
      "outputs": [
        {
          "output_type": "stream",
          "text": [
            "Downloading data from https://storage.googleapis.com/tensorflow/tf-keras-datasets/train-labels-idx1-ubyte.gz\n",
            "32768/29515 [=================================] - 0s 0us/step\n",
            "Downloading data from https://storage.googleapis.com/tensorflow/tf-keras-datasets/train-images-idx3-ubyte.gz\n",
            "26427392/26421880 [==============================] - 0s 0us/step\n",
            "Downloading data from https://storage.googleapis.com/tensorflow/tf-keras-datasets/t10k-labels-idx1-ubyte.gz\n",
            "8192/5148 [===============================================] - 0s 0us/step\n",
            "Downloading data from https://storage.googleapis.com/tensorflow/tf-keras-datasets/t10k-images-idx3-ubyte.gz\n",
            "4423680/4422102 [==============================] - 0s 0us/step\n"
          ],
          "name": "stdout"
        }
      ]
    },
    {
      "cell_type": "code",
      "metadata": {
        "id": "ePdxQb0QmXa1",
        "colab_type": "code",
        "outputId": "a0fb92c1-96a7-4905-e0d5-aeab7e942aca",
        "colab": {
          "base_uri": "https://localhost:8080/",
          "height": 425
        }
      },
      "source": [
        "# Display a single MNIST picture\n",
        "from IPython.display import display \n",
        "single = x_train[0]\n",
        "print(single.shape)\n",
        "pd.set_option(\"display.max_columns\",10)\n",
        "pd.set_option(\"display.max_rows\",10)\n",
        "pd.DataFrame(single.reshape(28,28))"
      ],
      "execution_count": 2,
      "outputs": [
        {
          "output_type": "stream",
          "text": [
            "(28, 28)\n"
          ],
          "name": "stdout"
        },
        {
          "output_type": "execute_result",
          "data": {
            "text/html": [
              "<div>\n",
              "<style scoped>\n",
              "    .dataframe tbody tr th:only-of-type {\n",
              "        vertical-align: middle;\n",
              "    }\n",
              "\n",
              "    .dataframe tbody tr th {\n",
              "        vertical-align: top;\n",
              "    }\n",
              "\n",
              "    .dataframe thead th {\n",
              "        text-align: right;\n",
              "    }\n",
              "</style>\n",
              "<table border=\"1\" class=\"dataframe\">\n",
              "  <thead>\n",
              "    <tr style=\"text-align: right;\">\n",
              "      <th></th>\n",
              "      <th>0</th>\n",
              "      <th>1</th>\n",
              "      <th>2</th>\n",
              "      <th>3</th>\n",
              "      <th>4</th>\n",
              "      <th>...</th>\n",
              "      <th>23</th>\n",
              "      <th>24</th>\n",
              "      <th>25</th>\n",
              "      <th>26</th>\n",
              "      <th>27</th>\n",
              "    </tr>\n",
              "  </thead>\n",
              "  <tbody>\n",
              "    <tr>\n",
              "      <th>0</th>\n",
              "      <td>0</td>\n",
              "      <td>0</td>\n",
              "      <td>0</td>\n",
              "      <td>0</td>\n",
              "      <td>0</td>\n",
              "      <td>...</td>\n",
              "      <td>0</td>\n",
              "      <td>0</td>\n",
              "      <td>0</td>\n",
              "      <td>0</td>\n",
              "      <td>0</td>\n",
              "    </tr>\n",
              "    <tr>\n",
              "      <th>1</th>\n",
              "      <td>0</td>\n",
              "      <td>0</td>\n",
              "      <td>0</td>\n",
              "      <td>0</td>\n",
              "      <td>0</td>\n",
              "      <td>...</td>\n",
              "      <td>0</td>\n",
              "      <td>0</td>\n",
              "      <td>0</td>\n",
              "      <td>0</td>\n",
              "      <td>0</td>\n",
              "    </tr>\n",
              "    <tr>\n",
              "      <th>2</th>\n",
              "      <td>0</td>\n",
              "      <td>0</td>\n",
              "      <td>0</td>\n",
              "      <td>0</td>\n",
              "      <td>0</td>\n",
              "      <td>...</td>\n",
              "      <td>0</td>\n",
              "      <td>0</td>\n",
              "      <td>0</td>\n",
              "      <td>0</td>\n",
              "      <td>0</td>\n",
              "    </tr>\n",
              "    <tr>\n",
              "      <th>3</th>\n",
              "      <td>0</td>\n",
              "      <td>0</td>\n",
              "      <td>0</td>\n",
              "      <td>0</td>\n",
              "      <td>0</td>\n",
              "      <td>...</td>\n",
              "      <td>0</td>\n",
              "      <td>0</td>\n",
              "      <td>1</td>\n",
              "      <td>1</td>\n",
              "      <td>0</td>\n",
              "    </tr>\n",
              "    <tr>\n",
              "      <th>4</th>\n",
              "      <td>0</td>\n",
              "      <td>0</td>\n",
              "      <td>0</td>\n",
              "      <td>0</td>\n",
              "      <td>0</td>\n",
              "      <td>...</td>\n",
              "      <td>3</td>\n",
              "      <td>4</td>\n",
              "      <td>0</td>\n",
              "      <td>0</td>\n",
              "      <td>3</td>\n",
              "    </tr>\n",
              "    <tr>\n",
              "      <th>...</th>\n",
              "      <td>...</td>\n",
              "      <td>...</td>\n",
              "      <td>...</td>\n",
              "      <td>...</td>\n",
              "      <td>...</td>\n",
              "      <td>...</td>\n",
              "      <td>...</td>\n",
              "      <td>...</td>\n",
              "      <td>...</td>\n",
              "      <td>...</td>\n",
              "      <td>...</td>\n",
              "    </tr>\n",
              "    <tr>\n",
              "      <th>23</th>\n",
              "      <td>0</td>\n",
              "      <td>0</td>\n",
              "      <td>74</td>\n",
              "      <td>189</td>\n",
              "      <td>212</td>\n",
              "      <td>...</td>\n",
              "      <td>194</td>\n",
              "      <td>192</td>\n",
              "      <td>216</td>\n",
              "      <td>170</td>\n",
              "      <td>0</td>\n",
              "    </tr>\n",
              "    <tr>\n",
              "      <th>24</th>\n",
              "      <td>2</td>\n",
              "      <td>0</td>\n",
              "      <td>0</td>\n",
              "      <td>0</td>\n",
              "      <td>66</td>\n",
              "      <td>...</td>\n",
              "      <td>168</td>\n",
              "      <td>99</td>\n",
              "      <td>58</td>\n",
              "      <td>0</td>\n",
              "      <td>0</td>\n",
              "    </tr>\n",
              "    <tr>\n",
              "      <th>25</th>\n",
              "      <td>0</td>\n",
              "      <td>0</td>\n",
              "      <td>0</td>\n",
              "      <td>0</td>\n",
              "      <td>0</td>\n",
              "      <td>...</td>\n",
              "      <td>0</td>\n",
              "      <td>0</td>\n",
              "      <td>0</td>\n",
              "      <td>0</td>\n",
              "      <td>0</td>\n",
              "    </tr>\n",
              "    <tr>\n",
              "      <th>26</th>\n",
              "      <td>0</td>\n",
              "      <td>0</td>\n",
              "      <td>0</td>\n",
              "      <td>0</td>\n",
              "      <td>0</td>\n",
              "      <td>...</td>\n",
              "      <td>0</td>\n",
              "      <td>0</td>\n",
              "      <td>0</td>\n",
              "      <td>0</td>\n",
              "      <td>0</td>\n",
              "    </tr>\n",
              "    <tr>\n",
              "      <th>27</th>\n",
              "      <td>0</td>\n",
              "      <td>0</td>\n",
              "      <td>0</td>\n",
              "      <td>0</td>\n",
              "      <td>0</td>\n",
              "      <td>...</td>\n",
              "      <td>0</td>\n",
              "      <td>0</td>\n",
              "      <td>0</td>\n",
              "      <td>0</td>\n",
              "      <td>0</td>\n",
              "    </tr>\n",
              "  </tbody>\n",
              "</table>\n",
              "<p>28 rows × 28 columns</p>\n",
              "</div>"
            ],
            "text/plain": [
              "    0   1   2    3    4   ...   23   24   25   26  27\n",
              "0    0   0   0    0    0  ...    0    0    0    0   0\n",
              "1    0   0   0    0    0  ...    0    0    0    0   0\n",
              "2    0   0   0    0    0  ...    0    0    0    0   0\n",
              "3    0   0   0    0    0  ...    0    0    1    1   0\n",
              "4    0   0   0    0    0  ...    3    4    0    0   3\n",
              "..  ..  ..  ..  ...  ...  ...  ...  ...  ...  ...  ..\n",
              "23   0   0  74  189  212  ...  194  192  216  170   0\n",
              "24   2   0   0    0   66  ...  168   99   58    0   0\n",
              "25   0   0   0    0    0  ...    0    0    0    0   0\n",
              "26   0   0   0    0    0  ...    0    0    0    0   0\n",
              "27   0   0   0    0    0  ...    0    0    0    0   0\n",
              "\n",
              "[28 rows x 28 columns]"
            ]
          },
          "metadata": {
            "tags": []
          },
          "execution_count": 2
        }
      ]
    },
    {
      "cell_type": "code",
      "metadata": {
        "id": "15lVWBggx6D6",
        "colab_type": "code",
        "outputId": "64c5bf60-a3ad-4b17-f74e-27dff9695de6",
        "colab": {
          "base_uri": "https://localhost:8080/",
          "height": 283
        }
      },
      "source": [
        "import numpy as np\n",
        "import matplotlib.pyplot as plt\n",
        "%matplotlib inline\n",
        "digit = 200\n",
        "a = x_train[digit]\n",
        "plt.imshow(a,cmap='gray',interpolation=\"nearest\")\n",
        "print(\"Image {}, digit{}\".format(digit,y_train[digit])) # Looks like it is a bag?"
      ],
      "execution_count": 3,
      "outputs": [
        {
          "output_type": "stream",
          "text": [
            "Image 200, digit8\n"
          ],
          "name": "stdout"
        },
        {
          "output_type": "display_data",
          "data": {
            "image/png": "[encoded data removed]",
            "text/plain": [
              "<Figure size 432x288 with 1 Axes>"
            ]
          },
          "metadata": {
            "tags": [],
            "needs_background": "light"
          }
        }
      ]
    },
    {
      "cell_type": "code",
      "metadata": {
        "id": "j0nt60U8yQb3",
        "colab_type": "code",
        "colab": {}
      },
      "source": [
        "import tensorflow.keras\n",
        "from tensorflow.keras.datasets import mnist\n",
        "from tensorflow.keras.models import Sequential\n",
        "from tensorflow.keras.layers import  Dense, Dropout, Flatten # Some pic proccessing tools \n",
        "from tensorflow.keras.layers import Conv2D, MaxPooling2D #CNN 2d with Maxpool \n",
        "from tensorflow.keras import backend as K # Backend \n",
        "\n",
        "batch_size = 128\n",
        "num_classes = 10 # 10 different genras \n",
        "epochs = 12 \n",
        "\n",
        "img_row = 28\n",
        "img_col = 28\n",
        "\n",
        "if K.image_data_format() == \"channels_first\":\n",
        "  x_train = x_train.reshape(x_train.shape[0],1,img_row,img_col)\n",
        "  x_test = x_test.reshape(x_test.shape[0],1,img_row,img_col)\n",
        "  input_shape = (1,img_row, img_col)\n",
        "else:\n",
        "  x_train = x_train.reshape(x_train.shape[0],img_row,img_col,1)\n",
        "  x_test = x_test.reshape(x_test.shape[0],img_row,img_col,1)\n",
        "  input_shape = (img_row,img_col,1)\n",
        "\n",
        "x_train = x_train.astype(\"float32\")\n",
        "x_test = x_test.astype(\"float32\")\n",
        "x_train /= 255\n",
        "x_test /= 255\n",
        "\n",
        "#Convert class vectors to binary class matrix\n",
        "y_train = tensorflow.keras.utils.to_categorical(y_train, num_classes)\n",
        "y_test = tensorflow.keras.utils.to_categorical(y_test, num_classes)"
      ],
      "execution_count": 0,
      "outputs": []
    },
    {
      "cell_type": "code",
      "metadata": {
        "id": "JdFNV66jnlVN",
        "colab_type": "code",
        "colab": {}
      },
      "source": [
        "# Build CNN\n",
        "model = Sequential()\n",
        "model.add(Conv2D(32, kernel_size=3,activation=\"relu\",input_shape=input_shape))\n",
        "model.add(Conv2D(32, kernel_size=3,activation=\"relu\"))\n",
        "model.add(MaxPooling2D(pool_size=(2,2)))\n",
        "model.add(Dropout(0.2)) # Drop 20% of the nodes to avoid overfitting\n",
        "model.add(Flatten())\n",
        "model.add(Dense(128,activation=\"relu\"))\n",
        "model.add(Dropout(0.5)) # Drop 50% of the nodes to avoid overfitting\n",
        "model.add(Dense(num_classes,activation=\"relu\"))\n",
        "model.compile(loss=\"categorical_crossentropy\",optimizer=\"adam\",metrics=[\"accuracy\"])"
      ],
      "execution_count": 0,
      "outputs": []
    },
    {
      "cell_type": "code",
      "metadata": {
        "id": "QM7fCNbZnvvL",
        "colab_type": "code",
        "outputId": "2b5aaeb9-3d3f-4d91-97ac-512c9cb3377f",
        "colab": {
          "base_uri": "https://localhost:8080/",
          "height": 508
        }
      },
      "source": [
        "# Test our model\n",
        "import tensorflow as tf\n",
        "import time\n",
        "import IPython\n",
        "start_time = time.time()\n",
        "model.fit(x_train,y_train, batch_size=batch_size, epochs=epochs, verbose=2,\n",
        "          validation_data=(x_test,y_test))\n",
        "score = model.evaluate(x_test,y_test,verbose=0)\n",
        "\n",
        "print(\"Test Loss:{}\".format(score[0]))\n",
        "print(\"Test Accuracy:{}\".format(score[1]))\n",
        "\n",
        "end_time = time.time()\n",
        "elapsed_time = end_time - start_time\n",
        "print(\"Time Duration:{}\".format(elapsed_time)) \n"
      ],
      "execution_count": 8,
      "outputs": [
        {
          "output_type": "stream",
          "text": [
            "Epoch 1/12\n",
            "469/469 - 3s - loss: 0.5968 - accuracy: 0.8269 - val_loss: 0.5397 - val_accuracy: 0.8432\n",
            "Epoch 2/12\n",
            "469/469 - 3s - loss: 0.5731 - accuracy: 0.8382 - val_loss: 0.5006 - val_accuracy: 0.8508\n",
            "Epoch 3/12\n",
            "469/469 - 3s - loss: 0.6168 - accuracy: 0.8213 - val_loss: 0.5434 - val_accuracy: 0.8407\n",
            "Epoch 4/12\n",
            "469/469 - 3s - loss: 0.5734 - accuracy: 0.8369 - val_loss: 0.5503 - val_accuracy: 0.8536\n",
            "Epoch 5/12\n",
            "469/469 - 3s - loss: 0.5771 - accuracy: 0.8431 - val_loss: 0.5226 - val_accuracy: 0.8608\n",
            "Epoch 6/12\n",
            "469/469 - 3s - loss: 0.5727 - accuracy: 0.8392 - val_loss: 0.4705 - val_accuracy: 0.8596\n",
            "Epoch 7/12\n",
            "469/469 - 3s - loss: 0.5480 - accuracy: 0.8440 - val_loss: 0.4873 - val_accuracy: 0.8611\n",
            "Epoch 8/12\n",
            "469/469 - 3s - loss: 0.6711 - accuracy: 0.8145 - val_loss: 0.5231 - val_accuracy: 0.8533\n",
            "Epoch 9/12\n",
            "469/469 - 3s - loss: 0.6716 - accuracy: 0.8094 - val_loss: 0.5301 - val_accuracy: 0.8323\n",
            "Epoch 10/12\n",
            "469/469 - 3s - loss: 0.6706 - accuracy: 0.8174 - val_loss: 0.5222 - val_accuracy: 0.8401\n",
            "Epoch 11/12\n",
            "469/469 - 3s - loss: 0.6497 - accuracy: 0.8133 - val_loss: 0.5205 - val_accuracy: 0.8462\n",
            "Epoch 12/12\n",
            "469/469 - 3s - loss: 0.6009 - accuracy: 0.8333 - val_loss: 0.5213 - val_accuracy: 0.8435\n",
            "Test Loss:0.521307110786438\n",
            "Test Accuracy:0.843500018119812\n",
            "Time Duration:36.06648850440979\n"
          ],
          "name": "stdout"
        }
      ]
    },
    {
      "cell_type": "code",
      "metadata": {
        "id": "5Jwncbfgr5mv",
        "colab_type": "code",
        "colab": {}
      },
      "source": [
        "# At last we got a accuracy score of 84.35%"
      ],
      "execution_count": 0,
      "outputs": []
    }
  ]
}