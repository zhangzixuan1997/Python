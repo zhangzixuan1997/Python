{
  "nbformat": 4,
  "nbformat_minor": 0,
  "metadata": {
    "colab": {
      "name": "Copy of Student Performace.ipynb",
      "provenance": [],
      "mount_file_id": "1PjLw1v0Cs5TheaILAxRsVISbArlhBAJ3",
      "authorship_tag": "ABX9TyOLKvYWBhpHWmTlDuPjm2WI",
      "include_colab_link": true
    },
    "kernelspec": {
      "name": "python3",
      "display_name": "Python 3"
    }
  },
  "cells": [
    {
      "cell_type": "markdown",
      "metadata": {
        "id": "view-in-github",
        "colab_type": "text"
      },
      "source": [
        "<a href=\"https://colab.research.google.com/github/zhangzixuan1997/Python/blob/master/Student_Performace-A%20simple%20deep%20learning%20early%20stopping%20example.ipynb\" target=\"_parent\"><img src=\"https://colab.research.google.com/assets/colab-badge.svg\" alt=\"Open In Colab\"/></a>"
      ]
    },
    {
      "cell_type": "code",
      "metadata": {
        "id": "xDINcfNBMzAy",
        "colab_type": "code",
        "outputId": "33df2e3a-91c7-4d60-b9b8-e85a980e20c2",
        "colab": {
          "base_uri": "https://localhost:8080/",
          "height": 1000
        }
      },
      "source": [
        "import pandas as pd\n",
        "from scipy.stats import zscore\n",
        "from sklearn.model_selection import train_test_split\n",
        "import matplotlib.pyplot as plt\n",
        "\n",
        "df = pd.read_csv(\"/content/drive/My Drive/StudentsPerformance.csv\")\n",
        "\n",
        "# Generate dummies.\n",
        "df = pd.concat([df,pd.get_dummies(df[\"gender\"],prefix=\"gender\")],axis=1)\n",
        "df.drop(\"gender\",axis=1, inplace=True)\n",
        "df = pd.concat([df,pd.get_dummies(df[\"race/ethnicity\"],prefix=\"race/ethnicity\")],axis=1)\n",
        "df.drop(\"race/ethnicity\",axis=1, inplace=True)\n",
        "df = pd.concat([df,pd.get_dummies(df[\"parental level of education\"],prefix=\"parental level of education\")],axis=1)\n",
        "df.drop(\"parental level of education\",axis=1, inplace=True)\n",
        "df = pd.concat([df,pd.get_dummies(df[\"lunch\"],prefix=\"lunch\")],axis=1)\n",
        "df.drop(\"lunch\",axis=1, inplace=True)\n",
        "df = pd.concat([df,pd.get_dummies(df[\"test preparation course\"],prefix=\"test preparation course\")],axis=1)\n",
        "df.drop(\"test preparation course\",axis=1, inplace=True)\n",
        "\n",
        "# Create a total score\n",
        "df[\"total score\"] = df[\"math score\"]+df[\"reading score\"]+df[\"writing score\"]\n",
        "x_columns = df.columns.drop(\"math score\").drop(\"reading score\").drop(\"writing score\").drop(\"total score\")\n",
        "x = df[x_columns].values\n",
        "y = df[\"total score\"].values\n",
        "\n",
        "#Create train test\n",
        "x_train,x_test,y_train,y_test = train_test_split(x,y,test_size=0.25,random_state=42)\n",
        "\n",
        "from tensorflow.keras.models import Sequential\n",
        "from tensorflow.keras.layers import Dense, Activation\n",
        "from tensorflow.keras.callbacks import EarlyStopping\n",
        "\n",
        "#Build the neural network\n",
        "model = Sequential()\n",
        "model.add(Dense(25,input_dim=x.shape[1],activation=\"relu\")) # hidden 1 \n",
        "model.add(Dense(10, activation=\"relu\")) # hidden 1 \n",
        "model.add(Dense(1))\n",
        "model.compile(loss=\"mean_squared_error\",optimizer=\"adam\")\n",
        "monitor = EarlyStopping(monitor=\"val_loss\",min_delta=1e-3,patience=30,verbose=1,mode=\"auto\",\\\n",
        "\trestore_best_weights=True)\n",
        "\n",
        "model.fit(x_train,y_train,validation_data=(x_test,y_test),\\\n",
        "\tcallbacks=[monitor],verbose=2,epochs=5000)"
      ],
      "execution_count": 0,
      "outputs": [
        {
          "output_type": "stream",
          "text": [
            "Epoch 1/5000\n",
            "24/24 - 0s - loss: 43738.8203 - val_loss: 41115.9727\n",
            "Epoch 2/5000\n",
            "24/24 - 0s - loss: 43522.2734 - val_loss: 40883.3164\n",
            "Epoch 3/5000\n",
            "24/24 - 0s - loss: 43228.0703 - val_loss: 40525.4375\n",
            "Epoch 4/5000\n",
            "24/24 - 0s - loss: 42730.7031 - val_loss: 39863.7852\n",
            "Epoch 5/5000\n",
            "24/24 - 0s - loss: 41839.9062 - val_loss: 38768.8594\n",
            "Epoch 6/5000\n",
            "24/24 - 0s - loss: 40468.0039 - val_loss: 37146.0977\n",
            "Epoch 7/5000\n",
            "24/24 - 0s - loss: 38468.2227 - val_loss: 34843.2266\n",
            "Epoch 8/5000\n",
            "24/24 - 0s - loss: 35722.6328 - val_loss: 31795.9863\n",
            "Epoch 9/5000\n",
            "24/24 - 0s - loss: 32205.5625 - val_loss: 28042.4785\n",
            "Epoch 10/5000\n",
            "24/24 - 0s - loss: 28015.2500 - val_loss: 23764.3320\n",
            "Epoch 11/5000\n",
            "24/24 - 0s - loss: 23386.7363 - val_loss: 19223.2578\n",
            "Epoch 12/5000\n",
            "24/24 - 0s - loss: 18622.9062 - val_loss: 14769.5859\n",
            "Epoch 13/5000\n",
            "24/24 - 0s - loss: 14085.9092 - val_loss: 10709.0234\n",
            "Epoch 14/5000\n",
            "24/24 - 0s - loss: 10030.9746 - val_loss: 7398.8027\n",
            "Epoch 15/5000\n",
            "24/24 - 0s - loss: 6847.6826 - val_loss: 4879.4180\n",
            "Epoch 16/5000\n",
            "24/24 - 0s - loss: 4519.5972 - val_loss: 3304.9546\n",
            "Epoch 17/5000\n",
            "24/24 - 0s - loss: 3064.6140 - val_loss: 2437.7795\n",
            "Epoch 18/5000\n",
            "24/24 - 0s - loss: 2267.2437 - val_loss: 2033.2430\n",
            "Epoch 19/5000\n",
            "24/24 - 0s - loss: 1867.3494 - val_loss: 1898.4072\n",
            "Epoch 20/5000\n",
            "24/24 - 0s - loss: 1698.5319 - val_loss: 1860.6749\n",
            "Epoch 21/5000\n",
            "24/24 - 0s - loss: 1624.4700 - val_loss: 1853.1064\n",
            "Epoch 22/5000\n",
            "24/24 - 0s - loss: 1588.0315 - val_loss: 1847.2765\n",
            "Epoch 23/5000\n",
            "24/24 - 0s - loss: 1564.8385 - val_loss: 1839.4237\n",
            "Epoch 24/5000\n",
            "24/24 - 0s - loss: 1546.9398 - val_loss: 1832.9896\n",
            "Epoch 25/5000\n",
            "24/24 - 0s - loss: 1529.9183 - val_loss: 1816.6426\n",
            "Epoch 26/5000\n",
            "24/24 - 0s - loss: 1514.4972 - val_loss: 1807.0148\n",
            "Epoch 27/5000\n",
            "24/24 - 0s - loss: 1499.7296 - val_loss: 1790.4716\n",
            "Epoch 28/5000\n",
            "24/24 - 0s - loss: 1485.1570 - val_loss: 1779.8464\n",
            "Epoch 29/5000\n",
            "24/24 - 0s - loss: 1472.5503 - val_loss: 1763.9597\n",
            "Epoch 30/5000\n",
            "24/24 - 0s - loss: 1461.1360 - val_loss: 1755.2579\n",
            "Epoch 31/5000\n",
            "24/24 - 0s - loss: 1448.2250 - val_loss: 1743.6372\n",
            "Epoch 32/5000\n",
            "24/24 - 0s - loss: 1437.9969 - val_loss: 1732.4136\n",
            "Epoch 33/5000\n",
            "24/24 - 0s - loss: 1427.7983 - val_loss: 1726.2156\n",
            "Epoch 34/5000\n",
            "24/24 - 0s - loss: 1418.6301 - val_loss: 1714.0162\n",
            "Epoch 35/5000\n",
            "24/24 - 0s - loss: 1410.8557 - val_loss: 1709.7698\n",
            "Epoch 36/5000\n",
            "24/24 - 0s - loss: 1403.1465 - val_loss: 1692.4360\n",
            "Epoch 37/5000\n",
            "24/24 - 0s - loss: 1394.9266 - val_loss: 1693.4697\n",
            "Epoch 38/5000\n",
            "24/24 - 0s - loss: 1388.2278 - val_loss: 1683.8665\n",
            "Epoch 39/5000\n",
            "24/24 - 0s - loss: 1381.4757 - val_loss: 1678.9775\n",
            "Epoch 40/5000\n",
            "24/24 - 0s - loss: 1375.8436 - val_loss: 1675.0934\n",
            "Epoch 41/5000\n",
            "24/24 - 0s - loss: 1370.9678 - val_loss: 1663.1555\n",
            "Epoch 42/5000\n",
            "24/24 - 0s - loss: 1364.9806 - val_loss: 1665.8922\n",
            "Epoch 43/5000\n",
            "24/24 - 0s - loss: 1361.6046 - val_loss: 1662.1331\n",
            "Epoch 44/5000\n",
            "24/24 - 0s - loss: 1357.5062 - val_loss: 1655.2092\n",
            "Epoch 45/5000\n",
            "24/24 - 0s - loss: 1353.9536 - val_loss: 1650.6514\n",
            "Epoch 46/5000\n",
            "24/24 - 0s - loss: 1351.7527 - val_loss: 1644.0426\n",
            "Epoch 47/5000\n",
            "24/24 - 0s - loss: 1347.7933 - val_loss: 1642.9221\n",
            "Epoch 48/5000\n",
            "24/24 - 0s - loss: 1345.7296 - val_loss: 1639.4360\n",
            "Epoch 49/5000\n",
            "24/24 - 0s - loss: 1343.0117 - val_loss: 1638.6196\n",
            "Epoch 50/5000\n",
            "24/24 - 0s - loss: 1341.6204 - val_loss: 1637.0485\n",
            "Epoch 51/5000\n",
            "24/24 - 0s - loss: 1338.8348 - val_loss: 1638.0588\n",
            "Epoch 52/5000\n",
            "24/24 - 0s - loss: 1337.1844 - val_loss: 1630.1497\n",
            "Epoch 53/5000\n",
            "24/24 - 0s - loss: 1335.2277 - val_loss: 1627.7765\n",
            "Epoch 54/5000\n",
            "24/24 - 0s - loss: 1335.1827 - val_loss: 1627.1185\n",
            "Epoch 55/5000\n",
            "24/24 - 0s - loss: 1332.8704 - val_loss: 1634.6396\n",
            "Epoch 56/5000\n",
            "24/24 - 0s - loss: 1331.4508 - val_loss: 1629.7998\n",
            "Epoch 57/5000\n",
            "24/24 - 0s - loss: 1330.5020 - val_loss: 1627.5920\n",
            "Epoch 58/5000\n",
            "24/24 - 0s - loss: 1329.6719 - val_loss: 1627.7220\n",
            "Epoch 59/5000\n",
            "24/24 - 0s - loss: 1329.1528 - val_loss: 1620.4646\n",
            "Epoch 60/5000\n",
            "24/24 - 0s - loss: 1328.0708 - val_loss: 1625.6416\n",
            "Epoch 61/5000\n",
            "24/24 - 0s - loss: 1326.7673 - val_loss: 1619.4148\n",
            "Epoch 62/5000\n",
            "24/24 - 0s - loss: 1326.2054 - val_loss: 1623.5231\n",
            "Epoch 63/5000\n",
            "24/24 - 0s - loss: 1326.0793 - val_loss: 1624.4760\n",
            "Epoch 64/5000\n",
            "24/24 - 0s - loss: 1327.5710 - val_loss: 1619.0800\n",
            "Epoch 65/5000\n",
            "24/24 - 0s - loss: 1325.4933 - val_loss: 1631.6248\n",
            "Epoch 66/5000\n",
            "24/24 - 0s - loss: 1324.8165 - val_loss: 1617.0680\n",
            "Epoch 67/5000\n",
            "24/24 - 0s - loss: 1324.6226 - val_loss: 1620.8447\n",
            "Epoch 68/5000\n",
            "24/24 - 0s - loss: 1324.1592 - val_loss: 1629.1315\n",
            "Epoch 69/5000\n",
            "24/24 - 0s - loss: 1323.9590 - val_loss: 1616.9722\n",
            "Epoch 70/5000\n",
            "24/24 - 0s - loss: 1322.8080 - val_loss: 1625.2778\n",
            "Epoch 71/5000\n",
            "24/24 - 0s - loss: 1323.8710 - val_loss: 1620.6152\n",
            "Epoch 72/5000\n",
            "24/24 - 0s - loss: 1323.0359 - val_loss: 1628.6724\n",
            "Epoch 73/5000\n",
            "24/24 - 0s - loss: 1326.0624 - val_loss: 1619.9220\n",
            "Epoch 74/5000\n",
            "24/24 - 0s - loss: 1322.0881 - val_loss: 1625.9666\n",
            "Epoch 75/5000\n",
            "24/24 - 0s - loss: 1322.3616 - val_loss: 1625.8713\n",
            "Epoch 76/5000\n",
            "24/24 - 0s - loss: 1321.5964 - val_loss: 1619.9719\n",
            "Epoch 77/5000\n",
            "24/24 - 0s - loss: 1320.9645 - val_loss: 1627.3011\n",
            "Epoch 78/5000\n",
            "24/24 - 0s - loss: 1321.5649 - val_loss: 1623.6868\n",
            "Epoch 79/5000\n",
            "24/24 - 0s - loss: 1321.0126 - val_loss: 1623.5485\n",
            "Epoch 80/5000\n",
            "24/24 - 0s - loss: 1320.9702 - val_loss: 1626.8513\n",
            "Epoch 81/5000\n",
            "24/24 - 0s - loss: 1320.0076 - val_loss: 1625.8403\n",
            "Epoch 82/5000\n",
            "24/24 - 0s - loss: 1320.3297 - val_loss: 1618.7577\n",
            "Epoch 83/5000\n",
            "24/24 - 0s - loss: 1320.2391 - val_loss: 1623.6389\n",
            "Epoch 84/5000\n",
            "24/24 - 0s - loss: 1321.0662 - val_loss: 1626.2063\n",
            "Epoch 85/5000\n",
            "24/24 - 0s - loss: 1321.6969 - val_loss: 1624.1746\n",
            "Epoch 86/5000\n",
            "24/24 - 0s - loss: 1319.4696 - val_loss: 1632.3712\n",
            "Epoch 87/5000\n",
            "24/24 - 0s - loss: 1319.2964 - val_loss: 1626.3655\n",
            "Epoch 88/5000\n",
            "24/24 - 0s - loss: 1322.0170 - val_loss: 1624.8755\n",
            "Epoch 89/5000\n",
            "24/24 - 0s - loss: 1318.5367 - val_loss: 1626.6963\n",
            "Epoch 90/5000\n",
            "24/24 - 0s - loss: 1317.7819 - val_loss: 1632.7648\n",
            "Epoch 91/5000\n",
            "24/24 - 0s - loss: 1317.7913 - val_loss: 1628.1023\n",
            "Epoch 92/5000\n",
            "24/24 - 0s - loss: 1322.2958 - val_loss: 1620.9899\n",
            "Epoch 93/5000\n",
            "24/24 - 0s - loss: 1319.8492 - val_loss: 1633.2527\n",
            "Epoch 94/5000\n",
            "24/24 - 0s - loss: 1319.6790 - val_loss: 1627.1139\n",
            "Epoch 95/5000\n",
            "24/24 - 0s - loss: 1317.8441 - val_loss: 1617.8735\n",
            "Epoch 96/5000\n",
            "24/24 - 0s - loss: 1317.5455 - val_loss: 1625.1661\n",
            "Epoch 97/5000\n",
            "24/24 - 0s - loss: 1317.5498 - val_loss: 1625.0914\n",
            "Epoch 98/5000\n",
            "24/24 - 0s - loss: 1316.5471 - val_loss: 1631.6294\n",
            "Epoch 99/5000\n",
            "Restoring model weights from the end of the best epoch.\n",
            "24/24 - 0s - loss: 1317.8456 - val_loss: 1626.3596\n",
            "Epoch 00099: early stopping\n"
          ],
          "name": "stdout"
        },
        {
          "output_type": "execute_result",
          "data": {
            "text/plain": [
              "<tensorflow.python.keras.callbacks.History at 0x7f85752dc128>"
            ]
          },
          "metadata": {
            "tags": []
          },
          "execution_count": 2
        }
      ]
    },
    {
      "cell_type": "code",
      "metadata": {
        "id": "JGqsrf60SFCP",
        "colab_type": "code",
        "outputId": "a24be195-ef8a-46f1-8aa4-8acc3c9b940e",
        "colab": {
          "base_uri": "https://localhost:8080/",
          "height": 170
        }
      },
      "source": [
        "import numpy as np\n",
        "df[\"total score\"].describe()"
      ],
      "execution_count": 0,
      "outputs": [
        {
          "output_type": "execute_result",
          "data": {
            "text/plain": [
              "count    1000.000000\n",
              "mean      203.312000\n",
              "std        42.771978\n",
              "min        27.000000\n",
              "25%       175.000000\n",
              "50%       205.000000\n",
              "75%       233.000000\n",
              "max       300.000000\n",
              "Name: total score, dtype: float64"
            ]
          },
          "metadata": {
            "tags": []
          },
          "execution_count": 3
        }
      ]
    },
    {
      "cell_type": "code",
      "metadata": {
        "id": "0H3_dHfnRbKf",
        "colab_type": "code",
        "outputId": "7aa140aa-2c1c-48ee-b02d-b7535de77637",
        "colab": {
          "base_uri": "https://localhost:8080/",
          "height": 34
        }
      },
      "source": [
        "from sklearn import metrics\n",
        "pred = model.predict(x_test)\n",
        "#MSE\n",
        "RMSE_score = np.sqrt(metrics.mean_squared_error(pred,y_test))\n",
        "print(\"Final RMSE Score:{}\".format(RMSE_score))\n",
        "# So our estimation is around 1 standard deviation. "
      ],
      "execution_count": 0,
      "outputs": [
        {
          "output_type": "stream",
          "text": [
            "Final RMSE Score:40.21159405908812\n"
          ],
          "name": "stdout"
        }
      ]
    },
    {
      "cell_type": "code",
      "metadata": {
        "id": "0NmpNJFLSCtl",
        "colab_type": "code",
        "outputId": "f02bedb3-fa00-47b6-f8a6-90d9ae332149",
        "colab": {
          "base_uri": "https://localhost:8080/",
          "height": 265
        }
      },
      "source": [
        "#Now lets draw a regression chart to see which part we can modify to increase the precision\n",
        "#Regression Chart\n",
        "%matplotlib inline\n",
        "def chart_regression(pred,y,sort=True):\n",
        "  t=pd.DataFrame({\"pred\":pred,\"y\":y.flatten()})\n",
        "  if sort:\n",
        "    t.sort_values(by=['y'],inplace=True)\n",
        "  plt.plot(t['y'].tolist(),label=\"expected\")\n",
        "  plt.plot(t['pred'].tolist(),label=\"predict\")\n",
        "  plt.ylabel(\"output\")\n",
        "  plt.legend()\n",
        "  plt.show()\n",
        "\n",
        "chart_regression(pred.flatten(),y_test)"
      ],
      "execution_count": 0,
      "outputs": [
        {
          "output_type": "display_data",
          "data": {
            "image/png": "[encoded data removed]",
            "text/plain": [
              "<Figure size 432x288 with 1 Axes>"
            ]
          },
          "metadata": {
            "tags": [],
            "needs_background": "light"
          }
        }
      ]
    },
    {
      "cell_type": "code",
      "metadata": {
        "id": "uVRft4fVUW6s",
        "colab_type": "code",
        "outputId": "c0f410e1-694e-4660-a19c-be574b7b455e",
        "colab": {
          "base_uri": "https://localhost:8080/",
          "height": 336
        }
      },
      "source": [
        "import seaborn as sns\n",
        "df2 = pd.read_csv(\"/content/drive/My Drive/StudentsPerformance.csv\")\n",
        "df2[\"total score\"] = df2[\"math score\"]+df2[\"reading score\"]+df2[\"writing score\"]\n",
        "df2_race = df2.groupby(by=[\"race/ethnicity\"],as_index=False).mean()[[\"race/ethnicity\",\"total score\"]]\n",
        "df2_race.plot(kind=\"barh\",x=\"race/ethnicity\",y=\"total score\")"
      ],
      "execution_count": 0,
      "outputs": [
        {
          "output_type": "stream",
          "text": [
            "/usr/local/lib/python3.6/dist-packages/statsmodels/tools/_testing.py:19: FutureWarning: pandas.util.testing is deprecated. Use the functions in the public API at pandas.testing instead.\n",
            "  import pandas.util.testing as tm\n"
          ],
          "name": "stderr"
        },
        {
          "output_type": "execute_result",
          "data": {
            "text/plain": [
              "<matplotlib.axes._subplots.AxesSubplot at 0x7f85715499b0>"
            ]
          },
          "metadata": {
            "tags": []
          },
          "execution_count": 6
        },
        {
          "output_type": "display_data",
          "data": {
            "image/png": "[encoded data removed]",
            "text/plain": [
              "<Figure size 432x288 with 1 Axes>"
            ]
          },
          "metadata": {
            "tags": [],
            "needs_background": "light"
          }
        }
      ]
    },
    {
      "cell_type": "code",
      "metadata": {
        "id": "D4b0Xsj2VowJ",
        "colab_type": "code",
        "outputId": "79085d2f-5336-4ab4-ded5-67c70a88fca6",
        "colab": {
          "base_uri": "https://localhost:8080/",
          "height": 282
        }
      },
      "source": [
        "df2_race = df2.groupby(by=[\"parental level of education\"],as_index=False).mean()[[\"parental level of education\",\"total score\"]]\n",
        "df2_race.plot(kind=\"barh\",x=\"parental level of education\",y=\"total score\")"
      ],
      "execution_count": 0,
      "outputs": [
        {
          "output_type": "execute_result",
          "data": {
            "text/plain": [
              "<matplotlib.axes._subplots.AxesSubplot at 0x7f857151c208>"
            ]
          },
          "metadata": {
            "tags": []
          },
          "execution_count": 8
        },
        {
          "output_type": "display_data",
          "data": {
            "image/png": "[encoded data removed]",
            "text/plain": [
              "<Figure size 432x288 with 1 Axes>"
            ]
          },
          "metadata": {
            "tags": [],
            "needs_background": "light"
          }
        }
      ]
    },
    {
      "cell_type": "code",
      "metadata": {
        "id": "C33rfosvWuTH",
        "colab_type": "code",
        "colab": {}
      },
      "source": [
        "# As most prediction method showed on kaggle \n",
        "# https://www.kaggle.com/spscientist/students-performance-in-exams/kernels\n",
        "# It is almost impossible we predict students' performance on these several categorical vars.\n",
        "# So friends, working hard definitely works."
      ],
      "execution_count": 0,
      "outputs": []
    }
  ]
}