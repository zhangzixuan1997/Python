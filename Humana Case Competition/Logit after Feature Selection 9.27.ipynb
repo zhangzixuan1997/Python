{
  "nbformat": 4,
  "nbformat_minor": 0,
  "metadata": {
    "colab": {
      "name": "Copy of Case Competition 9.26 Feature Engineering.ipynb",
      "provenance": [],
      "collapsed_sections": [],
      "toc_visible": true,
      "machine_shape": "hm"
    },
    "kernelspec": {
      "name": "python3",
      "display_name": "Python 3"
    },
    "accelerator": "GPU"
  },
  "cells": [
    {
      "cell_type": "code",
      "metadata": {
        "id": "7wg56Yf7AJko",
        "outputId": "403b2841-7845-45dd-a817-7c6e98e31430",
        "colab": {
          "base_uri": "https://localhost:8080/",
          "height": 71
        }
      },
      "source": [
        "import os\n",
        "os.chdir(\"/content/drive/My Drive/Humana Google Colab\")\n",
        "\n",
        "import pandas as pd\n",
        "import numpy as np\n",
        "import matplotlib.pyplot as plt\n",
        "import seaborn as sns\n",
        "from sklearn.model_selection import train_test_split \n",
        "from sklearn.preprocessing import StandardScaler\n",
        "import warnings\n",
        "warnings.filterwarnings('ignore')"
      ],
      "execution_count": 1,
      "outputs": [
        {
          "output_type": "stream",
          "text": [
            "/usr/local/lib/python3.6/dist-packages/statsmodels/tools/_testing.py:19: FutureWarning: pandas.util.testing is deprecated. Use the functions in the public API at pandas.testing instead.\n",
            "  import pandas.util.testing as tm\n"
          ],
          "name": "stderr"
        }
      ]
    },
    {
      "cell_type": "code",
      "metadata": {
        "id": "jYPyaEOUBmMH",
        "outputId": "8cb9fa20-248f-4217-b075-c56134a5575e",
        "colab": {
          "base_uri": "https://localhost:8080/",
          "height": 34
        }
      },
      "source": [
        "df = pd.read_csv(\"2020_Competition_Training (1).csv\")\n",
        "df[\"train\"] = 1\n",
        "df_hold = pd.read_csv(\"2020_Competition_Holdout .csv\")\n",
        "df_hold[\"train\"] = 0\n",
        "df_hold[\"transportation_issues\"] = None\n",
        "df_all = pd.concat([df, df_hold])\n",
        "df_all.reset_index(inplace=True)\n",
        "df_all.shape #87253 rows with 828 features"
      ],
      "execution_count": 2,
      "outputs": [
        {
          "output_type": "execute_result",
          "data": {
            "text/plain": [
              "(87253, 828)"
            ]
          },
          "metadata": {
            "tags": []
          },
          "execution_count": 2
        }
      ]
    },
    {
      "cell_type": "code",
      "metadata": {
        "id": "bxH5KYNNmwqg"
      },
      "source": [
        "df_feature_selection = pd.read_csv(\"features kept2.csv\")\n",
        "features_selection = df_feature_selection[\"0\"].tolist() + [\"train\", \"transportation_issues\"]\n",
        "df = df[features_selection] "
      ],
      "execution_count": 3,
      "outputs": []
    },
    {
      "cell_type": "code",
      "metadata": {
        "id": "6KTJBiBhBvCn",
        "outputId": "6bef8749-f583-4208-d201-ed46dd237921",
        "colab": {
          "base_uri": "https://localhost:8080/",
          "height": 34
        }
      },
      "source": [
        "df.shape #We have 61columns, 1 for train identification, 1 for target, and 59 for features."
      ],
      "execution_count": 4,
      "outputs": [
        {
          "output_type": "execute_result",
          "data": {
            "text/plain": [
              "(69572, 61)"
            ]
          },
          "metadata": {
            "tags": []
          },
          "execution_count": 4
        }
      ]
    },
    {
      "cell_type": "markdown",
      "metadata": {
        "id": "QI5flXLaEgoC"
      },
      "source": [
        "### Missing Values"
      ]
    },
    {
      "cell_type": "code",
      "metadata": {
        "id": "nnpHO_E1ETk9"
      },
      "source": [
        "df_columns = df.columns.tolist()\n",
        "df_columns.remove(\"transportation_issues\")\n",
        "\n",
        "#Columns with missing value\n",
        "columns_with_missing = []\n",
        "for column in df_columns:\n",
        "    if df[column].isnull().sum()>0:\n",
        "        columns_with_missing.append({\"column\":column, \"missing\":df_all[column].isnull().sum()})\n",
        "\n",
        "df_missing_distribution = pd.DataFrame.from_dict(columns_with_missing)\n",
        "df_missing_distribution.sort_values(\"missing\",ascending=False).reset_index(inplace=True)\n",
        "from sklearn.impute import SimpleImputer\n",
        "# rank 1 blood fat screen or control\n",
        "# rank 2 data from cons about demos\n",
        "# rank 3 cms data insurance factor data.\n",
        "imputer_frequent = SimpleImputer(strategy=\"most_frequent\")\n",
        "for column in df_missing_distribution[\"column\"]:\n",
        "    try:\n",
        "        if df[column].nunique()>=30:\n",
        "            df[column].fillna(df[column].mean(),inplace=True)\n",
        "        else:\n",
        "            df[column].fillna(df[column].value_counts().index[0],inplace=True)\n",
        "    except:\n",
        "        print(column)"
      ],
      "execution_count": 5,
      "outputs": []
    },
    {
      "cell_type": "markdown",
      "metadata": {
        "id": "nyFsYPWpErf1"
      },
      "source": [
        "## Variable Types and Manipulation"
      ]
    },
    {
      "cell_type": "code",
      "metadata": {
        "id": "Ae0tP4STCBQh",
        "outputId": "27382807-73e1-4487-cc12-a4b44c98b32c",
        "colab": {
          "base_uri": "https://localhost:8080/",
          "height": 34
        }
      },
      "source": [
        "column_types = pd.DataFrame(df.dtypes).reset_index()\n",
        "object_columns = column_types[column_types[0]==\"object\"][\"index\"].tolist()\n",
        "float_columns = column_types[column_types[0]==\"float64\"][\"index\"].tolist()\n",
        "int_columns = column_types[column_types[0]==\"int64\"][\"index\"].tolist()\n",
        "print(\"object:{},  float:{},  int:{}\".format(len(object_columns),len(float_columns),len(int_columns)))"
      ],
      "execution_count": 6,
      "outputs": [
        {
          "output_type": "stream",
          "text": [
            "object:1,  float:44,  int:16\n"
          ],
          "name": "stdout"
        }
      ]
    },
    {
      "cell_type": "code",
      "metadata": {
        "id": "d4FWbUWC163d"
      },
      "source": [
        "df.drop(\"state_cd\",axis=1, inplace=True)"
      ],
      "execution_count": 7,
      "outputs": []
    },
    {
      "cell_type": "markdown",
      "metadata": {
        "id": "lOrQpHSjXiwB"
      },
      "source": [
        "## Split the data"
      ]
    },
    {
      "cell_type": "code",
      "metadata": {
        "id": "SUC2qhgyqSCY",
        "outputId": "db0ff2cf-2a45-4d4e-dc0c-84a8909433e9",
        "colab": {
          "base_uri": "https://localhost:8080/",
          "height": 34
        }
      },
      "source": [
        "df.shape"
      ],
      "execution_count": 8,
      "outputs": [
        {
          "output_type": "execute_result",
          "data": {
            "text/plain": [
              "(69572, 60)"
            ]
          },
          "metadata": {
            "tags": []
          },
          "execution_count": 8
        }
      ]
    },
    {
      "cell_type": "code",
      "metadata": {
        "id": "MDiK9Bi5mmPe"
      },
      "source": [
        "X_train, X_test, y_train, y_test = train_test_split(df,\\\n",
        "                                                    df.transportation_issues, test_size=0.3,\n",
        "                                                    random_state=42)"
      ],
      "execution_count": 9,
      "outputs": []
    },
    {
      "cell_type": "code",
      "metadata": {
        "id": "-leafetjpLtF",
        "outputId": "6b92cad7-f894-4fd6-a29d-d832b2ac2c7c",
        "colab": {
          "base_uri": "https://localhost:8080/",
          "height": 1000
        }
      },
      "source": [
        "df = pd.get_dummies(df)\n",
        "print(df.dtypes)"
      ],
      "execution_count": 10,
      "outputs": [
        {
          "output_type": "stream",
          "text": [
            "betos_o1g_pmpm_ct                        float64\n",
            "bh_dema_ind                                int64\n",
            "cci_score                                float64\n",
            "ccsp_014_ind                               int64\n",
            "ccsp_020_ind                               int64\n",
            "ccsp_236_ind                               int64\n",
            "ccsp_239_ind                               int64\n",
            "ccsp_242_ind                               int64\n",
            "cms_disabled_ind                           int64\n",
            "cms_dual_eligible_ind                      int64\n",
            "cms_hospice_ind                            int64\n",
            "cms_low_income_ind                         int64\n",
            "cms_partd_ra_factor_amt                  float64\n",
            "cmsd2_skn_radiation_ind                    int64\n",
            "cons_hcaccprf_h                          float64\n",
            "cons_veteran_y                           float64\n",
            "credit_bal_1stmtg_30to59dpd              float64\n",
            "credit_bal_1stmtg_60to89dpd              float64\n",
            "credit_bal_1stmtg_collections            float64\n",
            "credit_bal_1stmtgcredit_60dpd            float64\n",
            "credit_bal_autofinance                   float64\n",
            "credit_bal_totalallcredit_60to89dpd      float64\n",
            "credit_hh_autobank                       float64\n",
            "credit_num_1stmtg_severederog            float64\n",
            "credit_num_autofinance_new               float64\n",
            "credit_num_totalallcredit_severederog    float64\n",
            "hlth_pgm_slvrsnkr_par_status               int64\n",
            "lab_bnp_abn_result_ind                     int64\n",
            "med_ip_acute_admit_days_pmpm             float64\n",
            "prov_spec_home_health_ind                  int64\n",
            "rx_bh_pmpm_ct                            float64\n",
            "rx_branded_pmpm_ct                       float64\n",
            "rx_generic_pmpm_ct                       float64\n",
            "rx_gpi2_01_pmpm_ct                       float64\n",
            "rx_gpi2_02_pmpm_ct                       float64\n",
            "rx_gpi2_03_pmpm_ct                       float64\n",
            "rx_gpi2_04_pmpm_ct                       float64\n",
            "rx_gpi2_05_pmpm_ct                       float64\n",
            "rx_gpi2_07_pmpm_ct                       float64\n",
            "rx_gpi2_34_pmpm_ct                       float64\n",
            "rx_gpi2_49_pmpm_ct                       float64\n",
            "rx_gpi2_50_pmpm_ct                       float64\n",
            "rx_gpi2_51_pmpm_ct                       float64\n",
            "rx_gpi2_53_pmpm_ct                       float64\n",
            "rx_gpi2_57_pmpm_ct                       float64\n",
            "rx_gpi2_68_pmpm_ct                       float64\n",
            "rx_gpi2_78_pmpm_ct                       float64\n",
            "submcc_ano_hrt_pmpm_ct                   float64\n",
            "submcc_dia_pvd_pmpm_ct                   float64\n",
            "submcc_dig_lgi_pmpm_ct                   float64\n",
            "submcc_dig_liv_pmpm_ct                   float64\n",
            "submcc_mus_back_pmpm_ct                  float64\n",
            "submcc_mus_inf_pmpm_ct                   float64\n",
            "submcc_sns_chst_pmpm_ct                  float64\n",
            "submcc_trm_fxul_pmpm_ct                  float64\n",
            "submcc_trm_spnj_pmpm_ct                  float64\n",
            "submcc_vco_othr_pmpm_ct                  float64\n",
            "total_ip_acute_admit_days_pmpm           float64\n",
            "train                                      int64\n",
            "transportation_issues                      int64\n",
            "dtype: object\n"
          ],
          "name": "stdout"
        }
      ]
    },
    {
      "cell_type": "markdown",
      "metadata": {
        "id": "rbzO1APn_A0R"
      },
      "source": [
        "## Upsampling"
      ]
    },
    {
      "cell_type": "code",
      "metadata": {
        "id": "8XORf-7I-_4w",
        "outputId": "5e1d3821-2e7e-4cff-c228-5cf79401df3d",
        "colab": {
          "base_uri": "https://localhost:8080/",
          "height": 68
        }
      },
      "source": [
        "from sklearn.utils import resample\n",
        "X = X_train.copy()\n",
        "# separate minority and majority classes\n",
        "wo_tran = X[X[\"transportation_issues\"]==0]\n",
        "tran = X[X[\"transportation_issues\"]==1]\n",
        "\n",
        "# upsample minority\n",
        "tran_upsampled = resample(tran,\n",
        "                          replace=True, # sample with replacement\n",
        "                          n_samples=len(wo_tran), # match number in majority class\n",
        "                          random_state=1) # reproducible results\n",
        "\n",
        "upsampled = pd.concat([wo_tran,tran_upsampled])\n",
        "\n",
        "# check new class counts\n",
        "print(upsampled[\"transportation_issues\"].value_counts())\n",
        "\n",
        "X_train = upsampled.drop(\"transportation_issues\",axis=1)\n",
        "y_train = upsampled[\"transportation_issues\"].astype(int)\n",
        "X_test = X_test.drop(\"transportation_issues\", axis=1)\n",
        "y_test = y_test.astype(int)"
      ],
      "execution_count": 11,
      "outputs": [
        {
          "output_type": "stream",
          "text": [
            "1    41536\n",
            "0    41536\n",
            "Name: transportation_issues, dtype: int64\n"
          ],
          "name": "stdout"
        }
      ]
    },
    {
      "cell_type": "markdown",
      "metadata": {
        "id": "qSwKTMInDGZv"
      },
      "source": [
        "## Transformation & Scaling"
      ]
    },
    {
      "cell_type": "code",
      "metadata": {
        "id": "aASKSTqz2wRG"
      },
      "source": [
        "#Not sure about this step. But it is very important. Let's leave it for here.\n",
        "# from sklearn.preprocessing import PowerTransformer\n",
        "# pt = PowerTransformer().fit(X_train)\n",
        "# X_train = pt.transform(X_train)\n",
        "\n",
        "# pt = PowerTransformer().fit(X_test)\n",
        "# X_test = pt.transform(X_test)"
      ],
      "execution_count": 12,
      "outputs": []
    },
    {
      "cell_type": "code",
      "metadata": {
        "id": "RVKWrB1FCd6j"
      },
      "source": [
        "#Robust Scaler\n",
        "from sklearn.preprocessing import RobustScaler\n",
        "\n",
        "rs = RobustScaler().fit(X_train)\n",
        "X_train = rs.transform(X_train)\n",
        "\n",
        "rs = RobustScaler().fit(X_test)\n",
        "X_test = rs.transform(X_test)"
      ],
      "execution_count": 13,
      "outputs": []
    },
    {
      "cell_type": "code",
      "metadata": {
        "id": "RQV1qtvh3Eii"
      },
      "source": [
        "# X_train[np.isnan(X_train)] = 0\n",
        "# X_test[np.isnan(X_test)] = 0"
      ],
      "execution_count": 14,
      "outputs": []
    },
    {
      "cell_type": "markdown",
      "metadata": {
        "id": "JarQ5dcQDTam"
      },
      "source": [
        "## Basic Logistic Model - No Improvement Found Yet."
      ]
    },
    {
      "cell_type": "code",
      "metadata": {
        "id": "hQXB31u5CWs5",
        "outputId": "67e2eee6-a584-4a79-df78-bfefe075c370",
        "colab": {
          "base_uri": "https://localhost:8080/",
          "height": 34
        }
      },
      "source": [
        "#Lets do a simple logistic regression here first \n",
        "from sklearn.linear_model import LogisticRegression\n",
        "clf = LogisticRegression(solver = \"lbfgs\",random_state=42).fit(X_train, y_train)\n",
        "y_pred = clf.predict(X_test)\n",
        "from sklearn.metrics import roc_auc_score\n",
        "roc_auc_score(y_test, y_pred)"
      ],
      "execution_count": 15,
      "outputs": [
        {
          "output_type": "execute_result",
          "data": {
            "text/plain": [
              "0.6618992657832807"
            ]
          },
          "metadata": {
            "tags": []
          },
          "execution_count": 15
        }
      ]
    },
    {
      "cell_type": "code",
      "metadata": {
        "id": "2Ms2B0aREmci",
        "outputId": "37a998fd-a67e-4002-e166-93339b9aad81",
        "colab": {
          "base_uri": "https://localhost:8080/",
          "height": 34
        }
      },
      "source": [
        "y_train_pred = clf.predict(X_train)\n",
        "(y_train_pred == y_train).mean()\n",
        "roc_auc_score(y_train_pred, y_train)\n",
        "# it is underfitting"
      ],
      "execution_count": 16,
      "outputs": [
        {
          "output_type": "execute_result",
          "data": {
            "text/plain": [
              "0.6619564759755088"
            ]
          },
          "metadata": {
            "tags": []
          },
          "execution_count": 16
        }
      ]
    },
    {
      "cell_type": "code",
      "metadata": {
        "id": "8MTS1G7DEQwl",
        "outputId": "6ef036bf-d4db-4893-f3ee-e9e82d218432",
        "colab": {
          "base_uri": "https://localhost:8080/",
          "height": 34
        }
      },
      "source": [
        "#Accuracy\n",
        "(y_test==y_pred).mean() #Underfitting"
      ],
      "execution_count": 17,
      "outputs": [
        {
          "output_type": "execute_result",
          "data": {
            "text/plain": [
              "0.673486009965504"
            ]
          },
          "metadata": {
            "tags": []
          },
          "execution_count": 17
        }
      ]
    },
    {
      "cell_type": "code",
      "metadata": {
        "id": "CdTlBtu_JQ7L",
        "outputId": "2d8689bd-519c-4e13-c381-18f0105bbea2",
        "colab": {
          "base_uri": "https://localhost:8080/",
          "height": 51
        }
      },
      "source": [
        "from xgboost import XGBClassifier\n",
        "\n",
        "model = XGBClassifier(\n",
        "        n_estimators=5000,\n",
        "        max_depth=3, \n",
        "        learning_rate=0.01)\n",
        "\n",
        "xgboost_model = model.fit(X_train, y_train)\n",
        "y_pred = xgboost_model.predict(X_test)\n",
        "print(roc_auc_score(y_test, y_pred))\n",
        "print((y_test==y_pred).mean())"
      ],
      "execution_count": 18,
      "outputs": [
        {
          "output_type": "stream",
          "text": [
            "0.6605143097064824\n",
            "0.6900632426216942\n"
          ],
          "name": "stdout"
        }
      ]
    },
    {
      "cell_type": "code",
      "metadata": {
        "id": "4OsAm1aJJlp5"
      },
      "source": [
        ""
      ],
      "execution_count": 18,
      "outputs": []
    }
  ]
}