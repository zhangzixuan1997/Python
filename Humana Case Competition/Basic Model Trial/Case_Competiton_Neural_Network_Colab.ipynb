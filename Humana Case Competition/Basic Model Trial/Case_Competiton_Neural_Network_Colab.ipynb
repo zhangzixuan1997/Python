{
 "cells": [
  {
   "cell_type": "markdown",
   "metadata": {
    "colab_type": "text",
    "id": "dWF2ht6f3Fu1"
   },
   "source": [
    "### In this notebook, Upsampling with Neural Network is used."
   ]
  },
  {
   "cell_type": "code",
   "execution_count": 1,
   "metadata": {
    "colab": {
     "base_uri": "https://localhost:8080/",
     "height": 34
    },
    "colab_type": "code",
    "id": "6NyBpHoa3I3f",
    "outputId": "b811e834-6e53-4d1f-a17b-58d1fa9ea40c"
   },
   "outputs": [
    {
     "name": "stdout",
     "output_type": "stream",
     "text": [
      "Drive already mounted at /content/drive; to attempt to forcibly remount, call drive.mount(\"/content/drive\", force_remount=True).\n"
     ]
    }
   ],
   "source": [
    "from google.colab import drive\n",
    "drive.mount('/content/drive')"
   ]
  },
  {
   "cell_type": "code",
   "execution_count": 2,
   "metadata": {
    "colab": {
     "base_uri": "https://localhost:8080/",
     "height": 71
    },
    "colab_type": "code",
    "id": "VNfEr4oh3Fu3",
    "outputId": "1f668611-b5aa-43ff-ea85-88a0150b109e"
   },
   "outputs": [
    {
     "name": "stderr",
     "output_type": "stream",
     "text": [
      "/usr/local/lib/python3.6/dist-packages/statsmodels/tools/_testing.py:19: FutureWarning: pandas.util.testing is deprecated. Use the functions in the public API at pandas.testing instead.\n",
      "  import pandas.util.testing as tm\n"
     ]
    }
   ],
   "source": [
    "import pandas as pd\n",
    "import numpy as np\n",
    "import matplotlib.pyplot as plt\n",
    "import seaborn as sns\n",
    "import os\n",
    "from sklearn.model_selection import train_test_split \n",
    "from sklearn.preprocessing import StandardScaler"
   ]
  },
  {
   "cell_type": "code",
   "execution_count": 3,
   "metadata": {
    "colab": {
     "base_uri": "https://localhost:8080/",
     "height": 102
    },
    "colab_type": "code",
    "id": "iav7k7aL3Fu8",
    "outputId": "026ba902-ccdb-46ba-de11-48d588f8bdcd"
   },
   "outputs": [
    {
     "name": "stderr",
     "output_type": "stream",
     "text": [
      "/usr/local/lib/python3.6/dist-packages/IPython/core/interactiveshell.py:2718: DtypeWarning: Columns (80,193) have mixed types.Specify dtype option on import or set low_memory=False.\n",
      "  interactivity=interactivity, compiler=compiler, result=result)\n",
      "/usr/local/lib/python3.6/dist-packages/IPython/core/interactiveshell.py:2718: DtypeWarning: Columns (79) have mixed types.Specify dtype option on import or set low_memory=False.\n",
      "  interactivity=interactivity, compiler=compiler, result=result)\n"
     ]
    },
    {
     "data": {
      "text/plain": [
       "(87253, 828)"
      ]
     },
     "execution_count": 3,
     "metadata": {
      "tags": []
     },
     "output_type": "execute_result"
    }
   ],
   "source": [
    "df_train = pd.read_csv(\"/content/drive/My Drive/Humana Case Competition/2020_Competition_Training (1).csv\")\n",
    "df_train[\"train\"] = 1\n",
    "df_test = pd.read_csv(\"/content/drive/My Drive/Humana Case Competition/2020_Competition_Holdout .csv\")\n",
    "df_test[\"train\"] = 0\n",
    "df_test[\"transportation_issues\"] = \"NA\"\n",
    "df = pd.concat([df_train, df_test])\n",
    "df.reset_index(inplace=True)\n",
    "\n",
    "df.shape #87253 rows with 828 features\n",
    "#df.drop(\"person_id_syn\", axis=1, inplace=True)\n",
    "#df= pd.get_dummies(df)\n",
    "#df.fillna(0,inplace=True)"
   ]
  },
  {
   "cell_type": "code",
   "execution_count": 4,
   "metadata": {
    "colab": {},
    "colab_type": "code",
    "id": "AAccHa8r3FvC"
   },
   "outputs": [],
   "source": [
    "#df.to_csv(\"merge_data.csv\")"
   ]
  },
  {
   "cell_type": "code",
   "execution_count": 5,
   "metadata": {
    "colab": {},
    "colab_type": "code",
    "id": "B0VtdBz63FvF"
   },
   "outputs": [],
   "source": [
    "df_columns = df.columns.tolist()\n",
    "df_columns.remove(\"transportation_issues\")\n",
    "#Columns with missing value\n",
    "columns_with_missing = []\n",
    "for column in df_columns:\n",
    "    if df[column].isnull().sum()>0:\n",
    "        columns_with_missing.append({\"column\":column, \"missing\":df[column].isnull().sum()})\n",
    "df_missing_distribution = pd.DataFrame.from_dict(columns_with_missing)\n",
    "df_missing_distribution.sort_values(\"missing\",ascending=False).reset_index(inplace=True)\n",
    "df_missing_distribution.to_csv(\"missing_value.csv\")\n",
    "from sklearn.impute import SimpleImputer\n",
    "# rank 1 blood fat screen or control\n",
    "# rank 2 data from cons about demos\n",
    "# rank 3 cms data insurance factor data.\n",
    "imputer_frequent = SimpleImputer(strategy=\"most_frequent\")\n",
    "for column in df_missing_distribution[\"column\"]:\n",
    "    try:\n",
    "        if df[column].nunique()>=30:\n",
    "            df[column].fillna(df[column].mean(),inplace=True)\n",
    "        else:\n",
    "            df[column].fillna(df[column].value_counts().index[0],inplace=True)\n",
    "    except:\n",
    "        print(column)"
   ]
  },
  {
   "cell_type": "code",
   "execution_count": 6,
   "metadata": {
    "colab": {
     "base_uri": "https://localhost:8080/",
     "height": 102
    },
    "colab_type": "code",
    "id": "q3dA2IUa3FvJ",
    "outputId": "25ee2e40-0f93-4a07-8879-a7c19e063184",
    "scrolled": false
   },
   "outputs": [
    {
     "name": "stderr",
     "output_type": "stream",
     "text": [
      "/usr/local/lib/python3.6/dist-packages/ipykernel_launcher.py:2: SettingWithCopyWarning: \n",
      "A value is trying to be set on a copy of a slice from a DataFrame\n",
      "\n",
      "See the caveats in the documentation: https://pandas.pydata.org/pandas-docs/stable/user_guide/indexing.html#returning-a-view-versus-a-copy\n",
      "  \n"
     ]
    }
   ],
   "source": [
    "df_train = df[df[\"train\"]==1]\n",
    "df_train.dropna(axis=1,inplace=True)\n",
    "df_hold = df[df[\"train\"]==0]\n",
    "\n",
    "y = df_train[\"transportation_issues\"]\n",
    "y = y.astype(\"int\")\n",
    "x = df_train.drop([\"index\",\"person_id_syn\"], axis=1)"
   ]
  },
  {
   "cell_type": "code",
   "execution_count": 7,
   "metadata": {
    "colab": {},
    "colab_type": "code",
    "id": "MTVjZh6M3FvO"
   },
   "outputs": [],
   "source": [
    "x_train, x_test, y_train, y_test = train_test_split(x, y, test_size=0.3, random_state=42)"
   ]
  },
  {
   "cell_type": "code",
   "execution_count": 8,
   "metadata": {
    "colab": {
     "base_uri": "https://localhost:8080/",
     "height": 68
    },
    "colab_type": "code",
    "id": "go6C5gIs3FvR",
    "outputId": "d8116d03-a1ae-4976-e047-473ece37a1d2"
   },
   "outputs": [
    {
     "data": {
      "text/plain": [
       "1    41536\n",
       "0    41536\n",
       "Name: transportation_issues, dtype: int64"
      ]
     },
     "execution_count": 8,
     "metadata": {
      "tags": []
     },
     "output_type": "execute_result"
    }
   ],
   "source": [
    "from sklearn.utils import resample\n",
    "X = x_train.copy()\n",
    "X[\"transportation_issues\"] = y_train\n",
    "# separate minority and majority classes\n",
    "wo_tran = X[X[\"transportation_issues\"]==0]\n",
    "tran = X[X[\"transportation_issues\"]==1]\n",
    "\n",
    "# upsample minority\n",
    "tran_upsampled = resample(tran,\n",
    "                          replace=True, # sample with replacement\n",
    "                          n_samples=len(wo_tran), # match number in majority class\n",
    "                          random_state=42) # reproducible results\n",
    "\n",
    "upsampled = pd.concat([wo_tran,tran_upsampled])\n",
    "\n",
    "# check new class counts\n",
    "upsampled[\"transportation_issues\"].value_counts()"
   ]
  },
  {
   "cell_type": "code",
   "execution_count": 9,
   "metadata": {
    "colab": {
     "base_uri": "https://localhost:8080/",
     "height": 102
    },
    "colab_type": "code",
    "id": "lDCdObNR3FvV",
    "outputId": "95b91c9e-4955-4818-b7e8-7bd87d21faf1",
    "scrolled": false
   },
   "outputs": [
    {
     "name": "stderr",
     "output_type": "stream",
     "text": [
      "/usr/local/lib/python3.6/dist-packages/pandas/core/frame.py:3997: SettingWithCopyWarning: \n",
      "A value is trying to be set on a copy of a slice from a DataFrame\n",
      "\n",
      "See the caveats in the documentation: https://pandas.pydata.org/pandas-docs/stable/user_guide/indexing.html#returning-a-view-versus-a-copy\n",
      "  errors=errors,\n"
     ]
    }
   ],
   "source": [
    "y_train = upsampled[\"transportation_issues\"]\n",
    "x_train = upsampled.drop(\"transportation_issues\",axis=1)\n",
    "x_train = pd.get_dummies(x_train)\n",
    "\n",
    "x_test.drop(\"transportation_issues\",axis=1, inplace=True)\n",
    "x_test = pd.get_dummies(x_test)\n",
    "x_train,x_test = x_train.align(x_test, join=\"left\", axis=1)"
   ]
  },
  {
   "cell_type": "code",
   "execution_count": 10,
   "metadata": {
    "colab": {
     "base_uri": "https://localhost:8080/",
     "height": 85
    },
    "colab_type": "code",
    "id": "35v9MGey3Fva",
    "outputId": "6cab8fb9-e5ae-4ce6-a413-1b7bb87e42ae"
   },
   "outputs": [
    {
     "name": "stderr",
     "output_type": "stream",
     "text": [
      "/usr/local/lib/python3.6/dist-packages/sklearn/utils/extmath.py:765: RuntimeWarning: invalid value encountered in true_divide\n",
      "  updated_mean = (last_sum + new_sum) / updated_sample_count\n",
      "/usr/local/lib/python3.6/dist-packages/sklearn/utils/extmath.py:706: RuntimeWarning: Degrees of freedom <= 0 for slice.\n",
      "  result = op(x, *args, **kwargs)\n"
     ]
    }
   ],
   "source": [
    "# evaluate pca with logistic regression algorithm for classification\n",
    "from sklearn.preprocessing import StandardScaler\n",
    "# define transform\n",
    "scaler = StandardScaler()\n",
    "x_train = x_train.values\n",
    "x_train = scaler.fit_transform(x_train)\n",
    "x_test = x_test.values\n",
    "x_test = scaler.fit_transform(x_test)\n",
    "x_test[np.isnan(x_test)] = 0"
   ]
  },
  {
   "cell_type": "markdown",
   "metadata": {
    "colab_type": "text",
    "id": "NCwielLW3Fvd"
   },
   "source": [
    "### Neural Network"
   ]
  },
  {
   "cell_type": "code",
   "execution_count": 61,
   "metadata": {
    "colab": {
     "base_uri": "https://localhost:8080/",
     "height": 442
    },
    "colab_type": "code",
    "id": "9Cm7scxK32yv",
    "outputId": "44eb6399-f233-44c3-8657-3847224326f2"
   },
   "outputs": [
    {
     "name": "stdout",
     "output_type": "stream",
     "text": [
      "Epoch 1/100\n",
      "2596/2596 - 5s - loss: 0.6518 - accuracy: 0.6990\n",
      "Epoch 2/100\n",
      "2596/2596 - 5s - loss: 0.5311 - accuracy: 0.7584\n",
      "Epoch 3/100\n",
      "2596/2596 - 5s - loss: 0.5139 - accuracy: 0.7741\n",
      "Epoch 4/100\n",
      "2596/2596 - 5s - loss: 0.4319 - accuracy: 0.8179\n",
      "Epoch 5/100\n",
      "2596/2596 - 5s - loss: 0.4567 - accuracy: 0.8207\n",
      "Epoch 6/100\n",
      "2596/2596 - 5s - loss: 0.3845 - accuracy: 0.8538\n",
      "Epoch 7/100\n",
      "2596/2596 - 5s - loss: 0.4688 - accuracy: 0.8295\n",
      "Epoch 8/100\n",
      "2596/2596 - 5s - loss: 0.3578 - accuracy: 0.8675\n",
      "Epoch 9/100\n",
      "2596/2596 - 5s - loss: 0.3378 - accuracy: 0.8808\n",
      "Epoch 10/100\n",
      "2596/2596 - 5s - loss: 0.3858 - accuracy: 0.8619\n",
      "Epoch 11/100\n",
      "Restoring model weights from the end of the best epoch.\n",
      "2596/2596 - 5s - loss: 0.3826 - accuracy: 0.8525\n",
      "Epoch 00011: early stopping\n"
     ]
    },
    {
     "data": {
      "text/plain": [
       "<tensorflow.python.keras.callbacks.History at 0x7fe75012c4e0>"
      ]
     },
     "execution_count": 61,
     "metadata": {
      "tags": []
     },
     "output_type": "execute_result"
    }
   ],
   "source": [
    "import tensorflow as tf\n",
    "from tensorflow.keras.models import Sequential\n",
    "from tensorflow.keras.layers import Dense, Activation\n",
    "from tensorflow.keras.callbacks import EarlyStopping\n",
    "\n",
    "# Build the neural network\n",
    "model = Sequential()\n",
    "model.add(Dense(64, input_dim=x_train.shape[1], activation='relu')) # Hidden 1\n",
    "model.add(Dense(32, activation='relu')) # Hidden 2\n",
    "model.add(Dense(16,activation='sigmoid')) #Hidden 3\n",
    "model.add(Dense(1)) # Output\n",
    "model.compile(loss='binary_crossentropy', optimizer='adam', metrics=[\"accuracy\"])\n",
    "monitor = EarlyStopping(monitor='loss', min_delta=1e-1, \n",
    "                        patience=5, verbose=1, mode='auto', \n",
    "                        restore_best_weights=True)\n",
    "model.fit(x_train,y_train,callbacks=[monitor],verbose=2,epochs=100)"
   ]
  },
  {
   "cell_type": "code",
   "execution_count": 62,
   "metadata": {
    "colab": {},
    "colab_type": "code",
    "id": "n54yDWh63Fvi"
   },
   "outputs": [],
   "source": [
    "y_prob = model.predict(x_test)"
   ]
  },
  {
   "cell_type": "code",
   "execution_count": 63,
   "metadata": {
    "colab": {
     "base_uri": "https://localhost:8080/",
     "height": 88
    },
    "colab_type": "code",
    "id": "JmoK7SRdTV2e",
    "outputId": "ba4310ee-5682-42a2-add9-b5dc2ec7faa7"
   },
   "outputs": [
    {
     "name": "stdout",
     "output_type": "stream",
     "text": [
      "WARNING:tensorflow:From <ipython-input-63-bae1a118294d>:1: Sequential.predict_classes (from tensorflow.python.keras.engine.sequential) is deprecated and will be removed after 2021-01-01.\n",
      "Instructions for updating:\n",
      "Please use instead:* `np.argmax(model.predict(x), axis=-1)`,   if your model does multi-class classification   (e.g. if it uses a `softmax` last-layer activation).* `(model.predict(x) > 0.5).astype(\"int32\")`,   if your model does binary classification   (e.g. if it uses a `sigmoid` last-layer activation).\n"
     ]
    }
   ],
   "source": [
    "y_pred = model.predict_classes(x_test)"
   ]
  },
  {
   "cell_type": "code",
   "execution_count": 65,
   "metadata": {
    "colab": {
     "base_uri": "https://localhost:8080/",
     "height": 51
    },
    "colab_type": "code",
    "id": "Rl_gPj8X3Fvl",
    "outputId": "260baa2d-43f0-410b-ce86-1abf71e36aa3"
   },
   "outputs": [
    {
     "name": "stdout",
     "output_type": "stream",
     "text": [
      "[[14424  3415]\n",
      " [ 1925  1108]]\n"
     ]
    }
   ],
   "source": [
    "from sklearn.metrics import confusion_matrix\n",
    "print(confusion_matrix(y_test,y_pred))"
   ]
  },
  {
   "cell_type": "markdown",
   "metadata": {
    "colab_type": "text",
    "id": "yXh7AjvhTrXb"
   },
   "source": [
    "![image.png](data:image/png;base64,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)"
   ]
  },
  {
   "cell_type": "code",
   "execution_count": 51,
   "metadata": {
    "colab": {
     "base_uri": "https://localhost:8080/",
     "height": 34
    },
    "colab_type": "code",
    "id": "8Nlf1nIh3Fvo",
    "outputId": "232b0b4b-c91b-405f-b8da-bc19eab96524"
   },
   "outputs": [
    {
     "data": {
      "text/plain": [
       "0.6134984849189697"
      ]
     },
     "execution_count": 51,
     "metadata": {
      "tags": []
     },
     "output_type": "execute_result"
    }
   ],
   "source": [
    "from sklearn.metrics import roc_auc_score\n",
    "roc_auc_score(y_test, y_pred)"
   ]
  },
  {
   "cell_type": "code",
   "execution_count": 52,
   "metadata": {
    "colab": {
     "base_uri": "https://localhost:8080/",
     "height": 329
    },
    "colab_type": "code",
    "id": "kVk3KhvM3Fvs",
    "outputId": "385d40ee-442a-4203-f31b-ec1088c3c6eb"
   },
   "outputs": [
    {
     "name": "stdout",
     "output_type": "stream",
     "text": [
      "ROC_AUC Score:\n",
      "0.6134984849189697\n"
     ]
    },
    {
     "data": {
      "image/png": "[encoded data removed]",
      "text/plain": [
       "<Figure size 432x288 with 1 Axes>"
      ]
     },
     "metadata": {
      "needs_background": "light",
      "tags": []
     },
     "output_type": "display_data"
    }
   ],
   "source": [
    "import sklearn.metrics as metrics\n",
    "from sklearn.metrics import roc_curve, auc\n",
    "from sklearn.metrics import roc_auc_score\n",
    "\n",
    "print(\"ROC_AUC Score:\")\n",
    "print(roc_auc_score(y_test, y_pred))\n",
    "\n",
    "#ROC Plot\n",
    "fpr, tpr, threshold = metrics.roc_curve(y_test, y_pred)\n",
    "roc_auc = metrics.auc(fpr, tpr)\n",
    "\n",
    "plt.title('Receiver Operating Characteristic')\n",
    "plt.plot(fpr, tpr, 'b', label = 'AUC = %0.2f' % roc_auc)\n",
    "plt.legend(loc = 'lower right')\n",
    "plt.plot([0, 1], [0, 1],'r--')\n",
    "plt.xlim([0, 1])\n",
    "plt.ylim([0, 1])\n",
    "plt.ylabel('True Positive Rate')\n",
    "plt.xlabel('False Positive Rate')\n",
    "plt.show()"
   ]
  },
  {
   "cell_type": "code",
   "execution_count": 37,
   "metadata": {
    "colab": {},
    "colab_type": "code",
    "id": "-kowOTwk_Ap_"
   },
   "outputs": [],
   "source": []
  }
 ],
 "metadata": {
  "accelerator": "GPU",
  "colab": {
   "machine_shape": "hm",
   "name": "Case Competiton_Neural Network.ipynb",
   "provenance": [],
   "toc_visible": true
  },
  "kernelspec": {
   "display_name": "Python 3",
   "language": "python",
   "name": "python3"
  },
  "language_info": {
   "codemirror_mode": {
    "name": "ipython",
    "version": 3
   },
   "file_extension": ".py",
   "mimetype": "text/x-python",
   "name": "python",
   "nbconvert_exporter": "python",
   "pygments_lexer": "ipython3",
   "version": "3.7.7"
  },
  "toc": {
   "base_numbering": 1,
   "nav_menu": {},
   "number_sections": true,
   "sideBar": true,
   "skip_h1_title": false,
   "title_cell": "Table of Contents",
   "title_sidebar": "Contents",
   "toc_cell": false,
   "toc_position": {},
   "toc_section_display": true,
   "toc_window_display": false
  },
  "varInspector": {
   "cols": {
    "lenName": 16,
    "lenType": 16,
    "lenVar": 40
   },
   "kernels_config": {
    "python": {
     "delete_cmd_postfix": "",
     "delete_cmd_prefix": "del ",
     "library": "var_list.py",
     "varRefreshCmd": "print(var_dic_list())"
    },
    "r": {
     "delete_cmd_postfix": ") ",
     "delete_cmd_prefix": "rm(",
     "library": "var_list.r",
     "varRefreshCmd": "cat(var_dic_list()) "
    }
   },
   "types_to_exclude": [
    "module",
    "function",
    "builtin_function_or_method",
    "instance",
    "_Feature"
   ],
   "window_display": false
  }
 },
 "nbformat": 4,
 "nbformat_minor": 1
}
