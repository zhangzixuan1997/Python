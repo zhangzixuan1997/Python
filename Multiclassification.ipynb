{
  "nbformat": 4,
  "nbformat_minor": 0,
  "metadata": {
    "colab": {
      "name": "Multiclassification",
      "provenance": [],
      "collapsed_sections": [],
      "toc_visible": true,
      "authorship_tag": "ABX9TyNaHR9Pv+sR8ZyUpRFQgSjk",
      "include_colab_link": true
    },
    "kernelspec": {
      "name": "python3",
      "display_name": "Python 3"
    }
  },
  "cells": [
    {
      "cell_type": "markdown",
      "metadata": {
        "id": "view-in-github",
        "colab_type": "text"
      },
      "source": [
        "<a href=\"https://colab.research.google.com/github/zhangzixuan1997/Python/blob/master/Multiclassification.ipynb\" target=\"_parent\"><img src=\"https://colab.research.google.com/assets/colab-badge.svg\" alt=\"Open In Colab\"/></a>"
      ]
    },
    {
      "cell_type": "code",
      "metadata": {
        "id": "G3zxsUAHPDNc",
        "colab_type": "code",
        "outputId": "13b19536-3b0e-4704-c657-67ab0a8d4f8a",
        "colab": {
          "base_uri": "https://localhost:8080/",
          "height": 215
        }
      },
      "source": [
        "import pandas as pd\n",
        "df = pd.read_csv(\n",
        "    \"https://data.heatonresearch.com/data/t81-558/wcbreast_wdbc.csv\")\n",
        "df.head()"
      ],
      "execution_count": 2,
      "outputs": [
        {
          "output_type": "execute_result",
          "data": {
            "text/html": [
              "<div>\n",
              "<style scoped>\n",
              "    .dataframe tbody tr th:only-of-type {\n",
              "        vertical-align: middle;\n",
              "    }\n",
              "\n",
              "    .dataframe tbody tr th {\n",
              "        vertical-align: top;\n",
              "    }\n",
              "\n",
              "    .dataframe thead th {\n",
              "        text-align: right;\n",
              "    }\n",
              "</style>\n",
              "<table border=\"1\" class=\"dataframe\">\n",
              "  <thead>\n",
              "    <tr style=\"text-align: right;\">\n",
              "      <th></th>\n",
              "      <th>id</th>\n",
              "      <th>diagnosis</th>\n",
              "      <th>mean_radius</th>\n",
              "      <th>mean_texture</th>\n",
              "      <th>mean_perimeter</th>\n",
              "      <th>mean_area</th>\n",
              "      <th>mean_smoothness</th>\n",
              "      <th>mean_compactness</th>\n",
              "      <th>mean_concavity</th>\n",
              "      <th>mean_concave_points</th>\n",
              "      <th>mean_symmetry</th>\n",
              "      <th>mean_fractal_dimension</th>\n",
              "      <th>se_radius</th>\n",
              "      <th>se_texture</th>\n",
              "      <th>se_perimeter</th>\n",
              "      <th>se_area</th>\n",
              "      <th>se_smoothness</th>\n",
              "      <th>se_compactness</th>\n",
              "      <th>se_concavity</th>\n",
              "      <th>se_concave_points</th>\n",
              "      <th>se_symmetry</th>\n",
              "      <th>se_fractal_dimension</th>\n",
              "      <th>worst_radius</th>\n",
              "      <th>worst_texture</th>\n",
              "      <th>worst_perimeter</th>\n",
              "      <th>worst_area</th>\n",
              "      <th>worst_smoothness</th>\n",
              "      <th>worst_compactness</th>\n",
              "      <th>worst_concavity</th>\n",
              "      <th>worst_concave_points</th>\n",
              "      <th>worst_symmetry</th>\n",
              "      <th>worst_fractal_dimension</th>\n",
              "    </tr>\n",
              "  </thead>\n",
              "  <tbody>\n",
              "    <tr>\n",
              "      <th>0</th>\n",
              "      <td>842302</td>\n",
              "      <td>M</td>\n",
              "      <td>17.99</td>\n",
              "      <td>10.38</td>\n",
              "      <td>122.80</td>\n",
              "      <td>1001.0</td>\n",
              "      <td>0.11840</td>\n",
              "      <td>0.27760</td>\n",
              "      <td>0.3001</td>\n",
              "      <td>0.14710</td>\n",
              "      <td>0.2419</td>\n",
              "      <td>0.07871</td>\n",
              "      <td>1.0950</td>\n",
              "      <td>0.9053</td>\n",
              "      <td>8.589</td>\n",
              "      <td>153.40</td>\n",
              "      <td>0.006399</td>\n",
              "      <td>0.04904</td>\n",
              "      <td>0.05373</td>\n",
              "      <td>0.01587</td>\n",
              "      <td>0.03003</td>\n",
              "      <td>0.006193</td>\n",
              "      <td>25.38</td>\n",
              "      <td>17.33</td>\n",
              "      <td>184.60</td>\n",
              "      <td>2019.0</td>\n",
              "      <td>0.1622</td>\n",
              "      <td>0.6656</td>\n",
              "      <td>0.7119</td>\n",
              "      <td>0.2654</td>\n",
              "      <td>0.4601</td>\n",
              "      <td>0.11890</td>\n",
              "    </tr>\n",
              "    <tr>\n",
              "      <th>1</th>\n",
              "      <td>842517</td>\n",
              "      <td>M</td>\n",
              "      <td>20.57</td>\n",
              "      <td>17.77</td>\n",
              "      <td>132.90</td>\n",
              "      <td>1326.0</td>\n",
              "      <td>0.08474</td>\n",
              "      <td>0.07864</td>\n",
              "      <td>0.0869</td>\n",
              "      <td>0.07017</td>\n",
              "      <td>0.1812</td>\n",
              "      <td>0.05667</td>\n",
              "      <td>0.5435</td>\n",
              "      <td>0.7339</td>\n",
              "      <td>3.398</td>\n",
              "      <td>74.08</td>\n",
              "      <td>0.005225</td>\n",
              "      <td>0.01308</td>\n",
              "      <td>0.01860</td>\n",
              "      <td>0.01340</td>\n",
              "      <td>0.01389</td>\n",
              "      <td>0.003532</td>\n",
              "      <td>24.99</td>\n",
              "      <td>23.41</td>\n",
              "      <td>158.80</td>\n",
              "      <td>1956.0</td>\n",
              "      <td>0.1238</td>\n",
              "      <td>0.1866</td>\n",
              "      <td>0.2416</td>\n",
              "      <td>0.1860</td>\n",
              "      <td>0.2750</td>\n",
              "      <td>0.08902</td>\n",
              "    </tr>\n",
              "    <tr>\n",
              "      <th>2</th>\n",
              "      <td>84300903</td>\n",
              "      <td>M</td>\n",
              "      <td>19.69</td>\n",
              "      <td>21.25</td>\n",
              "      <td>130.00</td>\n",
              "      <td>1203.0</td>\n",
              "      <td>0.10960</td>\n",
              "      <td>0.15990</td>\n",
              "      <td>0.1974</td>\n",
              "      <td>0.12790</td>\n",
              "      <td>0.2069</td>\n",
              "      <td>0.05999</td>\n",
              "      <td>0.7456</td>\n",
              "      <td>0.7869</td>\n",
              "      <td>4.585</td>\n",
              "      <td>94.03</td>\n",
              "      <td>0.006150</td>\n",
              "      <td>0.04006</td>\n",
              "      <td>0.03832</td>\n",
              "      <td>0.02058</td>\n",
              "      <td>0.02250</td>\n",
              "      <td>0.004571</td>\n",
              "      <td>23.57</td>\n",
              "      <td>25.53</td>\n",
              "      <td>152.50</td>\n",
              "      <td>1709.0</td>\n",
              "      <td>0.1444</td>\n",
              "      <td>0.4245</td>\n",
              "      <td>0.4504</td>\n",
              "      <td>0.2430</td>\n",
              "      <td>0.3613</td>\n",
              "      <td>0.08758</td>\n",
              "    </tr>\n",
              "    <tr>\n",
              "      <th>3</th>\n",
              "      <td>84348301</td>\n",
              "      <td>M</td>\n",
              "      <td>11.42</td>\n",
              "      <td>20.38</td>\n",
              "      <td>77.58</td>\n",
              "      <td>386.1</td>\n",
              "      <td>0.14250</td>\n",
              "      <td>0.28390</td>\n",
              "      <td>0.2414</td>\n",
              "      <td>0.10520</td>\n",
              "      <td>0.2597</td>\n",
              "      <td>0.09744</td>\n",
              "      <td>0.4956</td>\n",
              "      <td>1.1560</td>\n",
              "      <td>3.445</td>\n",
              "      <td>27.23</td>\n",
              "      <td>0.009110</td>\n",
              "      <td>0.07458</td>\n",
              "      <td>0.05661</td>\n",
              "      <td>0.01867</td>\n",
              "      <td>0.05963</td>\n",
              "      <td>0.009208</td>\n",
              "      <td>14.91</td>\n",
              "      <td>26.50</td>\n",
              "      <td>98.87</td>\n",
              "      <td>567.7</td>\n",
              "      <td>0.2098</td>\n",
              "      <td>0.8663</td>\n",
              "      <td>0.6869</td>\n",
              "      <td>0.2575</td>\n",
              "      <td>0.6638</td>\n",
              "      <td>0.17300</td>\n",
              "    </tr>\n",
              "    <tr>\n",
              "      <th>4</th>\n",
              "      <td>84358402</td>\n",
              "      <td>M</td>\n",
              "      <td>20.29</td>\n",
              "      <td>14.34</td>\n",
              "      <td>135.10</td>\n",
              "      <td>1297.0</td>\n",
              "      <td>0.10030</td>\n",
              "      <td>0.13280</td>\n",
              "      <td>0.1980</td>\n",
              "      <td>0.10430</td>\n",
              "      <td>0.1809</td>\n",
              "      <td>0.05883</td>\n",
              "      <td>0.7572</td>\n",
              "      <td>0.7813</td>\n",
              "      <td>5.438</td>\n",
              "      <td>94.44</td>\n",
              "      <td>0.011490</td>\n",
              "      <td>0.02461</td>\n",
              "      <td>0.05688</td>\n",
              "      <td>0.01885</td>\n",
              "      <td>0.01756</td>\n",
              "      <td>0.005115</td>\n",
              "      <td>22.54</td>\n",
              "      <td>16.67</td>\n",
              "      <td>152.20</td>\n",
              "      <td>1575.0</td>\n",
              "      <td>0.1374</td>\n",
              "      <td>0.2050</td>\n",
              "      <td>0.4000</td>\n",
              "      <td>0.1625</td>\n",
              "      <td>0.2364</td>\n",
              "      <td>0.07678</td>\n",
              "    </tr>\n",
              "  </tbody>\n",
              "</table>\n",
              "</div>"
            ],
            "text/plain": [
              "         id diagnosis  ...  worst_symmetry  worst_fractal_dimension\n",
              "0    842302         M  ...          0.4601                  0.11890\n",
              "1    842517         M  ...          0.2750                  0.08902\n",
              "2  84300903         M  ...          0.3613                  0.08758\n",
              "3  84348301         M  ...          0.6638                  0.17300\n",
              "4  84358402         M  ...          0.2364                  0.07678\n",
              "\n",
              "[5 rows x 32 columns]"
            ]
          },
          "metadata": {
            "tags": []
          },
          "execution_count": 2
        }
      ]
    },
    {
      "cell_type": "markdown",
      "metadata": {
        "id": "oUJtIIQvPdtH",
        "colab_type": "text"
      },
      "source": [
        "Firstly Lets see a binary classification example"
      ]
    },
    {
      "cell_type": "code",
      "metadata": {
        "id": "mKxLQ206Phn-",
        "colab_type": "code",
        "colab": {}
      },
      "source": [
        "from scipy.stats import zscore\n",
        "import matplotlib.pyplot as plt\n",
        "%matplotlib inline\n",
        "from sklearn.metrics import auc,roc_curve\n",
        "x_cols = df.columns.drop(\"diagnosis\").drop(\"id\")\n",
        "for col in x_cols:\n",
        "  df[col] = zscore(df[col])#normalize the data\n",
        "#Convert to numpy \n",
        "x = df[x_cols].values\n",
        "y = df[\"diagnosis\"].map({'M':1,'B':0}).values\n",
        "\n",
        "# The following two functions are from Jeff Heaton Github.\n",
        "# https://github.com/jeffheaton/t81_558_deep_learning\n",
        "\n",
        "def plot_confusion_matrix(cm,names,title=\"Confusion Matrix\",cmap=plt.cm.Blues):\n",
        "  plt.imshow(cm,interpolation=\"nearest\",cmap=cmap)\n",
        "  plt.title(title)\n",
        "  plt.colorbar()\n",
        "  tick_marks = np.arage(len(names))\n",
        "  plt.xticks(tick_marks,names,rotation=45)\n",
        "  plt.yticks(tick_marks,names)\n",
        "  plt.tight_layout()\n",
        "  plt.ylabel(\"True Label\")\n",
        "  plt.xlabel(\"Predicted Label\")\n",
        "\n",
        "def plot_ROC(pred,y):\n",
        "  fpr,tpr,_ = roc_curve( y,pred) #Return false positive rate, true positive rate and the threshold.\n",
        "  roc_auc = auc(fpr,tpr)\n",
        "\n",
        "  plt.figure()\n",
        "  plt.plot(fpr,tpr,label=\"ROC curve(area = %0.2f)\" %roc_auc)\n",
        "  plt.plot([0,1],[0,1],\"k--\")\n",
        "  plt.xlim([0,1.0])\n",
        "  plt.ylim([0,1.1])\n",
        "  plt.xlabel(\"False Positive Rate\")\n",
        "  plt.ylabel(\"True Positive Rate\")\n",
        "  plt.title(\"Receiver Operating Characteristics\")\n",
        "  plt.legend(loc=\"lower right\")\n",
        "  plt.show()\n",
        "\n",
        "# Classification Neural Network \n",
        "import numpy as np\n",
        "import tensorflow as tf\n",
        "from tensorflow.keras.models import Sequential\n",
        "from tensorflow.keras.layers import Dense, Activation\n",
        "from tensorflow.keras.callbacks import EarlyStopping\n",
        "from sklearn.model_selection import train_test_split\n",
        "\n",
        "x_train,x_test, y_train, y_test = train_test_split(\n",
        "    x, y, test_size=0.2, random_state=97\n",
        ")"
      ],
      "execution_count": 0,
      "outputs": []
    },
    {
      "cell_type": "code",
      "metadata": {
        "id": "-culnljXbM3p",
        "colab_type": "code",
        "colab": {
          "base_uri": "https://localhost:8080/",
          "height": 840
        },
        "outputId": "1181dcf0-3f88-4e4e-d9b0-c44bb765f603"
      },
      "source": [
        "model = Sequential()\n",
        "model.add(Dense(100,input_dim=x.shape[1],activation=\"relu\",kernel_initializer=\"random_normal\"))\n",
        "model.add(Dense(50,activation=\"relu\",kernel_initializer=\"random_normal\"))\n",
        "model.add(Dense(25,activation=\"relu\",kernel_initializer=\"random_normal\"))\n",
        "model.add(Dense(1,activation=\"sigmoid\",kernel_initializer=\"random_normal\"))\n",
        "model.compile(loss=\"binary_crossentropy\", optimizer = \"adam\",metrics=[\"accuracy\"])\n",
        "\n",
        "monitor = EarlyStopping(monitor=\"val_loss\",min_delta=1e-3,\n",
        "                      patience=3,verbose=1,mode=\"auto\", baseline=None, restore_best_weights=True)\n",
        "#0 = silent, 1 = progress bar, 2 = one line per epoch.  \n",
        "model.fit(x_train,y_train,validation_data=(x_test,y_test),\n",
        "          callbacks=[monitor],verbose=2,epochs=1000)"
      ],
      "execution_count": 4,
      "outputs": [
        {
          "output_type": "stream",
          "text": [
            "Epoch 1/1000\n",
            "15/15 - 0s - loss: 0.6854 - accuracy: 0.8549 - val_loss: 0.6668 - val_accuracy: 0.9474\n",
            "Epoch 2/1000\n",
            "15/15 - 0s - loss: 0.6146 - accuracy: 0.9385 - val_loss: 0.5167 - val_accuracy: 0.9474\n",
            "Epoch 3/1000\n",
            "15/15 - 0s - loss: 0.3788 - accuracy: 0.9473 - val_loss: 0.2163 - val_accuracy: 0.9386\n",
            "Epoch 4/1000\n",
            "15/15 - 0s - loss: 0.1551 - accuracy: 0.9516 - val_loss: 0.0864 - val_accuracy: 0.9737\n",
            "Epoch 5/1000\n",
            "15/15 - 0s - loss: 0.1001 - accuracy: 0.9648 - val_loss: 0.0555 - val_accuracy: 0.9825\n",
            "Epoch 6/1000\n",
            "15/15 - 0s - loss: 0.0799 - accuracy: 0.9780 - val_loss: 0.0481 - val_accuracy: 0.9825\n",
            "Epoch 7/1000\n",
            "15/15 - 0s - loss: 0.0734 - accuracy: 0.9780 - val_loss: 0.0496 - val_accuracy: 0.9825\n",
            "Epoch 8/1000\n",
            "15/15 - 0s - loss: 0.0673 - accuracy: 0.9824 - val_loss: 0.0395 - val_accuracy: 0.9825\n",
            "Epoch 9/1000\n",
            "15/15 - 0s - loss: 0.0624 - accuracy: 0.9824 - val_loss: 0.0356 - val_accuracy: 0.9912\n",
            "Epoch 10/1000\n",
            "15/15 - 0s - loss: 0.0580 - accuracy: 0.9846 - val_loss: 0.0372 - val_accuracy: 0.9825\n",
            "Epoch 11/1000\n",
            "15/15 - 0s - loss: 0.0552 - accuracy: 0.9890 - val_loss: 0.0341 - val_accuracy: 0.9912\n",
            "Epoch 12/1000\n",
            "15/15 - 0s - loss: 0.0520 - accuracy: 0.9868 - val_loss: 0.0302 - val_accuracy: 0.9912\n",
            "Epoch 13/1000\n",
            "15/15 - 0s - loss: 0.0483 - accuracy: 0.9890 - val_loss: 0.0316 - val_accuracy: 0.9912\n",
            "Epoch 14/1000\n",
            "15/15 - 0s - loss: 0.0455 - accuracy: 0.9890 - val_loss: 0.0279 - val_accuracy: 0.9912\n",
            "Epoch 15/1000\n",
            "15/15 - 0s - loss: 0.0426 - accuracy: 0.9890 - val_loss: 0.0279 - val_accuracy: 0.9825\n",
            "Epoch 16/1000\n",
            "15/15 - 0s - loss: 0.0404 - accuracy: 0.9912 - val_loss: 0.0302 - val_accuracy: 0.9825\n",
            "Epoch 17/1000\n",
            "15/15 - 0s - loss: 0.0375 - accuracy: 0.9890 - val_loss: 0.0263 - val_accuracy: 0.9825\n",
            "Epoch 18/1000\n",
            "15/15 - 0s - loss: 0.0356 - accuracy: 0.9912 - val_loss: 0.0285 - val_accuracy: 0.9825\n",
            "Epoch 19/1000\n",
            "15/15 - 0s - loss: 0.0349 - accuracy: 0.9890 - val_loss: 0.0283 - val_accuracy: 0.9825\n",
            "Epoch 20/1000\n",
            "15/15 - 0s - loss: 0.0308 - accuracy: 0.9890 - val_loss: 0.0251 - val_accuracy: 0.9825\n",
            "Epoch 21/1000\n",
            "15/15 - 0s - loss: 0.0314 - accuracy: 0.9890 - val_loss: 0.0287 - val_accuracy: 0.9825\n",
            "Epoch 22/1000\n",
            "15/15 - 0s - loss: 0.0270 - accuracy: 0.9912 - val_loss: 0.0309 - val_accuracy: 0.9825\n",
            "Epoch 23/1000\n",
            "Restoring model weights from the end of the best epoch.\n",
            "15/15 - 0s - loss: 0.0252 - accuracy: 0.9912 - val_loss: 0.0277 - val_accuracy: 0.9825\n",
            "Epoch 00023: early stopping\n"
          ],
          "name": "stdout"
        },
        {
          "output_type": "execute_result",
          "data": {
            "text/plain": [
              "<tensorflow.python.keras.callbacks.History at 0x7f2a3acba080>"
            ]
          },
          "metadata": {
            "tags": []
          },
          "execution_count": 4
        }
      ]
    },
    {
      "cell_type": "code",
      "metadata": {
        "id": "9AcQXkQifUyC",
        "colab_type": "code",
        "colab": {
          "base_uri": "https://localhost:8080/",
          "height": 295
        },
        "outputId": "70247671-cfee-49af-f4ee-88f5e5daad19"
      },
      "source": [
        "#As we can see, we stopped really early since this is an \"easy\" dataset\n",
        "pred = model.predict(x_test)\n",
        "plot_ROC(pred,y_test)"
      ],
      "execution_count": 5,
      "outputs": [
        {
          "output_type": "display_data",
          "data": {
            "image/png": "[encoded data removed]",
            "text/plain": [
              "<Figure size 432x288 with 1 Axes>"
            ]
          },
          "metadata": {
            "tags": [],
            "needs_background": "light"
          }
        }
      ]
    },
    {
      "cell_type": "markdown",
      "metadata": {
        "id": "xrE38LXggV1U",
        "colab_type": "text"
      },
      "source": [
        "Then lets check the multi-classification"
      ]
    },
    {
      "cell_type": "code",
      "metadata": {
        "id": "enRkmrybgYHw",
        "colab_type": "code",
        "colab": {}
      },
      "source": [
        "df = pd.read_csv(\"https://data.heatonresearch.com/data/t81-558/jh-simple-dataset.csv\",na_values=['NA','?'])\n",
        "\n",
        "\n",
        "df = pd.concat([df,pd.get_dummies(df['job'],prefix=\"job\")],axis=1)\n",
        "df.drop('job', axis=1, inplace=True)\n",
        "\n",
        "\n",
        "df = pd.concat([df,pd.get_dummies(df['area'],prefix=\"area\")],axis=1)\n",
        "df.drop('area', axis=1, inplace=True)\n",
        "\n",
        "df['income'] = zscore(df['income'].fillna(df['income'].median()))\n",
        "df['aspect'] = zscore(df['aspect'])\n",
        "df['save_rate'] = zscore(df['save_rate'])\n",
        "df['age'] = zscore(df['age'])\n",
        "df['subscriptions'] = zscore(df['subscriptions'])\n",
        "\n",
        "\n",
        "x_columns = df.columns.drop('product').drop('id')\n",
        "x = df[x_columns].values\n",
        "dummies = pd.get_dummies(df['product']) # Classification\n",
        "products = dummies.columns\n",
        "y = dummies.values"
      ],
      "execution_count": 0,
      "outputs": []
    },
    {
      "cell_type": "code",
      "metadata": {
        "id": "OKEIA5Vngx9T",
        "colab_type": "code",
        "colab": {
          "base_uri": "https://localhost:8080/",
          "height": 806
        },
        "outputId": "93a4e809-3cc7-4583-f769-eb8c2b6f6d98"
      },
      "source": [
        "x_train, x_test, y_train, y_test = train_test_split(    \n",
        "    x, y, test_size=0.25, random_state=42)\n",
        "\n",
        "model = Sequential()\n",
        "model.add(Dense(100, input_dim=x.shape[1], activation='relu',\n",
        "                kernel_initializer='random_normal'))\n",
        "model.add(Dense(50,activation='relu',kernel_initializer='random_normal'))\n",
        "model.add(Dense(25,activation='relu',kernel_initializer='random_normal'))\n",
        "model.add(Dense(y.shape[1],activation='softmax',\n",
        "                kernel_initializer='random_normal'))\n",
        "model.compile(loss='categorical_crossentropy',  # for multiclassification, we \n",
        "              #use \"categorical_crossentropy\"\n",
        "              optimizer=\"adam\",\n",
        "              metrics =['accuracy'])\n",
        "monitor = EarlyStopping(monitor='val_loss', min_delta=1e-3, patience=5, \n",
        "                        verbose=1, mode='auto', restore_best_weights=True)\n",
        "model.fit(x_train,y_train,validation_data=(x_test,y_test),\n",
        "          callbacks=[monitor],verbose=2,epochs=1000)"
      ],
      "execution_count": 8,
      "outputs": [
        {
          "output_type": "stream",
          "text": [
            "Epoch 1/1000\n",
            "47/47 - 0s - loss: 1.5069 - accuracy: 0.4420 - val_loss: 1.1408 - val_accuracy: 0.4980\n",
            "Epoch 2/1000\n",
            "47/47 - 0s - loss: 1.1345 - accuracy: 0.4807 - val_loss: 1.0807 - val_accuracy: 0.5120\n",
            "Epoch 3/1000\n",
            "47/47 - 0s - loss: 1.0478 - accuracy: 0.5460 - val_loss: 0.9643 - val_accuracy: 0.6140\n",
            "Epoch 4/1000\n",
            "47/47 - 0s - loss: 0.8797 - accuracy: 0.6560 - val_loss: 0.8998 - val_accuracy: 0.6320\n",
            "Epoch 5/1000\n",
            "47/47 - 0s - loss: 0.8094 - accuracy: 0.6673 - val_loss: 0.8327 - val_accuracy: 0.6560\n",
            "Epoch 6/1000\n",
            "47/47 - 0s - loss: 0.7772 - accuracy: 0.6940 - val_loss: 0.8024 - val_accuracy: 0.6780\n",
            "Epoch 7/1000\n",
            "47/47 - 0s - loss: 0.7568 - accuracy: 0.6933 - val_loss: 0.7912 - val_accuracy: 0.6980\n",
            "Epoch 8/1000\n",
            "47/47 - 0s - loss: 0.7458 - accuracy: 0.6933 - val_loss: 0.7877 - val_accuracy: 0.6940\n",
            "Epoch 9/1000\n",
            "47/47 - 0s - loss: 0.7330 - accuracy: 0.7007 - val_loss: 0.7797 - val_accuracy: 0.6860\n",
            "Epoch 10/1000\n",
            "47/47 - 0s - loss: 0.7245 - accuracy: 0.7000 - val_loss: 0.8115 - val_accuracy: 0.6540\n",
            "Epoch 11/1000\n",
            "47/47 - 0s - loss: 0.7131 - accuracy: 0.6993 - val_loss: 0.7610 - val_accuracy: 0.6960\n",
            "Epoch 12/1000\n",
            "47/47 - 0s - loss: 0.6931 - accuracy: 0.7060 - val_loss: 0.7634 - val_accuracy: 0.6920\n",
            "Epoch 13/1000\n",
            "47/47 - 0s - loss: 0.6976 - accuracy: 0.6987 - val_loss: 0.7563 - val_accuracy: 0.6980\n",
            "Epoch 14/1000\n",
            "47/47 - 0s - loss: 0.6912 - accuracy: 0.6987 - val_loss: 0.7523 - val_accuracy: 0.6920\n",
            "Epoch 15/1000\n",
            "47/47 - 0s - loss: 0.6843 - accuracy: 0.7040 - val_loss: 0.7566 - val_accuracy: 0.6780\n",
            "Epoch 16/1000\n",
            "47/47 - 0s - loss: 0.6940 - accuracy: 0.6973 - val_loss: 0.7536 - val_accuracy: 0.6860\n",
            "Epoch 17/1000\n",
            "47/47 - 0s - loss: 0.6772 - accuracy: 0.7107 - val_loss: 0.7477 - val_accuracy: 0.6960\n",
            "Epoch 18/1000\n",
            "47/47 - 0s - loss: 0.6729 - accuracy: 0.7027 - val_loss: 0.7524 - val_accuracy: 0.6840\n",
            "Epoch 19/1000\n",
            "47/47 - 0s - loss: 0.6741 - accuracy: 0.7140 - val_loss: 0.7572 - val_accuracy: 0.6800\n",
            "Epoch 20/1000\n",
            "47/47 - 0s - loss: 0.6642 - accuracy: 0.7173 - val_loss: 0.7622 - val_accuracy: 0.6720\n",
            "Epoch 21/1000\n",
            "47/47 - 0s - loss: 0.6624 - accuracy: 0.7207 - val_loss: 0.7501 - val_accuracy: 0.6920\n",
            "Epoch 22/1000\n",
            "Restoring model weights from the end of the best epoch.\n",
            "47/47 - 0s - loss: 0.6527 - accuracy: 0.7167 - val_loss: 0.7487 - val_accuracy: 0.6780\n",
            "Epoch 00022: early stopping\n"
          ],
          "name": "stdout"
        },
        {
          "output_type": "execute_result",
          "data": {
            "text/plain": [
              "<tensorflow.python.keras.callbacks.History at 0x7f2a364900f0>"
            ]
          },
          "metadata": {
            "tags": []
          },
          "execution_count": 8
        }
      ]
    },
    {
      "cell_type": "code",
      "metadata": {
        "id": "afznvkB4hGkQ",
        "colab_type": "code",
        "colab": {
          "base_uri": "https://localhost:8080/",
          "height": 34
        },
        "outputId": "653d4947-b83f-4a9e-ccbc-06a7478d7783"
      },
      "source": [
        "from sklearn import metrics\n",
        "pred = model.predict(x_test) # probabilities\n",
        "pred = np.argmax(pred,axis=1) # classes\n",
        "y_compare = np.argmax(y_test,axis=1)\n",
        "accuracy_score = metrics.accuracy_score(y_compare,pred)\n",
        "print(\"the accuracy score is {}\".format(accuracy_score))"
      ],
      "execution_count": 18,
      "outputs": [
        {
          "output_type": "stream",
          "text": [
            "the accuracy score is 0.696\n"
          ],
          "name": "stdout"
        }
      ]
    },
    {
      "cell_type": "code",
      "metadata": {
        "id": "7ludPLPshby_",
        "colab_type": "code",
        "colab": {
          "base_uri": "https://localhost:8080/",
          "height": 594
        },
        "outputId": "ad5c8d34-be8d-430d-fd7f-eee362434bea"
      },
      "source": [
        "# It was not a fairly well multi-classification\n",
        "# Lets check which part went wrong\n",
        "import numpy as np\n",
        "from sklearn.metrics import confusion_matrix\n",
        "cm = confusion_matrix(y_compare,pred)\n",
        "np.set_printoptions(precision=2)\n",
        "#Normalize the confusion matrix by row(number of samples in each class)\n",
        "cm_normalized = cm.astype(\"float\")/cm.sum(axis=1)[:,np.newaxis]\n",
        "plt.figure()\n",
        "plot_confusion_matrix(cm_normalized,products,title=\"normalized confusion matrix\")\n",
        "plt.show() \n",
        "\n",
        "#Here you can ignore the error since it is my numpy problem (np.arange)\n",
        "#As we can see in the plot, the diagonal went wrong when it misclassified \n",
        "#0 as 5 and 6, 1 as 4 and 5. "
      ],
      "execution_count": 21,
      "outputs": [
        {
          "output_type": "error",
          "ename": "AttributeError",
          "evalue": "ignored",
          "traceback": [
            "\u001b[0;31m---------------------------------------------------------------------------\u001b[0m",
            "\u001b[0;31mAttributeError\u001b[0m                            Traceback (most recent call last)",
            "\u001b[0;32m<ipython-input-21-73200f58ca39>\u001b[0m in \u001b[0;36m<module>\u001b[0;34m()\u001b[0m\n\u001b[1;32m      8\u001b[0m \u001b[0mcm_normalized\u001b[0m \u001b[0;34m=\u001b[0m \u001b[0mcm\u001b[0m\u001b[0;34m.\u001b[0m\u001b[0mastype\u001b[0m\u001b[0;34m(\u001b[0m\u001b[0;34m\"float\"\u001b[0m\u001b[0;34m)\u001b[0m\u001b[0;34m/\u001b[0m\u001b[0mcm\u001b[0m\u001b[0;34m.\u001b[0m\u001b[0msum\u001b[0m\u001b[0;34m(\u001b[0m\u001b[0maxis\u001b[0m\u001b[0;34m=\u001b[0m\u001b[0;36m1\u001b[0m\u001b[0;34m)\u001b[0m\u001b[0;34m[\u001b[0m\u001b[0;34m:\u001b[0m\u001b[0;34m,\u001b[0m\u001b[0mnp\u001b[0m\u001b[0;34m.\u001b[0m\u001b[0mnewaxis\u001b[0m\u001b[0;34m]\u001b[0m\u001b[0;34m\u001b[0m\u001b[0;34m\u001b[0m\u001b[0m\n\u001b[1;32m      9\u001b[0m \u001b[0mplt\u001b[0m\u001b[0;34m.\u001b[0m\u001b[0mfigure\u001b[0m\u001b[0;34m(\u001b[0m\u001b[0;34m)\u001b[0m\u001b[0;34m\u001b[0m\u001b[0;34m\u001b[0m\u001b[0m\n\u001b[0;32m---> 10\u001b[0;31m \u001b[0mplot_confusion_matrix\u001b[0m\u001b[0;34m(\u001b[0m\u001b[0mcm_normalized\u001b[0m\u001b[0;34m,\u001b[0m\u001b[0mproducts\u001b[0m\u001b[0;34m,\u001b[0m\u001b[0mtitle\u001b[0m\u001b[0;34m=\u001b[0m\u001b[0;34m\"normalized confusion matrix\"\u001b[0m\u001b[0;34m)\u001b[0m\u001b[0;34m\u001b[0m\u001b[0;34m\u001b[0m\u001b[0m\n\u001b[0m\u001b[1;32m     11\u001b[0m \u001b[0mplt\u001b[0m\u001b[0;34m.\u001b[0m\u001b[0mshow\u001b[0m\u001b[0;34m(\u001b[0m\u001b[0;34m)\u001b[0m\u001b[0;34m\u001b[0m\u001b[0;34m\u001b[0m\u001b[0m\n",
            "\u001b[0;32m<ipython-input-3-db289f24b6ee>\u001b[0m in \u001b[0;36mplot_confusion_matrix\u001b[0;34m(cm, names, title, cmap)\u001b[0m\n\u001b[1;32m     17\u001b[0m   \u001b[0mplt\u001b[0m\u001b[0;34m.\u001b[0m\u001b[0mtitle\u001b[0m\u001b[0;34m(\u001b[0m\u001b[0mtitle\u001b[0m\u001b[0;34m)\u001b[0m\u001b[0;34m\u001b[0m\u001b[0;34m\u001b[0m\u001b[0m\n\u001b[1;32m     18\u001b[0m   \u001b[0mplt\u001b[0m\u001b[0;34m.\u001b[0m\u001b[0mcolorbar\u001b[0m\u001b[0;34m(\u001b[0m\u001b[0;34m)\u001b[0m\u001b[0;34m\u001b[0m\u001b[0;34m\u001b[0m\u001b[0m\n\u001b[0;32m---> 19\u001b[0;31m   \u001b[0mtick_marks\u001b[0m \u001b[0;34m=\u001b[0m \u001b[0mnp\u001b[0m\u001b[0;34m.\u001b[0m\u001b[0marage\u001b[0m\u001b[0;34m(\u001b[0m\u001b[0mlen\u001b[0m\u001b[0;34m(\u001b[0m\u001b[0mnames\u001b[0m\u001b[0;34m)\u001b[0m\u001b[0;34m)\u001b[0m\u001b[0;34m\u001b[0m\u001b[0;34m\u001b[0m\u001b[0m\n\u001b[0m\u001b[1;32m     20\u001b[0m   \u001b[0mplt\u001b[0m\u001b[0;34m.\u001b[0m\u001b[0mxticks\u001b[0m\u001b[0;34m(\u001b[0m\u001b[0mtick_marks\u001b[0m\u001b[0;34m,\u001b[0m\u001b[0mnames\u001b[0m\u001b[0;34m,\u001b[0m\u001b[0mrotation\u001b[0m\u001b[0;34m=\u001b[0m\u001b[0;36m45\u001b[0m\u001b[0;34m)\u001b[0m\u001b[0;34m\u001b[0m\u001b[0;34m\u001b[0m\u001b[0m\n\u001b[1;32m     21\u001b[0m   \u001b[0mplt\u001b[0m\u001b[0;34m.\u001b[0m\u001b[0myticks\u001b[0m\u001b[0;34m(\u001b[0m\u001b[0mtick_marks\u001b[0m\u001b[0;34m,\u001b[0m\u001b[0mnames\u001b[0m\u001b[0;34m)\u001b[0m\u001b[0;34m\u001b[0m\u001b[0;34m\u001b[0m\u001b[0m\n",
            "\u001b[0;31mAttributeError\u001b[0m: module 'numpy' has no attribute 'arage'"
          ]
        },
        {
          "output_type": "display_data",
          "data": {
            "image/png": "[encoded data removed]",
            "text/plain": [
              "<Figure size 432x288 with 2 Axes>"
            ]
          },
          "metadata": {
            "tags": [],
            "needs_background": "light"
          }
        }
      ]
    },
    {
      "cell_type": "code",
      "metadata": {
        "id": "vul8kNNmjgfe",
        "colab_type": "code",
        "colab": {}
      },
      "source": [
        ""
      ],
      "execution_count": 0,
      "outputs": []
    }
  ]
}