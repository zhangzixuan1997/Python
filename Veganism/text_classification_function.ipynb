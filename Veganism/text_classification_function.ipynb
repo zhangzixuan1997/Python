{
 "cells": [
  {
   "cell_type": "code",
   "execution_count": null,
   "metadata": {
    "scrolled": true
   },
   "outputs": [],
   "source": [
    "%run ./Text_Normalization_Function.ipynb #defining text normalization function"
   ]
  },
  {
   "cell_type": "code",
   "execution_count": 62,
   "metadata": {},
   "outputs": [],
   "source": [
    "import nltk\n",
    "import string\n",
    "from nltk.corpus import stopwords\n",
    "from nltk.tokenize import WhitespaceTokenizer"
   ]
  },
  {
   "cell_type": "code",
   "execution_count": 63,
   "metadata": {},
   "outputs": [],
   "source": [
    "def clean_category_text(text):\n",
    "    text = text.lower()\n",
    "    text = [word.strip(string.punctuation) for word in text.split(\" \")]\n",
    "    stops = stopwords.words(\"english\")\n",
    "    text = [word for word in text if word not in stops]\n",
    "    return text"
   ]
  },
  {
   "cell_type": "code",
   "execution_count": 64,
   "metadata": {},
   "outputs": [],
   "source": [
    "def two_list_has_common_factor(list1,list2):\n",
    "    result = False \n",
    "    for x in list1: \n",
    "        for y in list2: \n",
    "            if x == y: \n",
    "                result = True\n",
    "                return result         \n",
    "    return result"
   ]
  },
  {
   "cell_type": "code",
   "execution_count": 65,
   "metadata": {},
   "outputs": [],
   "source": [
    "cuisine_category = {\n",
    "    \"AmericanCuisine\":[\"american\",\"steak\",\"america\",\"barbecue\",\"bbq\"],\n",
    "    \"CommonFood\" : [\"sandwich\",\"burger\",\"hamburger\",\"pizza\", \"fast food\",\"breakfast\"],\n",
    "    \"ChineseCuisine\" : [\"chinese\", \"madarin\"],\n",
    "    \"MexicanCuisine\" : [\"mexican\",\"taco\",\"tacos\"],\n",
    "    \"IndianCuisine\":[\"india\",\"indian\",\"curry\"],\n",
    "    \"MiddleEasternCuisine\":[\"middle east\",\"middle eastern\",\"arab\", \"middle\",\"Pakistani\"],\n",
    "    \"JapaneseCuisine\" : [\"japanese\", \"sushi\"],\n",
    "    \"KoreanCuisine\" : [\"korean\"],\n",
    "    \"VietnameseCuisine\":[\"vietnam\",\"vietnamese\"],\n",
    "    \"TilandCuisine\":[\"thai\",\"thailand\"],\n",
    "    \"AfricanCuisine\":[\"african\",\"africa\"],\n",
    "    \"ItalianCuisine\":[\"italian\",\"pasta\"],\n",
    "    \"OtherEuropean\":[\"french\",\"british\",\"german\",\"european\",\"english\"],\n",
    "    \"BarFood\" : [\"bar\", \"pub\"],\n",
    "    \"CafeFood\" : [\"caf\",\"cafe\", \"coffee\",\"bakery\", \"dessert\"],\n",
    "}"
   ]
  },
  {
   "cell_type": "code",
   "execution_count": null,
   "metadata": {},
   "outputs": [],
   "source": [
    "def categorize_cuisine(cuisine_category,category_list):\n",
    "    #Define a pure vegetarian list incase they only have \"vegetarian/vegan\" label.\n",
    "    #This significantly \"saved\" our data to become to \"NA\"\n",
    "    \n",
    "    pure_vegetarian_category = [\"vegetarian\",\"vegan\"]\n",
    "    \n",
    "    #Clean the raw categories we got. \n",
    "    \n",
    "    category_list = clean_category_text(category_list)\n",
    "    \n",
    "    new_category = []\n",
    "    \n",
    "    for key in cuisine_category.keys():\n",
    "        \n",
    "        if(two_list_has_common_factor(cuisine_category[key], category_list)):\n",
    "            \n",
    "            new_category.append(key)\n",
    "        \n",
    "    if (not new_category):\n",
    "        \n",
    "        if (two_list_has_common_factor(pure_vegetarian_category, category_list)):\n",
    "            \n",
    "            new_category.append(\"vegetarian/vegan\")\n",
    "\n",
    "        else:\n",
    "            new_category = \"NA\"\n",
    "        \n",
    "    return new_category"
   ]
  },
  {
   "cell_type": "code",
   "execution_count": null,
   "metadata": {},
   "outputs": [],
   "source": []
  }
 ],
 "metadata": {
  "kernelspec": {
   "display_name": "Python 3",
   "language": "python",
   "name": "python3"
  },
  "language_info": {
   "codemirror_mode": {
    "name": "ipython",
    "version": 3
   },
   "file_extension": ".py",
   "mimetype": "text/x-python",
   "name": "python",
   "nbconvert_exporter": "python",
   "pygments_lexer": "ipython3",
   "version": "3.7.4"
  }
 },
 "nbformat": 4,
 "nbformat_minor": 4
}
